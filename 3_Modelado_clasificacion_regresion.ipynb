{
  "cells": [
    {
      "cell_type": "markdown",
      "metadata": {
        "id": "view-in-github",
        "colab_type": "text"
      },
      "source": [
        "<a href=\"https://colab.research.google.com/github/maoramirez69/14MBID/blob/main/3_Modelado_clasificacion_regresion.ipynb\" target=\"_parent\"><img src=\"https://colab.research.google.com/assets/colab-badge.svg\" alt=\"Open In Colab\"/></a>"
      ]
    },
    {
      "cell_type": "code",
      "execution_count": null,
      "metadata": {
        "id": "QoaZxeEbFUjU",
        "outputId": "0462f7b6-0933-45f6-bc3d-f90e07aa92e9"
      },
      "outputs": [
        {
          "data": {
            "text/plain": [
              "(7049, 2049)"
            ]
          },
          "execution_count": 1,
          "metadata": {},
          "output_type": "execute_result"
        }
      ],
      "source": [
        "import pandas as pd\n",
        "import seaborn as sns\n",
        "from sklearn.model_selection import train_test_split\n",
        "from sklearn.ensemble import RandomForestRegressor\n",
        "df_2048 = pd.read_csv('D:\\\\2_ASW\\OneDrive - Asesoftware S.A.S\\\\Escritorio\\\\reutilizacion_06_bioactivity_data_3class_pIC50_pubchem_fp_2048.csv')\n",
        "df_2048.shape"
      ]
    },
    {
      "cell_type": "code",
      "execution_count": null,
      "metadata": {
        "id": "n2WBZElLFUjW"
      },
      "outputs": [],
      "source": [
        "X_2048 = df_2048.drop('pIC50', axis=1)\n",
        "Y_2048 = df_2048.pIC50"
      ]
    },
    {
      "cell_type": "code",
      "execution_count": null,
      "metadata": {
        "id": "YMZf-INgFUjW",
        "outputId": "bb4bf430-3002-411b-e1bf-99acebdb4d52"
      },
      "outputs": [
        {
          "data": {
            "text/plain": [
              "((5639, 2048), (5639,), (1410, 2048), (1410,))"
            ]
          },
          "execution_count": 3,
          "metadata": {},
          "output_type": "execute_result"
        }
      ],
      "source": [
        "#dividir dataset en entrenamiento y prueba\n",
        "X_train_2048, X_test_2048, Y_train_2048, Y_test_2048 = train_test_split(X_2048, Y_2048, test_size=0.2,random_state=10)\n",
        "X_train_2048.shape, Y_train_2048.shape, X_test_2048.shape, Y_test_2048.shape"
      ]
    },
    {
      "cell_type": "code",
      "execution_count": null,
      "metadata": {
        "id": "nMdMJunIFUjX",
        "outputId": "641af455-035a-471b-943f-099ca28baee6"
      },
      "outputs": [
        {
          "data": {
            "text/plain": [
              "0.6685283811262956"
            ]
          },
          "execution_count": 4,
          "metadata": {},
          "output_type": "execute_result"
        }
      ],
      "source": [
        "#Modelo de regresion RFR\n",
        "import numpy as np\n",
        "model_RFR = RandomForestRegressor(n_estimators=102, max_depth=32, random_state=0, criterion='squared_error',  min_samples_split=2) #0.6685 32\n",
        "model_RFR.fit(X_train_2048, Y_train_2048)\n",
        "r2 = model_RFR.score(X_test_2048, Y_test_2048)\n",
        "r2"
      ]
    },
    {
      "cell_type": "code",
      "execution_count": null,
      "metadata": {
        "id": "eUjA5PChFUjX",
        "outputId": "e996737b-314a-4767-dd92-99c7669d4a17"
      },
      "outputs": [
        {
          "name": "stdout",
          "output_type": "stream",
          "text": [
            "0.47273251769887925\n"
          ]
        }
      ],
      "source": [
        "from sklearn.tree import DecisionTreeRegressor \n",
        "  \n",
        "model_DTR_2048 = DecisionTreeRegressor(random_state=6, max_depth=24, max_leaf_nodes=100, min_samples_leaf=1, splitter='random')\n",
        "model_DTR_2048.fit(X_train_2048, Y_train_2048)\n",
        "predictions = model_DTR_2048.predict(X_test_2048)\n",
        "\n",
        "#r2 = model1.score(X_test, Y_test)\n",
        "\n",
        "score = model_DTR_2048.score(X_test_2048, Y_test_2048)\n",
        "print(score)"
      ]
    },
    {
      "cell_type": "code",
      "execution_count": null,
      "metadata": {
        "id": "nMfTflIoFUjY"
      },
      "outputs": [],
      "source": [
        "from sklearn.ensemble import ExtraTreesRegressor\n",
        "ETR=ExtraTreesRegressor(n_estimators=100, random_state=0)\n",
        "ETR_model=ETR.fit(X_train_2048, Y_train_2048)"
      ]
    },
    {
      "cell_type": "code",
      "execution_count": null,
      "metadata": {
        "id": "QWZQ4E18FUjY"
      },
      "outputs": [],
      "source": [
        "Y_pred_2048 =ETR.predict(X_test_2048)"
      ]
    },
    {
      "cell_type": "code",
      "execution_count": null,
      "metadata": {
        "id": "CdgYumx_FUjY",
        "outputId": "c420bd17-97bd-4d5c-a3d0-ba48ab04205a"
      },
      "outputs": [
        {
          "data": {
            "text/plain": [
              "4.800087676913794"
            ]
          },
          "execution_count": 8,
          "metadata": {},
          "output_type": "execute_result"
        }
      ],
      "source": [
        "#calcular media de Y_pred_2048\n",
        "media = Y_pred_2048.mean()\n",
        "media\n",
        "\n",
        "media = 7\n",
        "\n",
        "#calcular mediana\n",
        "mediana = np.median(Y_pred_2048)\n",
        "mediana"
      ]
    },
    {
      "cell_type": "code",
      "execution_count": null,
      "metadata": {
        "id": "keoDGbhIFUjY"
      },
      "outputs": [],
      "source": [
        "Y_train_2048_1 = [1 if i >= mediana else 0 for i in Y_train_2048]"
      ]
    },
    {
      "cell_type": "code",
      "execution_count": null,
      "metadata": {
        "id": "AjI9PzT5FUjY"
      },
      "outputs": [],
      "source": [
        "Y_test_2048_1 = [1 if i >= mediana else 0 for i in Y_test_2048]"
      ]
    },
    {
      "cell_type": "code",
      "execution_count": null,
      "metadata": {
        "id": "ZzdGxs4QFUjZ"
      },
      "outputs": [],
      "source": [
        "#Importar el modelo\n",
        "import lightgbm as ltb\n",
        "#Importar las métricas del modelo \n",
        "from sklearn import metrics\n",
        "#se define el modelo\n",
        "LGBM_model= ltb.LGBMClassifier()"
      ]
    },
    {
      "cell_type": "markdown",
      "metadata": {
        "id": "2NKKuJHNFUjZ"
      },
      "source": [
        "## LGBM"
      ]
    },
    {
      "cell_type": "code",
      "execution_count": null,
      "metadata": {
        "id": "jdXdf4VQFUja"
      },
      "outputs": [],
      "source": [
        "#Ajuste del modelo con los datos de entrenamiento\n",
        "LGBM_fit=LGBM_model.fit(X_train_2048,Y_train_2048_1)"
      ]
    },
    {
      "cell_type": "code",
      "execution_count": null,
      "metadata": {
        "id": "BtiShzfKFUja",
        "outputId": "9b5bb4eb-b083-4a5b-9558-c9e2ab7ba094"
      },
      "outputs": [
        {
          "name": "stdout",
          "output_type": "stream",
          "text": [
            "[0 0 1 ... 0 0 0]\n"
          ]
        }
      ],
      "source": [
        "#Hacer predicciones con el modelo (Varible respuesta sólo 0 o 1)\n",
        "LGBM_pred=LGBM_model.predict(X_test_2048)\n",
        "print(LGBM_pred)"
      ]
    },
    {
      "cell_type": "code",
      "execution_count": null,
      "metadata": {
        "id": "Bhj4SjETFUja"
      },
      "outputs": [],
      "source": [
        "#Hacer predicciones con el modelo (Probabilidades)\n",
        "LGBM_pred_prob=LGBM_model.predict_proba(X_test_2048)"
      ]
    },
    {
      "cell_type": "code",
      "execution_count": null,
      "metadata": {
        "id": "REf3MR61FUjb",
        "outputId": "b4ec9737-983e-49c0-aa47-0168fbbb733e"
      },
      "outputs": [
        {
          "name": "stdout",
          "output_type": "stream",
          "text": [
            "[[605  77]\n",
            " [143 585]]\n"
          ]
        }
      ],
      "source": [
        "#Matriz de confusión\n",
        "#Se va a contruir la matriz de confusión  para el modelo \n",
        "from sklearn.metrics import confusion_matrix\n",
        "confusion_matrix_LGBM = confusion_matrix(Y_test_2048_1, LGBM_pred)\n",
        "Conf_matrix_LGBM=print(confusion_matrix_LGBM)\n",
        "\n",
        "cm_display = metrics.ConfusionMatrixDisplay(confusion_matrix = Conf_matrix_LGBM, display_labels=[0,1],)\n",
        "#mimportar plot\n",
        "import matplotlib.pyplot as plt"
      ]
    },
    {
      "cell_type": "code",
      "execution_count": null,
      "metadata": {
        "id": "eAa4lsZfFUjb",
        "outputId": "45ac8b1f-9e54-48cd-c95d-b6312d5c51af"
      },
      "outputs": [
        {
          "name": "stdout",
          "output_type": "stream",
          "text": [
            "              precision    recall  f1-score   support\n",
            "\n",
            "           0       0.81      0.89      0.85       682\n",
            "           1       0.88      0.80      0.84       728\n",
            "\n",
            "    accuracy                           0.84      1410\n",
            "   macro avg       0.85      0.85      0.84      1410\n",
            "weighted avg       0.85      0.84      0.84      1410\n",
            "\n"
          ]
        }
      ],
      "source": [
        "#Métricas del modelo \n",
        "from sklearn.metrics import classification_report\n",
        "nombres=['0','1']\n",
        "#Métricas del modelo\n",
        "print(classification_report(Y_test_2048_1, LGBM_pred,target_names=nombres))"
      ]
    },
    {
      "cell_type": "code",
      "execution_count": null,
      "metadata": {
        "id": "M6A3gEA2FUjb",
        "outputId": "402630d8-bef2-4325-eaba-fd1c82ad0894"
      },
      "outputs": [
        {
          "name": "stdout",
          "output_type": "stream",
          "text": [
            "0.8453341013824885\n"
          ]
        }
      ],
      "source": [
        "#Curva ROC del modelo\n",
        "from sklearn import svm, datasets\n",
        "from sklearn.metrics import roc_curve, auc\n",
        "from sklearn.model_selection import train_test_split\n",
        "from sklearn.preprocessing import label_binarize\n",
        "from sklearn.multiclass import OneVsRestClassifier\n",
        "from sklearn.metrics import roc_auc_score\n",
        "\n",
        "#Definir la función\n",
        "def plot_roc_curve(fper, tper):\n",
        "    plt.plot(fper, tper, color='blue', label='ROC')\n",
        "    plt.plot([0, 1], [0, 1], color='green', linestyle='--')\n",
        "    plt.xlabel('Tasa Falsos Positivos')\n",
        "    plt.ylabel('Tasa Verdaderos Positivos')\n",
        "    plt.title('Curva característica de funcionamiento del receptor (ROC)')\n",
        "    plt.legend()\n",
        "    plt.show()\n",
        "\n",
        "#Curva ROC sin reducción de dimensionalidad\n",
        "fper, tper, thresholds = roc_curve(Y_test_2048_1,LGBM_pred)\n",
        "plot_roc_curve(fper, tper)\n",
        "#mostrar el área bajo la curva\n",
        "auc_score = roc_auc_score(Y_test_2048_1,LGBM_pred)\n",
        "print(auc_score)"
      ]
    },
    {
      "cell_type": "markdown",
      "metadata": {
        "id": "TExWlT3KFUjb"
      },
      "source": [
        "## **Modelo XGBClassifier**"
      ]
    },
    {
      "cell_type": "code",
      "execution_count": null,
      "metadata": {
        "id": "hUIiO6eIFUjc"
      },
      "outputs": [],
      "source": [
        "#Importar el modelo de clasificación\n",
        "from xgboost import XGBClassifier"
      ]
    },
    {
      "cell_type": "code",
      "execution_count": null,
      "metadata": {
        "id": "UaubK-exFUjc"
      },
      "outputs": [],
      "source": [
        "#Ajustar el modelo de clasificación\n",
        "xgbc = XGBClassifier()"
      ]
    },
    {
      "cell_type": "code",
      "execution_count": null,
      "metadata": {
        "id": "K7GOd2f0FUjc",
        "outputId": "46498009-6d80-4b1f-b266-de160c4e05a0"
      },
      "outputs": [
        {
          "name": "stdout",
          "output_type": "stream",
          "text": [
            "[0 0 1 ... 0 0 0]\n"
          ]
        },
        {
          "data": {
            "text/plain": [
              "1410"
            ]
          },
          "execution_count": 20,
          "metadata": {},
          "output_type": "execute_result"
        }
      ],
      "source": [
        "#Ajustar el modelo de clasificación\n",
        "xgbc = XGBClassifier()\n",
        "XGBC_fit=xgbc.fit(X_train_2048,Y_train_2048_1)\n",
        "\n",
        "XGBC_pred=xgbc.predict(X_test_2048)\n",
        "print(XGBC_pred)\n",
        "len(XGBC_pred)"
      ]
    },
    {
      "cell_type": "code",
      "execution_count": null,
      "metadata": {
        "id": "AcP7Smn3FUjc",
        "outputId": "8bf795a7-00c5-4cd6-8d54-4cdad32b48ef"
      },
      "outputs": [
        {
          "name": "stdout",
          "output_type": "stream",
          "text": [
            "[[611  71]\n",
            " [149 579]]\n"
          ]
        }
      ],
      "source": [
        "#Matriz de confusión\n",
        "#Se va a contruir la matriz de confusión  para el modelo \n",
        "from sklearn.metrics import confusion_matrix\n",
        "confusion_matrix_XGCB= confusion_matrix(Y_test_2048_1,XGBC_pred)\n",
        "Conf_matrix_XGCB=print(confusion_matrix_XGCB)"
      ]
    },
    {
      "cell_type": "code",
      "execution_count": null,
      "metadata": {
        "id": "ZdsNC2JTFUjc",
        "outputId": "a9c13093-c634-4d20-e9f5-592476deeb44"
      },
      "outputs": [
        {
          "name": "stdout",
          "output_type": "stream",
          "text": [
            "              precision    recall  f1-score   support\n",
            "\n",
            "           0       0.80      0.90      0.85       682\n",
            "           1       0.89      0.80      0.84       728\n",
            "\n",
            "    accuracy                           0.84      1410\n",
            "   macro avg       0.85      0.85      0.84      1410\n",
            "weighted avg       0.85      0.84      0.84      1410\n",
            "\n"
          ]
        }
      ],
      "source": [
        "#Métricas del modelo \n",
        "from sklearn.metrics import classification_report\n",
        "nombres=['0','1']\n",
        "#Métricas del modelo\n",
        "print(classification_report(Y_test_2048_1, XGBC_pred,target_names=nombres))"
      ]
    },
    {
      "cell_type": "code",
      "execution_count": null,
      "metadata": {
        "id": "6Rg0w-4EFUjc",
        "outputId": "b01747c5-d3cf-4d53-afbf-ff544ab7377c"
      },
      "outputs": [
        {
          "data": {
            "text/plain": [
              "0.8439716312056738"
            ]
          },
          "execution_count": 23,
          "metadata": {},
          "output_type": "execute_result"
        }
      ],
      "source": [
        "#calcular la precisión del modelo\n",
        "from sklearn.metrics import accuracy_score\n",
        "accuracy_score(Y_test_2048_1,XGBC_pred)"
      ]
    },
    {
      "cell_type": "markdown",
      "metadata": {
        "id": "F1vzLgWWFUjd"
      },
      "source": [
        "## Regresión Logística"
      ]
    },
    {
      "cell_type": "code",
      "execution_count": null,
      "metadata": {
        "id": "j8EjVRzQFUjd"
      },
      "outputs": [],
      "source": [
        "from sklearn.linear_model import LogisticRegression"
      ]
    },
    {
      "cell_type": "code",
      "execution_count": null,
      "metadata": {
        "id": "uh6uRJ70FUjd",
        "outputId": "b23c515f-6204-4509-fe18-276a66aa8969"
      },
      "outputs": [
        {
          "name": "stderr",
          "output_type": "stream",
          "text": [
            "c:\\Python3\\lib\\site-packages\\sklearn\\linear_model\\_logistic.py:444: ConvergenceWarning: lbfgs failed to converge (status=1):\n",
            "STOP: TOTAL NO. of ITERATIONS REACHED LIMIT.\n",
            "\n",
            "Increase the number of iterations (max_iter) or scale the data as shown in:\n",
            "    https://scikit-learn.org/stable/modules/preprocessing.html\n",
            "Please also refer to the documentation for alternative solver options:\n",
            "    https://scikit-learn.org/stable/modules/linear_model.html#logistic-regression\n",
            "  n_iter_i = _check_optimize_result(\n"
          ]
        },
        {
          "name": "stdout",
          "output_type": "stream",
          "text": [
            "[0 0 1 ... 0 0 0]\n"
          ]
        }
      ],
      "source": [
        "#aplicar el modelo de Regresión Logística\n",
        "LR=LogisticRegression()\n",
        "LR_fit=LR.fit(X_train_2048,Y_train_2048_1)\n",
        "\n",
        "LR_pred=LR.predict(X_test_2048)\n",
        "print(LR_pred)"
      ]
    },
    {
      "cell_type": "code",
      "execution_count": null,
      "metadata": {
        "id": "qf7vSggFFUjd",
        "outputId": "9da526bd-f3d9-4e5d-cf91-d3556fb0a665"
      },
      "outputs": [
        {
          "name": "stderr",
          "output_type": "stream",
          "text": [
            "c:\\Python3\\lib\\site-packages\\sklearn\\linear_model\\_logistic.py:444: ConvergenceWarning: lbfgs failed to converge (status=1):\n",
            "STOP: TOTAL NO. of ITERATIONS REACHED LIMIT.\n",
            "\n",
            "Increase the number of iterations (max_iter) or scale the data as shown in:\n",
            "    https://scikit-learn.org/stable/modules/preprocessing.html\n",
            "Please also refer to the documentation for alternative solver options:\n",
            "    https://scikit-learn.org/stable/modules/linear_model.html#logistic-regression\n",
            "  n_iter_i = _check_optimize_result(\n"
          ]
        }
      ],
      "source": [
        "Model_clasification=LogisticRegression(random_state=0).fit(X_train_2048,Y_train_2048_1)"
      ]
    },
    {
      "cell_type": "code",
      "execution_count": null,
      "metadata": {
        "id": "dGSnmW7RFUjd",
        "outputId": "b7761d61-002d-43d6-bc20-be78da280c56"
      },
      "outputs": [
        {
          "name": "stdout",
          "output_type": "stream",
          "text": [
            "Intercepto: [-2.4362289]\n",
            "Accuracy de entrenamiento: 0.9381095938996276\n"
          ]
        }
      ],
      "source": [
        "#Información del modelo\n",
        "print(\"Intercepto:\", Model_clasification.intercept_)\n",
        "print(\"Accuracy de entrenamiento:\", Model_clasification.score(X_train_2048,Y_train_2048_1))"
      ]
    },
    {
      "cell_type": "markdown",
      "metadata": {
        "id": "j2qOAXjfFUje"
      },
      "source": [
        "Se puede apreciar que en el modelo, el valor del intercepto $\\beta_{0}=-2.4362289$. Por otroa lado, el modelo tiene un valor de accuracy de entrenamiento. En este caso, el accuracy es $$Accuracy=0.9381$$\n",
        "\n",
        "Recordemos que, \n",
        "$$Accuracy=\\frac{VP+VN}{VP+FP+VN+FN}$$\n",
        "\n",
        "Por lo tanto, el modelo clasifica correctamente  a los datos de entrenamiento en un $93,20\\%$.Si bien, la métrica de Accuracy es buena, se considera relevante buscar modelos que  tengan un mayor porcentaje de clasificación con los datos de entrenamiento."
      ]
    },
    {
      "cell_type": "code",
      "execution_count": null,
      "metadata": {
        "id": "sG4rHAdmFUje",
        "outputId": "3b02e489-f707-4d76-832c-940832b67df5"
      },
      "outputs": [
        {
          "name": "stdout",
          "output_type": "stream",
          "text": [
            "              precision    recall  f1-score   support\n",
            "\n",
            "           0       0.79      0.86      0.83       682\n",
            "           1       0.86      0.79      0.82       728\n",
            "\n",
            "    accuracy                           0.82      1410\n",
            "   macro avg       0.83      0.82      0.82      1410\n",
            "weighted avg       0.83      0.82      0.82      1410\n",
            "\n"
          ]
        }
      ],
      "source": [
        "#calcular métricas del modelo\n",
        "from sklearn.metrics import classification_report\n",
        "nombres=['0','1']\n",
        "#Métricas del modelo\n",
        "print(classification_report(Y_test_2048_1, LR_pred,target_names=nombres))"
      ]
    }
  ],
  "metadata": {
    "kernelspec": {
      "display_name": "Python 3.10 (XPython)",
      "language": "python",
      "name": "xpython"
    },
    "language_info": {
      "file_extension": ".py",
      "mimetype": "text/x-python",
      "name": "python",
      "version": "3.10.0"
    },
    "orig_nbformat": 4,
    "colab": {
      "provenance": [],
      "include_colab_link": true
    }
  },
  "nbformat": 4,
  "nbformat_minor": 0
}