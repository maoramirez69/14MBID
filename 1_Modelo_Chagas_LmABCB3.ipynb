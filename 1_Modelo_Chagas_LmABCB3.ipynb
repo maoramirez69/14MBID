{
  "cells": [
    {
      "cell_type": "markdown",
      "metadata": {
        "id": "view-in-github",
        "colab_type": "text"
      },
      "source": [
        "<a href=\"https://colab.research.google.com/github/maoramirez69/14MBID/blob/main/1_Modelo_Chagas_LmABCB3.ipynb\" target=\"_parent\"><img src=\"https://colab.research.google.com/assets/colab-badge.svg\" alt=\"Open In Colab\"/></a>"
      ]
    },
    {
      "cell_type": "code",
      "execution_count": null,
      "metadata": {
        "id": "sYDAEqsJux4b"
      },
      "outputs": [],
      "source": [
        "# instalar versión específica de itsdangerous para evitar conflictos\n",
        "!pip install -U itsdangerous\n",
        "#!pip install itsdangerous#==2.1.2\n",
        "!pip install chembl_webresource_client"
      ]
    },
    {
      "cell_type": "markdown",
      "metadata": {
        "id": "i2Ru2yYgux4d"
      },
      "source": [
        "## Importar las Librerías"
      ]
    },
    {
      "cell_type": "code",
      "execution_count": null,
      "metadata": {
        "id": "u7NPYhWVux4f"
      },
      "outputs": [],
      "source": [
        "import pandas as pd\n",
        "from chembl_webresource_client.new_client import new_client\n",
        "import numpy as np\n",
        "import seaborn as sb\n",
        "import pandas as pd\n",
        "import numpy as np\n",
        "import matplotlib.pyplot as plt\n",
        "import seaborn as sns\n",
        "import statsmodels.formula.api as sm\n",
        "import warnings \n",
        "import re\n",
        "import io\n",
        "import matplotlib.cm as cm\n",
        "from numpy import corrcoef, transpose, arange\n",
        "from pylab import pcolor, show, colorbar, xticks, yticks\n",
        "from sklearn.experimental import enable_iterative_imputer\n",
        "from sklearn.impute import IterativeImputer\n",
        "from sklearn.impute import SimpleImputer\n",
        "from numpy import corrcoef, transpose, arange\n",
        "from IPython.display import Image\n",
        "import statsmodels.api as sm\n",
        "from scipy import stats\n",
        "import matplotlib as mpl\n",
        "import matplotlib.mlab as mlab\n",
        "import matplotlib.pyplot as plt\n",
        "#from google.colab import data_table\n",
        "#data_table.disable_dataframe_formatter()"
      ]
    },
    {
      "cell_type": "markdown",
      "metadata": {
        "id": "F6HopJJqux4g"
      },
      "source": [
        "## **Base a utilizar: ChEMBL**\n",
        "Se utilizarán datos recuperados de la base de datos ChEMBL. Para más información ver [*Base de Datos de ChEMBL*](https://www.ebi.ac.uk/chembl/)\n",
        "\n",
        "Se busca en objetivos o 'targets' la primera enfermedad, en este caso será chagas desde ChEMBL [*Query chagas desde ChEMBL*](https://www.ebi.ac.uk/chembl/g/#search_results/targets/query=lymphoma)\n"
      ]
    },
    {
      "cell_type": "code",
      "execution_count": null,
      "metadata": {
        "id": "CW8fL6Fiux4g"
      },
      "outputs": [],
      "source": [
        "chagas_trg = new_client.target\n",
        "chagas_trgt_query = chagas_trg.search('trypanosoma')\n",
        "# Convertir a dataframe\n",
        "chagas_trgs = pd.DataFrame.from_dict(chagas_trgt_query)\n",
        "#Visualizar el dataframe\n",
        "chagas_trgs"
      ]
    },
    {
      "cell_type": "code",
      "execution_count": null,
      "metadata": {
        "id": "IL11EFUkux4h"
      },
      "outputs": [],
      "source": [
        "#Calcular el tamaño del dataframe\n",
        "print('Total registros: ', chagas_trgs.size, ' Dimension: ', chagas_trgs.shape)"
      ]
    },
    {
      "cell_type": "markdown",
      "metadata": {
        "id": "wGhB_ySKux4h"
      },
      "source": [
        "Se asigna la tercera entrada (que corresponde a la enfermedad objetivo) a la variable ***selected_target***, probando las 2 primeras entradas sin resultado asociados"
      ]
    },
    {
      "cell_type": "code",
      "execution_count": null,
      "metadata": {
        "id": "ewAG39H2ux4i"
      },
      "outputs": [],
      "source": [
        "chembl_trg = chagas_trgs.target_chembl_id[2]  #chagas_trgs.target_chembl_id[5]\n",
        "chembl_trg"
      ]
    },
    {
      "cell_type": "markdown",
      "metadata": {
        "id": "PmijRpt-ux4i"
      },
      "source": [
        "Es necesario filtrar la información para que solo recupere datos con bioactividad IC50 para la primera enfermedad **target_chembl_id = 'CHEMBL368'** que se muestran como valor de pChEMBL con valores de IC50"
      ]
    },
    {
      "cell_type": "code",
      "execution_count": null,
      "metadata": {
        "id": "sinIdcZFux4i"
      },
      "outputs": [],
      "source": [
        "activity = new_client.activity\n",
        "res_ic50 = activity.filter(target_chembl_id = chembl_trg).filter(standard_type=\"IC50\")"
      ]
    },
    {
      "cell_type": "markdown",
      "metadata": {
        "id": "PYlxaWpUux4j"
      },
      "source": [
        "Se convierte el array **res_ic50** resultado del comando anterior  en *DataFrame* de Pandas."
      ]
    },
    {
      "cell_type": "code",
      "execution_count": null,
      "metadata": {
        "id": "wxyegS9Oux4j"
      },
      "outputs": [],
      "source": [
        "df = pd.DataFrame.from_dict(res_ic50) #20 mins"
      ]
    },
    {
      "cell_type": "code",
      "execution_count": null,
      "metadata": {
        "colab": {
          "base_uri": "https://localhost:8080/"
        },
        "id": "LgoP90CUux4j",
        "outputId": "397e8e6a-3ea0-486b-9bd6-6651686adad8"
      },
      "outputs": [
        {
          "data": {
            "text/plain": [
              "(14466, 45)"
            ]
          },
          "execution_count": 2,
          "metadata": {},
          "output_type": "execute_result"
        }
      ],
      "source": [
        "df = pd.read_csv('chagas_res_1.csv', sep = ',')\n",
        "df.shape"
      ]
    },
    {
      "cell_type": "code",
      "execution_count": null,
      "metadata": {
        "colab": {
          "base_uri": "https://localhost:8080/"
        },
        "id": "4RBWZsbRux4j",
        "outputId": "6900bde7-af01-494b-d918-11213f38cb2b"
      },
      "outputs": [
        {
          "data": {
            "text/plain": [
              "0        70000.0\n",
              "1            NaN\n",
              "2        70000.0\n",
              "3        65800.0\n",
              "4        70000.0\n",
              "          ...   \n",
              "14461     9100.0\n",
              "14462    22400.0\n",
              "14463     1200.0\n",
              "14464      400.0\n",
              "14465     5400.0\n",
              "Name: standard_value, Length: 14466, dtype: float64"
            ]
          },
          "execution_count": 3,
          "metadata": {},
          "output_type": "execute_result"
        }
      ],
      "source": [
        "df['standard_value']\n",
        "#molecule_chembl_id\tcanonical_smiles\tstandard_value"
      ]
    },
    {
      "cell_type": "code",
      "execution_count": null,
      "metadata": {
        "id": "llzYXQrrux4k"
      },
      "outputs": [],
      "source": [
        "#eliminar variables tipo objeto con for excepto molecule_chembl_id y canonical_smiles\n",
        "for col in df.columns:\n",
        "    if df[col].dtype == 'object':\n",
        "        if col != 'molecule_chembl_id' and col != 'canonical_smiles':\n",
        "            df.drop(col, axis=1, inplace=True)"
      ]
    },
    {
      "cell_type": "markdown",
      "metadata": {
        "id": "iT8G63Kbux4k"
      },
      "source": [
        "## Crear mapa de calor"
      ]
    },
    {
      "cell_type": "code",
      "execution_count": null,
      "metadata": {
        "colab": {
          "base_uri": "https://localhost:8080/",
          "height": 954
        },
        "id": "OOM8HogSux4k",
        "outputId": "73674585-cdad-4c8d-907d-0c4f28ecb338"
      },
      "outputs": [
        {
          "ename": "<class 'ValueError'>",
          "evalue": "could not convert string to float: 'CCCCCC(P(=O)(O)O)P(=O)(O)O'",
          "output_type": "error",
          "traceback": [
            "\u001b[1;31m---------------------------------------------------------------------------\u001b[0m",
            "\u001b[1;31mValueError\u001b[0m                                Traceback (most recent call last)",
            "\u001b[1;32mC:/Users/LEGION/AppData/Local/Temp/xpython_17204/2105437062.py\u001b[0m in \u001b[0;36m<module>\u001b[1;34m\u001b[0m\n\u001b[0;32m      1\u001b[0m \u001b[1;31m# crear matriz de correlación\u001b[0m\u001b[1;33m\u001b[0m\u001b[1;33m\u001b[0m\u001b[0m\n\u001b[1;32m----> 2\u001b[1;33m \u001b[0mcorr\u001b[0m \u001b[1;33m=\u001b[0m \u001b[0mdf\u001b[0m\u001b[1;33m.\u001b[0m\u001b[0mcorr\u001b[0m\u001b[1;33m(\u001b[0m\u001b[1;33m)\u001b[0m\u001b[1;33m\u001b[0m\u001b[1;33m\u001b[0m\u001b[0m\n\u001b[0m\u001b[0;32m      3\u001b[0m \u001b[0mmask\u001b[0m \u001b[1;33m=\u001b[0m \u001b[0mnp\u001b[0m\u001b[1;33m.\u001b[0m\u001b[0mtriu\u001b[0m\u001b[1;33m(\u001b[0m\u001b[0mnp\u001b[0m\u001b[1;33m.\u001b[0m\u001b[0mones_like\u001b[0m\u001b[1;33m(\u001b[0m\u001b[0mcorr\u001b[0m\u001b[1;33m,\u001b[0m \u001b[0mdtype\u001b[0m\u001b[1;33m=\u001b[0m\u001b[0mbool\u001b[0m\u001b[1;33m)\u001b[0m\u001b[1;33m)\u001b[0m\u001b[1;33m\u001b[0m\u001b[1;33m\u001b[0m\u001b[0m\n\u001b[0;32m      4\u001b[0m \u001b[0mf\u001b[0m\u001b[1;33m,\u001b[0m \u001b[0max\u001b[0m \u001b[1;33m=\u001b[0m \u001b[0mplt\u001b[0m\u001b[1;33m.\u001b[0m\u001b[0msubplots\u001b[0m\u001b[1;33m(\u001b[0m\u001b[0mfigsize\u001b[0m\u001b[1;33m=\u001b[0m\u001b[1;33m(\u001b[0m\u001b[1;36m11\u001b[0m\u001b[1;33m,\u001b[0m \u001b[1;36m9\u001b[0m\u001b[1;33m)\u001b[0m\u001b[1;33m)\u001b[0m\u001b[1;33m\u001b[0m\u001b[1;33m\u001b[0m\u001b[0m\n\u001b[0;32m      5\u001b[0m \u001b[0mcmap\u001b[0m \u001b[1;33m=\u001b[0m \u001b[0msns\u001b[0m\u001b[1;33m.\u001b[0m\u001b[0mdiverging_palette\u001b[0m\u001b[1;33m(\u001b[0m\u001b[1;36m230\u001b[0m\u001b[1;33m,\u001b[0m \u001b[1;36m20\u001b[0m\u001b[1;33m,\u001b[0m \u001b[0mas_cmap\u001b[0m\u001b[1;33m=\u001b[0m\u001b[1;32mTrue\u001b[0m\u001b[1;33m)\u001b[0m\u001b[1;33m\u001b[0m\u001b[1;33m\u001b[0m\u001b[0m\n",
            "\u001b[1;32mc:\\Python3\\lib\\site-packages\\pandas\\core\\frame.py\u001b[0m in \u001b[0;36mcorr\u001b[1;34m(self, method, min_periods, numeric_only)\u001b[0m\n\u001b[0;32m  10057\u001b[0m         \u001b[0mcols\u001b[0m \u001b[1;33m=\u001b[0m \u001b[0mdata\u001b[0m\u001b[1;33m.\u001b[0m\u001b[0mcolumns\u001b[0m\u001b[1;33m\u001b[0m\u001b[1;33m\u001b[0m\u001b[0m\n\u001b[0;32m  10058\u001b[0m         \u001b[0midx\u001b[0m \u001b[1;33m=\u001b[0m \u001b[0mcols\u001b[0m\u001b[1;33m.\u001b[0m\u001b[0mcopy\u001b[0m\u001b[1;33m(\u001b[0m\u001b[1;33m)\u001b[0m\u001b[1;33m\u001b[0m\u001b[1;33m\u001b[0m\u001b[0m\n\u001b[1;32m> 10059\u001b[1;33m         \u001b[0mmat\u001b[0m \u001b[1;33m=\u001b[0m \u001b[0mdata\u001b[0m\u001b[1;33m.\u001b[0m\u001b[0mto_numpy\u001b[0m\u001b[1;33m(\u001b[0m\u001b[0mdtype\u001b[0m\u001b[1;33m=\u001b[0m\u001b[0mfloat\u001b[0m\u001b[1;33m,\u001b[0m \u001b[0mna_value\u001b[0m\u001b[1;33m=\u001b[0m\u001b[0mnp\u001b[0m\u001b[1;33m.\u001b[0m\u001b[0mnan\u001b[0m\u001b[1;33m,\u001b[0m \u001b[0mcopy\u001b[0m\u001b[1;33m=\u001b[0m\u001b[1;32mFalse\u001b[0m\u001b[1;33m)\u001b[0m\u001b[1;33m\u001b[0m\u001b[1;33m\u001b[0m\u001b[0m\n\u001b[0m\u001b[0;32m  10060\u001b[0m \u001b[1;33m\u001b[0m\u001b[0m\n\u001b[0;32m  10061\u001b[0m         \u001b[1;32mif\u001b[0m \u001b[0mmethod\u001b[0m \u001b[1;33m==\u001b[0m \u001b[1;34m\"pearson\"\u001b[0m\u001b[1;33m:\u001b[0m\u001b[1;33m\u001b[0m\u001b[1;33m\u001b[0m\u001b[0m\n",
            "\u001b[1;32mc:\\Python3\\lib\\site-packages\\pandas\\core\\frame.py\u001b[0m in \u001b[0;36mto_numpy\u001b[1;34m(self, dtype, copy, na_value)\u001b[0m\n\u001b[0;32m   1836\u001b[0m         \u001b[1;32mif\u001b[0m \u001b[0mdtype\u001b[0m \u001b[1;32mis\u001b[0m \u001b[1;32mnot\u001b[0m \u001b[1;32mNone\u001b[0m\u001b[1;33m:\u001b[0m\u001b[1;33m\u001b[0m\u001b[1;33m\u001b[0m\u001b[0m\n\u001b[0;32m   1837\u001b[0m             \u001b[0mdtype\u001b[0m \u001b[1;33m=\u001b[0m \u001b[0mnp\u001b[0m\u001b[1;33m.\u001b[0m\u001b[0mdtype\u001b[0m\u001b[1;33m(\u001b[0m\u001b[0mdtype\u001b[0m\u001b[1;33m)\u001b[0m\u001b[1;33m\u001b[0m\u001b[1;33m\u001b[0m\u001b[0m\n\u001b[1;32m-> 1838\u001b[1;33m         \u001b[0mresult\u001b[0m \u001b[1;33m=\u001b[0m \u001b[0mself\u001b[0m\u001b[1;33m.\u001b[0m\u001b[0m_mgr\u001b[0m\u001b[1;33m.\u001b[0m\u001b[0mas_array\u001b[0m\u001b[1;33m(\u001b[0m\u001b[0mdtype\u001b[0m\u001b[1;33m=\u001b[0m\u001b[0mdtype\u001b[0m\u001b[1;33m,\u001b[0m \u001b[0mcopy\u001b[0m\u001b[1;33m=\u001b[0m\u001b[0mcopy\u001b[0m\u001b[1;33m,\u001b[0m \u001b[0mna_value\u001b[0m\u001b[1;33m=\u001b[0m\u001b[0mna_value\u001b[0m\u001b[1;33m)\u001b[0m\u001b[1;33m\u001b[0m\u001b[1;33m\u001b[0m\u001b[0m\n\u001b[0m\u001b[0;32m   1839\u001b[0m         \u001b[1;32mif\u001b[0m \u001b[0mresult\u001b[0m\u001b[1;33m.\u001b[0m\u001b[0mdtype\u001b[0m \u001b[1;32mis\u001b[0m \u001b[1;32mnot\u001b[0m \u001b[0mdtype\u001b[0m\u001b[1;33m:\u001b[0m\u001b[1;33m\u001b[0m\u001b[1;33m\u001b[0m\u001b[0m\n\u001b[0;32m   1840\u001b[0m             \u001b[0mresult\u001b[0m \u001b[1;33m=\u001b[0m \u001b[0mnp\u001b[0m\u001b[1;33m.\u001b[0m\u001b[0marray\u001b[0m\u001b[1;33m(\u001b[0m\u001b[0mresult\u001b[0m\u001b[1;33m,\u001b[0m \u001b[0mdtype\u001b[0m\u001b[1;33m=\u001b[0m\u001b[0mdtype\u001b[0m\u001b[1;33m,\u001b[0m \u001b[0mcopy\u001b[0m\u001b[1;33m=\u001b[0m\u001b[1;32mFalse\u001b[0m\u001b[1;33m)\u001b[0m\u001b[1;33m\u001b[0m\u001b[1;33m\u001b[0m\u001b[0m\n",
            "\u001b[1;32mc:\\Python3\\lib\\site-packages\\pandas\\core\\internals\\managers.py\u001b[0m in \u001b[0;36mas_array\u001b[1;34m(self, dtype, copy, na_value)\u001b[0m\n\u001b[0;32m   1730\u001b[0m                 \u001b[0marr\u001b[0m\u001b[1;33m.\u001b[0m\u001b[0mflags\u001b[0m\u001b[1;33m.\u001b[0m\u001b[0mwriteable\u001b[0m \u001b[1;33m=\u001b[0m \u001b[1;32mFalse\u001b[0m\u001b[1;33m\u001b[0m\u001b[1;33m\u001b[0m\u001b[0m\n\u001b[0;32m   1731\u001b[0m         \u001b[1;32melse\u001b[0m\u001b[1;33m:\u001b[0m\u001b[1;33m\u001b[0m\u001b[1;33m\u001b[0m\u001b[0m\n\u001b[1;32m-> 1732\u001b[1;33m             \u001b[0marr\u001b[0m \u001b[1;33m=\u001b[0m \u001b[0mself\u001b[0m\u001b[1;33m.\u001b[0m\u001b[0m_interleave\u001b[0m\u001b[1;33m(\u001b[0m\u001b[0mdtype\u001b[0m\u001b[1;33m=\u001b[0m\u001b[0mdtype\u001b[0m\u001b[1;33m,\u001b[0m \u001b[0mna_value\u001b[0m\u001b[1;33m=\u001b[0m\u001b[0mna_value\u001b[0m\u001b[1;33m)\u001b[0m\u001b[1;33m\u001b[0m\u001b[1;33m\u001b[0m\u001b[0m\n\u001b[0m\u001b[0;32m   1733\u001b[0m             \u001b[1;31m# The underlying data was copied within _interleave, so no need\u001b[0m\u001b[1;33m\u001b[0m\u001b[1;33m\u001b[0m\u001b[0m\n\u001b[0;32m   1734\u001b[0m             \u001b[1;31m# to further copy if copy=True or setting na_value\u001b[0m\u001b[1;33m\u001b[0m\u001b[1;33m\u001b[0m\u001b[0m\n",
            "\u001b[1;32mc:\\Python3\\lib\\site-packages\\pandas\\core\\internals\\managers.py\u001b[0m in \u001b[0;36m_interleave\u001b[1;34m(self, dtype, na_value)\u001b[0m\n\u001b[0;32m   1792\u001b[0m             \u001b[1;32melse\u001b[0m\u001b[1;33m:\u001b[0m\u001b[1;33m\u001b[0m\u001b[1;33m\u001b[0m\u001b[0m\n\u001b[0;32m   1793\u001b[0m                 \u001b[0marr\u001b[0m \u001b[1;33m=\u001b[0m \u001b[0mblk\u001b[0m\u001b[1;33m.\u001b[0m\u001b[0mget_values\u001b[0m\u001b[1;33m(\u001b[0m\u001b[0mdtype\u001b[0m\u001b[1;33m)\u001b[0m\u001b[1;33m\u001b[0m\u001b[1;33m\u001b[0m\u001b[0m\n\u001b[1;32m-> 1794\u001b[1;33m             \u001b[0mresult\u001b[0m\u001b[1;33m[\u001b[0m\u001b[0mrl\u001b[0m\u001b[1;33m.\u001b[0m\u001b[0mindexer\u001b[0m\u001b[1;33m]\u001b[0m \u001b[1;33m=\u001b[0m \u001b[0marr\u001b[0m\u001b[1;33m\u001b[0m\u001b[1;33m\u001b[0m\u001b[0m\n\u001b[0m\u001b[0;32m   1795\u001b[0m             \u001b[0mitemmask\u001b[0m\u001b[1;33m[\u001b[0m\u001b[0mrl\u001b[0m\u001b[1;33m.\u001b[0m\u001b[0mindexer\u001b[0m\u001b[1;33m]\u001b[0m \u001b[1;33m=\u001b[0m \u001b[1;36m1\u001b[0m\u001b[1;33m\u001b[0m\u001b[1;33m\u001b[0m\u001b[0m\n\u001b[0;32m   1796\u001b[0m \u001b[1;33m\u001b[0m\u001b[0m\n",
            "\u001b[1;31mValueError\u001b[0m: could not convert string to float: 'CCCCCC(P(=O)(O)O)P(=O)(O)O'"
          ]
        }
      ],
      "source": [
        "# crear matriz de correlación\n",
        "corr = df.corr()\n",
        "mask = np.triu(np.ones_like(corr, dtype=bool))\n",
        "f, ax = plt.subplots(figsize=(11, 9))\n",
        "cmap = sns.diverging_palette(230, 20, as_cmap=True)\n",
        "sns.heatmap(corr, mask=mask, cmap=cmap, vmax=.3, center=0,\n",
        "            square=True, linewidths=.5, cbar_kws={\"shrink\": .5})\n",
        "plt.show()\n",
        "#ver figura generada\n"
      ]
    },
    {
      "cell_type": "markdown",
      "metadata": {
        "id": "luDj07ZVux4l"
      },
      "source": [
        "## **Proceso KDD**\n",
        "Se eliminan registros vacíos en la columna **standard_value** y **canonical_smiles**."
      ]
    },
    {
      "cell_type": "code",
      "execution_count": null,
      "metadata": {
        "colab": {
          "base_uri": "https://localhost:8080/"
        },
        "id": "S3FmHI8Tux4l",
        "outputId": "ff2d49c9-371a-4487-918c-8b9e57dc4715"
      },
      "outputs": [
        {
          "data": {
            "text/plain": [
              "(13617, 20)"
            ]
          },
          "execution_count": 8,
          "metadata": {},
          "output_type": "execute_result"
        }
      ],
      "source": [
        "df = df[df.standard_value.notna()]\n",
        "df = df[df.canonical_smiles.notna()]\n",
        "df.shape"
      ]
    },
    {
      "cell_type": "markdown",
      "metadata": {
        "id": "hfVnxvvgux4l"
      },
      "source": [
        "Se verifica la cantidad de registros únicos y luego se eliminan los duplicados"
      ]
    },
    {
      "cell_type": "code",
      "execution_count": null,
      "metadata": {
        "colab": {
          "base_uri": "https://localhost:8080/",
          "height": 488
        },
        "id": "j46CCxawux4l",
        "outputId": "1b1de68f-d7ab-41f2-d104-400c3218f03c"
      },
      "outputs": [
        {
          "data": {
            "text/html": [
              "<div>\n",
              "<style scoped>\n",
              "    .dataframe tbody tr th:only-of-type {\n",
              "        vertical-align: middle;\n",
              "    }\n",
              "\n",
              "    .dataframe tbody tr th {\n",
              "        vertical-align: top;\n",
              "    }\n",
              "\n",
              "    .dataframe thead th {\n",
              "        text-align: right;\n",
              "    }\n",
              "</style>\n",
              "<table border=\"1\" class=\"dataframe\">\n",
              "  <thead>\n",
              "    <tr style=\"text-align: right;\">\n",
              "      <th></th>\n",
              "      <th>activity_id</th>\n",
              "      <th>assay_variant_accession</th>\n",
              "      <th>assay_variant_mutation</th>\n",
              "      <th>canonical_smiles</th>\n",
              "      <th>document_year</th>\n",
              "      <th>ligand_efficiency</th>\n",
              "      <th>molecule_chembl_id</th>\n",
              "      <th>pchembl_value</th>\n",
              "      <th>potential_duplicate</th>\n",
              "      <th>record_id</th>\n",
              "      <th>src_id</th>\n",
              "      <th>standard_flag</th>\n",
              "      <th>standard_text_value</th>\n",
              "      <th>standard_upper_value</th>\n",
              "      <th>standard_value</th>\n",
              "      <th>target_tax_id</th>\n",
              "      <th>text_value</th>\n",
              "      <th>toid</th>\n",
              "      <th>upper_value</th>\n",
              "      <th>value</th>\n",
              "    </tr>\n",
              "  </thead>\n",
              "  <tbody>\n",
              "    <tr>\n",
              "      <th>0</th>\n",
              "      <td>149705</td>\n",
              "      <td>NaN</td>\n",
              "      <td>NaN</td>\n",
              "      <td>CCCCCC(P(=O)(O)O)P(=O)(O)O</td>\n",
              "      <td>2003.0</td>\n",
              "      <td>NaN</td>\n",
              "      <td>CHEMBL280463</td>\n",
              "      <td>NaN</td>\n",
              "      <td>0</td>\n",
              "      <td>207032</td>\n",
              "      <td>1</td>\n",
              "      <td>1</td>\n",
              "      <td>NaN</td>\n",
              "      <td>NaN</td>\n",
              "      <td>70000.0</td>\n",
              "      <td>5693</td>\n",
              "      <td>NaN</td>\n",
              "      <td>NaN</td>\n",
              "      <td>NaN</td>\n",
              "      <td>70.0</td>\n",
              "    </tr>\n",
              "    <tr>\n",
              "      <th>2</th>\n",
              "      <td>150914</td>\n",
              "      <td>NaN</td>\n",
              "      <td>NaN</td>\n",
              "      <td>CCCCCCCCC(O)(P(=O)(O)O)P(=O)(O)O</td>\n",
              "      <td>2003.0</td>\n",
              "      <td>NaN</td>\n",
              "      <td>CHEMBL110971</td>\n",
              "      <td>NaN</td>\n",
              "      <td>0</td>\n",
              "      <td>207043</td>\n",
              "      <td>1</td>\n",
              "      <td>1</td>\n",
              "      <td>NaN</td>\n",
              "      <td>NaN</td>\n",
              "      <td>70000.0</td>\n",
              "      <td>5693</td>\n",
              "      <td>NaN</td>\n",
              "      <td>NaN</td>\n",
              "      <td>NaN</td>\n",
              "      <td>70.0</td>\n",
              "    </tr>\n",
              "    <tr>\n",
              "      <th>4</th>\n",
              "      <td>150917</td>\n",
              "      <td>NaN</td>\n",
              "      <td>NaN</td>\n",
              "      <td>CCCC(P(=O)(OCC)OCC)P(=O)(OCC)OCC</td>\n",
              "      <td>2003.0</td>\n",
              "      <td>NaN</td>\n",
              "      <td>CHEMBL109374</td>\n",
              "      <td>NaN</td>\n",
              "      <td>0</td>\n",
              "      <td>207027</td>\n",
              "      <td>1</td>\n",
              "      <td>1</td>\n",
              "      <td>NaN</td>\n",
              "      <td>NaN</td>\n",
              "      <td>70000.0</td>\n",
              "      <td>5693</td>\n",
              "      <td>NaN</td>\n",
              "      <td>NaN</td>\n",
              "      <td>NaN</td>\n",
              "      <td>70.0</td>\n",
              "    </tr>\n",
              "    <tr>\n",
              "      <th>6</th>\n",
              "      <td>154598</td>\n",
              "      <td>NaN</td>\n",
              "      <td>NaN</td>\n",
              "      <td>CCCCCCCC(P(=O)(OCC)OCC)P(=O)(OCC)OCC</td>\n",
              "      <td>2003.0</td>\n",
              "      <td>NaN</td>\n",
              "      <td>CHEMBL109948</td>\n",
              "      <td>NaN</td>\n",
              "      <td>0</td>\n",
              "      <td>207029</td>\n",
              "      <td>1</td>\n",
              "      <td>1</td>\n",
              "      <td>NaN</td>\n",
              "      <td>NaN</td>\n",
              "      <td>50000.0</td>\n",
              "      <td>5693</td>\n",
              "      <td>NaN</td>\n",
              "      <td>NaN</td>\n",
              "      <td>NaN</td>\n",
              "      <td>50.0</td>\n",
              "    </tr>\n",
              "    <tr>\n",
              "      <th>8</th>\n",
              "      <td>155815</td>\n",
              "      <td>NaN</td>\n",
              "      <td>NaN</td>\n",
              "      <td>CCCCCCCCCC(P(=O)(O)O)P(=O)(O)O</td>\n",
              "      <td>2003.0</td>\n",
              "      <td>NaN</td>\n",
              "      <td>CHEMBL111392</td>\n",
              "      <td>NaN</td>\n",
              "      <td>0</td>\n",
              "      <td>207037</td>\n",
              "      <td>1</td>\n",
              "      <td>1</td>\n",
              "      <td>NaN</td>\n",
              "      <td>NaN</td>\n",
              "      <td>70000.0</td>\n",
              "      <td>5693</td>\n",
              "      <td>NaN</td>\n",
              "      <td>NaN</td>\n",
              "      <td>NaN</td>\n",
              "      <td>70.0</td>\n",
              "    </tr>\n",
              "    <tr>\n",
              "      <th>...</th>\n",
              "      <td>...</td>\n",
              "      <td>...</td>\n",
              "      <td>...</td>\n",
              "      <td>...</td>\n",
              "      <td>...</td>\n",
              "      <td>...</td>\n",
              "      <td>...</td>\n",
              "      <td>...</td>\n",
              "      <td>...</td>\n",
              "      <td>...</td>\n",
              "      <td>...</td>\n",
              "      <td>...</td>\n",
              "      <td>...</td>\n",
              "      <td>...</td>\n",
              "      <td>...</td>\n",
              "      <td>...</td>\n",
              "      <td>...</td>\n",
              "      <td>...</td>\n",
              "      <td>...</td>\n",
              "      <td>...</td>\n",
              "    </tr>\n",
              "    <tr>\n",
              "      <th>14447</th>\n",
              "      <td>23295790</td>\n",
              "      <td>NaN</td>\n",
              "      <td>NaN</td>\n",
              "      <td>O=C(CCn1ccnc1)c1ccc(Cl)c(F)c1</td>\n",
              "      <td>2021.0</td>\n",
              "      <td>NaN</td>\n",
              "      <td>CHEMBL4854457</td>\n",
              "      <td>4.63</td>\n",
              "      <td>0</td>\n",
              "      <td>3625031</td>\n",
              "      <td>1</td>\n",
              "      <td>1</td>\n",
              "      <td>NaN</td>\n",
              "      <td>NaN</td>\n",
              "      <td>23300.0</td>\n",
              "      <td>5693</td>\n",
              "      <td>NaN</td>\n",
              "      <td>NaN</td>\n",
              "      <td>NaN</td>\n",
              "      <td>23.3</td>\n",
              "    </tr>\n",
              "    <tr>\n",
              "      <th>14448</th>\n",
              "      <td>23295791</td>\n",
              "      <td>NaN</td>\n",
              "      <td>NaN</td>\n",
              "      <td>O=C(CCn1ccnc1)c1ccc(F)c2ccccc12</td>\n",
              "      <td>2021.0</td>\n",
              "      <td>NaN</td>\n",
              "      <td>CHEMBL4867967</td>\n",
              "      <td>5.13</td>\n",
              "      <td>0</td>\n",
              "      <td>3625032</td>\n",
              "      <td>1</td>\n",
              "      <td>1</td>\n",
              "      <td>NaN</td>\n",
              "      <td>NaN</td>\n",
              "      <td>7400.0</td>\n",
              "      <td>5693</td>\n",
              "      <td>NaN</td>\n",
              "      <td>NaN</td>\n",
              "      <td>NaN</td>\n",
              "      <td>7.4</td>\n",
              "    </tr>\n",
              "    <tr>\n",
              "      <th>14449</th>\n",
              "      <td>23295792</td>\n",
              "      <td>NaN</td>\n",
              "      <td>NaN</td>\n",
              "      <td>COc1cc(OC)cc(C(=O)CCn2cnc3ccccc32)c1</td>\n",
              "      <td>2021.0</td>\n",
              "      <td>NaN</td>\n",
              "      <td>CHEMBL4863983</td>\n",
              "      <td>4.96</td>\n",
              "      <td>0</td>\n",
              "      <td>3625033</td>\n",
              "      <td>1</td>\n",
              "      <td>1</td>\n",
              "      <td>NaN</td>\n",
              "      <td>NaN</td>\n",
              "      <td>11100.0</td>\n",
              "      <td>5693</td>\n",
              "      <td>NaN</td>\n",
              "      <td>NaN</td>\n",
              "      <td>NaN</td>\n",
              "      <td>11.1</td>\n",
              "    </tr>\n",
              "    <tr>\n",
              "      <th>14450</th>\n",
              "      <td>23295793</td>\n",
              "      <td>NaN</td>\n",
              "      <td>NaN</td>\n",
              "      <td>O=C(CCn1cnc2ccccc21)C12CC3CC(CC(C3)C1)C2</td>\n",
              "      <td>2021.0</td>\n",
              "      <td>NaN</td>\n",
              "      <td>CHEMBL4866134</td>\n",
              "      <td>4.61</td>\n",
              "      <td>0</td>\n",
              "      <td>3625034</td>\n",
              "      <td>1</td>\n",
              "      <td>1</td>\n",
              "      <td>NaN</td>\n",
              "      <td>NaN</td>\n",
              "      <td>24800.0</td>\n",
              "      <td>5693</td>\n",
              "      <td>NaN</td>\n",
              "      <td>NaN</td>\n",
              "      <td>NaN</td>\n",
              "      <td>24.8</td>\n",
              "    </tr>\n",
              "    <tr>\n",
              "      <th>14451</th>\n",
              "      <td>23295794</td>\n",
              "      <td>NaN</td>\n",
              "      <td>NaN</td>\n",
              "      <td>COc1ccc(C(=O)CCn2ccnc2[N+](=O)[O-])cc1</td>\n",
              "      <td>2021.0</td>\n",
              "      <td>NaN</td>\n",
              "      <td>CHEMBL4856014</td>\n",
              "      <td>5.66</td>\n",
              "      <td>0</td>\n",
              "      <td>3625035</td>\n",
              "      <td>1</td>\n",
              "      <td>1</td>\n",
              "      <td>NaN</td>\n",
              "      <td>NaN</td>\n",
              "      <td>2200.0</td>\n",
              "      <td>5693</td>\n",
              "      <td>NaN</td>\n",
              "      <td>NaN</td>\n",
              "      <td>NaN</td>\n",
              "      <td>2.2</td>\n",
              "    </tr>\n",
              "  </tbody>\n",
              "</table>\n",
              "<p>8714 rows × 20 columns</p>\n",
              "</div>"
            ],
            "text/plain": [
              "       activity_id  assay_variant_accession  assay_variant_mutation   \n",
              "0           149705                      NaN                     NaN  \\\n",
              "2           150914                      NaN                     NaN   \n",
              "4           150917                      NaN                     NaN   \n",
              "6           154598                      NaN                     NaN   \n",
              "8           155815                      NaN                     NaN   \n",
              "...            ...                      ...                     ...   \n",
              "14447     23295790                      NaN                     NaN   \n",
              "14448     23295791                      NaN                     NaN   \n",
              "14449     23295792                      NaN                     NaN   \n",
              "14450     23295793                      NaN                     NaN   \n",
              "14451     23295794                      NaN                     NaN   \n",
              "\n",
              "                               canonical_smiles  document_year   \n",
              "0                    CCCCCC(P(=O)(O)O)P(=O)(O)O         2003.0  \\\n",
              "2              CCCCCCCCC(O)(P(=O)(O)O)P(=O)(O)O         2003.0   \n",
              "4              CCCC(P(=O)(OCC)OCC)P(=O)(OCC)OCC         2003.0   \n",
              "6          CCCCCCCC(P(=O)(OCC)OCC)P(=O)(OCC)OCC         2003.0   \n",
              "8                CCCCCCCCCC(P(=O)(O)O)P(=O)(O)O         2003.0   \n",
              "...                                         ...            ...   \n",
              "14447             O=C(CCn1ccnc1)c1ccc(Cl)c(F)c1         2021.0   \n",
              "14448           O=C(CCn1ccnc1)c1ccc(F)c2ccccc12         2021.0   \n",
              "14449      COc1cc(OC)cc(C(=O)CCn2cnc3ccccc32)c1         2021.0   \n",
              "14450  O=C(CCn1cnc2ccccc21)C12CC3CC(CC(C3)C1)C2         2021.0   \n",
              "14451    COc1ccc(C(=O)CCn2ccnc2[N+](=O)[O-])cc1         2021.0   \n",
              "\n",
              "       ligand_efficiency molecule_chembl_id  pchembl_value   \n",
              "0                    NaN       CHEMBL280463            NaN  \\\n",
              "2                    NaN       CHEMBL110971            NaN   \n",
              "4                    NaN       CHEMBL109374            NaN   \n",
              "6                    NaN       CHEMBL109948            NaN   \n",
              "8                    NaN       CHEMBL111392            NaN   \n",
              "...                  ...                ...            ...   \n",
              "14447                NaN      CHEMBL4854457           4.63   \n",
              "14448                NaN      CHEMBL4867967           5.13   \n",
              "14449                NaN      CHEMBL4863983           4.96   \n",
              "14450                NaN      CHEMBL4866134           4.61   \n",
              "14451                NaN      CHEMBL4856014           5.66   \n",
              "\n",
              "       potential_duplicate  record_id  src_id  standard_flag   \n",
              "0                        0     207032       1              1  \\\n",
              "2                        0     207043       1              1   \n",
              "4                        0     207027       1              1   \n",
              "6                        0     207029       1              1   \n",
              "8                        0     207037       1              1   \n",
              "...                    ...        ...     ...            ...   \n",
              "14447                    0    3625031       1              1   \n",
              "14448                    0    3625032       1              1   \n",
              "14449                    0    3625033       1              1   \n",
              "14450                    0    3625034       1              1   \n",
              "14451                    0    3625035       1              1   \n",
              "\n",
              "       standard_text_value  standard_upper_value  standard_value   \n",
              "0                      NaN                   NaN         70000.0  \\\n",
              "2                      NaN                   NaN         70000.0   \n",
              "4                      NaN                   NaN         70000.0   \n",
              "6                      NaN                   NaN         50000.0   \n",
              "8                      NaN                   NaN         70000.0   \n",
              "...                    ...                   ...             ...   \n",
              "14447                  NaN                   NaN         23300.0   \n",
              "14448                  NaN                   NaN          7400.0   \n",
              "14449                  NaN                   NaN         11100.0   \n",
              "14450                  NaN                   NaN         24800.0   \n",
              "14451                  NaN                   NaN          2200.0   \n",
              "\n",
              "       target_tax_id  text_value  toid  upper_value  value  \n",
              "0               5693         NaN   NaN          NaN   70.0  \n",
              "2               5693         NaN   NaN          NaN   70.0  \n",
              "4               5693         NaN   NaN          NaN   70.0  \n",
              "6               5693         NaN   NaN          NaN   50.0  \n",
              "8               5693         NaN   NaN          NaN   70.0  \n",
              "...              ...         ...   ...          ...    ...  \n",
              "14447           5693         NaN   NaN          NaN   23.3  \n",
              "14448           5693         NaN   NaN          NaN    7.4  \n",
              "14449           5693         NaN   NaN          NaN   11.1  \n",
              "14450           5693         NaN   NaN          NaN   24.8  \n",
              "14451           5693         NaN   NaN          NaN    2.2  \n",
              "\n",
              "[8714 rows x 20 columns]"
            ]
          },
          "execution_count": 9,
          "metadata": {},
          "output_type": "execute_result"
        }
      ],
      "source": [
        "len(df.canonical_smiles.unique())\n",
        "df2_kdd = df.drop_duplicates(['canonical_smiles'])\n",
        "df2_kdd"
      ]
    },
    {
      "cell_type": "markdown",
      "metadata": {
        "id": "I47zV_uRux4m"
      },
      "source": [
        "## Eliminar variables que no aportan al modelo"
      ]
    },
    {
      "cell_type": "code",
      "execution_count": null,
      "metadata": {
        "colab": {
          "base_uri": "https://localhost:8080/",
          "height": 424
        },
        "id": "2o1Z7Shrux4m",
        "outputId": "b4c1e046-ba4a-4c33-82a3-e04040f6cd5e"
      },
      "outputs": [
        {
          "data": {
            "text/html": [
              "<div>\n",
              "<style scoped>\n",
              "    .dataframe tbody tr th:only-of-type {\n",
              "        vertical-align: middle;\n",
              "    }\n",
              "\n",
              "    .dataframe tbody tr th {\n",
              "        vertical-align: top;\n",
              "    }\n",
              "\n",
              "    .dataframe thead th {\n",
              "        text-align: right;\n",
              "    }\n",
              "</style>\n",
              "<table border=\"1\" class=\"dataframe\">\n",
              "  <thead>\n",
              "    <tr style=\"text-align: right;\">\n",
              "      <th></th>\n",
              "      <th>molecule_chembl_id</th>\n",
              "      <th>canonical_smiles</th>\n",
              "      <th>standard_value</th>\n",
              "    </tr>\n",
              "  </thead>\n",
              "  <tbody>\n",
              "    <tr>\n",
              "      <th>0</th>\n",
              "      <td>CHEMBL280463</td>\n",
              "      <td>CCCCCC(P(=O)(O)O)P(=O)(O)O</td>\n",
              "      <td>70000.0</td>\n",
              "    </tr>\n",
              "    <tr>\n",
              "      <th>2</th>\n",
              "      <td>CHEMBL110971</td>\n",
              "      <td>CCCCCCCCC(O)(P(=O)(O)O)P(=O)(O)O</td>\n",
              "      <td>70000.0</td>\n",
              "    </tr>\n",
              "    <tr>\n",
              "      <th>4</th>\n",
              "      <td>CHEMBL109374</td>\n",
              "      <td>CCCC(P(=O)(OCC)OCC)P(=O)(OCC)OCC</td>\n",
              "      <td>70000.0</td>\n",
              "    </tr>\n",
              "    <tr>\n",
              "      <th>6</th>\n",
              "      <td>CHEMBL109948</td>\n",
              "      <td>CCCCCCCC(P(=O)(OCC)OCC)P(=O)(OCC)OCC</td>\n",
              "      <td>50000.0</td>\n",
              "    </tr>\n",
              "    <tr>\n",
              "      <th>8</th>\n",
              "      <td>CHEMBL111392</td>\n",
              "      <td>CCCCCCCCCC(P(=O)(O)O)P(=O)(O)O</td>\n",
              "      <td>70000.0</td>\n",
              "    </tr>\n",
              "    <tr>\n",
              "      <th>...</th>\n",
              "      <td>...</td>\n",
              "      <td>...</td>\n",
              "      <td>...</td>\n",
              "    </tr>\n",
              "    <tr>\n",
              "      <th>14447</th>\n",
              "      <td>CHEMBL4854457</td>\n",
              "      <td>O=C(CCn1ccnc1)c1ccc(Cl)c(F)c1</td>\n",
              "      <td>23300.0</td>\n",
              "    </tr>\n",
              "    <tr>\n",
              "      <th>14448</th>\n",
              "      <td>CHEMBL4867967</td>\n",
              "      <td>O=C(CCn1ccnc1)c1ccc(F)c2ccccc12</td>\n",
              "      <td>7400.0</td>\n",
              "    </tr>\n",
              "    <tr>\n",
              "      <th>14449</th>\n",
              "      <td>CHEMBL4863983</td>\n",
              "      <td>COc1cc(OC)cc(C(=O)CCn2cnc3ccccc32)c1</td>\n",
              "      <td>11100.0</td>\n",
              "    </tr>\n",
              "    <tr>\n",
              "      <th>14450</th>\n",
              "      <td>CHEMBL4866134</td>\n",
              "      <td>O=C(CCn1cnc2ccccc21)C12CC3CC(CC(C3)C1)C2</td>\n",
              "      <td>24800.0</td>\n",
              "    </tr>\n",
              "    <tr>\n",
              "      <th>14451</th>\n",
              "      <td>CHEMBL4856014</td>\n",
              "      <td>COc1ccc(C(=O)CCn2ccnc2[N+](=O)[O-])cc1</td>\n",
              "      <td>2200.0</td>\n",
              "    </tr>\n",
              "  </tbody>\n",
              "</table>\n",
              "<p>8714 rows × 3 columns</p>\n",
              "</div>"
            ],
            "text/plain": [
              "      molecule_chembl_id                          canonical_smiles   \n",
              "0           CHEMBL280463                CCCCCC(P(=O)(O)O)P(=O)(O)O  \\\n",
              "2           CHEMBL110971          CCCCCCCCC(O)(P(=O)(O)O)P(=O)(O)O   \n",
              "4           CHEMBL109374          CCCC(P(=O)(OCC)OCC)P(=O)(OCC)OCC   \n",
              "6           CHEMBL109948      CCCCCCCC(P(=O)(OCC)OCC)P(=O)(OCC)OCC   \n",
              "8           CHEMBL111392            CCCCCCCCCC(P(=O)(O)O)P(=O)(O)O   \n",
              "...                  ...                                       ...   \n",
              "14447      CHEMBL4854457             O=C(CCn1ccnc1)c1ccc(Cl)c(F)c1   \n",
              "14448      CHEMBL4867967           O=C(CCn1ccnc1)c1ccc(F)c2ccccc12   \n",
              "14449      CHEMBL4863983      COc1cc(OC)cc(C(=O)CCn2cnc3ccccc32)c1   \n",
              "14450      CHEMBL4866134  O=C(CCn1cnc2ccccc21)C12CC3CC(CC(C3)C1)C2   \n",
              "14451      CHEMBL4856014    COc1ccc(C(=O)CCn2ccnc2[N+](=O)[O-])cc1   \n",
              "\n",
              "       standard_value  \n",
              "0             70000.0  \n",
              "2             70000.0  \n",
              "4             70000.0  \n",
              "6             50000.0  \n",
              "8             70000.0  \n",
              "...               ...  \n",
              "14447         23300.0  \n",
              "14448          7400.0  \n",
              "14449         11100.0  \n",
              "14450         24800.0  \n",
              "14451          2200.0  \n",
              "\n",
              "[8714 rows x 3 columns]"
            ]
          },
          "execution_count": 10,
          "metadata": {},
          "output_type": "execute_result"
        }
      ],
      "source": [
        "# dejar solo las variables molecule_chembl_id canonical_smiles y standard_value\n",
        "df2_kdd = df2_kdd[['molecule_chembl_id', 'canonical_smiles', 'standard_value']]\n",
        "df2_kdd"
      ]
    },
    {
      "cell_type": "code",
      "execution_count": null,
      "metadata": {
        "id": "9jMQExuFux4m",
        "outputId": "22d2ca7d-e092-46bb-ea39-7c3223c001a7"
      },
      "outputs": [
        {
          "name": "stderr",
          "output_type": "stream",
          "text": [
            "C:/Users/LEGION/AppData/Local/Temp/xpython_17204/2249629564.py:2: SettingWithCopyWarning: \n",
            "A value is trying to be set on a copy of a slice from a DataFrame.\n",
            "Try using .loc[row_indexer,col_indexer] = value instead\n",
            "\n",
            "See the caveats in the documentation: https://pandas.pydata.org/pandas-docs/stable/user_guide/indexing.html#returning-a-view-versus-a-copy\n",
            "  df2_kdd['standard_value'] = df2_kdd['standard_value'].fillna(df2_kdd['standard_value'].min())\n"
          ]
        },
        {
          "data": {
            "text/html": [
              "<div>\n",
              "<style scoped>\n",
              "    .dataframe tbody tr th:only-of-type {\n",
              "        vertical-align: middle;\n",
              "    }\n",
              "\n",
              "    .dataframe tbody tr th {\n",
              "        vertical-align: top;\n",
              "    }\n",
              "\n",
              "    .dataframe thead th {\n",
              "        text-align: right;\n",
              "    }\n",
              "</style>\n",
              "<table border=\"1\" class=\"dataframe\">\n",
              "  <thead>\n",
              "    <tr style=\"text-align: right;\">\n",
              "      <th></th>\n",
              "      <th>molecule_chembl_id</th>\n",
              "      <th>canonical_smiles</th>\n",
              "      <th>standard_value</th>\n",
              "    </tr>\n",
              "  </thead>\n",
              "  <tbody>\n",
              "    <tr>\n",
              "      <th>0</th>\n",
              "      <td>CHEMBL280463</td>\n",
              "      <td>CCCCCC(P(=O)(O)O)P(=O)(O)O</td>\n",
              "      <td>70000.0</td>\n",
              "    </tr>\n",
              "    <tr>\n",
              "      <th>2</th>\n",
              "      <td>CHEMBL110971</td>\n",
              "      <td>CCCCCCCCC(O)(P(=O)(O)O)P(=O)(O)O</td>\n",
              "      <td>70000.0</td>\n",
              "    </tr>\n",
              "    <tr>\n",
              "      <th>4</th>\n",
              "      <td>CHEMBL109374</td>\n",
              "      <td>CCCC(P(=O)(OCC)OCC)P(=O)(OCC)OCC</td>\n",
              "      <td>70000.0</td>\n",
              "    </tr>\n",
              "    <tr>\n",
              "      <th>6</th>\n",
              "      <td>CHEMBL109948</td>\n",
              "      <td>CCCCCCCC(P(=O)(OCC)OCC)P(=O)(OCC)OCC</td>\n",
              "      <td>50000.0</td>\n",
              "    </tr>\n",
              "    <tr>\n",
              "      <th>8</th>\n",
              "      <td>CHEMBL111392</td>\n",
              "      <td>CCCCCCCCCC(P(=O)(O)O)P(=O)(O)O</td>\n",
              "      <td>70000.0</td>\n",
              "    </tr>\n",
              "    <tr>\n",
              "      <th>...</th>\n",
              "      <td>...</td>\n",
              "      <td>...</td>\n",
              "      <td>...</td>\n",
              "    </tr>\n",
              "    <tr>\n",
              "      <th>14447</th>\n",
              "      <td>CHEMBL4854457</td>\n",
              "      <td>O=C(CCn1ccnc1)c1ccc(Cl)c(F)c1</td>\n",
              "      <td>23300.0</td>\n",
              "    </tr>\n",
              "    <tr>\n",
              "      <th>14448</th>\n",
              "      <td>CHEMBL4867967</td>\n",
              "      <td>O=C(CCn1ccnc1)c1ccc(F)c2ccccc12</td>\n",
              "      <td>7400.0</td>\n",
              "    </tr>\n",
              "    <tr>\n",
              "      <th>14449</th>\n",
              "      <td>CHEMBL4863983</td>\n",
              "      <td>COc1cc(OC)cc(C(=O)CCn2cnc3ccccc32)c1</td>\n",
              "      <td>11100.0</td>\n",
              "    </tr>\n",
              "    <tr>\n",
              "      <th>14450</th>\n",
              "      <td>CHEMBL4866134</td>\n",
              "      <td>O=C(CCn1cnc2ccccc21)C12CC3CC(CC(C3)C1)C2</td>\n",
              "      <td>24800.0</td>\n",
              "    </tr>\n",
              "    <tr>\n",
              "      <th>14451</th>\n",
              "      <td>CHEMBL4856014</td>\n",
              "      <td>COc1ccc(C(=O)CCn2ccnc2[N+](=O)[O-])cc1</td>\n",
              "      <td>2200.0</td>\n",
              "    </tr>\n",
              "  </tbody>\n",
              "</table>\n",
              "<p>8714 rows × 3 columns</p>\n",
              "</div>"
            ],
            "text/plain": [
              "      molecule_chembl_id                          canonical_smiles   \n",
              "0           CHEMBL280463                CCCCCC(P(=O)(O)O)P(=O)(O)O  \\\n",
              "2           CHEMBL110971          CCCCCCCCC(O)(P(=O)(O)O)P(=O)(O)O   \n",
              "4           CHEMBL109374          CCCC(P(=O)(OCC)OCC)P(=O)(OCC)OCC   \n",
              "6           CHEMBL109948      CCCCCCCC(P(=O)(OCC)OCC)P(=O)(OCC)OCC   \n",
              "8           CHEMBL111392            CCCCCCCCCC(P(=O)(O)O)P(=O)(O)O   \n",
              "...                  ...                                       ...   \n",
              "14447      CHEMBL4854457             O=C(CCn1ccnc1)c1ccc(Cl)c(F)c1   \n",
              "14448      CHEMBL4867967           O=C(CCn1ccnc1)c1ccc(F)c2ccccc12   \n",
              "14449      CHEMBL4863983      COc1cc(OC)cc(C(=O)CCn2cnc3ccccc32)c1   \n",
              "14450      CHEMBL4866134  O=C(CCn1cnc2ccccc21)C12CC3CC(CC(C3)C1)C2   \n",
              "14451      CHEMBL4856014    COc1ccc(C(=O)CCn2ccnc2[N+](=O)[O-])cc1   \n",
              "\n",
              "       standard_value  \n",
              "0             70000.0  \n",
              "2             70000.0  \n",
              "4             70000.0  \n",
              "6             50000.0  \n",
              "8             70000.0  \n",
              "...               ...  \n",
              "14447         23300.0  \n",
              "14448          7400.0  \n",
              "14449         11100.0  \n",
              "14450         24800.0  \n",
              "14451          2200.0  \n",
              "\n",
              "[8714 rows x 3 columns]"
            ]
          },
          "execution_count": 12,
          "metadata": {},
          "output_type": "execute_result"
        }
      ],
      "source": [
        "#imputar valores faltantes en standard_value con valor minimo\n",
        "df2_kdd['standard_value'] = df2_kdd['standard_value'].fillna(df2_kdd['standard_value'].min())\n",
        "df2_kdd"
      ]
    },
    {
      "cell_type": "code",
      "execution_count": null,
      "metadata": {
        "id": "5n-goSDEux4m",
        "outputId": "5132f661-60ff-4946-8fbb-03eb21c17df6"
      },
      "outputs": [
        {
          "name": "stderr",
          "output_type": "stream",
          "text": [
            "C:/Users/LEGION/AppData/Local/Temp/xpython_17204/3281466454.py:11: SettingWithCopyWarning: \n",
            "A value is trying to be set on a copy of a slice from a DataFrame.\n",
            "Try using .loc[row_indexer,col_indexer] = value instead\n",
            "\n",
            "See the caveats in the documentation: https://pandas.pydata.org/pandas-docs/stable/user_guide/indexing.html#returning-a-view-versus-a-copy\n",
            "  df2_kdd['is_valid'] = df2_kdd['canonical_smiles'].apply(valid_smiles)\n"
          ]
        }
      ],
      "source": [
        "# crear expresión regular para validar smiles\n",
        "pattern = re.compile('^(?:\\[.*?\\]|[A-Za-z0-9@%+\\-=\\(\\)\\[\\]\\{\\}\\.\\#\\$\\*\\^\\~\\?\\!\\/\\\\\\:]+)$')\n",
        "# crear función para validar smiles\n",
        "def valid_smiles(smiles):\n",
        "    if pattern.match(smiles):\n",
        "        return True\n",
        "    else:\n",
        "        return False\n",
        "    \n",
        "# crear nueva columna con resultado de validación\n",
        "df2_kdd['is_valid'] = df2_kdd['canonical_smiles'].apply(valid_smiles)"
      ]
    },
    {
      "cell_type": "code",
      "execution_count": null,
      "metadata": {
        "colab": {
          "base_uri": "https://localhost:8080/",
          "height": 143
        },
        "id": "eRuSEXn3ux4n",
        "outputId": "1b068eae-945a-4e50-c40a-293d3ab899cc"
      },
      "outputs": [
        {
          "data": {
            "text/html": [
              "<div>\n",
              "<style scoped>\n",
              "    .dataframe tbody tr th:only-of-type {\n",
              "        vertical-align: middle;\n",
              "    }\n",
              "\n",
              "    .dataframe tbody tr th {\n",
              "        vertical-align: top;\n",
              "    }\n",
              "\n",
              "    .dataframe thead th {\n",
              "        text-align: right;\n",
              "    }\n",
              "</style>\n",
              "<table border=\"1\" class=\"dataframe\">\n",
              "  <thead>\n",
              "    <tr style=\"text-align: right;\">\n",
              "      <th></th>\n",
              "      <th>molecule_chembl_id</th>\n",
              "      <th>canonical_smiles</th>\n",
              "      <th>standard_value</th>\n",
              "      <th>is_valid</th>\n",
              "    </tr>\n",
              "  </thead>\n",
              "  <tbody>\n",
              "    <tr>\n",
              "      <th>0</th>\n",
              "      <td>CHEMBL280463</td>\n",
              "      <td>CCCCCC(P(=O)(O)O)P(=O)(O)O</td>\n",
              "      <td>70000.0</td>\n",
              "      <td>True</td>\n",
              "    </tr>\n",
              "    <tr>\n",
              "      <th>2</th>\n",
              "      <td>CHEMBL110971</td>\n",
              "      <td>CCCCCCCCC(O)(P(=O)(O)O)P(=O)(O)O</td>\n",
              "      <td>70000.0</td>\n",
              "      <td>True</td>\n",
              "    </tr>\n",
              "    <tr>\n",
              "      <th>4</th>\n",
              "      <td>CHEMBL109374</td>\n",
              "      <td>CCCC(P(=O)(OCC)OCC)P(=O)(OCC)OCC</td>\n",
              "      <td>70000.0</td>\n",
              "      <td>True</td>\n",
              "    </tr>\n",
              "  </tbody>\n",
              "</table>\n",
              "</div>"
            ],
            "text/plain": [
              "  molecule_chembl_id                  canonical_smiles  standard_value   \n",
              "0       CHEMBL280463        CCCCCC(P(=O)(O)O)P(=O)(O)O         70000.0  \\\n",
              "2       CHEMBL110971  CCCCCCCCC(O)(P(=O)(O)O)P(=O)(O)O         70000.0   \n",
              "4       CHEMBL109374  CCCC(P(=O)(OCC)OCC)P(=O)(OCC)OCC         70000.0   \n",
              "\n",
              "   is_valid  \n",
              "0      True  \n",
              "2      True  \n",
              "4      True  "
            ]
          },
          "execution_count": 14,
          "metadata": {},
          "output_type": "execute_result"
        }
      ],
      "source": [
        "df2_kdd.head(3)"
      ]
    },
    {
      "cell_type": "code",
      "execution_count": null,
      "metadata": {
        "colab": {
          "base_uri": "https://localhost:8080/",
          "height": 424
        },
        "id": "z1Ig8Gwoux4n",
        "outputId": "e7ac22c3-3226-4218-af37-578adf06d93d"
      },
      "outputs": [
        {
          "data": {
            "text/html": [
              "<div>\n",
              "<style scoped>\n",
              "    .dataframe tbody tr th:only-of-type {\n",
              "        vertical-align: middle;\n",
              "    }\n",
              "\n",
              "    .dataframe tbody tr th {\n",
              "        vertical-align: top;\n",
              "    }\n",
              "\n",
              "    .dataframe thead th {\n",
              "        text-align: right;\n",
              "    }\n",
              "</style>\n",
              "<table border=\"1\" class=\"dataframe\">\n",
              "  <thead>\n",
              "    <tr style=\"text-align: right;\">\n",
              "      <th></th>\n",
              "      <th>molecule_chembl_id</th>\n",
              "      <th>canonical_smiles</th>\n",
              "      <th>standard_value</th>\n",
              "      <th>is_valid</th>\n",
              "    </tr>\n",
              "  </thead>\n",
              "  <tbody>\n",
              "    <tr>\n",
              "      <th>0</th>\n",
              "      <td>CHEMBL280463</td>\n",
              "      <td>CCCCCC(P(=O)(O)O)P(=O)(O)O</td>\n",
              "      <td>70000.0</td>\n",
              "      <td>True</td>\n",
              "    </tr>\n",
              "    <tr>\n",
              "      <th>2</th>\n",
              "      <td>CHEMBL110971</td>\n",
              "      <td>CCCCCCCCC(O)(P(=O)(O)O)P(=O)(O)O</td>\n",
              "      <td>70000.0</td>\n",
              "      <td>True</td>\n",
              "    </tr>\n",
              "    <tr>\n",
              "      <th>4</th>\n",
              "      <td>CHEMBL109374</td>\n",
              "      <td>CCCC(P(=O)(OCC)OCC)P(=O)(OCC)OCC</td>\n",
              "      <td>70000.0</td>\n",
              "      <td>True</td>\n",
              "    </tr>\n",
              "    <tr>\n",
              "      <th>6</th>\n",
              "      <td>CHEMBL109948</td>\n",
              "      <td>CCCCCCCC(P(=O)(OCC)OCC)P(=O)(OCC)OCC</td>\n",
              "      <td>50000.0</td>\n",
              "      <td>True</td>\n",
              "    </tr>\n",
              "    <tr>\n",
              "      <th>8</th>\n",
              "      <td>CHEMBL111392</td>\n",
              "      <td>CCCCCCCCCC(P(=O)(O)O)P(=O)(O)O</td>\n",
              "      <td>70000.0</td>\n",
              "      <td>True</td>\n",
              "    </tr>\n",
              "    <tr>\n",
              "      <th>...</th>\n",
              "      <td>...</td>\n",
              "      <td>...</td>\n",
              "      <td>...</td>\n",
              "      <td>...</td>\n",
              "    </tr>\n",
              "    <tr>\n",
              "      <th>14447</th>\n",
              "      <td>CHEMBL4854457</td>\n",
              "      <td>O=C(CCn1ccnc1)c1ccc(Cl)c(F)c1</td>\n",
              "      <td>23300.0</td>\n",
              "      <td>True</td>\n",
              "    </tr>\n",
              "    <tr>\n",
              "      <th>14448</th>\n",
              "      <td>CHEMBL4867967</td>\n",
              "      <td>O=C(CCn1ccnc1)c1ccc(F)c2ccccc12</td>\n",
              "      <td>7400.0</td>\n",
              "      <td>True</td>\n",
              "    </tr>\n",
              "    <tr>\n",
              "      <th>14449</th>\n",
              "      <td>CHEMBL4863983</td>\n",
              "      <td>COc1cc(OC)cc(C(=O)CCn2cnc3ccccc32)c1</td>\n",
              "      <td>11100.0</td>\n",
              "      <td>True</td>\n",
              "    </tr>\n",
              "    <tr>\n",
              "      <th>14450</th>\n",
              "      <td>CHEMBL4866134</td>\n",
              "      <td>O=C(CCn1cnc2ccccc21)C12CC3CC(CC(C3)C1)C2</td>\n",
              "      <td>24800.0</td>\n",
              "      <td>True</td>\n",
              "    </tr>\n",
              "    <tr>\n",
              "      <th>14451</th>\n",
              "      <td>CHEMBL4856014</td>\n",
              "      <td>COc1ccc(C(=O)CCn2ccnc2[N+](=O)[O-])cc1</td>\n",
              "      <td>2200.0</td>\n",
              "      <td>True</td>\n",
              "    </tr>\n",
              "  </tbody>\n",
              "</table>\n",
              "<p>8714 rows × 4 columns</p>\n",
              "</div>"
            ],
            "text/plain": [
              "      molecule_chembl_id                          canonical_smiles   \n",
              "0           CHEMBL280463                CCCCCC(P(=O)(O)O)P(=O)(O)O  \\\n",
              "2           CHEMBL110971          CCCCCCCCC(O)(P(=O)(O)O)P(=O)(O)O   \n",
              "4           CHEMBL109374          CCCC(P(=O)(OCC)OCC)P(=O)(OCC)OCC   \n",
              "6           CHEMBL109948      CCCCCCCC(P(=O)(OCC)OCC)P(=O)(OCC)OCC   \n",
              "8           CHEMBL111392            CCCCCCCCCC(P(=O)(O)O)P(=O)(O)O   \n",
              "...                  ...                                       ...   \n",
              "14447      CHEMBL4854457             O=C(CCn1ccnc1)c1ccc(Cl)c(F)c1   \n",
              "14448      CHEMBL4867967           O=C(CCn1ccnc1)c1ccc(F)c2ccccc12   \n",
              "14449      CHEMBL4863983      COc1cc(OC)cc(C(=O)CCn2cnc3ccccc32)c1   \n",
              "14450      CHEMBL4866134  O=C(CCn1cnc2ccccc21)C12CC3CC(CC(C3)C1)C2   \n",
              "14451      CHEMBL4856014    COc1ccc(C(=O)CCn2ccnc2[N+](=O)[O-])cc1   \n",
              "\n",
              "       standard_value  is_valid  \n",
              "0             70000.0      True  \n",
              "2             70000.0      True  \n",
              "4             70000.0      True  \n",
              "6             50000.0      True  \n",
              "8             70000.0      True  \n",
              "...               ...       ...  \n",
              "14447         23300.0      True  \n",
              "14448          7400.0      True  \n",
              "14449         11100.0      True  \n",
              "14450         24800.0      True  \n",
              "14451          2200.0      True  \n",
              "\n",
              "[8714 rows x 4 columns]"
            ]
          },
          "execution_count": 15,
          "metadata": {},
          "output_type": "execute_result"
        }
      ],
      "source": [
        "#eliminar registros con smiles no validos\n",
        "df2_kdd = df2_kdd[df2_kdd.is_valid == True]\n",
        "df2_kdd"
      ]
    },
    {
      "cell_type": "markdown",
      "metadata": {
        "id": "-Tppj557ux4n"
      },
      "source": [
        "Ejemplo de verificación de diagrama de la segunda molécula"
      ]
    },
    {
      "cell_type": "code",
      "execution_count": null,
      "metadata": {
        "id": "cF58XwJGux4n"
      },
      "outputs": [],
      "source": [
        "#!pip install rdkit\n",
        "from rdkit import Chem\n",
        "molecula_0 = Chem.MolFromSmiles(df2_kdd['canonical_smiles'][0])"
      ]
    },
    {
      "cell_type": "code",
      "execution_count": null,
      "metadata": {
        "id": "_foeeBmOux4o",
        "outputId": "326ef552-4cc6-49cb-f047-3adfcf684391"
      },
      "outputs": [
        {
          "name": "stdout",
          "output_type": "stream",
          "text": [
            "CCCCCCCCC(O)(P(=O)(O)O)P(=O)(O)O\n"
          ]
        },
        {
          "data": {
            "image/png": "[encoded data removed]",
            "text/plain": [
              "<IPython.core.display.Image object>"
            ]
          },
          "execution_count": 17,
          "metadata": {},
          "output_type": "execute_result"
        }
      ],
      "source": [
        "print(df2_kdd['canonical_smiles'][2])\n",
        "#dibujar molecula .png\n",
        "from rdkit.Chem import Draw\n",
        "Draw.MolToFile(molecula_0, 'molecula_0.png')\n",
        "#guardar molecula .png\n",
        "from IPython.display import Image\n",
        "Image(filename='molecula_0.png')"
      ]
    },
    {
      "cell_type": "markdown",
      "metadata": {
        "id": "NOhIPVsQux4o"
      },
      "source": [
        "## Resetear índices"
      ]
    },
    {
      "cell_type": "code",
      "execution_count": null,
      "metadata": {
        "id": "kaZNIv4Wux4o"
      },
      "outputs": [],
      "source": [
        "df2_kdd = df2_kdd.reset_index()\n",
        "df2_kdd.to_csv('chagas_02_bioactivity_data_preprocessed.csv', index=False)"
      ]
    },
    {
      "cell_type": "markdown",
      "metadata": {
        "id": "10sTdw_jux4o"
      },
      "source": [
        "### **Categorizar compuestos**\n",
        "Los datos de bioactividad, consignados en la columna standard_value, están en unidades de IC50. Se clasifican estos valores en tres categorías. Los compuestos que tengan valores inferiores a 1.000 nM se considerarán **‘activos’**, Los valores entre 1.000 nM y 10.000 nM tendrán una categoría **‘NaN’** debido a que no se utilizarán, mientras que los valores superiores a 10.000 nM se considerarán **‘inactivos**’."
      ]
    },
    {
      "cell_type": "code",
      "execution_count": null,
      "metadata": {
        "id": "MyM2UzVnux4o",
        "outputId": "96122565-321e-4630-a95b-84b55008378a"
      },
      "outputs": [
        {
          "data": {
            "text/html": [
              "<div>\n",
              "<style scoped>\n",
              "    .dataframe tbody tr th:only-of-type {\n",
              "        vertical-align: middle;\n",
              "    }\n",
              "\n",
              "    .dataframe tbody tr th {\n",
              "        vertical-align: top;\n",
              "    }\n",
              "\n",
              "    .dataframe thead th {\n",
              "        text-align: right;\n",
              "    }\n",
              "</style>\n",
              "<table border=\"1\" class=\"dataframe\">\n",
              "  <thead>\n",
              "    <tr style=\"text-align: right;\">\n",
              "      <th></th>\n",
              "      <th>level_0</th>\n",
              "      <th>index</th>\n",
              "      <th>molecule_chembl_id</th>\n",
              "      <th>canonical_smiles</th>\n",
              "      <th>standard_value</th>\n",
              "      <th>is_valid</th>\n",
              "      <th>valor_bioactividad</th>\n",
              "    </tr>\n",
              "  </thead>\n",
              "  <tbody>\n",
              "    <tr>\n",
              "      <th>0</th>\n",
              "      <td>0</td>\n",
              "      <td>0</td>\n",
              "      <td>CHEMBL280463</td>\n",
              "      <td>CCCCCC(P(=O)(O)O)P(=O)(O)O</td>\n",
              "      <td>70000.0</td>\n",
              "      <td>True</td>\n",
              "      <td>inactivo</td>\n",
              "    </tr>\n",
              "    <tr>\n",
              "      <th>1</th>\n",
              "      <td>1</td>\n",
              "      <td>2</td>\n",
              "      <td>CHEMBL110971</td>\n",
              "      <td>CCCCCCCCC(O)(P(=O)(O)O)P(=O)(O)O</td>\n",
              "      <td>70000.0</td>\n",
              "      <td>True</td>\n",
              "      <td>inactivo</td>\n",
              "    </tr>\n",
              "    <tr>\n",
              "      <th>2</th>\n",
              "      <td>2</td>\n",
              "      <td>4</td>\n",
              "      <td>CHEMBL109374</td>\n",
              "      <td>CCCC(P(=O)(OCC)OCC)P(=O)(OCC)OCC</td>\n",
              "      <td>70000.0</td>\n",
              "      <td>True</td>\n",
              "      <td>inactivo</td>\n",
              "    </tr>\n",
              "    <tr>\n",
              "      <th>3</th>\n",
              "      <td>3</td>\n",
              "      <td>6</td>\n",
              "      <td>CHEMBL109948</td>\n",
              "      <td>CCCCCCCC(P(=O)(OCC)OCC)P(=O)(OCC)OCC</td>\n",
              "      <td>50000.0</td>\n",
              "      <td>True</td>\n",
              "      <td>inactivo</td>\n",
              "    </tr>\n",
              "    <tr>\n",
              "      <th>4</th>\n",
              "      <td>4</td>\n",
              "      <td>8</td>\n",
              "      <td>CHEMBL111392</td>\n",
              "      <td>CCCCCCCCCC(P(=O)(O)O)P(=O)(O)O</td>\n",
              "      <td>70000.0</td>\n",
              "      <td>True</td>\n",
              "      <td>inactivo</td>\n",
              "    </tr>\n",
              "    <tr>\n",
              "      <th>...</th>\n",
              "      <td>...</td>\n",
              "      <td>...</td>\n",
              "      <td>...</td>\n",
              "      <td>...</td>\n",
              "      <td>...</td>\n",
              "      <td>...</td>\n",
              "      <td>...</td>\n",
              "    </tr>\n",
              "    <tr>\n",
              "      <th>7044</th>\n",
              "      <td>8707</td>\n",
              "      <td>14445</td>\n",
              "      <td>CHEMBL4878985</td>\n",
              "      <td>Cc1ccccc1C(=O)CCn1ccnc1</td>\n",
              "      <td>21400.0</td>\n",
              "      <td>True</td>\n",
              "      <td>inactivo</td>\n",
              "    </tr>\n",
              "    <tr>\n",
              "      <th>7045</th>\n",
              "      <td>8708</td>\n",
              "      <td>14446</td>\n",
              "      <td>CHEMBL4853502</td>\n",
              "      <td>O=C(CCn1ccnc1)c1cccc([N+](=O)[O-])c1</td>\n",
              "      <td>21600.0</td>\n",
              "      <td>True</td>\n",
              "      <td>inactivo</td>\n",
              "    </tr>\n",
              "    <tr>\n",
              "      <th>7046</th>\n",
              "      <td>8709</td>\n",
              "      <td>14447</td>\n",
              "      <td>CHEMBL4854457</td>\n",
              "      <td>O=C(CCn1ccnc1)c1ccc(Cl)c(F)c1</td>\n",
              "      <td>23300.0</td>\n",
              "      <td>True</td>\n",
              "      <td>inactivo</td>\n",
              "    </tr>\n",
              "    <tr>\n",
              "      <th>7047</th>\n",
              "      <td>8711</td>\n",
              "      <td>14449</td>\n",
              "      <td>CHEMBL4863983</td>\n",
              "      <td>COc1cc(OC)cc(C(=O)CCn2cnc3ccccc32)c1</td>\n",
              "      <td>11100.0</td>\n",
              "      <td>True</td>\n",
              "      <td>inactivo</td>\n",
              "    </tr>\n",
              "    <tr>\n",
              "      <th>7048</th>\n",
              "      <td>8712</td>\n",
              "      <td>14450</td>\n",
              "      <td>CHEMBL4866134</td>\n",
              "      <td>O=C(CCn1cnc2ccccc21)C12CC3CC(CC(C3)C1)C2</td>\n",
              "      <td>24800.0</td>\n",
              "      <td>True</td>\n",
              "      <td>inactivo</td>\n",
              "    </tr>\n",
              "  </tbody>\n",
              "</table>\n",
              "<p>7049 rows × 7 columns</p>\n",
              "</div>"
            ],
            "text/plain": [
              "      level_0  index molecule_chembl_id   \n",
              "0           0      0       CHEMBL280463  \\\n",
              "1           1      2       CHEMBL110971   \n",
              "2           2      4       CHEMBL109374   \n",
              "3           3      6       CHEMBL109948   \n",
              "4           4      8       CHEMBL111392   \n",
              "...       ...    ...                ...   \n",
              "7044     8707  14445      CHEMBL4878985   \n",
              "7045     8708  14446      CHEMBL4853502   \n",
              "7046     8709  14447      CHEMBL4854457   \n",
              "7047     8711  14449      CHEMBL4863983   \n",
              "7048     8712  14450      CHEMBL4866134   \n",
              "\n",
              "                              canonical_smiles  standard_value  is_valid   \n",
              "0                   CCCCCC(P(=O)(O)O)P(=O)(O)O         70000.0      True  \\\n",
              "1             CCCCCCCCC(O)(P(=O)(O)O)P(=O)(O)O         70000.0      True   \n",
              "2             CCCC(P(=O)(OCC)OCC)P(=O)(OCC)OCC         70000.0      True   \n",
              "3         CCCCCCCC(P(=O)(OCC)OCC)P(=O)(OCC)OCC         50000.0      True   \n",
              "4               CCCCCCCCCC(P(=O)(O)O)P(=O)(O)O         70000.0      True   \n",
              "...                                        ...             ...       ...   \n",
              "7044                   Cc1ccccc1C(=O)CCn1ccnc1         21400.0      True   \n",
              "7045      O=C(CCn1ccnc1)c1cccc([N+](=O)[O-])c1         21600.0      True   \n",
              "7046             O=C(CCn1ccnc1)c1ccc(Cl)c(F)c1         23300.0      True   \n",
              "7047      COc1cc(OC)cc(C(=O)CCn2cnc3ccccc32)c1         11100.0      True   \n",
              "7048  O=C(CCn1cnc2ccccc21)C12CC3CC(CC(C3)C1)C2         24800.0      True   \n",
              "\n",
              "     valor_bioactividad  \n",
              "0              inactivo  \n",
              "1              inactivo  \n",
              "2              inactivo  \n",
              "3              inactivo  \n",
              "4              inactivo  \n",
              "...                 ...  \n",
              "7044           inactivo  \n",
              "7045           inactivo  \n",
              "7046           inactivo  \n",
              "7047           inactivo  \n",
              "7048           inactivo  \n",
              "\n",
              "[7049 rows x 7 columns]"
            ]
          },
          "execution_count": 19,
          "metadata": {},
          "output_type": "execute_result"
        }
      ],
      "source": [
        "import numpy as np\n",
        "\n",
        "df2_kdd['valor_bioactividad'] = ''\n",
        "df2_kdd['valor_bioactividad'] = np.where(df2_kdd['standard_value'] >= 10000, 'inactivo', np.where(df2_kdd['standard_value'] <= 1000, 'activo','NA' ))\n",
        "df2_kdd = df2_kdd[(df2_kdd.valor_bioactividad == 'activo') | (df2_kdd.valor_bioactividad == 'inactivo')]\n",
        "#reemplazar ceros con valor más pequeño\n",
        "df2_kdd['standard_value'] = df2_kdd['standard_value'].replace(0.0, 0.06)\n",
        "df2_kdd = df2_kdd.reset_index()\n",
        "df2_kdd\n",
        "#df4.drop(columns=['rango'])"
      ]
    },
    {
      "cell_type": "code",
      "execution_count": null,
      "metadata": {
        "id": "vrjbjpbPux4o"
      },
      "outputs": [],
      "source": [
        "#eliminar columna index y is_valid\n",
        "df2_kdd = df2_kdd.drop(columns=['index', 'is_valid'])"
      ]
    },
    {
      "cell_type": "code",
      "execution_count": null,
      "metadata": {
        "colab": {
          "base_uri": "https://localhost:8080/",
          "height": 424
        },
        "id": "V2cgU5vEux4o",
        "outputId": "701ffe8c-8224-40ee-a2c8-4149eec585b6"
      },
      "outputs": [
        {
          "data": {
            "text/html": [
              "<div>\n",
              "<style scoped>\n",
              "    .dataframe tbody tr th:only-of-type {\n",
              "        vertical-align: middle;\n",
              "    }\n",
              "\n",
              "    .dataframe tbody tr th {\n",
              "        vertical-align: top;\n",
              "    }\n",
              "\n",
              "    .dataframe thead th {\n",
              "        text-align: right;\n",
              "    }\n",
              "</style>\n",
              "<table border=\"1\" class=\"dataframe\">\n",
              "  <thead>\n",
              "    <tr style=\"text-align: right;\">\n",
              "      <th></th>\n",
              "      <th>level_0</th>\n",
              "      <th>molecule_chembl_id</th>\n",
              "      <th>canonical_smiles</th>\n",
              "      <th>standard_value</th>\n",
              "      <th>valor_bioactividad</th>\n",
              "    </tr>\n",
              "  </thead>\n",
              "  <tbody>\n",
              "    <tr>\n",
              "      <th>0</th>\n",
              "      <td>0</td>\n",
              "      <td>CHEMBL280463</td>\n",
              "      <td>CCCCCC(P(=O)(O)O)P(=O)(O)O</td>\n",
              "      <td>70000.0</td>\n",
              "      <td>inactivo</td>\n",
              "    </tr>\n",
              "    <tr>\n",
              "      <th>1</th>\n",
              "      <td>1</td>\n",
              "      <td>CHEMBL110971</td>\n",
              "      <td>CCCCCCCCC(O)(P(=O)(O)O)P(=O)(O)O</td>\n",
              "      <td>70000.0</td>\n",
              "      <td>inactivo</td>\n",
              "    </tr>\n",
              "    <tr>\n",
              "      <th>2</th>\n",
              "      <td>2</td>\n",
              "      <td>CHEMBL109374</td>\n",
              "      <td>CCCC(P(=O)(OCC)OCC)P(=O)(OCC)OCC</td>\n",
              "      <td>70000.0</td>\n",
              "      <td>inactivo</td>\n",
              "    </tr>\n",
              "    <tr>\n",
              "      <th>3</th>\n",
              "      <td>3</td>\n",
              "      <td>CHEMBL109948</td>\n",
              "      <td>CCCCCCCC(P(=O)(OCC)OCC)P(=O)(OCC)OCC</td>\n",
              "      <td>50000.0</td>\n",
              "      <td>inactivo</td>\n",
              "    </tr>\n",
              "    <tr>\n",
              "      <th>4</th>\n",
              "      <td>4</td>\n",
              "      <td>CHEMBL111392</td>\n",
              "      <td>CCCCCCCCCC(P(=O)(O)O)P(=O)(O)O</td>\n",
              "      <td>70000.0</td>\n",
              "      <td>inactivo</td>\n",
              "    </tr>\n",
              "    <tr>\n",
              "      <th>...</th>\n",
              "      <td>...</td>\n",
              "      <td>...</td>\n",
              "      <td>...</td>\n",
              "      <td>...</td>\n",
              "      <td>...</td>\n",
              "    </tr>\n",
              "    <tr>\n",
              "      <th>7044</th>\n",
              "      <td>8707</td>\n",
              "      <td>CHEMBL4878985</td>\n",
              "      <td>Cc1ccccc1C(=O)CCn1ccnc1</td>\n",
              "      <td>21400.0</td>\n",
              "      <td>inactivo</td>\n",
              "    </tr>\n",
              "    <tr>\n",
              "      <th>7045</th>\n",
              "      <td>8708</td>\n",
              "      <td>CHEMBL4853502</td>\n",
              "      <td>O=C(CCn1ccnc1)c1cccc([N+](=O)[O-])c1</td>\n",
              "      <td>21600.0</td>\n",
              "      <td>inactivo</td>\n",
              "    </tr>\n",
              "    <tr>\n",
              "      <th>7046</th>\n",
              "      <td>8709</td>\n",
              "      <td>CHEMBL4854457</td>\n",
              "      <td>O=C(CCn1ccnc1)c1ccc(Cl)c(F)c1</td>\n",
              "      <td>23300.0</td>\n",
              "      <td>inactivo</td>\n",
              "    </tr>\n",
              "    <tr>\n",
              "      <th>7047</th>\n",
              "      <td>8711</td>\n",
              "      <td>CHEMBL4863983</td>\n",
              "      <td>COc1cc(OC)cc(C(=O)CCn2cnc3ccccc32)c1</td>\n",
              "      <td>11100.0</td>\n",
              "      <td>inactivo</td>\n",
              "    </tr>\n",
              "    <tr>\n",
              "      <th>7048</th>\n",
              "      <td>8712</td>\n",
              "      <td>CHEMBL4866134</td>\n",
              "      <td>O=C(CCn1cnc2ccccc21)C12CC3CC(CC(C3)C1)C2</td>\n",
              "      <td>24800.0</td>\n",
              "      <td>inactivo</td>\n",
              "    </tr>\n",
              "  </tbody>\n",
              "</table>\n",
              "<p>7049 rows × 5 columns</p>\n",
              "</div>"
            ],
            "text/plain": [
              "      level_0 molecule_chembl_id                          canonical_smiles   \n",
              "0           0       CHEMBL280463                CCCCCC(P(=O)(O)O)P(=O)(O)O  \\\n",
              "1           1       CHEMBL110971          CCCCCCCCC(O)(P(=O)(O)O)P(=O)(O)O   \n",
              "2           2       CHEMBL109374          CCCC(P(=O)(OCC)OCC)P(=O)(OCC)OCC   \n",
              "3           3       CHEMBL109948      CCCCCCCC(P(=O)(OCC)OCC)P(=O)(OCC)OCC   \n",
              "4           4       CHEMBL111392            CCCCCCCCCC(P(=O)(O)O)P(=O)(O)O   \n",
              "...       ...                ...                                       ...   \n",
              "7044     8707      CHEMBL4878985                   Cc1ccccc1C(=O)CCn1ccnc1   \n",
              "7045     8708      CHEMBL4853502      O=C(CCn1ccnc1)c1cccc([N+](=O)[O-])c1   \n",
              "7046     8709      CHEMBL4854457             O=C(CCn1ccnc1)c1ccc(Cl)c(F)c1   \n",
              "7047     8711      CHEMBL4863983      COc1cc(OC)cc(C(=O)CCn2cnc3ccccc32)c1   \n",
              "7048     8712      CHEMBL4866134  O=C(CCn1cnc2ccccc21)C12CC3CC(CC(C3)C1)C2   \n",
              "\n",
              "      standard_value valor_bioactividad  \n",
              "0            70000.0           inactivo  \n",
              "1            70000.0           inactivo  \n",
              "2            70000.0           inactivo  \n",
              "3            50000.0           inactivo  \n",
              "4            70000.0           inactivo  \n",
              "...              ...                ...  \n",
              "7044         21400.0           inactivo  \n",
              "7045         21600.0           inactivo  \n",
              "7046         23300.0           inactivo  \n",
              "7047         11100.0           inactivo  \n",
              "7048         24800.0           inactivo  \n",
              "\n",
              "[7049 rows x 5 columns]"
            ]
          },
          "execution_count": 21,
          "metadata": {},
          "output_type": "execute_result"
        }
      ],
      "source": [
        "df2_kdd"
      ]
    },
    {
      "cell_type": "markdown",
      "metadata": {
        "id": "w_PKhFcnux4p"
      },
      "source": [
        "## PARTE 2: **Instalación de conda**"
      ]
    },
    {
      "cell_type": "code",
      "execution_count": null,
      "metadata": {
        "id": "KRp_STikux4p"
      },
      "outputs": [],
      "source": [
        "!wget https://repo.anaconda.com/miniconda/Miniconda3-py37_4.8.2-Linux-x86_64.sh\n",
        "!chmod +x Miniconda3-py37_4.8.2-Linux-x86_64.sh\n",
        "!bash ./Miniconda3-py37_4.8.2-Linux-x86_64.sh -b -f -p /usr/local\n",
        "!conda install -c rdkit rdkit -y\n",
        "import sys"
      ]
    },
    {
      "cell_type": "markdown",
      "metadata": {
        "id": "EAV2WJMKux4p"
      },
      "source": [
        "Eliminar columna *canonical_smiles* separando dos datasets"
      ]
    },
    {
      "cell_type": "code",
      "execution_count": null,
      "metadata": {
        "id": "5Y1GXtw0ux4p"
      },
      "outputs": [],
      "source": [
        "df_no_smiles = df2_kdd.drop(columns='canonical_smiles')\n",
        "\n",
        "smiles = []\n",
        "\n",
        "for i in df2_kdd.canonical_smiles.tolist():\n",
        "  cpd = str(i).split('.')\n",
        "  cpd_longest = max(cpd, key = len)\n",
        "  smiles.append(cpd_longest)\n",
        "\n",
        "smiles = pd.Series(smiles, name = 'canonical_smiles')"
      ]
    },
    {
      "cell_type": "code",
      "execution_count": null,
      "metadata": {
        "colab": {
          "base_uri": "https://localhost:8080/",
          "height": 424
        },
        "id": "7AZpxX3Fux4p",
        "outputId": "89245204-4188-451c-e1ba-0f07667b90f8"
      },
      "outputs": [
        {
          "data": {
            "text/html": [
              "<div>\n",
              "<style scoped>\n",
              "    .dataframe tbody tr th:only-of-type {\n",
              "        vertical-align: middle;\n",
              "    }\n",
              "\n",
              "    .dataframe tbody tr th {\n",
              "        vertical-align: top;\n",
              "    }\n",
              "\n",
              "    .dataframe thead th {\n",
              "        text-align: right;\n",
              "    }\n",
              "</style>\n",
              "<table border=\"1\" class=\"dataframe\">\n",
              "  <thead>\n",
              "    <tr style=\"text-align: right;\">\n",
              "      <th></th>\n",
              "      <th>level_0</th>\n",
              "      <th>molecule_chembl_id</th>\n",
              "      <th>standard_value</th>\n",
              "      <th>valor_bioactividad</th>\n",
              "      <th>canonical_smiles</th>\n",
              "    </tr>\n",
              "  </thead>\n",
              "  <tbody>\n",
              "    <tr>\n",
              "      <th>0</th>\n",
              "      <td>0</td>\n",
              "      <td>CHEMBL280463</td>\n",
              "      <td>70000.0</td>\n",
              "      <td>inactivo</td>\n",
              "      <td>CCCCCC(P(=O)(O)O)P(=O)(O)O</td>\n",
              "    </tr>\n",
              "    <tr>\n",
              "      <th>1</th>\n",
              "      <td>1</td>\n",
              "      <td>CHEMBL110971</td>\n",
              "      <td>70000.0</td>\n",
              "      <td>inactivo</td>\n",
              "      <td>CCCCCCCCC(O)(P(=O)(O)O)P(=O)(O)O</td>\n",
              "    </tr>\n",
              "    <tr>\n",
              "      <th>2</th>\n",
              "      <td>2</td>\n",
              "      <td>CHEMBL109374</td>\n",
              "      <td>70000.0</td>\n",
              "      <td>inactivo</td>\n",
              "      <td>CCCC(P(=O)(OCC)OCC)P(=O)(OCC)OCC</td>\n",
              "    </tr>\n",
              "    <tr>\n",
              "      <th>3</th>\n",
              "      <td>3</td>\n",
              "      <td>CHEMBL109948</td>\n",
              "      <td>50000.0</td>\n",
              "      <td>inactivo</td>\n",
              "      <td>CCCCCCCC(P(=O)(OCC)OCC)P(=O)(OCC)OCC</td>\n",
              "    </tr>\n",
              "    <tr>\n",
              "      <th>4</th>\n",
              "      <td>4</td>\n",
              "      <td>CHEMBL111392</td>\n",
              "      <td>70000.0</td>\n",
              "      <td>inactivo</td>\n",
              "      <td>CCCCCCCCCC(P(=O)(O)O)P(=O)(O)O</td>\n",
              "    </tr>\n",
              "    <tr>\n",
              "      <th>...</th>\n",
              "      <td>...</td>\n",
              "      <td>...</td>\n",
              "      <td>...</td>\n",
              "      <td>...</td>\n",
              "      <td>...</td>\n",
              "    </tr>\n",
              "    <tr>\n",
              "      <th>7044</th>\n",
              "      <td>8707</td>\n",
              "      <td>CHEMBL4878985</td>\n",
              "      <td>21400.0</td>\n",
              "      <td>inactivo</td>\n",
              "      <td>Cc1ccccc1C(=O)CCn1ccnc1</td>\n",
              "    </tr>\n",
              "    <tr>\n",
              "      <th>7045</th>\n",
              "      <td>8708</td>\n",
              "      <td>CHEMBL4853502</td>\n",
              "      <td>21600.0</td>\n",
              "      <td>inactivo</td>\n",
              "      <td>O=C(CCn1ccnc1)c1cccc([N+](=O)[O-])c1</td>\n",
              "    </tr>\n",
              "    <tr>\n",
              "      <th>7046</th>\n",
              "      <td>8709</td>\n",
              "      <td>CHEMBL4854457</td>\n",
              "      <td>23300.0</td>\n",
              "      <td>inactivo</td>\n",
              "      <td>O=C(CCn1ccnc1)c1ccc(Cl)c(F)c1</td>\n",
              "    </tr>\n",
              "    <tr>\n",
              "      <th>7047</th>\n",
              "      <td>8711</td>\n",
              "      <td>CHEMBL4863983</td>\n",
              "      <td>11100.0</td>\n",
              "      <td>inactivo</td>\n",
              "      <td>COc1cc(OC)cc(C(=O)CCn2cnc3ccccc32)c1</td>\n",
              "    </tr>\n",
              "    <tr>\n",
              "      <th>7048</th>\n",
              "      <td>8712</td>\n",
              "      <td>CHEMBL4866134</td>\n",
              "      <td>24800.0</td>\n",
              "      <td>inactivo</td>\n",
              "      <td>O=C(CCn1cnc2ccccc21)C12CC3CC(CC(C3)C1)C2</td>\n",
              "    </tr>\n",
              "  </tbody>\n",
              "</table>\n",
              "<p>7049 rows × 5 columns</p>\n",
              "</div>"
            ],
            "text/plain": [
              "      level_0 molecule_chembl_id  standard_value valor_bioactividad   \n",
              "0           0       CHEMBL280463         70000.0           inactivo  \\\n",
              "1           1       CHEMBL110971         70000.0           inactivo   \n",
              "2           2       CHEMBL109374         70000.0           inactivo   \n",
              "3           3       CHEMBL109948         50000.0           inactivo   \n",
              "4           4       CHEMBL111392         70000.0           inactivo   \n",
              "...       ...                ...             ...                ...   \n",
              "7044     8707      CHEMBL4878985         21400.0           inactivo   \n",
              "7045     8708      CHEMBL4853502         21600.0           inactivo   \n",
              "7046     8709      CHEMBL4854457         23300.0           inactivo   \n",
              "7047     8711      CHEMBL4863983         11100.0           inactivo   \n",
              "7048     8712      CHEMBL4866134         24800.0           inactivo   \n",
              "\n",
              "                              canonical_smiles  \n",
              "0                   CCCCCC(P(=O)(O)O)P(=O)(O)O  \n",
              "1             CCCCCCCCC(O)(P(=O)(O)O)P(=O)(O)O  \n",
              "2             CCCC(P(=O)(OCC)OCC)P(=O)(OCC)OCC  \n",
              "3         CCCCCCCC(P(=O)(OCC)OCC)P(=O)(OCC)OCC  \n",
              "4               CCCCCCCCCC(P(=O)(O)O)P(=O)(O)O  \n",
              "...                                        ...  \n",
              "7044                   Cc1ccccc1C(=O)CCn1ccnc1  \n",
              "7045      O=C(CCn1ccnc1)c1cccc([N+](=O)[O-])c1  \n",
              "7046             O=C(CCn1ccnc1)c1ccc(Cl)c(F)c1  \n",
              "7047      COc1cc(OC)cc(C(=O)CCn2cnc3ccccc32)c1  \n",
              "7048  O=C(CCn1cnc2ccccc21)C12CC3CC(CC(C3)C1)C2  \n",
              "\n",
              "[7049 rows x 5 columns]"
            ]
          },
          "execution_count": 23,
          "metadata": {},
          "output_type": "execute_result"
        }
      ],
      "source": [
        "# segundo dataframe\n",
        "df_clean_smiles = pd.concat([df_no_smiles, smiles], axis=1)\n",
        "df_clean_smiles"
      ]
    },
    {
      "cell_type": "markdown",
      "metadata": {
        "id": "dUcnZBVaux4p"
      },
      "source": [
        "## **Calcular descriptores de Lipinski**\n",
        "Christopher Lipinski, un científico de Pfizer, ideó un conjunto de reglas empíricas para evaluar la similitud de los compuestos con las drogas. Tal semejanza con las drogas se basa en la Absorción, Distribución, Metabolismo y Excreción (ADME), que también se conoce como perfil farmacocinético. Lipinski analizó todos los medicamentos activos por vía oral aprobados por la FDA en la formulación de lo que se conocerá como la regla de los cinco o la regla de Lipinski.\n",
        "\n",
        "La Regla de Lipinski establecía lo siguiente:\n",
        "\n",
        "Peso molecular < 500 Dalton\n",
        "Coeficiente de reparto octanol-agua (LogP) < 5\n",
        "Donantes de enlaces de hidrógeno < 5\n",
        "Aceptores de enlaces de hidrógeno < 10"
      ]
    },
    {
      "cell_type": "code",
      "execution_count": null,
      "metadata": {
        "id": "ssau0BvVux4p"
      },
      "outputs": [],
      "source": [
        "\"\"\"\n",
        "Lipinski:\n",
        "    Peso Molecular          <= 500\n",
        "    LogP                    <= 5\n",
        "    Donadores de Hidrógeno  <= 5\n",
        "    Aceptores de Hidrógeno  <= 10\n",
        "\"\"\"\n",
        "from rdkit import Chem\n",
        "from rdkit.Chem import Descriptors, Lipinski"
      ]
    },
    {
      "cell_type": "code",
      "execution_count": null,
      "metadata": {
        "colab": {
          "base_uri": "https://localhost:8080/",
          "height": 424
        },
        "id": "sKMjPh80ux4q",
        "outputId": "eb97aea3-f7d6-4613-8129-9f4a971de773"
      },
      "outputs": [
        {
          "data": {
            "text/html": [
              "<div>\n",
              "<style scoped>\n",
              "    .dataframe tbody tr th:only-of-type {\n",
              "        vertical-align: middle;\n",
              "    }\n",
              "\n",
              "    .dataframe tbody tr th {\n",
              "        vertical-align: top;\n",
              "    }\n",
              "\n",
              "    .dataframe thead th {\n",
              "        text-align: right;\n",
              "    }\n",
              "</style>\n",
              "<table border=\"1\" class=\"dataframe\">\n",
              "  <thead>\n",
              "    <tr style=\"text-align: right;\">\n",
              "      <th></th>\n",
              "      <th>Peso_Molecular</th>\n",
              "      <th>LogP</th>\n",
              "      <th>Num_Donadores_H</th>\n",
              "      <th>Num_Aceptores</th>\n",
              "    </tr>\n",
              "  </thead>\n",
              "  <tbody>\n",
              "    <tr>\n",
              "      <th>0</th>\n",
              "      <td>246.136</td>\n",
              "      <td>1.24820</td>\n",
              "      <td>4</td>\n",
              "      <td>2</td>\n",
              "    </tr>\n",
              "    <tr>\n",
              "      <th>1</th>\n",
              "      <td>304.216</td>\n",
              "      <td>1.73850</td>\n",
              "      <td>5</td>\n",
              "      <td>3</td>\n",
              "    </tr>\n",
              "    <tr>\n",
              "      <th>2</th>\n",
              "      <td>330.298</td>\n",
              "      <td>4.64480</td>\n",
              "      <td>0</td>\n",
              "      <td>6</td>\n",
              "    </tr>\n",
              "    <tr>\n",
              "      <th>3</th>\n",
              "      <td>386.406</td>\n",
              "      <td>6.20520</td>\n",
              "      <td>0</td>\n",
              "      <td>6</td>\n",
              "    </tr>\n",
              "    <tr>\n",
              "      <th>4</th>\n",
              "      <td>302.244</td>\n",
              "      <td>2.80860</td>\n",
              "      <td>4</td>\n",
              "      <td>2</td>\n",
              "    </tr>\n",
              "    <tr>\n",
              "      <th>...</th>\n",
              "      <td>...</td>\n",
              "      <td>...</td>\n",
              "      <td>...</td>\n",
              "      <td>...</td>\n",
              "    </tr>\n",
              "    <tr>\n",
              "      <th>7044</th>\n",
              "      <td>214.268</td>\n",
              "      <td>2.46452</td>\n",
              "      <td>0</td>\n",
              "      <td>3</td>\n",
              "    </tr>\n",
              "    <tr>\n",
              "      <th>7045</th>\n",
              "      <td>245.238</td>\n",
              "      <td>2.06430</td>\n",
              "      <td>0</td>\n",
              "      <td>5</td>\n",
              "    </tr>\n",
              "    <tr>\n",
              "      <th>7046</th>\n",
              "      <td>252.676</td>\n",
              "      <td>2.94860</td>\n",
              "      <td>0</td>\n",
              "      <td>3</td>\n",
              "    </tr>\n",
              "    <tr>\n",
              "      <th>7047</th>\n",
              "      <td>310.353</td>\n",
              "      <td>3.32650</td>\n",
              "      <td>0</td>\n",
              "      <td>5</td>\n",
              "    </tr>\n",
              "    <tr>\n",
              "      <th>7048</th>\n",
              "      <td>308.425</td>\n",
              "      <td>4.21190</td>\n",
              "      <td>0</td>\n",
              "      <td>3</td>\n",
              "    </tr>\n",
              "  </tbody>\n",
              "</table>\n",
              "<p>7049 rows × 4 columns</p>\n",
              "</div>"
            ],
            "text/plain": [
              "      Peso_Molecular     LogP  Num_Donadores_H  Num_Aceptores\n",
              "0            246.136  1.24820                4              2\n",
              "1            304.216  1.73850                5              3\n",
              "2            330.298  4.64480                0              6\n",
              "3            386.406  6.20520                0              6\n",
              "4            302.244  2.80860                4              2\n",
              "...              ...      ...              ...            ...\n",
              "7044         214.268  2.46452                0              3\n",
              "7045         245.238  2.06430                0              5\n",
              "7046         252.676  2.94860                0              3\n",
              "7047         310.353  3.32650                0              5\n",
              "7048         308.425  4.21190                0              3\n",
              "\n",
              "[7049 rows x 4 columns]"
            ]
          },
          "execution_count": 25,
          "metadata": {},
          "output_type": "execute_result"
        }
      ],
      "source": [
        "def lipinski(smiles, verbose=False):\n",
        "\n",
        "    moldata= []\n",
        "    for elem in smiles:\n",
        "        mol=Chem.MolFromSmiles(elem) \n",
        "        moldata.append(mol)\n",
        "       \n",
        "    baseData= np.arange(1,1)\n",
        "    i=0  \n",
        "    for mol in moldata:        \n",
        "       \n",
        "        desc_MolWt = Descriptors.MolWt(mol)\n",
        "        desc_MolLogP = Descriptors.MolLogP(mol)\n",
        "        desc_NumHDonors = Lipinski.NumHDonors(mol)\n",
        "        desc_NumHAcceptors = Lipinski.NumHAcceptors(mol)\n",
        "           \n",
        "        row = np.array([desc_MolWt,\n",
        "                        desc_MolLogP,\n",
        "                        desc_NumHDonors,\n",
        "                        desc_NumHAcceptors])   \n",
        "    \n",
        "        if(i==0):\n",
        "            baseData=row\n",
        "        else:\n",
        "            baseData=np.vstack([baseData, row])\n",
        "        i=i+1      \n",
        "    \n",
        "    columnNames=[\"Peso_Molecular\",\"LogP\",\"Num_Donadores_H\",\"Num_Aceptores\"]   \n",
        "    descriptors = pd.DataFrame(data=baseData,columns=columnNames)\n",
        "    \n",
        "    return descriptors\n",
        "\n",
        "df_lipinski = lipinski(df2_kdd.canonical_smiles)\n",
        "#convertir Num_Donadores_H y Num_Aceptores a enteros\n",
        "df_lipinski[['Num_Donadores_H', 'Num_Aceptores']] = df_lipinski[['Num_Donadores_H', 'Num_Aceptores']].astype(int)\n",
        "df_lipinski"
      ]
    },
    {
      "cell_type": "markdown",
      "metadata": {
        "id": "ClGmu-KOux4q"
      },
      "source": [
        "### **Unión de datasets**\n",
        "Se unen los datasets"
      ]
    },
    {
      "cell_type": "code",
      "execution_count": null,
      "metadata": {
        "colab": {
          "base_uri": "https://localhost:8080/",
          "height": 424
        },
        "id": "oDywGMl9ux4q",
        "outputId": "33bdccd4-53df-4c70-d1ec-05aeebf1db3b"
      },
      "outputs": [
        {
          "data": {
            "text/html": [
              "<div>\n",
              "<style scoped>\n",
              "    .dataframe tbody tr th:only-of-type {\n",
              "        vertical-align: middle;\n",
              "    }\n",
              "\n",
              "    .dataframe tbody tr th {\n",
              "        vertical-align: top;\n",
              "    }\n",
              "\n",
              "    .dataframe thead th {\n",
              "        text-align: right;\n",
              "    }\n",
              "</style>\n",
              "<table border=\"1\" class=\"dataframe\">\n",
              "  <thead>\n",
              "    <tr style=\"text-align: right;\">\n",
              "      <th></th>\n",
              "      <th>level_0</th>\n",
              "      <th>molecule_chembl_id</th>\n",
              "      <th>standard_value</th>\n",
              "      <th>valor_bioactividad</th>\n",
              "      <th>canonical_smiles</th>\n",
              "      <th>Peso_Molecular</th>\n",
              "      <th>LogP</th>\n",
              "      <th>Num_Donadores_H</th>\n",
              "      <th>Num_Aceptores</th>\n",
              "    </tr>\n",
              "  </thead>\n",
              "  <tbody>\n",
              "    <tr>\n",
              "      <th>0</th>\n",
              "      <td>0</td>\n",
              "      <td>CHEMBL280463</td>\n",
              "      <td>70000.0</td>\n",
              "      <td>inactivo</td>\n",
              "      <td>CCCCCC(P(=O)(O)O)P(=O)(O)O</td>\n",
              "      <td>246.136</td>\n",
              "      <td>1.24820</td>\n",
              "      <td>4</td>\n",
              "      <td>2</td>\n",
              "    </tr>\n",
              "    <tr>\n",
              "      <th>1</th>\n",
              "      <td>1</td>\n",
              "      <td>CHEMBL110971</td>\n",
              "      <td>70000.0</td>\n",
              "      <td>inactivo</td>\n",
              "      <td>CCCCCCCCC(O)(P(=O)(O)O)P(=O)(O)O</td>\n",
              "      <td>304.216</td>\n",
              "      <td>1.73850</td>\n",
              "      <td>5</td>\n",
              "      <td>3</td>\n",
              "    </tr>\n",
              "    <tr>\n",
              "      <th>2</th>\n",
              "      <td>2</td>\n",
              "      <td>CHEMBL109374</td>\n",
              "      <td>70000.0</td>\n",
              "      <td>inactivo</td>\n",
              "      <td>CCCC(P(=O)(OCC)OCC)P(=O)(OCC)OCC</td>\n",
              "      <td>330.298</td>\n",
              "      <td>4.64480</td>\n",
              "      <td>0</td>\n",
              "      <td>6</td>\n",
              "    </tr>\n",
              "    <tr>\n",
              "      <th>3</th>\n",
              "      <td>3</td>\n",
              "      <td>CHEMBL109948</td>\n",
              "      <td>50000.0</td>\n",
              "      <td>inactivo</td>\n",
              "      <td>CCCCCCCC(P(=O)(OCC)OCC)P(=O)(OCC)OCC</td>\n",
              "      <td>386.406</td>\n",
              "      <td>6.20520</td>\n",
              "      <td>0</td>\n",
              "      <td>6</td>\n",
              "    </tr>\n",
              "    <tr>\n",
              "      <th>4</th>\n",
              "      <td>4</td>\n",
              "      <td>CHEMBL111392</td>\n",
              "      <td>70000.0</td>\n",
              "      <td>inactivo</td>\n",
              "      <td>CCCCCCCCCC(P(=O)(O)O)P(=O)(O)O</td>\n",
              "      <td>302.244</td>\n",
              "      <td>2.80860</td>\n",
              "      <td>4</td>\n",
              "      <td>2</td>\n",
              "    </tr>\n",
              "    <tr>\n",
              "      <th>...</th>\n",
              "      <td>...</td>\n",
              "      <td>...</td>\n",
              "      <td>...</td>\n",
              "      <td>...</td>\n",
              "      <td>...</td>\n",
              "      <td>...</td>\n",
              "      <td>...</td>\n",
              "      <td>...</td>\n",
              "      <td>...</td>\n",
              "    </tr>\n",
              "    <tr>\n",
              "      <th>7044</th>\n",
              "      <td>8707</td>\n",
              "      <td>CHEMBL4878985</td>\n",
              "      <td>21400.0</td>\n",
              "      <td>inactivo</td>\n",
              "      <td>Cc1ccccc1C(=O)CCn1ccnc1</td>\n",
              "      <td>214.268</td>\n",
              "      <td>2.46452</td>\n",
              "      <td>0</td>\n",
              "      <td>3</td>\n",
              "    </tr>\n",
              "    <tr>\n",
              "      <th>7045</th>\n",
              "      <td>8708</td>\n",
              "      <td>CHEMBL4853502</td>\n",
              "      <td>21600.0</td>\n",
              "      <td>inactivo</td>\n",
              "      <td>O=C(CCn1ccnc1)c1cccc([N+](=O)[O-])c1</td>\n",
              "      <td>245.238</td>\n",
              "      <td>2.06430</td>\n",
              "      <td>0</td>\n",
              "      <td>5</td>\n",
              "    </tr>\n",
              "    <tr>\n",
              "      <th>7046</th>\n",
              "      <td>8709</td>\n",
              "      <td>CHEMBL4854457</td>\n",
              "      <td>23300.0</td>\n",
              "      <td>inactivo</td>\n",
              "      <td>O=C(CCn1ccnc1)c1ccc(Cl)c(F)c1</td>\n",
              "      <td>252.676</td>\n",
              "      <td>2.94860</td>\n",
              "      <td>0</td>\n",
              "      <td>3</td>\n",
              "    </tr>\n",
              "    <tr>\n",
              "      <th>7047</th>\n",
              "      <td>8711</td>\n",
              "      <td>CHEMBL4863983</td>\n",
              "      <td>11100.0</td>\n",
              "      <td>inactivo</td>\n",
              "      <td>COc1cc(OC)cc(C(=O)CCn2cnc3ccccc32)c1</td>\n",
              "      <td>310.353</td>\n",
              "      <td>3.32650</td>\n",
              "      <td>0</td>\n",
              "      <td>5</td>\n",
              "    </tr>\n",
              "    <tr>\n",
              "      <th>7048</th>\n",
              "      <td>8712</td>\n",
              "      <td>CHEMBL4866134</td>\n",
              "      <td>24800.0</td>\n",
              "      <td>inactivo</td>\n",
              "      <td>O=C(CCn1cnc2ccccc21)C12CC3CC(CC(C3)C1)C2</td>\n",
              "      <td>308.425</td>\n",
              "      <td>4.21190</td>\n",
              "      <td>0</td>\n",
              "      <td>3</td>\n",
              "    </tr>\n",
              "  </tbody>\n",
              "</table>\n",
              "<p>7049 rows × 9 columns</p>\n",
              "</div>"
            ],
            "text/plain": [
              "      level_0 molecule_chembl_id  standard_value valor_bioactividad   \n",
              "0           0       CHEMBL280463         70000.0           inactivo  \\\n",
              "1           1       CHEMBL110971         70000.0           inactivo   \n",
              "2           2       CHEMBL109374         70000.0           inactivo   \n",
              "3           3       CHEMBL109948         50000.0           inactivo   \n",
              "4           4       CHEMBL111392         70000.0           inactivo   \n",
              "...       ...                ...             ...                ...   \n",
              "7044     8707      CHEMBL4878985         21400.0           inactivo   \n",
              "7045     8708      CHEMBL4853502         21600.0           inactivo   \n",
              "7046     8709      CHEMBL4854457         23300.0           inactivo   \n",
              "7047     8711      CHEMBL4863983         11100.0           inactivo   \n",
              "7048     8712      CHEMBL4866134         24800.0           inactivo   \n",
              "\n",
              "                              canonical_smiles  Peso_Molecular     LogP   \n",
              "0                   CCCCCC(P(=O)(O)O)P(=O)(O)O         246.136  1.24820  \\\n",
              "1             CCCCCCCCC(O)(P(=O)(O)O)P(=O)(O)O         304.216  1.73850   \n",
              "2             CCCC(P(=O)(OCC)OCC)P(=O)(OCC)OCC         330.298  4.64480   \n",
              "3         CCCCCCCC(P(=O)(OCC)OCC)P(=O)(OCC)OCC         386.406  6.20520   \n",
              "4               CCCCCCCCCC(P(=O)(O)O)P(=O)(O)O         302.244  2.80860   \n",
              "...                                        ...             ...      ...   \n",
              "7044                   Cc1ccccc1C(=O)CCn1ccnc1         214.268  2.46452   \n",
              "7045      O=C(CCn1ccnc1)c1cccc([N+](=O)[O-])c1         245.238  2.06430   \n",
              "7046             O=C(CCn1ccnc1)c1ccc(Cl)c(F)c1         252.676  2.94860   \n",
              "7047      COc1cc(OC)cc(C(=O)CCn2cnc3ccccc32)c1         310.353  3.32650   \n",
              "7048  O=C(CCn1cnc2ccccc21)C12CC3CC(CC(C3)C1)C2         308.425  4.21190   \n",
              "\n",
              "      Num_Donadores_H  Num_Aceptores  \n",
              "0                   4              2  \n",
              "1                   5              3  \n",
              "2                   0              6  \n",
              "3                   0              6  \n",
              "4                   4              2  \n",
              "...               ...            ...  \n",
              "7044                0              3  \n",
              "7045                0              5  \n",
              "7046                0              3  \n",
              "7047                0              5  \n",
              "7048                0              3  \n",
              "\n",
              "[7049 rows x 9 columns]"
            ]
          },
          "execution_count": 35,
          "metadata": {},
          "output_type": "execute_result"
        }
      ],
      "source": [
        "df_combined = pd.concat([df_clean_smiles ,df_lipinski], axis=1)\n",
        "df_combined"
      ]
    },
    {
      "cell_type": "markdown",
      "metadata": {
        "id": "0fCah9Zuux4q"
      },
      "source": [
        "### **Convertir IC50 a pIC50**\n",
        "Para permitir que los datos de **IC50** se distribuyan de manera más uniforme, convertiremos **IC50** a la escala logarítmica negativa que es esencialmente **-log10(IC50)**.\n",
        "\n",
        "Esta función pIC50() recibe el dataset como parámetro de entrada.\n",
        "* Toma el valor de IC50 desde la columna ``standard_value`` y la convierte desde nM a M y luego multiplica el valor por 10$^{-9}$\n",
        "* Toma el valor molar y luego aplica el -log10\n",
        "* Se borra la columna ``standard_value`` y se reemplaza por la columna ``pIC50``"
      ]
    },
    {
      "cell_type": "code",
      "execution_count": null,
      "metadata": {
        "colab": {
          "base_uri": "https://localhost:8080/"
        },
        "id": "JBW2EZkWux4q",
        "outputId": "d2d7f2c7-cf82-4044-9ae4-6fbee7e24322"
      },
      "outputs": [
        {
          "data": {
            "text/plain": [
              "count    7.049000e+03\n",
              "mean     8.031167e+04\n",
              "std      4.356837e+05\n",
              "min      5.700000e-02\n",
              "25%      1.000000e+02\n",
              "50%      1.510000e+04\n",
              "75%      5.011872e+04\n",
              "max      1.740700e+07\n",
              "Name: standard_value, dtype: float64"
            ]
          },
          "execution_count": 37,
          "metadata": {},
          "output_type": "execute_result"
        }
      ],
      "source": [
        "df_combined.standard_value.describe()"
      ]
    },
    {
      "cell_type": "code",
      "execution_count": null,
      "metadata": {
        "colab": {
          "base_uri": "https://localhost:8080/"
        },
        "id": "44p_LOM8ux4r",
        "outputId": "7bad74ea-dd98-4fe4-e928-cfbf4d108698"
      },
      "outputs": [
        {
          "data": {
            "text/plain": [
              "1.0"
            ]
          },
          "execution_count": 38,
          "metadata": {},
          "output_type": "execute_result"
        }
      ],
      "source": [
        "#Los valores superiores a 100 000 000 se fijarán en 100 000 000; de lo contrario, el valor logarítmico negativo se volverá negativo.\n",
        "-np.log10( (10**-9)* 100000000 )\n",
        "-np.log10( (10**-9)* 100000000 )"
      ]
    },
    {
      "cell_type": "code",
      "execution_count": null,
      "metadata": {
        "colab": {
          "base_uri": "https://localhost:8080/",
          "height": 458
        },
        "id": "shi-lXg0ux4r",
        "outputId": "5fad6786-f721-4242-eec7-32f268949baa"
      },
      "outputs": [
        {
          "ename": "<class 'TypeError'>",
          "evalue": "DataFrame.drop() takes from 1 to 2 positional arguments but 3 were given",
          "output_type": "error",
          "traceback": [
            "\u001b[1;31m---------------------------------------------------------------------------\u001b[0m",
            "\u001b[1;31mTypeError\u001b[0m                                 Traceback (most recent call last)",
            "\u001b[1;32mC:/Users/LEGION/AppData/Local/Temp/xpython_17204/1281643312.py\u001b[0m in \u001b[0;36m<module>\u001b[1;34m\u001b[0m\n\u001b[0;32m     12\u001b[0m     \u001b[1;32mreturn\u001b[0m \u001b[0mx\u001b[0m\u001b[1;33m\u001b[0m\u001b[1;33m\u001b[0m\u001b[0m\n\u001b[0;32m     13\u001b[0m \u001b[1;33m\u001b[0m\u001b[0m\n\u001b[1;32m---> 14\u001b[1;33m \u001b[0mdf_pic50\u001b[0m \u001b[1;33m=\u001b[0m \u001b[0mnormalizar_pic50\u001b[0m\u001b[1;33m(\u001b[0m\u001b[0mdf_combined\u001b[0m\u001b[1;33m)\u001b[0m\u001b[1;33m\u001b[0m\u001b[1;33m\u001b[0m\u001b[0m\n\u001b[0m\u001b[0;32m     15\u001b[0m \u001b[0mdf_pic50\u001b[0m\u001b[1;33m\u001b[0m\u001b[1;33m\u001b[0m\u001b[0m\n",
            "\u001b[1;32mC:/Users/LEGION/AppData/Local/Temp/xpython_17204/1281643312.py\u001b[0m in \u001b[0;36mnormalizar_pic50\u001b[1;34m(input)\u001b[0m\n\u001b[0;32m      8\u001b[0m \u001b[1;33m\u001b[0m\u001b[0m\n\u001b[0;32m      9\u001b[0m     \u001b[0minput\u001b[0m\u001b[1;33m[\u001b[0m\u001b[1;34m'standard_value_pic50'\u001b[0m\u001b[1;33m]\u001b[0m \u001b[1;33m=\u001b[0m \u001b[0mnorm\u001b[0m\u001b[1;33m\u001b[0m\u001b[1;33m\u001b[0m\u001b[0m\n\u001b[1;32m---> 10\u001b[1;33m     \u001b[0mx\u001b[0m \u001b[1;33m=\u001b[0m \u001b[0minput\u001b[0m\u001b[1;33m.\u001b[0m\u001b[0mdrop\u001b[0m\u001b[1;33m(\u001b[0m\u001b[1;34m'standard_value'\u001b[0m\u001b[1;33m,\u001b[0m \u001b[1;36m1\u001b[0m\u001b[1;33m)\u001b[0m\u001b[1;33m\u001b[0m\u001b[1;33m\u001b[0m\u001b[0m\n\u001b[0m\u001b[0;32m     11\u001b[0m \u001b[1;33m\u001b[0m\u001b[0m\n\u001b[0;32m     12\u001b[0m     \u001b[1;32mreturn\u001b[0m \u001b[0mx\u001b[0m\u001b[1;33m\u001b[0m\u001b[1;33m\u001b[0m\u001b[0m\n",
            "\u001b[1;31mTypeError\u001b[0m: DataFrame.drop() takes from 1 to 2 positional arguments but 3 were given"
          ]
        }
      ],
      "source": [
        "def normalizar_pic50(input):\n",
        "    norm = []\n",
        "\n",
        "    for i in input['standard_value']:\n",
        "        if i > 100000000:\n",
        "          i = 100000000\n",
        "        norm.append(i)\n",
        "\n",
        "    input['standard_value_pic50'] = norm\n",
        "    x = input.drop('standard_value', 1)\n",
        "        \n",
        "    return x\n",
        "\n",
        "df_pic50 = normalizar_pic50(df_combined)\n",
        "df_pic50"
      ]
    },
    {
      "cell_type": "code",
      "execution_count": null,
      "metadata": {
        "colab": {
          "base_uri": "https://localhost:8080/",
          "height": 458
        },
        "id": "rwXvfS5mux4r",
        "outputId": "7fef9d9b-c2ed-421f-f3d0-c8ad2a0e16c7"
      },
      "outputs": [
        {
          "ename": "<class 'NameError'>",
          "evalue": "name 'df_pic50' is not defined",
          "output_type": "error",
          "traceback": [
            "\u001b[1;31m---------------------------------------------------------------------------\u001b[0m",
            "\u001b[1;31mNameError\u001b[0m                                 Traceback (most recent call last)",
            "\u001b[1;32mC:/Users/LEGION/AppData/Local/Temp/xpython_17204/2332215321.py\u001b[0m in \u001b[0;36m<module>\u001b[1;34m\u001b[0m\n\u001b[0;32m     11\u001b[0m     \u001b[1;32mreturn\u001b[0m \u001b[0mx\u001b[0m\u001b[1;33m\u001b[0m\u001b[1;33m\u001b[0m\u001b[0m\n\u001b[0;32m     12\u001b[0m \u001b[1;33m\u001b[0m\u001b[0m\n\u001b[1;32m---> 13\u001b[1;33m \u001b[0mdf_final\u001b[0m \u001b[1;33m=\u001b[0m \u001b[0mpIC50\u001b[0m\u001b[1;33m(\u001b[0m\u001b[0mdf_pic50\u001b[0m\u001b[1;33m)\u001b[0m\u001b[1;33m\u001b[0m\u001b[1;33m\u001b[0m\u001b[0m\n\u001b[0m\u001b[0;32m     14\u001b[0m \u001b[0mdf_final\u001b[0m\u001b[1;33m\u001b[0m\u001b[1;33m\u001b[0m\u001b[0m\n",
            "\u001b[1;31mNameError\u001b[0m: name 'df_pic50' is not defined"
          ]
        }
      ],
      "source": [
        "def pIC50(input):\n",
        "    pIC50 = []\n",
        "\n",
        "    for i in input['standard_value_pic50']:\n",
        "        molar = i*(10**-9)\n",
        "        pIC50.append(-np.log10(molar))\n",
        "\n",
        "    input['pIC50'] = pIC50\n",
        "    x = input.drop('standard_value_pic50', 1)\n",
        "        \n",
        "    return x\n",
        "\n",
        "df_final = pIC50(df_pic50)\n",
        "df_final"
      ]
    },
    {
      "cell_type": "code",
      "execution_count": null,
      "metadata": {
        "id": "q1fXcqvuux4r"
      },
      "outputs": [],
      "source": [
        "#df_final.to_csv('chagas_04_bioactivity_data_3class_pIC50.csv')\n",
        "\n",
        "df_final = pd.read_csv('chagas_04_bioactivity_data_3class_pIC50.csv')"
      ]
    },
    {
      "cell_type": "markdown",
      "metadata": {
        "id": "LxrzQAWZux4s"
      },
      "source": [
        "### **Eliminar valores NaN de la columna valor_bioactividad**\n",
        "Aquí, eliminaremos el valor ``NaN`` de nuestro conjunto de datos."
      ]
    },
    {
      "cell_type": "code",
      "execution_count": null,
      "metadata": {
        "id": "LuU1SPPYux4s",
        "outputId": "fcd29241-b861-41e4-b523-325585e17b6f"
      },
      "outputs": [
        {
          "data": {
            "text/html": [
              "<div>\n",
              "<style scoped>\n",
              "    .dataframe tbody tr th:only-of-type {\n",
              "        vertical-align: middle;\n",
              "    }\n",
              "\n",
              "    .dataframe tbody tr th {\n",
              "        vertical-align: top;\n",
              "    }\n",
              "\n",
              "    .dataframe thead th {\n",
              "        text-align: right;\n",
              "    }\n",
              "</style>\n",
              "<table border=\"1\" class=\"dataframe\">\n",
              "  <thead>\n",
              "    <tr style=\"text-align: right;\">\n",
              "      <th></th>\n",
              "      <th>Unnamed: 0</th>\n",
              "      <th>molecule_chembl_id</th>\n",
              "      <th>valor_bioactividad</th>\n",
              "      <th>canonical_smiles</th>\n",
              "      <th>Peso_Molecular</th>\n",
              "      <th>LogP</th>\n",
              "      <th>Num_Donadores_H</th>\n",
              "      <th>Num_Aceptores</th>\n",
              "      <th>pIC50</th>\n",
              "    </tr>\n",
              "  </thead>\n",
              "  <tbody>\n",
              "    <tr>\n",
              "      <th>0</th>\n",
              "      <td>0</td>\n",
              "      <td>CHEMBL280463</td>\n",
              "      <td>inactivo</td>\n",
              "      <td>CCCCCC(P(=O)(O)O)P(=O)(O)O</td>\n",
              "      <td>246.136</td>\n",
              "      <td>1.24820</td>\n",
              "      <td>4</td>\n",
              "      <td>2</td>\n",
              "      <td>4.154902</td>\n",
              "    </tr>\n",
              "    <tr>\n",
              "      <th>1</th>\n",
              "      <td>1</td>\n",
              "      <td>CHEMBL110971</td>\n",
              "      <td>inactivo</td>\n",
              "      <td>CCCCCCCCC(O)(P(=O)(O)O)P(=O)(O)O</td>\n",
              "      <td>304.216</td>\n",
              "      <td>1.73850</td>\n",
              "      <td>5</td>\n",
              "      <td>3</td>\n",
              "      <td>4.154902</td>\n",
              "    </tr>\n",
              "    <tr>\n",
              "      <th>2</th>\n",
              "      <td>2</td>\n",
              "      <td>CHEMBL109374</td>\n",
              "      <td>inactivo</td>\n",
              "      <td>CCCC(P(=O)(OCC)OCC)P(=O)(OCC)OCC</td>\n",
              "      <td>330.298</td>\n",
              "      <td>4.64480</td>\n",
              "      <td>0</td>\n",
              "      <td>6</td>\n",
              "      <td>4.154902</td>\n",
              "    </tr>\n",
              "    <tr>\n",
              "      <th>3</th>\n",
              "      <td>3</td>\n",
              "      <td>CHEMBL109948</td>\n",
              "      <td>inactivo</td>\n",
              "      <td>CCCCCCCC(P(=O)(OCC)OCC)P(=O)(OCC)OCC</td>\n",
              "      <td>386.406</td>\n",
              "      <td>6.20520</td>\n",
              "      <td>0</td>\n",
              "      <td>6</td>\n",
              "      <td>4.301030</td>\n",
              "    </tr>\n",
              "    <tr>\n",
              "      <th>4</th>\n",
              "      <td>4</td>\n",
              "      <td>CHEMBL111392</td>\n",
              "      <td>inactivo</td>\n",
              "      <td>CCCCCCCCCC(P(=O)(O)O)P(=O)(O)O</td>\n",
              "      <td>302.244</td>\n",
              "      <td>2.80860</td>\n",
              "      <td>4</td>\n",
              "      <td>2</td>\n",
              "      <td>4.154902</td>\n",
              "    </tr>\n",
              "    <tr>\n",
              "      <th>...</th>\n",
              "      <td>...</td>\n",
              "      <td>...</td>\n",
              "      <td>...</td>\n",
              "      <td>...</td>\n",
              "      <td>...</td>\n",
              "      <td>...</td>\n",
              "      <td>...</td>\n",
              "      <td>...</td>\n",
              "      <td>...</td>\n",
              "    </tr>\n",
              "    <tr>\n",
              "      <th>7044</th>\n",
              "      <td>7044</td>\n",
              "      <td>CHEMBL4878985</td>\n",
              "      <td>inactivo</td>\n",
              "      <td>Cc1ccccc1C(=O)CCn1ccnc1</td>\n",
              "      <td>214.268</td>\n",
              "      <td>2.46452</td>\n",
              "      <td>0</td>\n",
              "      <td>3</td>\n",
              "      <td>4.669586</td>\n",
              "    </tr>\n",
              "    <tr>\n",
              "      <th>7045</th>\n",
              "      <td>7045</td>\n",
              "      <td>CHEMBL4853502</td>\n",
              "      <td>inactivo</td>\n",
              "      <td>O=C(CCn1ccnc1)c1cccc([N+](=O)[O-])c1</td>\n",
              "      <td>245.238</td>\n",
              "      <td>2.06430</td>\n",
              "      <td>0</td>\n",
              "      <td>5</td>\n",
              "      <td>4.665546</td>\n",
              "    </tr>\n",
              "    <tr>\n",
              "      <th>7046</th>\n",
              "      <td>7046</td>\n",
              "      <td>CHEMBL4854457</td>\n",
              "      <td>inactivo</td>\n",
              "      <td>O=C(CCn1ccnc1)c1ccc(Cl)c(F)c1</td>\n",
              "      <td>252.676</td>\n",
              "      <td>2.94860</td>\n",
              "      <td>0</td>\n",
              "      <td>3</td>\n",
              "      <td>4.632644</td>\n",
              "    </tr>\n",
              "    <tr>\n",
              "      <th>7047</th>\n",
              "      <td>7047</td>\n",
              "      <td>CHEMBL4863983</td>\n",
              "      <td>inactivo</td>\n",
              "      <td>COc1cc(OC)cc(C(=O)CCn2cnc3ccccc32)c1</td>\n",
              "      <td>310.353</td>\n",
              "      <td>3.32650</td>\n",
              "      <td>0</td>\n",
              "      <td>5</td>\n",
              "      <td>4.954677</td>\n",
              "    </tr>\n",
              "    <tr>\n",
              "      <th>7048</th>\n",
              "      <td>7048</td>\n",
              "      <td>CHEMBL4866134</td>\n",
              "      <td>inactivo</td>\n",
              "      <td>O=C(CCn1cnc2ccccc21)C12CC3CC(CC(C3)C1)C2</td>\n",
              "      <td>308.425</td>\n",
              "      <td>4.21190</td>\n",
              "      <td>0</td>\n",
              "      <td>3</td>\n",
              "      <td>4.605548</td>\n",
              "    </tr>\n",
              "  </tbody>\n",
              "</table>\n",
              "<p>7049 rows × 9 columns</p>\n",
              "</div>"
            ],
            "text/plain": [
              "      Unnamed: 0 molecule_chembl_id valor_bioactividad   \n",
              "0              0       CHEMBL280463           inactivo  \\\n",
              "1              1       CHEMBL110971           inactivo   \n",
              "2              2       CHEMBL109374           inactivo   \n",
              "3              3       CHEMBL109948           inactivo   \n",
              "4              4       CHEMBL111392           inactivo   \n",
              "...          ...                ...                ...   \n",
              "7044        7044      CHEMBL4878985           inactivo   \n",
              "7045        7045      CHEMBL4853502           inactivo   \n",
              "7046        7046      CHEMBL4854457           inactivo   \n",
              "7047        7047      CHEMBL4863983           inactivo   \n",
              "7048        7048      CHEMBL4866134           inactivo   \n",
              "\n",
              "                              canonical_smiles  Peso_Molecular     LogP   \n",
              "0                   CCCCCC(P(=O)(O)O)P(=O)(O)O         246.136  1.24820  \\\n",
              "1             CCCCCCCCC(O)(P(=O)(O)O)P(=O)(O)O         304.216  1.73850   \n",
              "2             CCCC(P(=O)(OCC)OCC)P(=O)(OCC)OCC         330.298  4.64480   \n",
              "3         CCCCCCCC(P(=O)(OCC)OCC)P(=O)(OCC)OCC         386.406  6.20520   \n",
              "4               CCCCCCCCCC(P(=O)(O)O)P(=O)(O)O         302.244  2.80860   \n",
              "...                                        ...             ...      ...   \n",
              "7044                   Cc1ccccc1C(=O)CCn1ccnc1         214.268  2.46452   \n",
              "7045      O=C(CCn1ccnc1)c1cccc([N+](=O)[O-])c1         245.238  2.06430   \n",
              "7046             O=C(CCn1ccnc1)c1ccc(Cl)c(F)c1         252.676  2.94860   \n",
              "7047      COc1cc(OC)cc(C(=O)CCn2cnc3ccccc32)c1         310.353  3.32650   \n",
              "7048  O=C(CCn1cnc2ccccc21)C12CC3CC(CC(C3)C1)C2         308.425  4.21190   \n",
              "\n",
              "      Num_Donadores_H  Num_Aceptores     pIC50  \n",
              "0                   4              2  4.154902  \n",
              "1                   5              3  4.154902  \n",
              "2                   0              6  4.154902  \n",
              "3                   0              6  4.301030  \n",
              "4                   4              2  4.154902  \n",
              "...               ...            ...       ...  \n",
              "7044                0              3  4.669586  \n",
              "7045                0              5  4.665546  \n",
              "7046                0              3  4.632644  \n",
              "7047                0              5  4.954677  \n",
              "7048                0              3  4.605548  \n",
              "\n",
              "[7049 rows x 9 columns]"
            ]
          },
          "execution_count": 41,
          "metadata": {},
          "output_type": "execute_result"
        }
      ],
      "source": [
        "df2 = df_final.dropna()\n",
        "df2.reset_index()\n",
        "df2\n",
        "#df2.to_csv('chagas_05_bioactivity_data_2class_pIC50.csv')"
      ]
    },
    {
      "cell_type": "code",
      "execution_count": null,
      "metadata": {
        "id": "fQK5Lh4Hux4s"
      },
      "outputs": [],
      "source": [
        "#leer csv\n",
        "import pandas as pd\n",
        "from pandas import read_csv\n",
        "#df2 = read_csv('chagas_05_bioactivity_data_2class_pIC50.csv', sep=',')"
      ]
    },
    {
      "cell_type": "markdown",
      "metadata": {
        "id": "hg9D-97yux4s"
      },
      "source": [
        "## **Análisis de datos exploratorios (Análisis del espacio químico) a través del descriptor de Lipinski**"
      ]
    },
    {
      "cell_type": "code",
      "execution_count": null,
      "metadata": {
        "id": "bdQkLsZdux4s"
      },
      "outputs": [],
      "source": [
        "import seaborn as sns\n",
        "sns.set(style='ticks')\n",
        "import matplotlib.pyplot as plt\n",
        "\n",
        "\n",
        "### **Diagrama de frecuencias para las dos categorías**\n",
        "#dibujar grafica .png\n",
        "plt.figure(figsize=(6, 6))\n",
        "#calbiar colores de barras a morado y amarillo\n",
        "sns.countplot(x='valor_bioactividad', data=df2, edgecolor='blue') #facecolor='blue'\n",
        "#sns.countplot(x='valor_bioactividad', data=df2, palette = 'hls', edgecolor = 'black')\n",
        "plt.xlabel('Categorías_Bioactividad', fontsize=14, fontweight='bold')\n",
        "plt.ylabel('Frecuencia', fontsize=14, fontweight='bold')\n",
        "#cambiar colores de la grafica\n",
        "sns.set_palette(\"pastel\")"
      ]
    },
    {
      "cell_type": "code",
      "execution_count": null,
      "metadata": {
        "colab": {
          "base_uri": "https://localhost:8080/",
          "height": 516
        },
        "id": "GcVvFAwTux4s",
        "outputId": "b4b25fb0-dd3e-48d9-e04c-193398807709"
      },
      "outputs": [
        {
          "data": {
            "text/plain": [
              "Text(0, 0.5, 'Categorías_Bioactividad')"
            ]
          },
          "execution_count": 47,
          "metadata": {},
          "output_type": "execute_result"
        }
      ],
      "source": [
        "#Se construye un pie chart para visualizar la distribución de las dos clases\n",
        "plt.figure(figsize=(6,6))\n",
        "#se cambia el color de las barras a morado y amarillo\n",
        "sns.set_palette(\"pastel\")\n",
        "#se dibuja el pie chart\n",
        "df2.valor_bioactividad.value_counts().plot.pie(autopct='%1.1f%%', shadow=False, explode=(0.0,0), startangle=90)\n",
        "#rotar el pie chart 10 grados\n",
        "plt.xticks(rotation=90)\n",
        "#contorno de la grafica azul\n",
        "plt.rcParams['patch.edgecolor'] = 'blue'\n",
        "plt.ylabel('Categorías_Bioactividad', fontsize=14, fontweight='bold')\n",
        "# plt.savefig('pie_chart_categorias_bioactividad.png')\n",
        "# #guardar pie chart .png\n",
        "# Image(filename='pie_chart_categorias_bioactividad.png')"
      ]
    },
    {
      "cell_type": "code",
      "execution_count": null,
      "metadata": {
        "id": "uMBt5v_mk96v",
        "outputId": "a8b18a08-86f0-4111-827f-ebeed49a9e4a"
      },
      "outputs": [
        {
          "data": {
            "text/html": [
              "<div>\n",
              "<style scoped>\n",
              "    .dataframe tbody tr th:only-of-type {\n",
              "        vertical-align: middle;\n",
              "    }\n",
              "\n",
              "    .dataframe tbody tr th {\n",
              "        vertical-align: top;\n",
              "    }\n",
              "\n",
              "    .dataframe thead th {\n",
              "        text-align: right;\n",
              "    }\n",
              "</style>\n",
              "<table border=\"1\" class=\"dataframe\">\n",
              "  <thead>\n",
              "    <tr style=\"text-align: right;\">\n",
              "      <th></th>\n",
              "      <th>molecule_chembl_id</th>\n",
              "      <th>valor_bioactividad</th>\n",
              "      <th>canonical_smiles</th>\n",
              "      <th>Peso_Molecular</th>\n",
              "      <th>LogP</th>\n",
              "      <th>Num_Donadores_H</th>\n",
              "      <th>Num_Aceptores</th>\n",
              "      <th>pIC50</th>\n",
              "    </tr>\n",
              "  </thead>\n",
              "  <tbody>\n",
              "    <tr>\n",
              "      <th>0</th>\n",
              "      <td>CHEMBL1836005</td>\n",
              "      <td>activo</td>\n",
              "      <td>O=[N+]([O-])c1cn2c(n1)OCC(Oc1ccc(OC(F)(F)F)cc1)C2</td>\n",
              "      <td>345.233</td>\n",
              "      <td>2.52990</td>\n",
              "      <td>0</td>\n",
              "      <td>7</td>\n",
              "      <td>6.408935</td>\n",
              "    </tr>\n",
              "    <tr>\n",
              "      <th>1</th>\n",
              "      <td>CHEMBL4074666</td>\n",
              "      <td>activo</td>\n",
              "      <td>CC1(COc2ccc(-c3ccc(OC(F)(F)F)cc3)cc2)Cn2cc([N+...</td>\n",
              "      <td>451.426</td>\n",
              "      <td>5.30030</td>\n",
              "      <td>0</td>\n",
              "      <td>7</td>\n",
              "      <td>7.070581</td>\n",
              "    </tr>\n",
              "    <tr>\n",
              "      <th>2</th>\n",
              "      <td>CHEMBL1725748</td>\n",
              "      <td>activo</td>\n",
              "      <td>Cc1cc(C)c(C#N)c(SCC(=O)c2ccc3c(c2)OCO3)n1</td>\n",
              "      <td>326.377</td>\n",
              "      <td>3.27382</td>\n",
              "      <td>0</td>\n",
              "      <td>6</td>\n",
              "      <td>6.399997</td>\n",
              "    </tr>\n",
              "    <tr>\n",
              "      <th>3</th>\n",
              "      <td>CHEMBL3628932</td>\n",
              "      <td>activo</td>\n",
              "      <td>CCCCC(C(=O)COc1c(F)c(F)cc(F)c1F)n1cc([C@@](C)(...</td>\n",
              "      <td>521.559</td>\n",
              "      <td>5.26990</td>\n",
              "      <td>1</td>\n",
              "      <td>7</td>\n",
              "      <td>6.844664</td>\n",
              "    </tr>\n",
              "    <tr>\n",
              "      <th>4</th>\n",
              "      <td>CHEMBL1863161</td>\n",
              "      <td>activo</td>\n",
              "      <td>N#Cc1ccnc(N2CCC(NC(c3ccc(C(F)(F)F)cc3)c3cccnc3...</td>\n",
              "      <td>438.457</td>\n",
              "      <td>4.11008</td>\n",
              "      <td>1</td>\n",
              "      <td>6</td>\n",
              "      <td>7.508638</td>\n",
              "    </tr>\n",
              "    <tr>\n",
              "      <th>...</th>\n",
              "      <td>...</td>\n",
              "      <td>...</td>\n",
              "      <td>...</td>\n",
              "      <td>...</td>\n",
              "      <td>...</td>\n",
              "      <td>...</td>\n",
              "      <td>...</td>\n",
              "      <td>...</td>\n",
              "    </tr>\n",
              "    <tr>\n",
              "      <th>4995</th>\n",
              "      <td>CHEMBL1688568</td>\n",
              "      <td>inactivo</td>\n",
              "      <td>CC(C)(C)OC(=O)NCCCNC1CCN(CCc2ccccc2)CC1</td>\n",
              "      <td>361.530</td>\n",
              "      <td>3.19790</td>\n",
              "      <td>2</td>\n",
              "      <td>4</td>\n",
              "      <td>4.256725</td>\n",
              "    </tr>\n",
              "    <tr>\n",
              "      <th>4996</th>\n",
              "      <td>CHEMBL1928244</td>\n",
              "      <td>inactivo</td>\n",
              "      <td>c1ccc2[nH]c(-c3ccc(OCOc4ccc(-c5nc6ccccc6[nH]5)...</td>\n",
              "      <td>432.483</td>\n",
              "      <td>6.18850</td>\n",
              "      <td>2</td>\n",
              "      <td>4</td>\n",
              "      <td>4.948462</td>\n",
              "    </tr>\n",
              "    <tr>\n",
              "      <th>4997</th>\n",
              "      <td>CHEMBL3577779</td>\n",
              "      <td>inactivo</td>\n",
              "      <td>C=CCc1ccc(Oc2cc(CC=C)cc(OC)c2OC)c(OC)c1</td>\n",
              "      <td>340.419</td>\n",
              "      <td>4.96170</td>\n",
              "      <td>0</td>\n",
              "      <td>4</td>\n",
              "      <td>4.522879</td>\n",
              "    </tr>\n",
              "    <tr>\n",
              "      <th>4998</th>\n",
              "      <td>CHEMBL1275822</td>\n",
              "      <td>inactivo</td>\n",
              "      <td>CC1=N[C@H](C)Cc2c(-c3ccc(C)cc3)ccc(O)c21</td>\n",
              "      <td>265.356</td>\n",
              "      <td>4.12122</td>\n",
              "      <td>1</td>\n",
              "      <td>2</td>\n",
              "      <td>4.405166</td>\n",
              "    </tr>\n",
              "    <tr>\n",
              "      <th>4999</th>\n",
              "      <td>CHEMBL510626</td>\n",
              "      <td>inactivo</td>\n",
              "      <td>COc1ccc(-c2c(C#N)[n+]([O-])c3cc(C(F)(F)F)ccc3[...</td>\n",
              "      <td>361.279</td>\n",
              "      <td>2.67268</td>\n",
              "      <td>0</td>\n",
              "      <td>4</td>\n",
              "      <td>4.970616</td>\n",
              "    </tr>\n",
              "  </tbody>\n",
              "</table>\n",
              "<p>5000 rows × 8 columns</p>\n",
              "</div>"
            ],
            "text/plain": [
              "     molecule_chembl_id valor_bioactividad   \n",
              "0         CHEMBL1836005             activo  \\\n",
              "1         CHEMBL4074666             activo   \n",
              "2         CHEMBL1725748             activo   \n",
              "3         CHEMBL3628932             activo   \n",
              "4         CHEMBL1863161             activo   \n",
              "...                 ...                ...   \n",
              "4995      CHEMBL1688568           inactivo   \n",
              "4996      CHEMBL1928244           inactivo   \n",
              "4997      CHEMBL3577779           inactivo   \n",
              "4998      CHEMBL1275822           inactivo   \n",
              "4999       CHEMBL510626           inactivo   \n",
              "\n",
              "                                       canonical_smiles  Peso_Molecular   \n",
              "0     O=[N+]([O-])c1cn2c(n1)OCC(Oc1ccc(OC(F)(F)F)cc1)C2         345.233  \\\n",
              "1     CC1(COc2ccc(-c3ccc(OC(F)(F)F)cc3)cc2)Cn2cc([N+...         451.426   \n",
              "2             Cc1cc(C)c(C#N)c(SCC(=O)c2ccc3c(c2)OCO3)n1         326.377   \n",
              "3     CCCCC(C(=O)COc1c(F)c(F)cc(F)c1F)n1cc([C@@](C)(...         521.559   \n",
              "4     N#Cc1ccnc(N2CCC(NC(c3ccc(C(F)(F)F)cc3)c3cccnc3...         438.457   \n",
              "...                                                 ...             ...   \n",
              "4995            CC(C)(C)OC(=O)NCCCNC1CCN(CCc2ccccc2)CC1         361.530   \n",
              "4996  c1ccc2[nH]c(-c3ccc(OCOc4ccc(-c5nc6ccccc6[nH]5)...         432.483   \n",
              "4997            C=CCc1ccc(Oc2cc(CC=C)cc(OC)c2OC)c(OC)c1         340.419   \n",
              "4998           CC1=N[C@H](C)Cc2c(-c3ccc(C)cc3)ccc(O)c21         265.356   \n",
              "4999  COc1ccc(-c2c(C#N)[n+]([O-])c3cc(C(F)(F)F)ccc3[...         361.279   \n",
              "\n",
              "         LogP  Num_Donadores_H  Num_Aceptores     pIC50  \n",
              "0     2.52990                0              7  6.408935  \n",
              "1     5.30030                0              7  7.070581  \n",
              "2     3.27382                0              6  6.399997  \n",
              "3     5.26990                1              7  6.844664  \n",
              "4     4.11008                1              6  7.508638  \n",
              "...       ...              ...            ...       ...  \n",
              "4995  3.19790                2              4  4.256725  \n",
              "4996  6.18850                2              4  4.948462  \n",
              "4997  4.96170                0              4  4.522879  \n",
              "4998  4.12122                1              2  4.405166  \n",
              "4999  2.67268                0              4  4.970616  \n",
              "\n",
              "[5000 rows x 8 columns]"
            ]
          },
          "execution_count": 87,
          "metadata": {},
          "output_type": "execute_result"
        }
      ],
      "source": [
        "#equilibrar las clases\n",
        "df2.valor_bioactividad.value_counts()\n",
        "\n",
        "#seleccionar las clases con 2500 elementos aleatorios\n",
        "df2_activo = df2[df2.valor_bioactividad == 'activo'].sample(2500)\n",
        "df2_inactivo = df2[df2.valor_bioactividad == 'inactivo'].sample(2500)\n",
        "\n",
        "#concatenar los dos dataframes\n",
        "df2 = pd.concat([df2_activo, df2_inactivo], axis=0)\n",
        "df2 = df2.reset_index(drop=True)\n",
        "df2"
      ]
    },
    {
      "cell_type": "markdown",
      "metadata": {
        "id": "bxXbV6CEux4t"
      },
      "source": [
        "### **Diagrama de puntos Peso_Molecular vs LogP**\n",
        "Puede verse que las 2 categorías de bioactividad abarcan espacios químicos similares, como lo demuestra el diagrama de dispersión de Peso_Molecular frente a LogP."
      ]
    },
    {
      "cell_type": "code",
      "execution_count": null,
      "metadata": {
        "colab": {
          "base_uri": "https://localhost:8080/",
          "height": 531
        },
        "id": "glED4iwyux4t",
        "outputId": "2475bd29-eac1-4ef5-d862-e04d22c4075e"
      },
      "outputs": [
        {
          "data": {
            "text/plain": [
              "<matplotlib.legend.Legend at 0x27c45d97970>"
            ]
          },
          "execution_count": 88,
          "metadata": {},
          "output_type": "execute_result"
        }
      ],
      "source": [
        "plt.figure(figsize=(15, 5.5))\n",
        "sns.scatterplot(x='Peso_Molecular', y='LogP', data=df2, hue='valor_bioactividad', size='pIC50', edgecolor='black', alpha=0.6, facecolor = 'red')\n",
        "plt.xlabel('Peso_Molecular', fontsize=14, fontweight='bold')\n",
        "plt.ylabel('LogP', fontsize=14, fontweight='bold')\n",
        "plt.legend(bbox_to_anchor=(1.05, 1), loc=2, borderaxespad=0)\n",
        "# plt.savefig('plot_Peso_Molecular_vs_LogP.png')\n",
        "# #guardar gráfica .png\n",
        "# Image(filename='plot_Peso_Molecular_vs_LogP.png')"
      ]
    },
    {
      "cell_type": "code",
      "execution_count": null,
      "metadata": {
        "colab": {
          "base_uri": "https://localhost:8080/",
          "height": 856
        },
        "id": "SDrDrZh0ux4t",
        "outputId": "fee50403-bcb2-498b-fc92-b0741af6afc6"
      },
      "outputs": [
        {
          "name": "stderr",
          "output_type": "stream",
          "text": [
            "c:\\Python3\\lib\\site-packages\\seaborn\\axisgrid.py:2076: UserWarning: The `size` parameter has been renamed to `height`; please update your code.\n",
            "  warnings.warn(msg, UserWarning)\n",
            "c:\\Python3\\lib\\site-packages\\seaborn\\axisgrid.py:1242: RuntimeWarning: More than 20 figures have been opened. Figures created through the pyplot interface (`matplotlib.pyplot.figure`) are retained until explicitly closed and may consume too much memory. (To control this warning, see the rcParam `figure.max_open_warning`).\n",
            "  fig = plt.figure(figsize=figsize)\n"
          ]
        },
        {
          "ename": "<class 'pandas._config.config.OptionError'>",
          "evalue": "No such keys(s): 'mode.use_inf_as_null'",
          "output_type": "error",
          "traceback": [
            "\u001b[1;31m---------------------------------------------------------------------------\u001b[0m",
            "\u001b[1;31mOptionError\u001b[0m                               Traceback (most recent call last)",
            "\u001b[1;32mC:/Users/LEGION/AppData/Local/Temp/xpython_17204/2341593079.py\u001b[0m in \u001b[0;36m<module>\u001b[1;34m\u001b[0m\n\u001b[1;32m----> 1\u001b[1;33m \u001b[0msb\u001b[0m\u001b[1;33m.\u001b[0m\u001b[0mpairplot\u001b[0m\u001b[1;33m(\u001b[0m\u001b[0mdf2\u001b[0m\u001b[1;33m.\u001b[0m\u001b[0mdropna\u001b[0m\u001b[1;33m(\u001b[0m\u001b[1;33m)\u001b[0m\u001b[1;33m,\u001b[0m\u001b[0mhue\u001b[0m\u001b[1;33m=\u001b[0m\u001b[1;34m'valor_bioactividad'\u001b[0m\u001b[1;33m,\u001b[0m\u001b[0msize\u001b[0m\u001b[1;33m=\u001b[0m\u001b[1;36m4\u001b[0m\u001b[1;33m,\u001b[0m\u001b[0mvars\u001b[0m\u001b[1;33m=\u001b[0m\u001b[1;33m[\u001b[0m\u001b[1;34m\"LogP\"\u001b[0m\u001b[1;33m,\u001b[0m\u001b[1;34m\"Peso_Molecular\"\u001b[0m\u001b[1;33m]\u001b[0m\u001b[1;33m,\u001b[0m\u001b[0mkind\u001b[0m\u001b[1;33m=\u001b[0m\u001b[1;34m\"scatter\"\u001b[0m\u001b[1;33m)\u001b[0m\u001b[1;33m\u001b[0m\u001b[1;33m\u001b[0m\u001b[0m\n\u001b[0m\u001b[0;32m      2\u001b[0m \u001b[1;31m#guardar gráfica .png\u001b[0m\u001b[1;33m\u001b[0m\u001b[1;33m\u001b[0m\u001b[0m\n\u001b[0;32m      3\u001b[0m \u001b[1;31m# plt.savefig('plot_Peso_Molecular_vs_LogP_1.png')\u001b[0m\u001b[1;33m\u001b[0m\u001b[1;33m\u001b[0m\u001b[0m\n\u001b[0;32m      4\u001b[0m \u001b[1;31m# Image(filename='plot_Peso_Molecular_vs_LogP_1.png')\u001b[0m\u001b[1;33m\u001b[0m\u001b[1;33m\u001b[0m\u001b[0m\n",
            "\u001b[1;32mc:\\Python3\\lib\\site-packages\\seaborn\\_decorators.py\u001b[0m in \u001b[0;36minner_f\u001b[1;34m(*args, **kwargs)\u001b[0m\n\u001b[0;32m     44\u001b[0m             )\n\u001b[0;32m     45\u001b[0m         \u001b[0mkwargs\u001b[0m\u001b[1;33m.\u001b[0m\u001b[0mupdate\u001b[0m\u001b[1;33m(\u001b[0m\u001b[1;33m{\u001b[0m\u001b[0mk\u001b[0m\u001b[1;33m:\u001b[0m \u001b[0marg\u001b[0m \u001b[1;32mfor\u001b[0m \u001b[0mk\u001b[0m\u001b[1;33m,\u001b[0m \u001b[0marg\u001b[0m \u001b[1;32min\u001b[0m \u001b[0mzip\u001b[0m\u001b[1;33m(\u001b[0m\u001b[0msig\u001b[0m\u001b[1;33m.\u001b[0m\u001b[0mparameters\u001b[0m\u001b[1;33m,\u001b[0m \u001b[0margs\u001b[0m\u001b[1;33m)\u001b[0m\u001b[1;33m}\u001b[0m\u001b[1;33m)\u001b[0m\u001b[1;33m\u001b[0m\u001b[1;33m\u001b[0m\u001b[0m\n\u001b[1;32m---> 46\u001b[1;33m         \u001b[1;32mreturn\u001b[0m \u001b[0mf\u001b[0m\u001b[1;33m(\u001b[0m\u001b[1;33m**\u001b[0m\u001b[0mkwargs\u001b[0m\u001b[1;33m)\u001b[0m\u001b[1;33m\u001b[0m\u001b[1;33m\u001b[0m\u001b[0m\n\u001b[0m\u001b[0;32m     47\u001b[0m     \u001b[1;32mreturn\u001b[0m \u001b[0minner_f\u001b[0m\u001b[1;33m\u001b[0m\u001b[1;33m\u001b[0m\u001b[0m\n\u001b[0;32m     48\u001b[0m \u001b[1;33m\u001b[0m\u001b[0m\n",
            "\u001b[1;32mc:\\Python3\\lib\\site-packages\\seaborn\\axisgrid.py\u001b[0m in \u001b[0;36mpairplot\u001b[1;34m(data, hue, hue_order, palette, vars, x_vars, y_vars, kind, diag_kind, markers, height, aspect, corner, dropna, plot_kws, diag_kws, grid_kws, size)\u001b[0m\n\u001b[0;32m   2128\u001b[0m         \u001b[0mdiag_kws\u001b[0m\u001b[1;33m.\u001b[0m\u001b[0msetdefault\u001b[0m\u001b[1;33m(\u001b[0m\u001b[1;34m\"fill\"\u001b[0m\u001b[1;33m,\u001b[0m \u001b[1;32mTrue\u001b[0m\u001b[1;33m)\u001b[0m\u001b[1;33m\u001b[0m\u001b[1;33m\u001b[0m\u001b[0m\n\u001b[0;32m   2129\u001b[0m         \u001b[0mdiag_kws\u001b[0m\u001b[1;33m.\u001b[0m\u001b[0msetdefault\u001b[0m\u001b[1;33m(\u001b[0m\u001b[1;34m\"warn_singular\"\u001b[0m\u001b[1;33m,\u001b[0m \u001b[1;32mFalse\u001b[0m\u001b[1;33m)\u001b[0m\u001b[1;33m\u001b[0m\u001b[1;33m\u001b[0m\u001b[0m\n\u001b[1;32m-> 2130\u001b[1;33m         \u001b[0mgrid\u001b[0m\u001b[1;33m.\u001b[0m\u001b[0mmap_diag\u001b[0m\u001b[1;33m(\u001b[0m\u001b[0mkdeplot\u001b[0m\u001b[1;33m,\u001b[0m \u001b[1;33m**\u001b[0m\u001b[0mdiag_kws\u001b[0m\u001b[1;33m)\u001b[0m\u001b[1;33m\u001b[0m\u001b[1;33m\u001b[0m\u001b[0m\n\u001b[0m\u001b[0;32m   2131\u001b[0m \u001b[1;33m\u001b[0m\u001b[0m\n\u001b[0;32m   2132\u001b[0m     \u001b[1;31m# Maybe plot on the off-diagonals\u001b[0m\u001b[1;33m\u001b[0m\u001b[1;33m\u001b[0m\u001b[0m\n",
            "\u001b[1;32mc:\\Python3\\lib\\site-packages\\seaborn\\axisgrid.py\u001b[0m in \u001b[0;36mmap_diag\u001b[1;34m(self, func, **kwargs)\u001b[0m\n\u001b[0;32m   1476\u001b[0m             \u001b[0mplot_kwargs\u001b[0m\u001b[1;33m.\u001b[0m\u001b[0msetdefault\u001b[0m\u001b[1;33m(\u001b[0m\u001b[1;34m\"hue_order\"\u001b[0m\u001b[1;33m,\u001b[0m \u001b[0mself\u001b[0m\u001b[1;33m.\u001b[0m\u001b[0m_hue_order\u001b[0m\u001b[1;33m)\u001b[0m\u001b[1;33m\u001b[0m\u001b[1;33m\u001b[0m\u001b[0m\n\u001b[0;32m   1477\u001b[0m             \u001b[0mplot_kwargs\u001b[0m\u001b[1;33m.\u001b[0m\u001b[0msetdefault\u001b[0m\u001b[1;33m(\u001b[0m\u001b[1;34m\"palette\"\u001b[0m\u001b[1;33m,\u001b[0m \u001b[0mself\u001b[0m\u001b[1;33m.\u001b[0m\u001b[0m_orig_palette\u001b[0m\u001b[1;33m)\u001b[0m\u001b[1;33m\u001b[0m\u001b[1;33m\u001b[0m\u001b[0m\n\u001b[1;32m-> 1478\u001b[1;33m             \u001b[0mfunc\u001b[0m\u001b[1;33m(\u001b[0m\u001b[0mx\u001b[0m\u001b[1;33m=\u001b[0m\u001b[0mvector\u001b[0m\u001b[1;33m,\u001b[0m \u001b[1;33m**\u001b[0m\u001b[0mplot_kwargs\u001b[0m\u001b[1;33m)\u001b[0m\u001b[1;33m\u001b[0m\u001b[1;33m\u001b[0m\u001b[0m\n\u001b[0m\u001b[0;32m   1479\u001b[0m             \u001b[0max\u001b[0m\u001b[1;33m.\u001b[0m\u001b[0mlegend_\u001b[0m \u001b[1;33m=\u001b[0m \u001b[1;32mNone\u001b[0m\u001b[1;33m\u001b[0m\u001b[1;33m\u001b[0m\u001b[0m\n\u001b[0;32m   1480\u001b[0m \u001b[1;33m\u001b[0m\u001b[0m\n",
            "\u001b[1;32mc:\\Python3\\lib\\site-packages\\seaborn\\_decorators.py\u001b[0m in \u001b[0;36minner_f\u001b[1;34m(*args, **kwargs)\u001b[0m\n\u001b[0;32m     44\u001b[0m             )\n\u001b[0;32m     45\u001b[0m         \u001b[0mkwargs\u001b[0m\u001b[1;33m.\u001b[0m\u001b[0mupdate\u001b[0m\u001b[1;33m(\u001b[0m\u001b[1;33m{\u001b[0m\u001b[0mk\u001b[0m\u001b[1;33m:\u001b[0m \u001b[0marg\u001b[0m \u001b[1;32mfor\u001b[0m \u001b[0mk\u001b[0m\u001b[1;33m,\u001b[0m \u001b[0marg\u001b[0m \u001b[1;32min\u001b[0m \u001b[0mzip\u001b[0m\u001b[1;33m(\u001b[0m\u001b[0msig\u001b[0m\u001b[1;33m.\u001b[0m\u001b[0mparameters\u001b[0m\u001b[1;33m,\u001b[0m \u001b[0margs\u001b[0m\u001b[1;33m)\u001b[0m\u001b[1;33m}\u001b[0m\u001b[1;33m)\u001b[0m\u001b[1;33m\u001b[0m\u001b[1;33m\u001b[0m\u001b[0m\n\u001b[1;32m---> 46\u001b[1;33m         \u001b[1;32mreturn\u001b[0m \u001b[0mf\u001b[0m\u001b[1;33m(\u001b[0m\u001b[1;33m**\u001b[0m\u001b[0mkwargs\u001b[0m\u001b[1;33m)\u001b[0m\u001b[1;33m\u001b[0m\u001b[1;33m\u001b[0m\u001b[0m\n\u001b[0m\u001b[0;32m     47\u001b[0m     \u001b[1;32mreturn\u001b[0m \u001b[0minner_f\u001b[0m\u001b[1;33m\u001b[0m\u001b[1;33m\u001b[0m\u001b[0m\n\u001b[0;32m     48\u001b[0m \u001b[1;33m\u001b[0m\u001b[0m\n",
            "\u001b[1;32mc:\\Python3\\lib\\site-packages\\seaborn\\distributions.py\u001b[0m in \u001b[0;36mkdeplot\u001b[1;34m(x, y, shade, vertical, kernel, bw, gridsize, cut, clip, legend, cumulative, shade_lowest, cbar, cbar_ax, cbar_kws, ax, weights, hue, palette, hue_order, hue_norm, multiple, common_norm, common_grid, levels, thresh, bw_method, bw_adjust, log_scale, color, fill, data, data2, warn_singular, **kwargs)\u001b[0m\n\u001b[0;32m   1768\u001b[0m             \u001b[0mplot_kws\u001b[0m\u001b[1;33m[\u001b[0m\u001b[1;34m\"color\"\u001b[0m\u001b[1;33m]\u001b[0m \u001b[1;33m=\u001b[0m \u001b[0mcolor\u001b[0m\u001b[1;33m\u001b[0m\u001b[1;33m\u001b[0m\u001b[0m\n\u001b[0;32m   1769\u001b[0m \u001b[1;33m\u001b[0m\u001b[0m\n\u001b[1;32m-> 1770\u001b[1;33m         p.plot_univariate_density(\n\u001b[0m\u001b[0;32m   1771\u001b[0m             \u001b[0mmultiple\u001b[0m\u001b[1;33m=\u001b[0m\u001b[0mmultiple\u001b[0m\u001b[1;33m,\u001b[0m\u001b[1;33m\u001b[0m\u001b[1;33m\u001b[0m\u001b[0m\n\u001b[0;32m   1772\u001b[0m             \u001b[0mcommon_norm\u001b[0m\u001b[1;33m=\u001b[0m\u001b[0mcommon_norm\u001b[0m\u001b[1;33m,\u001b[0m\u001b[1;33m\u001b[0m\u001b[1;33m\u001b[0m\u001b[0m\n",
            "\u001b[1;32mc:\\Python3\\lib\\site-packages\\seaborn\\distributions.py\u001b[0m in \u001b[0;36mplot_univariate_density\u001b[1;34m(self, multiple, common_norm, common_grid, warn_singular, fill, legend, estimate_kws, **plot_kws)\u001b[0m\n\u001b[0;32m    926\u001b[0m \u001b[1;33m\u001b[0m\u001b[0m\n\u001b[0;32m    927\u001b[0m         \u001b[1;31m# Do the computation\u001b[0m\u001b[1;33m\u001b[0m\u001b[1;33m\u001b[0m\u001b[0m\n\u001b[1;32m--> 928\u001b[1;33m         densities = self._compute_univariate_density(\n\u001b[0m\u001b[0;32m    929\u001b[0m             \u001b[0mself\u001b[0m\u001b[1;33m.\u001b[0m\u001b[0mdata_variable\u001b[0m\u001b[1;33m,\u001b[0m\u001b[1;33m\u001b[0m\u001b[1;33m\u001b[0m\u001b[0m\n\u001b[0;32m    930\u001b[0m             \u001b[0mcommon_norm\u001b[0m\u001b[1;33m,\u001b[0m\u001b[1;33m\u001b[0m\u001b[1;33m\u001b[0m\u001b[0m\n",
            "\u001b[1;32mc:\\Python3\\lib\\site-packages\\seaborn\\distributions.py\u001b[0m in \u001b[0;36m_compute_univariate_density\u001b[1;34m(self, data_variable, common_norm, common_grid, estimate_kws, log_scale, warn_singular)\u001b[0m\n\u001b[0;32m    301\u001b[0m         \u001b[0mdensities\u001b[0m \u001b[1;33m=\u001b[0m \u001b[1;33m{\u001b[0m\u001b[1;33m}\u001b[0m\u001b[1;33m\u001b[0m\u001b[1;33m\u001b[0m\u001b[0m\n\u001b[0;32m    302\u001b[0m \u001b[1;33m\u001b[0m\u001b[0m\n\u001b[1;32m--> 303\u001b[1;33m         \u001b[1;32mfor\u001b[0m \u001b[0msub_vars\u001b[0m\u001b[1;33m,\u001b[0m \u001b[0msub_data\u001b[0m \u001b[1;32min\u001b[0m \u001b[0mself\u001b[0m\u001b[1;33m.\u001b[0m\u001b[0miter_data\u001b[0m\u001b[1;33m(\u001b[0m\u001b[1;34m\"hue\"\u001b[0m\u001b[1;33m,\u001b[0m \u001b[0mfrom_comp_data\u001b[0m\u001b[1;33m=\u001b[0m\u001b[1;32mTrue\u001b[0m\u001b[1;33m)\u001b[0m\u001b[1;33m:\u001b[0m\u001b[1;33m\u001b[0m\u001b[1;33m\u001b[0m\u001b[0m\n\u001b[0m\u001b[0;32m    304\u001b[0m \u001b[1;33m\u001b[0m\u001b[0m\n\u001b[0;32m    305\u001b[0m             \u001b[1;31m# Extract the data points from this sub set and remove nulls\u001b[0m\u001b[1;33m\u001b[0m\u001b[1;33m\u001b[0m\u001b[0m\n",
            "\u001b[1;32mc:\\Python3\\lib\\site-packages\\seaborn\\_core.py\u001b[0m in \u001b[0;36miter_data\u001b[1;34m(self, grouping_vars, reverse, from_comp_data)\u001b[0m\n\u001b[0;32m    981\u001b[0m \u001b[1;33m\u001b[0m\u001b[0m\n\u001b[0;32m    982\u001b[0m         \u001b[1;32mif\u001b[0m \u001b[0mfrom_comp_data\u001b[0m\u001b[1;33m:\u001b[0m\u001b[1;33m\u001b[0m\u001b[1;33m\u001b[0m\u001b[0m\n\u001b[1;32m--> 983\u001b[1;33m             \u001b[0mdata\u001b[0m \u001b[1;33m=\u001b[0m \u001b[0mself\u001b[0m\u001b[1;33m.\u001b[0m\u001b[0mcomp_data\u001b[0m\u001b[1;33m\u001b[0m\u001b[1;33m\u001b[0m\u001b[0m\n\u001b[0m\u001b[0;32m    984\u001b[0m         \u001b[1;32melse\u001b[0m\u001b[1;33m:\u001b[0m\u001b[1;33m\u001b[0m\u001b[1;33m\u001b[0m\u001b[0m\n\u001b[0;32m    985\u001b[0m             \u001b[0mdata\u001b[0m \u001b[1;33m=\u001b[0m \u001b[0mself\u001b[0m\u001b[1;33m.\u001b[0m\u001b[0mplot_data\u001b[0m\u001b[1;33m\u001b[0m\u001b[1;33m\u001b[0m\u001b[0m\n",
            "\u001b[1;32mc:\\Python3\\lib\\site-packages\\seaborn\\_core.py\u001b[0m in \u001b[0;36mcomp_data\u001b[1;34m(self)\u001b[0m\n\u001b[0;32m   1052\u001b[0m                 \u001b[1;31m# Use the converter assigned to the axis to get a float representation\u001b[0m\u001b[1;33m\u001b[0m\u001b[1;33m\u001b[0m\u001b[0m\n\u001b[0;32m   1053\u001b[0m                 \u001b[1;31m# of the data, passing np.nan or pd.NA through (pd.NA becomes np.nan)\u001b[0m\u001b[1;33m\u001b[0m\u001b[1;33m\u001b[0m\u001b[0m\n\u001b[1;32m-> 1054\u001b[1;33m                 \u001b[1;32mwith\u001b[0m \u001b[0mpd\u001b[0m\u001b[1;33m.\u001b[0m\u001b[0moption_context\u001b[0m\u001b[1;33m(\u001b[0m\u001b[1;34m'mode.use_inf_as_null'\u001b[0m\u001b[1;33m,\u001b[0m \u001b[1;32mTrue\u001b[0m\u001b[1;33m)\u001b[0m\u001b[1;33m:\u001b[0m\u001b[1;33m\u001b[0m\u001b[1;33m\u001b[0m\u001b[0m\n\u001b[0m\u001b[0;32m   1055\u001b[0m                     \u001b[0morig\u001b[0m \u001b[1;33m=\u001b[0m \u001b[0mself\u001b[0m\u001b[1;33m.\u001b[0m\u001b[0mplot_data\u001b[0m\u001b[1;33m[\u001b[0m\u001b[0mvar\u001b[0m\u001b[1;33m]\u001b[0m\u001b[1;33m.\u001b[0m\u001b[0mdropna\u001b[0m\u001b[1;33m(\u001b[0m\u001b[1;33m)\u001b[0m\u001b[1;33m\u001b[0m\u001b[1;33m\u001b[0m\u001b[0m\n\u001b[0;32m   1056\u001b[0m                 \u001b[0mcomp_col\u001b[0m \u001b[1;33m=\u001b[0m \u001b[0mpd\u001b[0m\u001b[1;33m.\u001b[0m\u001b[0mSeries\u001b[0m\u001b[1;33m(\u001b[0m\u001b[0mindex\u001b[0m\u001b[1;33m=\u001b[0m\u001b[0morig\u001b[0m\u001b[1;33m.\u001b[0m\u001b[0mindex\u001b[0m\u001b[1;33m,\u001b[0m \u001b[0mdtype\u001b[0m\u001b[1;33m=\u001b[0m\u001b[0mfloat\u001b[0m\u001b[1;33m,\u001b[0m \u001b[0mname\u001b[0m\u001b[1;33m=\u001b[0m\u001b[0mvar\u001b[0m\u001b[1;33m)\u001b[0m\u001b[1;33m\u001b[0m\u001b[1;33m\u001b[0m\u001b[0m\n",
            "\u001b[1;32mc:\\Python3\\lib\\site-packages\\pandas\\_config\\config.py\u001b[0m in \u001b[0;36m__enter__\u001b[1;34m(self)\u001b[0m\n\u001b[0;32m    439\u001b[0m \u001b[1;33m\u001b[0m\u001b[0m\n\u001b[0;32m    440\u001b[0m     \u001b[1;32mdef\u001b[0m \u001b[0m__enter__\u001b[0m\u001b[1;33m(\u001b[0m\u001b[0mself\u001b[0m\u001b[1;33m)\u001b[0m \u001b[1;33m->\u001b[0m \u001b[1;32mNone\u001b[0m\u001b[1;33m:\u001b[0m\u001b[1;33m\u001b[0m\u001b[1;33m\u001b[0m\u001b[0m\n\u001b[1;32m--> 441\u001b[1;33m         \u001b[0mself\u001b[0m\u001b[1;33m.\u001b[0m\u001b[0mundo\u001b[0m \u001b[1;33m=\u001b[0m \u001b[1;33m[\u001b[0m\u001b[1;33m(\u001b[0m\u001b[0mpat\u001b[0m\u001b[1;33m,\u001b[0m \u001b[0m_get_option\u001b[0m\u001b[1;33m(\u001b[0m\u001b[0mpat\u001b[0m\u001b[1;33m,\u001b[0m \u001b[0msilent\u001b[0m\u001b[1;33m=\u001b[0m\u001b[1;32mTrue\u001b[0m\u001b[1;33m)\u001b[0m\u001b[1;33m)\u001b[0m \u001b[1;32mfor\u001b[0m \u001b[0mpat\u001b[0m\u001b[1;33m,\u001b[0m \u001b[0mval\u001b[0m \u001b[1;32min\u001b[0m \u001b[0mself\u001b[0m\u001b[1;33m.\u001b[0m\u001b[0mops\u001b[0m\u001b[1;33m]\u001b[0m\u001b[1;33m\u001b[0m\u001b[1;33m\u001b[0m\u001b[0m\n\u001b[0m\u001b[0;32m    442\u001b[0m \u001b[1;33m\u001b[0m\u001b[0m\n\u001b[0;32m    443\u001b[0m         \u001b[1;32mfor\u001b[0m \u001b[0mpat\u001b[0m\u001b[1;33m,\u001b[0m \u001b[0mval\u001b[0m \u001b[1;32min\u001b[0m \u001b[0mself\u001b[0m\u001b[1;33m.\u001b[0m\u001b[0mops\u001b[0m\u001b[1;33m:\u001b[0m\u001b[1;33m\u001b[0m\u001b[1;33m\u001b[0m\u001b[0m\n",
            "\u001b[1;32mc:\\Python3\\lib\\site-packages\\pandas\\_config\\config.py\u001b[0m in \u001b[0;36m<listcomp>\u001b[1;34m(.0)\u001b[0m\n\u001b[0;32m    439\u001b[0m \u001b[1;33m\u001b[0m\u001b[0m\n\u001b[0;32m    440\u001b[0m     \u001b[1;32mdef\u001b[0m \u001b[0m__enter__\u001b[0m\u001b[1;33m(\u001b[0m\u001b[0mself\u001b[0m\u001b[1;33m)\u001b[0m \u001b[1;33m->\u001b[0m \u001b[1;32mNone\u001b[0m\u001b[1;33m:\u001b[0m\u001b[1;33m\u001b[0m\u001b[1;33m\u001b[0m\u001b[0m\n\u001b[1;32m--> 441\u001b[1;33m         \u001b[0mself\u001b[0m\u001b[1;33m.\u001b[0m\u001b[0mundo\u001b[0m \u001b[1;33m=\u001b[0m \u001b[1;33m[\u001b[0m\u001b[1;33m(\u001b[0m\u001b[0mpat\u001b[0m\u001b[1;33m,\u001b[0m \u001b[0m_get_option\u001b[0m\u001b[1;33m(\u001b[0m\u001b[0mpat\u001b[0m\u001b[1;33m,\u001b[0m \u001b[0msilent\u001b[0m\u001b[1;33m=\u001b[0m\u001b[1;32mTrue\u001b[0m\u001b[1;33m)\u001b[0m\u001b[1;33m)\u001b[0m \u001b[1;32mfor\u001b[0m \u001b[0mpat\u001b[0m\u001b[1;33m,\u001b[0m \u001b[0mval\u001b[0m \u001b[1;32min\u001b[0m \u001b[0mself\u001b[0m\u001b[1;33m.\u001b[0m\u001b[0mops\u001b[0m\u001b[1;33m]\u001b[0m\u001b[1;33m\u001b[0m\u001b[1;33m\u001b[0m\u001b[0m\n\u001b[0m\u001b[0;32m    442\u001b[0m \u001b[1;33m\u001b[0m\u001b[0m\n\u001b[0;32m    443\u001b[0m         \u001b[1;32mfor\u001b[0m \u001b[0mpat\u001b[0m\u001b[1;33m,\u001b[0m \u001b[0mval\u001b[0m \u001b[1;32min\u001b[0m \u001b[0mself\u001b[0m\u001b[1;33m.\u001b[0m\u001b[0mops\u001b[0m\u001b[1;33m:\u001b[0m\u001b[1;33m\u001b[0m\u001b[1;33m\u001b[0m\u001b[0m\n",
            "\u001b[1;32mc:\\Python3\\lib\\site-packages\\pandas\\_config\\config.py\u001b[0m in \u001b[0;36m_get_option\u001b[1;34m(pat, silent)\u001b[0m\n\u001b[0;32m    133\u001b[0m \u001b[1;33m\u001b[0m\u001b[0m\n\u001b[0;32m    134\u001b[0m \u001b[1;32mdef\u001b[0m \u001b[0m_get_option\u001b[0m\u001b[1;33m(\u001b[0m\u001b[0mpat\u001b[0m\u001b[1;33m:\u001b[0m \u001b[0mstr\u001b[0m\u001b[1;33m,\u001b[0m \u001b[0msilent\u001b[0m\u001b[1;33m:\u001b[0m \u001b[0mbool\u001b[0m \u001b[1;33m=\u001b[0m \u001b[1;32mFalse\u001b[0m\u001b[1;33m)\u001b[0m \u001b[1;33m->\u001b[0m \u001b[0mAny\u001b[0m\u001b[1;33m:\u001b[0m\u001b[1;33m\u001b[0m\u001b[1;33m\u001b[0m\u001b[0m\n\u001b[1;32m--> 135\u001b[1;33m     \u001b[0mkey\u001b[0m \u001b[1;33m=\u001b[0m \u001b[0m_get_single_key\u001b[0m\u001b[1;33m(\u001b[0m\u001b[0mpat\u001b[0m\u001b[1;33m,\u001b[0m \u001b[0msilent\u001b[0m\u001b[1;33m)\u001b[0m\u001b[1;33m\u001b[0m\u001b[1;33m\u001b[0m\u001b[0m\n\u001b[0m\u001b[0;32m    136\u001b[0m \u001b[1;33m\u001b[0m\u001b[0m\n\u001b[0;32m    137\u001b[0m     \u001b[1;31m# walk the nested dict\u001b[0m\u001b[1;33m\u001b[0m\u001b[1;33m\u001b[0m\u001b[0m\n",
            "\u001b[1;32mc:\\Python3\\lib\\site-packages\\pandas\\_config\\config.py\u001b[0m in \u001b[0;36m_get_single_key\u001b[1;34m(pat, silent)\u001b[0m\n\u001b[0;32m    119\u001b[0m         \u001b[1;32mif\u001b[0m \u001b[1;32mnot\u001b[0m \u001b[0msilent\u001b[0m\u001b[1;33m:\u001b[0m\u001b[1;33m\u001b[0m\u001b[1;33m\u001b[0m\u001b[0m\n\u001b[0;32m    120\u001b[0m             \u001b[0m_warn_if_deprecated\u001b[0m\u001b[1;33m(\u001b[0m\u001b[0mpat\u001b[0m\u001b[1;33m)\u001b[0m\u001b[1;33m\u001b[0m\u001b[1;33m\u001b[0m\u001b[0m\n\u001b[1;32m--> 121\u001b[1;33m         \u001b[1;32mraise\u001b[0m \u001b[0mOptionError\u001b[0m\u001b[1;33m(\u001b[0m\u001b[1;34mf\"No such keys(s): {repr(pat)}\"\u001b[0m\u001b[1;33m)\u001b[0m\u001b[1;33m\u001b[0m\u001b[1;33m\u001b[0m\u001b[0m\n\u001b[0m\u001b[0;32m    122\u001b[0m     \u001b[1;32mif\u001b[0m \u001b[0mlen\u001b[0m\u001b[1;33m(\u001b[0m\u001b[0mkeys\u001b[0m\u001b[1;33m)\u001b[0m \u001b[1;33m>\u001b[0m \u001b[1;36m1\u001b[0m\u001b[1;33m:\u001b[0m\u001b[1;33m\u001b[0m\u001b[1;33m\u001b[0m\u001b[0m\n\u001b[0;32m    123\u001b[0m         \u001b[1;32mraise\u001b[0m \u001b[0mOptionError\u001b[0m\u001b[1;33m(\u001b[0m\u001b[1;34m\"Pattern matched multiple keys\"\u001b[0m\u001b[1;33m)\u001b[0m\u001b[1;33m\u001b[0m\u001b[1;33m\u001b[0m\u001b[0m\n",
            "\u001b[1;31mOptionError\u001b[0m: No such keys(s): 'mode.use_inf_as_null'"
          ]
        }
      ],
      "source": [
        "sb.pairplot(df2.dropna(),hue='valor_bioactividad',size=4,vars=[\"LogP\",\"Peso_Molecular\"],kind=\"scatter\")\n",
        "#guardar gráfica .png\n",
        "# plt.savefig('plot_Peso_Molecular_vs_LogP_1.png')\n",
        "# Image(filename='plot_Peso_Molecular_vs_LogP_1.png')"
      ]
    },
    {
      "cell_type": "markdown",
      "metadata": {
        "id": "6UPTco0zux4t"
      },
      "source": [
        "### **Box plots**\n",
        "#### **PIC50**"
      ]
    },
    {
      "cell_type": "code",
      "execution_count": null,
      "metadata": {
        "id": "a9hrzAzyux4t"
      },
      "outputs": [],
      "source": [
        "# crear dos dataframes, uno para cada clase\n",
        "df_2_activo = df2[df2['valor_bioactividad']=='activo']\n",
        "df_2_inactivo = df2[df2['valor_bioactividad']=='inactivo']"
      ]
    },
    {
      "cell_type": "code",
      "execution_count": null,
      "metadata": {
        "colab": {
          "base_uri": "https://localhost:8080/",
          "height": 531
        },
        "id": "k64X4QkOux4t",
        "outputId": "1675410d-e0eb-41f9-ee08-c1b8f078d945"
      },
      "outputs": [
        {
          "data": {
            "text/plain": [
              "Text(0, 0.5, 'valor_PIC50')"
            ]
          },
          "execution_count": 94,
          "metadata": {},
          "output_type": "execute_result"
        }
      ],
      "source": [
        "plt.figure(figsize=(5.5, 5.5))\n",
        "sns.boxplot(x = 'valor_bioactividad', y = 'pIC50', data = df2)\n",
        "plt.xlabel('Categorías_Bioactividad', fontsize=14, fontweight='bold', )\n",
        "plt.ylabel('valor_PIC50', fontsize=14, fontweight='bold')\n",
        "# plt.savefig('plot_ic50.png')\n",
        "# Image(filename='plot_ic50.png')"
      ]
    },
    {
      "cell_type": "code",
      "execution_count": null,
      "metadata": {
        "colab": {
          "base_uri": "https://localhost:8080/",
          "height": 531
        },
        "id": "UjrAxQ3vux4u",
        "outputId": "3cf24927-c8c0-4518-bfcc-feab9a380e82"
      },
      "outputs": [
        {
          "data": {
            "text/plain": [
              "Text(0, 0.5, 'Peso_Molecular')"
            ]
          },
          "execution_count": 95,
          "metadata": {},
          "output_type": "execute_result"
        }
      ],
      "source": [
        "plt.figure(figsize=(5.5, 5.5))\n",
        "sns.boxplot(x = 'valor_bioactividad', y = 'Peso_Molecular', data = df2)\n",
        "plt.xlabel('Categorías_Bioactividad', fontsize=14, fontweight='bold')\n",
        "plt.ylabel('Peso_Molecular', fontsize=14, fontweight='bold')\n",
        "# plt.savefig('plot_MW.png')\n",
        "# Image(filename='plot_MW.png')"
      ]
    },
    {
      "cell_type": "code",
      "execution_count": null,
      "metadata": {
        "colab": {
          "base_uri": "https://localhost:8080/",
          "height": 497
        },
        "id": "4X1_v7peux4u",
        "outputId": "90bae32d-6bb9-40f0-91a6-3fb0161c9a9e"
      },
      "outputs": [
        {
          "data": {
            "text/plain": [
              "Text(0.5, 1.0, 'histogramas para la clase inactivo y activo')"
            ]
          },
          "execution_count": 97,
          "metadata": {},
          "output_type": "execute_result"
        }
      ],
      "source": [
        "n_bins = 8\n",
        "fig, axs = plt.subplots(1, 2, sharey=True, tight_layout=True)\n",
        "#gráfica del histograma usuarios activos\n",
        "axs[0].hist(df_2_activo['Peso_Molecular'], bins=n_bins)\n",
        "#gráfica del histograma usuarios inactivos\n",
        "axs[1].hist(df_2_inactivo['Peso_Molecular'], bins=n_bins,color='green')\n",
        "plt.title('histogramas para la clase inactivo y activo', loc='center')\n",
        "# plt.savefig('histograma.png')\n",
        "# Image(filename='histograma.png')"
      ]
    },
    {
      "cell_type": "markdown",
      "metadata": {
        "id": "iaUxuZfeux4u"
      },
      "source": [
        "#### **LogP**"
      ]
    },
    {
      "cell_type": "code",
      "execution_count": null,
      "metadata": {
        "colab": {
          "base_uri": "https://localhost:8080/",
          "height": 531
        },
        "id": "ixrQKaUzux4u",
        "outputId": "00080d50-1fa0-4291-ff12-8ca171e26659"
      },
      "outputs": [
        {
          "data": {
            "text/plain": [
              "Text(0, 0.5, 'LogP')"
            ]
          },
          "execution_count": 98,
          "metadata": {},
          "output_type": "execute_result"
        }
      ],
      "source": [
        "plt.figure(figsize=(5.5, 5.5))\n",
        "sns.boxplot(x = 'valor_bioactividad', y = 'LogP', data = df2)\n",
        "plt.xlabel('Categorías_Bioactividad', fontsize=14, fontweight='bold')\n",
        "plt.ylabel('LogP', fontsize=14, fontweight='bold')\n",
        "# plt.savefig('plot_LogP.png')\n",
        "# Image(filename='plot_LogP.png')"
      ]
    },
    {
      "cell_type": "code",
      "execution_count": null,
      "metadata": {
        "colab": {
          "base_uri": "https://localhost:8080/",
          "height": 497
        },
        "id": "WWBm3YvLux4u",
        "outputId": "12612ec9-8d66-4688-b58f-90d46965cde6"
      },
      "outputs": [
        {
          "data": {
            "text/plain": [
              "Text(0.5, 1.0, 'histogramas para la clase inactivo y activo')"
            ]
          },
          "execution_count": 99,
          "metadata": {},
          "output_type": "execute_result"
        }
      ],
      "source": [
        "n_bins = 8\n",
        "fig, axs = plt.subplots(1, 2, sharey=True, tight_layout=True)\n",
        "#gráfica del histograma usuarios activos\n",
        "axs[0].hist(df_2_activo['LogP'], bins=n_bins)\n",
        "#gráfica del histograma usuarios inactivos\n",
        "axs[1].hist(df_2_inactivo['LogP'], bins=n_bins,color='green')\n",
        "plt.title('histogramas para la clase inactivo y activo')\n",
        "# plt.savefig('plot_LogP.png')\n",
        "# Image(filename='plot_LogP.png')"
      ]
    },
    {
      "cell_type": "markdown",
      "metadata": {
        "id": "owbGd3WHux4v"
      },
      "source": [
        "#### **Num_Donadores_Hidrógeno**"
      ]
    },
    {
      "cell_type": "code",
      "execution_count": null,
      "metadata": {
        "colab": {
          "base_uri": "https://localhost:8080/",
          "height": 531
        },
        "id": "FBha3bDdux4v",
        "outputId": "451495df-92a8-4ff4-a4cb-0aabbea981f2"
      },
      "outputs": [
        {
          "data": {
            "text/plain": [
              "Text(0, 0.5, 'Num_Donadores_Hidrógeno')"
            ]
          },
          "execution_count": 101,
          "metadata": {},
          "output_type": "execute_result"
        }
      ],
      "source": [
        "plt.figure(figsize=(5.5, 5.5))\n",
        "sns.boxplot(x = 'valor_bioactividad', y = 'Num_Donadores_H', data = df2)\n",
        "plt.xlabel('Categoría_Bioactividad', fontsize=14, fontweight='bold')\n",
        "plt.ylabel('Num_Donadores_Hidrógeno', fontsize=14, fontweight='bold')\n",
        "# plt.savefig('plot_NumHDonors.png')\n",
        "# Image(filename='plot_NumHDonors.png')"
      ]
    },
    {
      "cell_type": "code",
      "execution_count": null,
      "metadata": {
        "colab": {
          "base_uri": "https://localhost:8080/",
          "height": 567
        },
        "id": "Vk9vYTtKux4v",
        "outputId": "ccb5ffcb-7525-441a-ade4-f5172217749f"
      },
      "outputs": [
        {
          "data": {
            "text/plain": [
              "(array([2.097e+03, 2.540e+02, 1.290e+02, 9.000e+00, 6.000e+00, 1.000e+00,\n",
              "        2.000e+00, 2.000e+00]),\n",
              " array([ 0.   ,  2.125,  4.25 ,  6.375,  8.5  , 10.625, 12.75 , 14.875,\n",
              "        17.   ]),\n",
              " <BarContainer object of 8 artists>)"
            ]
          },
          "execution_count": 102,
          "metadata": {},
          "output_type": "execute_result"
        }
      ],
      "source": [
        "n_bins = 8\n",
        "fig, axs = plt.subplots(1, 2, sharey=True, tight_layout=True)\n",
        "#gráfica del histograma usuarios activos\n",
        "axs[0].hist(df_2_activo['Num_Donadores_H'], bins=n_bins)\n",
        "#gráfica del histograma usuarios inactivos\n",
        "axs[1].hist(df_2_inactivo['Num_Donadores_H'], bins=n_bins,color='green')\n",
        "# plt.savefig('plot_NumHDonors.png')\n",
        "# Image(filename='plot_NumHDonors.png')"
      ]
    },
    {
      "cell_type": "markdown",
      "metadata": {
        "id": "iFpRCRQAux4v"
      },
      "source": [
        "#### **Num_Aceptores**"
      ]
    },
    {
      "cell_type": "code",
      "execution_count": null,
      "metadata": {
        "colab": {
          "base_uri": "https://localhost:8080/",
          "height": 531
        },
        "id": "0NnkCUUOux4v",
        "outputId": "6c87a911-b5c5-4e4f-b3ae-165bbac2167d"
      },
      "outputs": [
        {
          "data": {
            "text/plain": [
              "Text(0, 0.5, 'Numero_Aceptores_Hidrógeno')"
            ]
          },
          "execution_count": 103,
          "metadata": {},
          "output_type": "execute_result"
        }
      ],
      "source": [
        "plt.figure(figsize=(5.5, 5.5))\n",
        "sns.boxplot(x = 'valor_bioactividad', y = 'Num_Aceptores', data = df2)\n",
        "plt.xlabel('Categoría_Bioactividad', fontsize=14, fontweight='bold')\n",
        "plt.ylabel('Numero_Aceptores_Hidrógeno', fontsize=14, fontweight='bold')\n",
        "# plt.savefig('plot_NumHAcceptors.png')\n",
        "# Image(filename='plot_NumHAcceptors.png')"
      ]
    },
    {
      "cell_type": "code",
      "execution_count": null,
      "metadata": {
        "colab": {
          "base_uri": "https://localhost:8080/",
          "height": 497
        },
        "id": "8N1ebWlGux4v",
        "outputId": "96cf3656-eeb5-43a1-e06f-39ff5c9a13fc"
      },
      "outputs": [
        {
          "data": {
            "text/plain": [
              "Text(0.5, 1.0, 'histogramas para la clase inactivo y activo')"
            ]
          },
          "execution_count": 104,
          "metadata": {},
          "output_type": "execute_result"
        }
      ],
      "source": [
        "n_bins = 8\n",
        "fig, axs = plt.subplots(1, 2, sharey=True, tight_layout=True)\n",
        "#gráfica del histograma usuarios activos\n",
        "axs[0].hist(df_2_activo['Num_Aceptores'], bins=n_bins)\n",
        "#gráfica del histograma usuarios inactivos\n",
        "axs[1].hist(df_2_inactivo['Num_Aceptores'], bins=n_bins,color='green')\n",
        "plt.title('histogramas para la clase inactivo y activo')\n",
        "# plt.savefig('plot_NumHAcceptors.png')\n",
        "# Image(filename='plot_NumHAcceptors.png')"
      ]
    },
    {
      "cell_type": "markdown",
      "metadata": {
        "id": "GJovOLHDux4v"
      },
      "source": [
        "## ???????"
      ]
    },
    {
      "cell_type": "code",
      "execution_count": null,
      "metadata": {
        "id": "0BeU4jU4ux4w"
      },
      "outputs": [],
      "source": [
        "from rdkit.Chem import Descriptors\n",
        "from rdkit.Chem import MolFromSmiles\n",
        "\n",
        "mols = []\n",
        "\n",
        "for i in df2.canonical_smiles:\n",
        "        mol = MolFromSmiles(i)\n",
        "        mols.append(mol)\n",
        "        #print(df2)\n",
        "ID = df2.molecule_chembl_id\n",
        "STATUS = df2.valor_bioactividad\n",
        "MW = [Descriptors.MolWt(n) for n in mols]\n",
        "LogP = [Descriptors.MolLogP(o) for o in mols]\n",
        "nHAcc = [Descriptors.NumHAcceptors(p) for p in mols]\n",
        "nHDon = [Descriptors.NumHDonors(q) for q in mols]\n",
        "\n",
        "data = pd.DataFrame(\n",
        "    {'molecule_chembl_id': ID,\n",
        "     'STATUS' : STATUS,\n",
        "     'MW': MW, \n",
        "     'LogP': LogP,\n",
        "     'nHAcc': nHAcc,\n",
        "     'nHDon': nHDon\n",
        "    })\n",
        "data = data[['molecule_chembl_id','STATUS','MW','LogP','nHAcc','nHDon']]"
      ]
    },
    {
      "cell_type": "code",
      "execution_count": null,
      "metadata": {
        "colab": {
          "base_uri": "https://localhost:8080/",
          "height": 143
        },
        "id": "d3tglQxKux4w",
        "outputId": "7566f9ab-0734-44fb-8f65-7ce963a9eb16"
      },
      "outputs": [
        {
          "data": {
            "text/plain": [
              "(5000, 6)"
            ]
          },
          "execution_count": 106,
          "metadata": {},
          "output_type": "execute_result"
        }
      ],
      "source": [
        "data.shape"
      ]
    },
    {
      "cell_type": "markdown",
      "metadata": {
        "id": "5hxV6Flvux4w"
      },
      "source": [
        "## Distribución de Frecuencias variables"
      ]
    },
    {
      "cell_type": "code",
      "execution_count": null,
      "metadata": {
        "colab": {
          "base_uri": "https://localhost:8080/",
          "height": 970
        },
        "id": "xnLLVIbSux4w",
        "outputId": "18f1a7aa-13b1-407b-deeb-9313fe313b9d"
      },
      "outputs": [
        {
          "data": {
            "image/png": "[encoded data removed]",
            "text/plain": [
              "<IPython.core.display.Image object>"
            ]
          },
          "execution_count": 107,
          "metadata": {},
          "output_type": "execute_result"
        }
      ],
      "source": [
        "figure, ((plt1,plt2), (plt3,plt4)) = plt.subplots(2, 2)\n",
        "figure.set_size_inches(15,10)\n",
        "\n",
        "# Histograma para MW\n",
        "hist, bins = np.histogram(MW, 50)\n",
        "width = 1 * (bins[1] - bins[0])\n",
        "center = (bins[:-1] + bins[1:]) / 2\n",
        "plt1.bar(center, hist, align='center', width=width, color='blue',edgecolor='black',\\\n",
        "         error_kw=dict(ecolor='gray', lw=2, capsize=5, capthick=2,linestyle='-', linewidth=0.5))\n",
        "plt1.set_xlabel('Peso_Molecular (Da)', fontsize=16, fontweight='bold')\n",
        "plt1.set_ylabel('Frecuencia', fontsize=16, fontweight='bold')\n",
        "plt1.tick_params(axis='both', which='major', labelsize=14)\n",
        "plt1.set_xlim(0,900)\n",
        "plt1.set_ylim(0, 900)\n",
        "#plt1.grid(True)\n",
        "plt1.axvline(500, color='gray',linestyle='--', dashes=(5, 10), linewidth=0.5)\n",
        "\n",
        "# Histograma para LogP\n",
        "hist, bins = np.histogram(LogP, 50)\n",
        "width = 1 * (bins[1] - bins[0])\n",
        "center = (bins[:-1] + bins[1:]) / 2\n",
        "plt2.bar(center, hist, align='center', width=width, color='red',edgecolor='black',\\\n",
        "         error_kw=dict(ecolor='gray', lw=2, capsize=5, capthick=2,linestyle='-', linewidth=0.5))\n",
        "plt2.set_xlabel('LogP', fontsize=16, fontweight='bold')\n",
        "plt2.set_ylabel('Frecuencia', fontsize=16, fontweight='bold')\n",
        "plt2.tick_params(axis='both', which='major', labelsize=14)\n",
        "plt2.set_xlim(-5,12)\n",
        "plt2.set_ylim(0,800)\n",
        "plt2.axvline(5, color='gray',linestyle='--', dashes=(5, 10), linewidth=0.5)\n",
        "\n",
        "# Histograma para Donadores de Hidrógeno\n",
        "hist, bins = np.histogram(nHDon, 20)\n",
        "width = 1 * (bins[1] - bins[0])\n",
        "center = (bins[:-1] + bins[1:]) / 2\n",
        "plt4.bar(center, hist, align='center', width=width, color='orange',edgecolor='black',\\\n",
        "         error_kw=dict(ecolor='gray', lw=2, capsize=5, capthick=2, linestyle='-', linewidth=0.5))\n",
        "plt4.set_xlabel('Número_Donadores_Hidrógeno', fontsize=16, fontweight='bold')\n",
        "plt4.set_ylabel('Frecuencia', fontsize=16, fontweight='bold')\n",
        "plt4.tick_params(axis='both', which='major', labelsize=14)\n",
        "plt4.set_xlim(-1,10)\n",
        "plt4.set_ylim(0,3000)\n",
        "#plt4.grid(True)\n",
        "plt4.axvline(5, color='gray',linestyle='--', dashes=(5, 10), linewidth=0.5)\n",
        "\n",
        "# Histograma para nHAcc\n",
        "hist, bins = np.histogram(nHAcc, 20)\n",
        "width = 1 * (bins[1] - bins[0])\n",
        "center = (bins[:-1] + bins[1:]) / 2\n",
        "plt3.bar(center, hist, align='center', width=width, color='green',edgecolor='black',\\\n",
        "         error_kw=dict(ecolor='gray', lw=2, capsize=5, capthick=2, linestyle='-', linewidth=0.5))\n",
        "plt3.set_xlabel('Número_Aceptores_Hidrógeno', fontsize=16, fontweight='bold')\n",
        "plt3.set_ylabel('Frecuencia', fontsize=16, fontweight='bold')\n",
        "plt3.tick_params(axis='both', which='major', labelsize=14)\n",
        "plt3.set_xlim(-1,20)\n",
        "plt3.set_ylim(0,3000)\n",
        "#plt3.grid(True)\n",
        "plt3.axvline(10, color='gray',linestyle='--', dashes=(5, 10), linewidth=0.5)\n",
        "\n",
        "plt.tight_layout(pad=2.0, w_pad=2.0, h_pad=2.0)\n",
        "plt.savefig('plot_descriptores.png')\n",
        "Image(filename='plot_descriptores.png')"
      ]
    },
    {
      "cell_type": "markdown",
      "metadata": {
        "id": "BM0BmigFux4w"
      },
      "source": [
        "## ??????"
      ]
    },
    {
      "cell_type": "code",
      "execution_count": null,
      "metadata": {
        "colab": {
          "base_uri": "https://localhost:8080/"
        },
        "id": "68KVmGFRux4x",
        "outputId": "d17bbd0e-b8e3-47db-c724-022b670036cb"
      },
      "outputs": [
        {
          "name": "stdout",
          "output_type": "stream",
          "text": [
            "[0, 0, 0, 1, 1, 1, 1, 2, 1, 1, 0, 0, 2, 2, 1, 6, 1, 1, 4, 1, 0, 2, 2, 1, 1, 2, 1, 0, 1, 1, 0, 2, 3, 1, 2, 1, 2, 1, 1, 0, 1, 2, 1, 0, 1, 1, 0, 0, 0, 0, 0, 2, 2, 1, 2, 1, 0, 0, 0, 1, 2, 0, 2, 1, 1, 0, 1, 1, 0, 2, 1, 1, 1, 3, 1, 0, 0, 2, 0, 0, 0, 2, 1, 1, 1, 0, 1, 4, 4, 1, 1, 1, 0, 1, 1, 1, 1, 1, 1, 0, 0, 1, 0, 1, 2, 2, 2, 1, 4, 1, 0, 2, 0, 1, 0, 2, 1, 2, 1, 0, 1, 1, 0, 2, 1, 0, 1, 0, 1, 3, 1, 2, 2, 5, 0, 1, 4, 4, 0, 1, 0, 0, 4, 1, 1, 0, 2, 2, 1, 1, 0, 1, 1, 2, 0, 1, 1, 1, 0, 1, 3, 2, 0, 2, 1, 0, 4, 2, 1, 3, 1, 7, 1, 0, 0, 1, 1, 1, 1, 1, 0, 1, 4, 2, 1, 1, 0, 1, 0, 1, 1, 0, 1, 1, 1, 2, 1, 1, 1, 1, 0, 0, 0, 1, 3, 0, 0, 2, 2, 0, 1, 1, 0, 4, 1, 1, 0, 0, 0, 1, 2, 1, 0, 1, 0, 1, 1, 0, 1, 2, 1, 2, 1, 1, 0, 1, 0, 2, 1, 0, 0, 1, 0, 0, 2, 1, 2, 1, 3, 1, 2, 2, 1, 1, 1, 1, 1, 1, 1, 1, 0, 2, 0, 1, 2, 2, 1, 1, 0, 0, 2, 1, 2, 0, 1, 0, 1, 0, 4, 1, 0, 0, 1, 1, 1, 0, 2, 1, 0, 1, 1, 1, 0, 1, 1, 1, 0, 1, 1, 0, 0, 1, 1, 0, 0, 3, 2, 1, 1, 0, 1, 2, 1, 1, 1, 2, 1, 0, 2, 0, 1, 0, 1, 0, 0, 1, 2, 0, 0, 1, 1, 0, 1, 1, 0, 2, 0, 1, 1, 1, 1, 1, 0, 1, 1, 1, 2, 1, 1, 0, 5, 1, 1, 3, 0, 1, 1, 1, 0, 0, 1, 4, 2, 1, 1, 1, 1, 2, 1, 0, 1, 1, 2, 1, 0, 3, 2, 0, 1, 0, 2, 5, 5, 2, 1, 0, 1, 1, 0, 0, 1, 0, 1, 1, 0, 1, 1, 1, 1, 2, 3, 1, 1, 1, 1, 1, 2, 0, 1, 1, 2, 0, 0, 2, 3, 2, 1, 0, 1, 2, 0, 1, 1, 1, 0, 0, 1, 0, 1, 5, 1, 2, 1, 1, 1, 1, 4, 1, 2, 0, 0, 0, 0, 0, 1, 2, 2, 2, 1, 0, 1, 1, 1, 0, 2, 0, 1, 2, 1, 1, 1, 0, 1, 0, 1, 1, 1, 1, 1, 2, 1, 0, 0, 0, 1, 2, 0, 1, 0, 2, 0, 1, 0, 1, 0, 1, 1, 0, 1, 4, 1, 0, 0, 0, 1, 4, 1, 1, 1, 1, 1, 0, 0, 1, 1, 4, 6, 1, 1, 2, 1, 1, 1, 1, 0, 0, 2, 0, 0, 1, 1, 1, 1, 1, 0, 1, 1, 1, 2, 1, 2, 0, 2, 1, 2, 1, 1, 0, 0, 0, 2, 1, 1, 0, 0, 0, 0, 1, 1, 1, 0, 1, 1, 3, 1, 2, 2, 1, 0, 2, 1, 2, 1, 0, 1, 2, 3, 1, 1, 0, 1, 1, 2, 0, 2, 0, 1, 3, 1, 0, 0, 1, 0, 3, 1, 0, 0, 1, 1, 0, 2, 1, 1, 2, 3, 4, 1, 2, 1, 0, 1, 2, 1, 0, 0, 1, 0, 3, 1, 0, 1, 1, 1, 2, 0, 1, 1, 2, 2, 2, 1, 1, 0, 2, 2, 0, 2, 1, 0, 1, 1, 1, 1, 2, 0, 1, 1, 1, 1, 1, 2, 0, 1, 1, 0, 1, 1, 1, 0, 1, 1, 1, 1, 0, 5, 1, 0, 1, 1, 1, 1, 2, 1, 0, 1, 1, 0, 0, 0, 3, 2, 0, 1, 0, 0, 1, 0, 2, 0, 2, 0, 1, 0, 1, 2, 0, 1, 1, 4, 0, 2, 2, 0, 1, 2, 2, 1, 0, 1, 1, 1, 2, 0, 1, 2, 0, 2, 2, 1, 1, 3, 2, 2, 1, 0, 0, 1, 1, 0, 4, 1, 1, 1, 1, 2, 2, 0, 1, 2, 0, 0, 0, 2, 1, 1, 0, 1, 1, 0, 1, 1, 0, 2, 1, 0, 0, 1, 1, 1, 0, 0, 1, 1, 2, 1, 0, 1, 1, 1, 0, 0, 1, 2, 1, 3, 0, 2, 2, 2, 2, 2, 0, 0, 1, 1, 2, 3, 2, 2, 1, 1, 1, 0, 1, 1, 2, 0, 1, 1, 1, 0, 0, 2, 2, 0, 1, 1, 1, 1, 1, 0, 2, 2, 1, 1, 0, 0, 1, 0, 1, 2, 0, 1, 0, 0, 1, 0, 0, 1, 2, 6, 1, 1, 0, 0, 2, 1, 1, 0, 2, 1, 0, 1, 3, 2, 1, 3, 2, 1, 1, 1, 2, 1, 0, 0, 0, 1, 1, 1, 0, 1, 1, 0, 1, 1, 2, 0, 2, 1, 2, 1, 1, 1, 1, 1, 0, 1, 1, 0, 1, 1, 1, 2, 1, 0, 2, 0, 1, 0, 1, 0, 1, 1, 3, 1, 3, 1, 1, 1, 3, 0, 2, 1, 0, 2, 1, 0, 2, 0, 1, 0, 2, 0, 2, 1, 5, 0, 1, 1, 1, 1, 0, 2, 2, 0, 1, 1, 1, 1, 1, 2, 0, 0, 0, 1, 3, 2, 0, 3, 0, 0, 0, 2, 0, 1, 1, 0, 0, 0, 1, 1, 1, 1, 1, 1, 1, 1, 1, 0, 1, 1, 1, 1, 0, 1, 3, 0, 3, 0, 0, 2, 2, 0, 1, 2, 1, 2, 1, 0, 2, 1, 0, 1, 0, 0, 1, 1, 2, 0, 2, 0, 0, 1, 0, 2, 1, 0, 0, 1, 2, 1, 1, 0, 1, 1, 0, 1, 1, 0, 1, 0, 0, 2, 1, 1, 1, 1, 1, 1, 1, 0, 1, 1, 1, 1, 4, 2, 3, 0, 1, 2, 1, 0, 0, 1, 1, 0, 2, 2, 1, 2, 1, 2, 1, 1, 2, 0, 2, 0, 0, 1, 2, 2, 0, 2, 0, 1, 0, 2, 0, 0, 2, 1, 1, 2, 1, 2, 0, 0, 1, 1, 1, 2, 1, 2, 1, 0, 1, 4, 2, 4, 2, 1, 2, 0, 0, 0, 3, 2, 2, 5, 1, 0, 0, 1, 1, 0, 2, 1, 0, 0, 0, 0, 1, 2, 2, 1, 1, 1, 0, 2, 1, 1, 0, 3, 2, 0, 1, 1, 1, 1, 1, 0, 2, 1, 2, 2, 1, 1, 1, 1, 1, 1, 2, 2, 5, 1, 0, 1, 1, 1, 0, 1, 1, 1, 3, 1, 0, 0, 3, 6, 2, 0, 1, 0, 0, 2, 2, 1, 0, 0, 1, 1, 1, 1, 4, 1, 1, 1, 0, 2, 1, 2, 1, 1, 4, 0, 1, 0, 2, 0, 2, 1, 1, 1, 0, 1, 1, 1, 2, 0, 0, 1, 3, 2, 0, 2, 1, 0, 0, 0, 1, 5, 1, 2, 3, 2, 2, 1, 1, 1, 1, 1, 1, 1, 1, 1, 2, 1, 1, 1, 1, 1, 2, 2, 0, 1, 0, 0, 1, 0, 0, 2, 0, 1, 1, 1, 0, 1, 3, 0, 0, 1, 0, 1, 2, 1, 0, 2, 2, 1, 1, 1, 0, 2, 0, 1, 1, 0, 3, 1, 1, 2, 3, 0, 1, 0, 2, 2, 1, 0, 1, 1, 0, 2, 2, 2, 1, 1, 1, 0, 1, 0, 0, 1, 0, 1, 1, 4, 1, 0, 1, 1, 1, 0, 1, 0, 1, 2, 0, 1, 0, 1, 1, 4, 1, 0, 0, 2, 1, 2, 1, 0, 0, 2, 1, 1, 1, 1, 1, 0, 2, 1, 1, 2, 1, 0, 0, 0, 2, 1, 2, 0, 1, 1, 1, 1, 1, 2, 0, 0, 1, 0, 1, 2, 1, 2, 1, 1, 1, 4, 2, 0, 1, 0, 0, 3, 0, 3, 5, 1, 0, 1, 1, 2, 0, 1, 1, 2, 0, 2, 1, 2, 1, 0, 1, 1, 1, 0, 1, 1, 2, 4, 1, 1, 0, 1, 0, 0, 1, 1, 1, 0, 2, 0, 2, 1, 1, 1, 2, 1, 0, 0, 0, 0, 0, 0, 1, 1, 3, 1, 3, 1, 0, 0, 0, 0, 0, 0, 1, 1, 1, 1, 3, 1, 2, 1, 0, 1, 0, 1, 0, 1, 0, 1, 2, 2, 0, 4, 1, 1, 0, 3, 1, 0, 0, 0, 1, 3, 1, 1, 0, 0, 0, 2, 0, 0, 0, 1, 0, 0, 0, 1, 2, 1, 0, 1, 1, 1, 0, 0, 2, 1, 2, 1, 1, 0, 1, 3, 0, 0, 1, 2, 0, 0, 1, 1, 1, 1, 0, 1, 2, 1, 0, 1, 2, 1, 2, 1, 1, 2, 0, 0, 1, 0, 4, 1, 0, 0, 0, 1, 1, 0, 1, 1, 1, 2, 0, 1, 0, 1, 0, 0, 1, 1, 1, 1, 1, 1, 2, 1, 0, 2, 2, 0, 1, 1, 0, 2, 2, 0, 1, 1, 1, 2, 1, 1, 1, 0, 1, 1, 0, 0, 0, 1, 1, 1, 1, 2, 1, 1, 0, 1, 1, 1, 1, 2, 0, 1, 2, 0, 1, 2, 1, 1, 2, 4, 1, 2, 4, 2, 1, 1, 0, 0, 0, 0, 2, 1, 2, 2, 2, 2, 1, 1, 0, 1, 0, 1, 2, 0, 2, 1, 0, 1, 2, 1, 1, 1, 1, 0, 3, 2, 0, 2, 1, 0, 2, 1, 0, 0, 0, 8, 1, 2, 2, 0, 1, 2, 1, 0, 1, 1, 0, 2, 2, 2, 1, 2, 0, 0, 1, 0, 1, 0, 0, 0, 5, 0, 1, 1, 0, 2, 0, 2, 0, 0, 0, 3, 0, 1, 1, 0, 0, 0, 2, 1, 1, 1, 2, 0, 2, 2, 1, 1, 0, 1, 1, 2, 0, 0, 1, 0, 1, 1, 3, 1, 1, 1, 0, 0, 1, 0, 1, 2, 1, 1, 1, 1, 0, 1, 1, 1, 1, 2, 2, 2, 0, 2, 1, 1, 4, 0, 0, 1, 0, 1, 1, 1, 0, 1, 1, 1, 0, 1, 1, 2, 1, 1, 0, 2, 1, 1, 1, 1, 1, 0, 0, 3, 1, 1, 0, 2, 0, 2, 1, 1, 1, 1, 1, 1, 1, 1, 3, 1, 0, 2, 1, 1, 1, 0, 2, 0, 6, 0, 6, 0, 0, 0, 4, 0, 1, 1, 0, 1, 1, 1, 3, 1, 2, 0, 0, 2, 1, 1, 1, 2, 1, 1, 0, 1, 0, 2, 2, 0, 0, 1, 1, 2, 0, 1, 1, 0, 1, 3, 1, 3, 1, 0, 1, 1, 1, 1, 0, 1, 1, 2, 1, 1, 1, 2, 1, 0, 0, 0, 1, 1, 2, 0, 0, 1, 2, 1, 4, 2, 2, 0, 1, 1, 1, 0, 1, 4, 0, 1, 2, 1, 1, 1, 0, 2, 0, 2, 1, 1, 2, 2, 1, 1, 1, 1, 0, 3, 1, 0, 0, 3, 2, 1, 1, 1, 1, 2, 0, 1, 0, 1, 1, 0, 0, 0, 3, 2, 0, 1, 0, 3, 2, 0, 1, 1, 1, 2, 0, 2, 1, 0, 0, 0, 0, 1, 1, 1, 1, 1, 2, 0, 2, 0, 0, 0, 1, 1, 1, 1, 0, 1, 1, 0, 1, 0, 1, 0, 1, 0, 1, 0, 0, 0, 1, 0, 1, 1, 0, 2, 0, 0, 1, 0, 0, 1, 0, 2, 1, 1, 1, 1, 1, 0, 1, 1, 1, 1, 0, 1, 2, 0, 1, 0, 1, 2, 1, 1, 2, 1, 1, 2, 0, 0, 0, 0, 0, 0, 1, 0, 1, 2, 1, 2, 0, 1, 1, 1, 1, 2, 1, 0, 1, 1, 1, 0, 0, 1, 1, 1, 1, 1, 3, 1, 2, 0, 1, 0, 1, 0, 1, 4, 1, 1, 0, 1, 0, 1, 2, 2, 0, 0, 1, 1, 1, 1, 2, 0, 1, 2, 1, 1, 2, 1, 0, 2, 0, 0, 2, 1, 2, 0, 2, 0, 1, 1, 1, 2, 1, 3, 1, 2, 0, 1, 0, 1, 1, 0, 1, 0, 0, 3, 2, 2, 0, 1, 1, 0, 0, 0, 1, 0, 1, 1, 1, 1, 0, 0, 1, 1, 2, 1, 0, 0, 1, 1, 1, 1, 1, 1, 1, 0, 1, 0, 0, 0, 1, 1, 1, 1, 1, 0, 1, 1, 1, 1, 0, 0, 2, 2, 1, 1, 3, 1, 0, 1, 1, 1, 1, 1, 1, 1, 1, 2, 2, 0, 2, 1, 0, 1, 2, 1, 0, 1, 2, 1, 2, 1, 2, 2, 2, 1, 0, 0, 0, 1, 0, 1, 1, 1, 1, 2, 1, 0, 2, 0, 1, 2, 0, 2, 2, 0, 0, 0, 4, 4, 1, 0, 1, 2, 1, 1, 1, 0, 1, 4, 1, 1, 1, 1, 1, 4, 1, 2, 1, 1, 1, 0, 1, 0, 3, 1, 1, 1, 1, 2, 0, 0, 2, 0, 1, 2, 1, 1, 0, 4, 4, 1, 0, 1, 1, 1, 0, 1, 1, 2, 1, 1, 0, 1, 1, 2, 1, 0, 0, 0, 4, 0, 1, 0, 0, 2, 0, 0, 2, 0, 2, 0, 2, 1, 0, 0, 1, 1, 1, 1, 1, 1, 2, 1, 1, 0, 2, 0, 0, 1, 0, 4, 2, 2, 2, 1, 1, 2, 1, 0, 2, 0, 2, 0, 1, 0, 1, 1, 1, 1, 1, 1, 4, 6, 0, 3, 1, 4, 0, 1, 2, 0, 6, 0, 0, 0, 5, 1, 1, 4, 0, 0, 1, 1, 1, 0, 0, 2, 1, 1, 1, 1, 1, 0, 2, 1, 1, 1, 1, 1, 0, 0, 0, 2, 1, 5, 0, 0, 0, 1, 2, 1, 1, 0, 1, 1, 1, 1, 2, 3, 1, 2, 0, 0, 2, 1, 0, 1, 1, 1, 1, 2, 2, 1, 0, 0, 1, 0, 1, 0, 1, 2, 1, 1, 0, 2, 1, 0, 0, 1, 1, 4, 1, 1, 1, 1, 1, 1, 1, 0, 0, 2, 2, 0, 1, 2, 2, 1, 1, 0, 1, 1, 1, 1, 2, 1, 1, 1, 1, 0, 1, 1, 1, 1, 0, 1, 0, 0, 0, 1, 0, 1, 1, 1, 0, 1, 1, 0, 1, 1, 0, 0, 1, 2, 2, 1, 1, 2, 2, 1, 0, 1, 1, 4, 1, 0, 0, 3, 1, 1, 2, 1, 1, 2, 1, 1, 1, 0, 1, 1, 2, 1, 1, 1, 0, 1, 0, 0, 1, 1, 2, 0, 2, 0, 0, 1, 3, 1, 1, 1, 4, 0, 1, 4, 1, 1, 1, 0, 1, 4, 3, 1, 0, 1, 3, 0, 1, 1, 1, 2, 0, 1, 1, 1, 0, 1, 2, 1, 3, 1, 0, 1, 3, 1, 2, 1, 1, 1, 1, 1, 1, 1, 0, 0, 0, 0, 0, 2, 1, 1, 3, 0, 1, 0, 2, 2, 0, 0, 0, 2, 3, 1, 0, 0, 0, 0, 0, 0, 2, 1, 0, 4, 0, 0, 1, 0, 7, 2, 1, 0, 2, 4, 2, 1, 2, 1, 1, 0, 5, 2, 2, 4, 2, 1, 2, 1, 2, 1, 5, 5, 0, 0, 1, 1, 2, 0, 5, 0, 1, 6, 1, 1, 1, 2, 0, 1, 0, 2, 1, 0, 0, 5, 1, 2, 0, 1, 4, 0, 1, 0, 1, 4, 2, 0, 1, 2, 0, 0, 2, 2, 1, 1, 0, 0, 4, 4, 2, 0, 1, 0, 1, 0, 1, 2, 2, 0, 0, 2, 2, 1, 4, 1, 2, 1, 2, 6, 1, 1, 2, 0, 4, 5, 1, 0, 1, 1, 2, 3, 1, 0, 4, 1, 2, 3, 0, 0, 2, 2, 1, 1, 0, 6, 6, 2, 4, 0, 0, 2, 1, 0, 3, 1, 1, 1, 1, 1, 0, 1, 2, 2, 1, 4, 0, 1, 0, 0, 1, 0, 0, 0, 0, 3, 2, 2, 4, 2, 0, 0, 0, 0, 0, 1, 0, 1, 2, 1, 2, 0, 2, 0, 0, 0, 1, 1, 0, 0, 1, 1, 1, 3, 2, 0, 1, 1, 2, 4, 0, 0, 5, 0, 2, 1, 0, 2, 7, 2, 1, 0, 0, 5, 3, 4, 0, 2, 0, 1, 6, 1, 1, 0, 2, 1, 1, 0, 0, 4, 1, 4, 2, 2, 6, 1, 0, 0, 0, 6, 2, 2, 2, 1, 1, 1, 1, 0, 2, 1, 1, 2, 0, 2, 3, 0, 0, 1, 1, 1, 0, 1, 0, 2, 12, 0, 0, 1, 0, 0, 1, 6, 3, 4, 1, 2, 2, 0, 1, 0, 3, 1, 2, 0, 5, 1, 1, 1, 2, 1, 1, 2, 2, 3, 0, 3, 0, 1, 1, 1, 0, 0, 0, 1, 0, 1, 2, 3, 3, 3, 0, 1, 2, 5, 2, 3, 2, 2, 5, 0, 4, 1, 2, 0, 6, 0, 1, 1, 0, 0, 1, 0, 0, 2, 0, 3, 0, 1, 0, 2, 2, 2, 5, 1, 1, 0, 1, 0, 0, 0, 4, 5, 1, 2, 2, 1, 0, 2, 2, 0, 0, 2, 0, 0, 1, 3, 1, 3, 1, 8, 0, 2, 1, 1, 1, 2, 1, 1, 6, 1, 17, 1, 1, 1, 1, 0, 2, 0, 2, 2, 1, 0, 0, 3, 1, 0, 0, 1, 0, 1, 0, 1, 0, 3, 1, 2, 0, 5, 0, 1, 1, 2, 2, 4, 0, 0, 4, 1, 2, 0, 1, 1, 1, 1, 2, 0, 1, 1, 2, 0, 0, 1, 0, 2, 0, 2, 2, 1, 2, 0, 0, 0, 2, 2, 1, 3, 3, 0, 0, 0, 4, 0, 1, 0, 3, 0, 0, 1, 3, 2, 0, 2, 3, 4, 2, 8, 0, 3, 2, 2, 2, 0, 4, 2, 2, 5, 0, 1, 0, 4, 1, 2, 2, 4, 2, 2, 1, 1, 2, 2, 2, 0, 1, 1, 0, 0, 1, 5, 1, 1, 1, 2, 1, 0, 0, 2, 0, 0, 3, 0, 1, 0, 1, 1, 0, 2, 1, 1, 1, 2, 1, 1, 1, 2, 0, 0, 2, 1, 4, 1, 1, 4, 0, 1, 0, 0, 0, 2, 4, 1, 0, 0, 2, 1, 1, 1, 4, 3, 3, 0, 3, 5, 1, 0, 0, 0, 1, 1, 1, 2, 0, 0, 1, 0, 0, 2, 0, 3, 1, 2, 3, 0, 1, 0, 0, 0, 1, 2, 1, 1, 2, 6, 2, 3, 1, 0, 6, 1, 5, 1, 0, 0, 0, 0, 1, 2, 0, 2, 0, 0, 0, 0, 2, 10, 0, 4, 1, 0, 1, 2, 1, 0, 2, 2, 1, 1, 0, 7, 0, 1, 0, 1, 0, 4, 0, 2, 0, 0, 0, 1, 1, 2, 2, 2, 0, 0, 1, 1, 2, 1, 0, 0, 1, 1, 2, 1, 1, 2, 4, 2, 2, 0, 1, 1, 0, 2, 2, 0, 2, 0, 2, 1, 2, 1, 2, 1, 4, 2, 1, 1, 0, 3, 0, 0, 3, 4, 0, 0, 4, 2, 5, 0, 0, 0, 1, 3, 1, 2, 0, 0, 2, 2, 1, 3, 1, 0, 0, 0, 1, 2, 5, 1, 0, 0, 1, 0, 0, 1, 0, 1, 0, 0, 0, 2, 0, 0, 1, 1, 5, 1, 2, 0, 0, 1, 4, 2, 1, 0, 1, 1, 0, 1, 2, 0, 1, 0, 1, 1, 3, 1, 3, 1, 3, 1, 2, 0, 0, 0, 1, 6, 1, 0, 0, 0, 1, 0, 0, 0, 3, 0, 0, 2, 0, 0, 0, 1, 4, 1, 4, 5, 0, 1, 0, 1, 1, 0, 0, 0, 1, 0, 1, 0, 1, 1, 2, 1, 2, 2, 2, 2, 2, 5, 1, 1, 1, 1, 0, 1, 0, 0, 1, 1, 3, 1, 3, 0, 4, 0, 1, 2, 1, 0, 4, 2, 0, 0, 0, 3, 1, 1, 1, 1, 2, 4, 1, 2, 1, 1, 1, 2, 0, 2, 0, 1, 2, 2, 0, 1, 0, 0, 0, 0, 1, 0, 0, 2, 1, 1, 0, 0, 2, 1, 1, 1, 1, 0, 3, 1, 0, 0, 0, 1, 0, 2, 3, 16, 0, 2, 1, 1, 0, 5, 2, 2, 1, 1, 6, 1, 0, 1, 1, 3, 1, 1, 1, 1, 1, 1, 0, 2, 1, 2, 3, 1, 1, 4, 0, 0, 1, 2, 1, 1, 2, 5, 1, 2, 0, 2, 1, 2, 2, 0, 0, 0, 4, 6, 0, 0, 0, 0, 0, 0, 1, 1, 2, 1, 0, 2, 0, 2, 0, 1, 1, 0, 2, 0, 2, 1, 0, 1, 5, 1, 3, 2, 0, 0, 1, 2, 3, 1, 1, 2, 2, 1, 0, 1, 2, 0, 0, 1, 1, 0, 1, 0, 1, 0, 0, 2, 1, 0, 1, 2, 1, 1, 1, 2, 1, 1, 0, 1, 0, 4, 2, 0, 1, 1, 0, 2, 1, 0, 0, 1, 0, 1, 1, 0, 0, 4, 0, 0, 2, 0, 0, 1, 2, 1, 3, 2, 3, 1, 0, 0, 1, 1, 0, 0, 0, 1, 3, 1, 1, 1, 0, 0, 0, 2, 2, 2, 1, 0, 2, 0, 0, 1, 1, 2, 1, 2, 1, 0, 4, 0, 0, 1, 0, 1, 1, 2, 2, 3, 0, 0, 1, 0, 1, 1, 1, 4, 0, 1, 0, 3, 1, 6, 4, 5, 3, 1, 0, 1, 13, 5, 0, 3, 1, 3, 6, 1, 2, 6, 1, 1, 1, 1, 2, 2, 4, 1, 0, 1, 1, 0, 0, 1, 0, 3, 4, 1, 0, 1, 0, 2, 1, 1, 0, 0, 1, 6, 0, 5, 0, 1, 0, 1, 1, 0, 1, 1, 0, 2, 0, 0, 1, 1, 1, 2, 0, 2, 1, 2, 1, 2, 0, 1, 0, 1, 1, 3, 0, 1, 4, 3, 2, 3, 1, 1, 5, 1, 2, 0, 1, 0, 1, 2, 1, 3, 2, 2, 5, 1, 1, 0, 0, 0, 0, 1, 1, 1, 2, 3, 2, 2, 1, 1, 1, 1, 1, 0, 3, 0, 1, 1, 0, 2, 3, 0, 0, 1, 2, 0, 0, 1, 2, 1, 1, 2, 2, 0, 1, 1, 2, 2, 0, 2, 1, 0, 1, 2, 3, 1, 1, 0, 2, 6, 1, 1, 3, 2, 3, 0, 1, 0, 0, 1, 2, 0, 0, 0, 1, 0, 6, 0, 5, 2, 1, 1, 1, 1, 1, 1, 2, 0, 0, 1, 4, 3, 0, 1, 0, 0, 1, 3, 0, 1, 0, 0, 0, 1, 2, 4, 0, 1, 0, 1, 5, 3, 1, 1, 1, 3, 1, 0, 1, 1, 1, 0, 3, 1, 0, 0, 1, 2, 2, 1, 0, 3, 1, 1, 3, 0, 0, 1, 0, 0, 4, 2, 0, 1, 2, 5, 0, 1, 1, 1, 0, 0, 0, 2, 0, 0, 0, 0, 1, 0, 1, 2, 0, 1, 1, 2, 1, 1, 10, 3, 1, 2, 0, 2, 0, 0, 1, 1, 2, 4, 0, 2, 1, 1, 2, 7, 0, 3, 0, 2, 2, 2, 0, 0, 1, 1, 0, 1, 1, 0, 2, 3, 1, 0, 0, 1, 0, 2, 2, 2, 0, 1, 0, 2, 1, 1, 0, 4, 3, 0, 7, 2, 0, 2, 0, 1, 1, 0, 1, 1, 3, 1, 2, 1, 0, 1, 2, 1, 0, 1, 1, 1, 0, 0, 2, 2, 1, 0, 1, 0, 1, 0, 2, 1, 0, 1, 2, 0, 1, 0, 0, 0, 1, 13, 1, 0, 0, 0, 0, 0, 0, 1, 2, 0, 1, 5, 0, 1, 1, 1, 2, 4, 3, 1, 1, 0, 0, 0, 2, 2, 1, 0, 1, 0, 1, 1, 1, 4, 2, 0, 0, 1, 0, 0, 0, 0, 2, 1, 1, 0, 6, 0, 4, 1, 1, 1, 2, 1, 0, 1, 1, 0, 2, 0, 1, 1, 1, 4, 0, 5, 0, 0, 1, 0, 0, 1, 2, 1, 3, 0, 0, 1, 4, 2, 1, 0, 1, 1, 0, 1, 2, 2, 2, 1, 0, 3, 0, 1, 1, 2, 0, 1, 0, 0, 3, 2, 0, 0, 1, 2, 0, 1, 0, 1, 2, 5, 2, 2, 2, 4, 1, 1, 1, 0, 4, 0, 1, 0, 0, 1, 0, 0, 0, 5, 4, 0, 1, 5, 0, 0, 1, 1, 1, 2, 3, 1, 3, 6, 6, 0, 0, 0, 0, 2, 6, 2, 0, 3, 1, 5, 1, 4, 2, 0, 1, 2, 6, 1, 0, 2, 0, 0, 3, 1, 1, 0, 0, 1, 4, 0, 5, 0, 3, 1, 1, 1, 1, 0, 1, 2, 2, 2, 1, 0, 3, 2, 1, 6, 0, 0, 1, 2, 0, 0, 1, 1, 0, 0, 0, 0, 1, 1, 0, 0, 2, 0, 2, 0, 1, 1, 0, 0, 3, 1, 4, 0, 2, 6, 7, 2, 1, 0, 0, 1, 1, 4, 2, 0, 1, 1, 1, 1, 0, 1, 1, 0, 1, 0, 2, 1, 0, 1, 3, 1, 1, 0, 2, 2, 1, 2, 0, 6, 1, 1, 2, 3, 2, 3, 1, 2, 1, 0, 6, 5, 4, 0, 1, 5, 1, 0, 3, 0, 0, 2, 1, 1, 1, 1, 1, 1, 0, 1, 2, 0, 0, 3, 0, 0, 0, 2, 1, 10, 2, 1, 4, 0, 0, 1, 1, 1, 0, 0, 1, 1, 2, 1, 5, 3, 2, 4, 1, 3, 1, 0, 0, 1, 0, 4, 2, 1, 0, 1, 5, 3, 1, 3, 6, 2, 0, 5, 1, 0, 1, 2, 1, 0, 0, 1, 2, 1, 3, 6, 2, 1, 1, 3, 0, 3, 0, 2, 0, 2, 1, 4, 0, 1, 0, 2, 0, 1, 1, 0, 5, 1, 2, 1, 0, 2, 3, 4, 0, 0, 1, 0, 3, 1, 5, 6, 5, 2, 4, 3, 0, 1, 0, 0, 0, 4, 0, 0, 2, 0, 2, 0, 0, 3, 0, 1, 1, 1, 1, 0, 2, 0, 2, 0, 1, 2, 0, 5, 0, 0, 0, 0, 1, 5, 1, 0, 2, 0, 2, 4, 0, 2, 0, 0, 4, 9, 1, 3, 1, 2, 0, 0, 1, 2, 0, 0, 2, 1, 1, 0, 1, 0, 1, 1, 0, 1, 4, 2, 4, 2, 2, 1, 4, 1, 1, 0, 1, 1, 0, 0, 0, 2, 0, 1, 0, 1, 0, 2, 1, 1, 0, 0, 2, 0, 1, 0, 0, 6, 2, 1, 0, 0, 0, 0, 0, 5, 0, 0, 1, 6, 6, 1, 2, 5, 0, 3, 0, 0, 2, 1, 4, 2, 0, 5, 2, 1, 0, 2, 4, 0, 2, 0, 2, 0, 1, 0, 0, 0, 0, 3, 0, 1, 0, 4, 1, 1, 2, 0, 0, 0, 1, 5, 1, 2, 1, 2, 6, 1, 8, 0, 1, 1, 0, 2, 0, 3, 2, 0, 2, 0, 1, 0, 1, 0, 1, 1, 0, 0, 2, 0, 2, 2, 1, 1, 1, 1, 1, 3, 2, 0, 1, 5, 0, 2, 2, 0, 0, 1, 4, 2, 1, 2, 3, 3, 2, 1, 0, 1, 1, 0, 1, 1, 3, 4, 1, 2, 0, 5, 0, 3, 4, 1, 0, 1, 0, 1, 1, 2, 1, 5, 0, 0, 5, 2, 0, 0, 1, 1, 2, 0, 1, 0, 1, 2, 2, 0, 2, 0, 1, 4, 1, 1, 2, 4, 2, 0, 6, 6, 0, 0, 1, 0, 1, 1, 4, 2, 1, 3, 1, 1, 0, 1, 1, 1, 0, 0, 2, 1, 1, 0, 2, 1, 0, 2, 0, 5, 2, 2, 2, 2, 2, 1, 3, 3, 6, 3, 2, 1, 0, 2, 2, 0, 1, 2, 6, 2, 3, 5, 1, 1, 1, 1, 1, 2, 1, 1, 2, 0, 0, 5, 1, 1, 2, 1, 1, 1, 1, 0, 1, 0, 2, 1, 1, 2, 2, 3, 0, 1, 1, 4, 3, 1, 1, 5, 0, 0, 0, 0, 0, 1, 1, 2, 1, 2, 1, 1, 3, 1, 2, 3, 0, 1, 3, 2, 1, 1, 0, 2, 0, 1, 2, 1, 10, 4, 2, 0, 0, 0, 4, 1, 1, 2, 2, 3, 3, 1, 1, 1, 1, 3, 3, 1, 3, 2, 0, 0, 0, 4, 1, 0, 4, 1, 0, 1, 3, 1, 0, 0, 0, 1, 1, 3, 3, 2, 1, 2, 4, 1, 0, 0, 1, 0, 4, 0, 4, 1, 2, 2, 2, 2, 1, 1, 1, 1, 0, 2, 2, 0, 0, 6, 1, 3, 1, 0, 0, 1, 0, 0, 0, 3, 5, 3, 1, 1, 0, 1, 1, 1, 0, 1, 1, 0, 1, 0, 1, 1, 2, 0, 0, 1, 1, 4, 1, 1, 0, 1, 6, 2, 0, 1, 5, 2, 0, 1, 5, 1, 0, 5, 3, 2, 0, 1, 1, 0, 3, 2, 1, 5, 0, 2, 0, 1, 3, 0, 1, 0, 4, 1, 6, 1, 1, 0, 1, 1, 0, 2, 0, 2, 0, 2, 0, 1, 0, 0, 2, 0, 1, 2, 2, 0, 2, 1, 0, 0, 0, 0, 1, 6, 1, 0, 1, 0, 0, 1, 0, 0, 1, 2, 1, 0, 4, 2, 1, 1, 2, 0, 0, 0, 3, 1, 1, 1, 5, 10, 3, 1, 0, 0, 0, 0, 2, 0, 0, 2, 0, 1, 1, 1, 5, 3, 0, 3, 2, 1, 0, 6, 1, 0, 3, 0, 0, 1, 2, 1, 1, 1, 1, 2, 0, 1, 1, 2, 0, 0, 0, 1, 1, 1, 0, 1, 0, 1, 2, 1, 6, 4, 0, 0, 1, 0, 0, 0, 2, 5, 2, 0, 0, 4, 2, 0, 0, 1, 2, 5, 0, 0, 2, 0, 1, 2, 0, 0, 0, 1, 6, 1, 1, 0, 0, 1, 0, 1, 0, 0, 1, 2, 6, 0, 0, 1, 0, 2, 1, 4, 5, 1, 0, 1, 1, 1, 2, 0, 1, 0, 1, 0, 2, 2, 0, 6, 1, 2, 2, 2, 0, 1, 0]\n"
          ]
        }
      ],
      "source": [
        "from rdkit.Chem import Descriptors\n",
        "from rdkit.Chem import MolFromSmiles\n",
        "\n",
        "ID = df2.molecule_chembl_id\n",
        "STATUS = df2.valor_bioactividad\n",
        "\n",
        "mols = []\n",
        "\n",
        "for i in df2.canonical_smiles:\n",
        "        mol = MolFromSmiles(i)\n",
        "        mols.append(mol)\n",
        "MW = [Descriptors.MolWt(n) for n in mols]\n",
        "LogP = [Descriptors.MolLogP(o) for o in mols]\n",
        "nHAcc = [Descriptors.NumHAcceptors(p) for p in mols]\n",
        "nHDon = [Descriptors.NumHDonors(q) for q in mols]\n",
        "\n",
        "print(nHDon)\n",
        "\n",
        "data = pd.DataFrame(\n",
        "    {'molecule_chembl_id': ID,\n",
        "     'valor_bioactividad' : STATUS,\n",
        "     'Peso_Molecular': MW, \n",
        "     'LogP': LogP,\n",
        "     'Num_Aceptores': nHAcc,\n",
        "     'Num_Donadores_H': nHDon\n",
        "    })"
      ]
    },
    {
      "cell_type": "markdown",
      "metadata": {
        "id": "aB4P2_Nlux4x"
      },
      "source": [
        "## Gráficas de densidad para cada medición PIC50 (Estimación Kernel)"
      ]
    },
    {
      "cell_type": "code",
      "execution_count": null,
      "metadata": {
        "colab": {
          "base_uri": "https://localhost:8080/",
          "height": 832
        },
        "id": "TWH5jGzYux4x",
        "outputId": "5dd630c3-87a8-456a-fbec-d7110b510df7"
      },
      "outputs": [
        {
          "name": "stderr",
          "output_type": "stream",
          "text": [
            "c:\\Python3\\lib\\site-packages\\seaborn\\distributions.py:2619: FutureWarning: `distplot` is a deprecated function and will be removed in a future version. Please adapt your code to use either `displot` (a figure-level function with similar flexibility) or `kdeplot` (an axes-level function for kernel density plots).\n",
            "  warnings.warn(msg, FutureWarning)\n"
          ]
        },
        {
          "ename": "<class 'pandas._config.config.OptionError'>",
          "evalue": "No such keys(s): 'mode.use_inf_as_null'",
          "output_type": "error",
          "traceback": [
            "\u001b[1;31m---------------------------------------------------------------------------\u001b[0m",
            "\u001b[1;31mOptionError\u001b[0m                               Traceback (most recent call last)",
            "\u001b[1;32mC:/Users/LEGION/AppData/Local/Temp/xpython_17204/2835631731.py\u001b[0m in \u001b[0;36m<module>\u001b[1;34m\u001b[0m\n\u001b[0;32m      2\u001b[0m \u001b[0mplt\u001b[0m\u001b[1;33m.\u001b[0m\u001b[0msubplot\u001b[0m\u001b[1;33m(\u001b[0m\u001b[1;36m2\u001b[0m\u001b[1;33m,\u001b[0m \u001b[1;36m1\u001b[0m\u001b[1;33m,\u001b[0m\u001b[1;36m1\u001b[0m\u001b[1;33m)\u001b[0m\u001b[1;33m\u001b[0m\u001b[1;33m\u001b[0m\u001b[0m\n\u001b[0;32m      3\u001b[0m \u001b[0mplt\u001b[0m\u001b[1;33m.\u001b[0m\u001b[0mtitle\u001b[0m\u001b[1;33m(\u001b[0m\u001b[1;34m'Densidades de PIC50 para cada clase'\u001b[0m\u001b[1;33m)\u001b[0m\u001b[1;33m\u001b[0m\u001b[1;33m\u001b[0m\u001b[0m\n\u001b[1;32m----> 4\u001b[1;33m \u001b[0max\u001b[0m \u001b[1;33m=\u001b[0m \u001b[0msns\u001b[0m\u001b[1;33m.\u001b[0m\u001b[0mdistplot\u001b[0m\u001b[1;33m(\u001b[0m\u001b[0mdf_2_activo\u001b[0m\u001b[1;33m[\u001b[0m\u001b[1;34m'pIC50'\u001b[0m\u001b[1;33m]\u001b[0m\u001b[1;33m,\u001b[0m \u001b[0mrug\u001b[0m\u001b[1;33m=\u001b[0m\u001b[1;32mTrue\u001b[0m\u001b[1;33m,\u001b[0m \u001b[0mhist\u001b[0m\u001b[1;33m=\u001b[0m\u001b[1;32mFalse\u001b[0m\u001b[1;33m,\u001b[0m\u001b[0mlabel\u001b[0m\u001b[1;33m=\u001b[0m\u001b[1;34m'PIC50 clase activa'\u001b[0m\u001b[1;33m,\u001b[0m\u001b[0mcolor\u001b[0m\u001b[1;33m=\u001b[0m\u001b[1;34m'blue'\u001b[0m\u001b[1;33m)\u001b[0m\u001b[1;33m\u001b[0m\u001b[1;33m\u001b[0m\u001b[0m\n\u001b[0m\u001b[0;32m      5\u001b[0m \u001b[0mplt\u001b[0m\u001b[1;33m.\u001b[0m\u001b[0mlegend\u001b[0m\u001b[1;33m(\u001b[0m\u001b[1;33m)\u001b[0m\u001b[1;33m\u001b[0m\u001b[1;33m\u001b[0m\u001b[0m\n\u001b[0;32m      6\u001b[0m \u001b[0mplt\u001b[0m\u001b[1;33m.\u001b[0m\u001b[0msubplot\u001b[0m\u001b[1;33m(\u001b[0m\u001b[1;36m2\u001b[0m\u001b[1;33m,\u001b[0m \u001b[1;36m1\u001b[0m\u001b[1;33m,\u001b[0m\u001b[1;36m2\u001b[0m\u001b[1;33m)\u001b[0m\u001b[1;33m\u001b[0m\u001b[1;33m\u001b[0m\u001b[0m\n",
            "\u001b[1;32mc:\\Python3\\lib\\site-packages\\seaborn\\distributions.py\u001b[0m in \u001b[0;36mdistplot\u001b[1;34m(a, bins, hist, kde, rug, fit, hist_kws, kde_kws, rug_kws, fit_kws, color, vertical, norm_hist, axlabel, label, ax, x)\u001b[0m\n\u001b[0;32m   2685\u001b[0m     \u001b[1;32mif\u001b[0m \u001b[0mkde\u001b[0m\u001b[1;33m:\u001b[0m\u001b[1;33m\u001b[0m\u001b[1;33m\u001b[0m\u001b[0m\n\u001b[0;32m   2686\u001b[0m         \u001b[0mkde_color\u001b[0m \u001b[1;33m=\u001b[0m \u001b[0mkde_kws\u001b[0m\u001b[1;33m.\u001b[0m\u001b[0mpop\u001b[0m\u001b[1;33m(\u001b[0m\u001b[1;34m\"color\"\u001b[0m\u001b[1;33m,\u001b[0m \u001b[0mcolor\u001b[0m\u001b[1;33m)\u001b[0m\u001b[1;33m\u001b[0m\u001b[1;33m\u001b[0m\u001b[0m\n\u001b[1;32m-> 2687\u001b[1;33m         \u001b[0mkdeplot\u001b[0m\u001b[1;33m(\u001b[0m\u001b[0ma\u001b[0m\u001b[1;33m,\u001b[0m \u001b[0mvertical\u001b[0m\u001b[1;33m=\u001b[0m\u001b[0mvertical\u001b[0m\u001b[1;33m,\u001b[0m \u001b[0max\u001b[0m\u001b[1;33m=\u001b[0m\u001b[0max\u001b[0m\u001b[1;33m,\u001b[0m \u001b[0mcolor\u001b[0m\u001b[1;33m=\u001b[0m\u001b[0mkde_color\u001b[0m\u001b[1;33m,\u001b[0m \u001b[1;33m**\u001b[0m\u001b[0mkde_kws\u001b[0m\u001b[1;33m)\u001b[0m\u001b[1;33m\u001b[0m\u001b[1;33m\u001b[0m\u001b[0m\n\u001b[0m\u001b[0;32m   2688\u001b[0m         \u001b[1;32mif\u001b[0m \u001b[0mkde_color\u001b[0m \u001b[1;33m!=\u001b[0m \u001b[0mcolor\u001b[0m\u001b[1;33m:\u001b[0m\u001b[1;33m\u001b[0m\u001b[1;33m\u001b[0m\u001b[0m\n\u001b[0;32m   2689\u001b[0m             \u001b[0mkde_kws\u001b[0m\u001b[1;33m[\u001b[0m\u001b[1;34m\"color\"\u001b[0m\u001b[1;33m]\u001b[0m \u001b[1;33m=\u001b[0m \u001b[0mkde_color\u001b[0m\u001b[1;33m\u001b[0m\u001b[1;33m\u001b[0m\u001b[0m\n",
            "\u001b[1;32mc:\\Python3\\lib\\site-packages\\seaborn\\_decorators.py\u001b[0m in \u001b[0;36minner_f\u001b[1;34m(*args, **kwargs)\u001b[0m\n\u001b[0;32m     44\u001b[0m             )\n\u001b[0;32m     45\u001b[0m         \u001b[0mkwargs\u001b[0m\u001b[1;33m.\u001b[0m\u001b[0mupdate\u001b[0m\u001b[1;33m(\u001b[0m\u001b[1;33m{\u001b[0m\u001b[0mk\u001b[0m\u001b[1;33m:\u001b[0m \u001b[0marg\u001b[0m \u001b[1;32mfor\u001b[0m \u001b[0mk\u001b[0m\u001b[1;33m,\u001b[0m \u001b[0marg\u001b[0m \u001b[1;32min\u001b[0m \u001b[0mzip\u001b[0m\u001b[1;33m(\u001b[0m\u001b[0msig\u001b[0m\u001b[1;33m.\u001b[0m\u001b[0mparameters\u001b[0m\u001b[1;33m,\u001b[0m \u001b[0margs\u001b[0m\u001b[1;33m)\u001b[0m\u001b[1;33m}\u001b[0m\u001b[1;33m)\u001b[0m\u001b[1;33m\u001b[0m\u001b[1;33m\u001b[0m\u001b[0m\n\u001b[1;32m---> 46\u001b[1;33m         \u001b[1;32mreturn\u001b[0m \u001b[0mf\u001b[0m\u001b[1;33m(\u001b[0m\u001b[1;33m**\u001b[0m\u001b[0mkwargs\u001b[0m\u001b[1;33m)\u001b[0m\u001b[1;33m\u001b[0m\u001b[1;33m\u001b[0m\u001b[0m\n\u001b[0m\u001b[0;32m     47\u001b[0m     \u001b[1;32mreturn\u001b[0m \u001b[0minner_f\u001b[0m\u001b[1;33m\u001b[0m\u001b[1;33m\u001b[0m\u001b[0m\n\u001b[0;32m     48\u001b[0m \u001b[1;33m\u001b[0m\u001b[0m\n",
            "\u001b[1;32mc:\\Python3\\lib\\site-packages\\seaborn\\distributions.py\u001b[0m in \u001b[0;36mkdeplot\u001b[1;34m(x, y, shade, vertical, kernel, bw, gridsize, cut, clip, legend, cumulative, shade_lowest, cbar, cbar_ax, cbar_kws, ax, weights, hue, palette, hue_order, hue_norm, multiple, common_norm, common_grid, levels, thresh, bw_method, bw_adjust, log_scale, color, fill, data, data2, warn_singular, **kwargs)\u001b[0m\n\u001b[0;32m   1768\u001b[0m             \u001b[0mplot_kws\u001b[0m\u001b[1;33m[\u001b[0m\u001b[1;34m\"color\"\u001b[0m\u001b[1;33m]\u001b[0m \u001b[1;33m=\u001b[0m \u001b[0mcolor\u001b[0m\u001b[1;33m\u001b[0m\u001b[1;33m\u001b[0m\u001b[0m\n\u001b[0;32m   1769\u001b[0m \u001b[1;33m\u001b[0m\u001b[0m\n\u001b[1;32m-> 1770\u001b[1;33m         p.plot_univariate_density(\n\u001b[0m\u001b[0;32m   1771\u001b[0m             \u001b[0mmultiple\u001b[0m\u001b[1;33m=\u001b[0m\u001b[0mmultiple\u001b[0m\u001b[1;33m,\u001b[0m\u001b[1;33m\u001b[0m\u001b[1;33m\u001b[0m\u001b[0m\n\u001b[0;32m   1772\u001b[0m             \u001b[0mcommon_norm\u001b[0m\u001b[1;33m=\u001b[0m\u001b[0mcommon_norm\u001b[0m\u001b[1;33m,\u001b[0m\u001b[1;33m\u001b[0m\u001b[1;33m\u001b[0m\u001b[0m\n",
            "\u001b[1;32mc:\\Python3\\lib\\site-packages\\seaborn\\distributions.py\u001b[0m in \u001b[0;36mplot_univariate_density\u001b[1;34m(self, multiple, common_norm, common_grid, warn_singular, fill, legend, estimate_kws, **plot_kws)\u001b[0m\n\u001b[0;32m    926\u001b[0m \u001b[1;33m\u001b[0m\u001b[0m\n\u001b[0;32m    927\u001b[0m         \u001b[1;31m# Do the computation\u001b[0m\u001b[1;33m\u001b[0m\u001b[1;33m\u001b[0m\u001b[0m\n\u001b[1;32m--> 928\u001b[1;33m         densities = self._compute_univariate_density(\n\u001b[0m\u001b[0;32m    929\u001b[0m             \u001b[0mself\u001b[0m\u001b[1;33m.\u001b[0m\u001b[0mdata_variable\u001b[0m\u001b[1;33m,\u001b[0m\u001b[1;33m\u001b[0m\u001b[1;33m\u001b[0m\u001b[0m\n\u001b[0;32m    930\u001b[0m             \u001b[0mcommon_norm\u001b[0m\u001b[1;33m,\u001b[0m\u001b[1;33m\u001b[0m\u001b[1;33m\u001b[0m\u001b[0m\n",
            "\u001b[1;32mc:\\Python3\\lib\\site-packages\\seaborn\\distributions.py\u001b[0m in \u001b[0;36m_compute_univariate_density\u001b[1;34m(self, data_variable, common_norm, common_grid, estimate_kws, log_scale, warn_singular)\u001b[0m\n\u001b[0;32m    301\u001b[0m         \u001b[0mdensities\u001b[0m \u001b[1;33m=\u001b[0m \u001b[1;33m{\u001b[0m\u001b[1;33m}\u001b[0m\u001b[1;33m\u001b[0m\u001b[1;33m\u001b[0m\u001b[0m\n\u001b[0;32m    302\u001b[0m \u001b[1;33m\u001b[0m\u001b[0m\n\u001b[1;32m--> 303\u001b[1;33m         \u001b[1;32mfor\u001b[0m \u001b[0msub_vars\u001b[0m\u001b[1;33m,\u001b[0m \u001b[0msub_data\u001b[0m \u001b[1;32min\u001b[0m \u001b[0mself\u001b[0m\u001b[1;33m.\u001b[0m\u001b[0miter_data\u001b[0m\u001b[1;33m(\u001b[0m\u001b[1;34m\"hue\"\u001b[0m\u001b[1;33m,\u001b[0m \u001b[0mfrom_comp_data\u001b[0m\u001b[1;33m=\u001b[0m\u001b[1;32mTrue\u001b[0m\u001b[1;33m)\u001b[0m\u001b[1;33m:\u001b[0m\u001b[1;33m\u001b[0m\u001b[1;33m\u001b[0m\u001b[0m\n\u001b[0m\u001b[0;32m    304\u001b[0m \u001b[1;33m\u001b[0m\u001b[0m\n\u001b[0;32m    305\u001b[0m             \u001b[1;31m# Extract the data points from this sub set and remove nulls\u001b[0m\u001b[1;33m\u001b[0m\u001b[1;33m\u001b[0m\u001b[0m\n",
            "\u001b[1;32mc:\\Python3\\lib\\site-packages\\seaborn\\_core.py\u001b[0m in \u001b[0;36miter_data\u001b[1;34m(self, grouping_vars, reverse, from_comp_data)\u001b[0m\n\u001b[0;32m    981\u001b[0m \u001b[1;33m\u001b[0m\u001b[0m\n\u001b[0;32m    982\u001b[0m         \u001b[1;32mif\u001b[0m \u001b[0mfrom_comp_data\u001b[0m\u001b[1;33m:\u001b[0m\u001b[1;33m\u001b[0m\u001b[1;33m\u001b[0m\u001b[0m\n\u001b[1;32m--> 983\u001b[1;33m             \u001b[0mdata\u001b[0m \u001b[1;33m=\u001b[0m \u001b[0mself\u001b[0m\u001b[1;33m.\u001b[0m\u001b[0mcomp_data\u001b[0m\u001b[1;33m\u001b[0m\u001b[1;33m\u001b[0m\u001b[0m\n\u001b[0m\u001b[0;32m    984\u001b[0m         \u001b[1;32melse\u001b[0m\u001b[1;33m:\u001b[0m\u001b[1;33m\u001b[0m\u001b[1;33m\u001b[0m\u001b[0m\n\u001b[0;32m    985\u001b[0m             \u001b[0mdata\u001b[0m \u001b[1;33m=\u001b[0m \u001b[0mself\u001b[0m\u001b[1;33m.\u001b[0m\u001b[0mplot_data\u001b[0m\u001b[1;33m\u001b[0m\u001b[1;33m\u001b[0m\u001b[0m\n",
            "\u001b[1;32mc:\\Python3\\lib\\site-packages\\seaborn\\_core.py\u001b[0m in \u001b[0;36mcomp_data\u001b[1;34m(self)\u001b[0m\n\u001b[0;32m   1052\u001b[0m                 \u001b[1;31m# Use the converter assigned to the axis to get a float representation\u001b[0m\u001b[1;33m\u001b[0m\u001b[1;33m\u001b[0m\u001b[0m\n\u001b[0;32m   1053\u001b[0m                 \u001b[1;31m# of the data, passing np.nan or pd.NA through (pd.NA becomes np.nan)\u001b[0m\u001b[1;33m\u001b[0m\u001b[1;33m\u001b[0m\u001b[0m\n\u001b[1;32m-> 1054\u001b[1;33m                 \u001b[1;32mwith\u001b[0m \u001b[0mpd\u001b[0m\u001b[1;33m.\u001b[0m\u001b[0moption_context\u001b[0m\u001b[1;33m(\u001b[0m\u001b[1;34m'mode.use_inf_as_null'\u001b[0m\u001b[1;33m,\u001b[0m \u001b[1;32mTrue\u001b[0m\u001b[1;33m)\u001b[0m\u001b[1;33m:\u001b[0m\u001b[1;33m\u001b[0m\u001b[1;33m\u001b[0m\u001b[0m\n\u001b[0m\u001b[0;32m   1055\u001b[0m                     \u001b[0morig\u001b[0m \u001b[1;33m=\u001b[0m \u001b[0mself\u001b[0m\u001b[1;33m.\u001b[0m\u001b[0mplot_data\u001b[0m\u001b[1;33m[\u001b[0m\u001b[0mvar\u001b[0m\u001b[1;33m]\u001b[0m\u001b[1;33m.\u001b[0m\u001b[0mdropna\u001b[0m\u001b[1;33m(\u001b[0m\u001b[1;33m)\u001b[0m\u001b[1;33m\u001b[0m\u001b[1;33m\u001b[0m\u001b[0m\n\u001b[0;32m   1056\u001b[0m                 \u001b[0mcomp_col\u001b[0m \u001b[1;33m=\u001b[0m \u001b[0mpd\u001b[0m\u001b[1;33m.\u001b[0m\u001b[0mSeries\u001b[0m\u001b[1;33m(\u001b[0m\u001b[0mindex\u001b[0m\u001b[1;33m=\u001b[0m\u001b[0morig\u001b[0m\u001b[1;33m.\u001b[0m\u001b[0mindex\u001b[0m\u001b[1;33m,\u001b[0m \u001b[0mdtype\u001b[0m\u001b[1;33m=\u001b[0m\u001b[0mfloat\u001b[0m\u001b[1;33m,\u001b[0m \u001b[0mname\u001b[0m\u001b[1;33m=\u001b[0m\u001b[0mvar\u001b[0m\u001b[1;33m)\u001b[0m\u001b[1;33m\u001b[0m\u001b[1;33m\u001b[0m\u001b[0m\n",
            "\u001b[1;32mc:\\Python3\\lib\\site-packages\\pandas\\_config\\config.py\u001b[0m in \u001b[0;36m__enter__\u001b[1;34m(self)\u001b[0m\n\u001b[0;32m    439\u001b[0m \u001b[1;33m\u001b[0m\u001b[0m\n\u001b[0;32m    440\u001b[0m     \u001b[1;32mdef\u001b[0m \u001b[0m__enter__\u001b[0m\u001b[1;33m(\u001b[0m\u001b[0mself\u001b[0m\u001b[1;33m)\u001b[0m \u001b[1;33m->\u001b[0m \u001b[1;32mNone\u001b[0m\u001b[1;33m:\u001b[0m\u001b[1;33m\u001b[0m\u001b[1;33m\u001b[0m\u001b[0m\n\u001b[1;32m--> 441\u001b[1;33m         \u001b[0mself\u001b[0m\u001b[1;33m.\u001b[0m\u001b[0mundo\u001b[0m \u001b[1;33m=\u001b[0m \u001b[1;33m[\u001b[0m\u001b[1;33m(\u001b[0m\u001b[0mpat\u001b[0m\u001b[1;33m,\u001b[0m \u001b[0m_get_option\u001b[0m\u001b[1;33m(\u001b[0m\u001b[0mpat\u001b[0m\u001b[1;33m,\u001b[0m \u001b[0msilent\u001b[0m\u001b[1;33m=\u001b[0m\u001b[1;32mTrue\u001b[0m\u001b[1;33m)\u001b[0m\u001b[1;33m)\u001b[0m \u001b[1;32mfor\u001b[0m \u001b[0mpat\u001b[0m\u001b[1;33m,\u001b[0m \u001b[0mval\u001b[0m \u001b[1;32min\u001b[0m \u001b[0mself\u001b[0m\u001b[1;33m.\u001b[0m\u001b[0mops\u001b[0m\u001b[1;33m]\u001b[0m\u001b[1;33m\u001b[0m\u001b[1;33m\u001b[0m\u001b[0m\n\u001b[0m\u001b[0;32m    442\u001b[0m \u001b[1;33m\u001b[0m\u001b[0m\n\u001b[0;32m    443\u001b[0m         \u001b[1;32mfor\u001b[0m \u001b[0mpat\u001b[0m\u001b[1;33m,\u001b[0m \u001b[0mval\u001b[0m \u001b[1;32min\u001b[0m \u001b[0mself\u001b[0m\u001b[1;33m.\u001b[0m\u001b[0mops\u001b[0m\u001b[1;33m:\u001b[0m\u001b[1;33m\u001b[0m\u001b[1;33m\u001b[0m\u001b[0m\n",
            "\u001b[1;32mc:\\Python3\\lib\\site-packages\\pandas\\_config\\config.py\u001b[0m in \u001b[0;36m<listcomp>\u001b[1;34m(.0)\u001b[0m\n\u001b[0;32m    439\u001b[0m \u001b[1;33m\u001b[0m\u001b[0m\n\u001b[0;32m    440\u001b[0m     \u001b[1;32mdef\u001b[0m \u001b[0m__enter__\u001b[0m\u001b[1;33m(\u001b[0m\u001b[0mself\u001b[0m\u001b[1;33m)\u001b[0m \u001b[1;33m->\u001b[0m \u001b[1;32mNone\u001b[0m\u001b[1;33m:\u001b[0m\u001b[1;33m\u001b[0m\u001b[1;33m\u001b[0m\u001b[0m\n\u001b[1;32m--> 441\u001b[1;33m         \u001b[0mself\u001b[0m\u001b[1;33m.\u001b[0m\u001b[0mundo\u001b[0m \u001b[1;33m=\u001b[0m \u001b[1;33m[\u001b[0m\u001b[1;33m(\u001b[0m\u001b[0mpat\u001b[0m\u001b[1;33m,\u001b[0m \u001b[0m_get_option\u001b[0m\u001b[1;33m(\u001b[0m\u001b[0mpat\u001b[0m\u001b[1;33m,\u001b[0m \u001b[0msilent\u001b[0m\u001b[1;33m=\u001b[0m\u001b[1;32mTrue\u001b[0m\u001b[1;33m)\u001b[0m\u001b[1;33m)\u001b[0m \u001b[1;32mfor\u001b[0m \u001b[0mpat\u001b[0m\u001b[1;33m,\u001b[0m \u001b[0mval\u001b[0m \u001b[1;32min\u001b[0m \u001b[0mself\u001b[0m\u001b[1;33m.\u001b[0m\u001b[0mops\u001b[0m\u001b[1;33m]\u001b[0m\u001b[1;33m\u001b[0m\u001b[1;33m\u001b[0m\u001b[0m\n\u001b[0m\u001b[0;32m    442\u001b[0m \u001b[1;33m\u001b[0m\u001b[0m\n\u001b[0;32m    443\u001b[0m         \u001b[1;32mfor\u001b[0m \u001b[0mpat\u001b[0m\u001b[1;33m,\u001b[0m \u001b[0mval\u001b[0m \u001b[1;32min\u001b[0m \u001b[0mself\u001b[0m\u001b[1;33m.\u001b[0m\u001b[0mops\u001b[0m\u001b[1;33m:\u001b[0m\u001b[1;33m\u001b[0m\u001b[1;33m\u001b[0m\u001b[0m\n",
            "\u001b[1;32mc:\\Python3\\lib\\site-packages\\pandas\\_config\\config.py\u001b[0m in \u001b[0;36m_get_option\u001b[1;34m(pat, silent)\u001b[0m\n\u001b[0;32m    133\u001b[0m \u001b[1;33m\u001b[0m\u001b[0m\n\u001b[0;32m    134\u001b[0m \u001b[1;32mdef\u001b[0m \u001b[0m_get_option\u001b[0m\u001b[1;33m(\u001b[0m\u001b[0mpat\u001b[0m\u001b[1;33m:\u001b[0m \u001b[0mstr\u001b[0m\u001b[1;33m,\u001b[0m \u001b[0msilent\u001b[0m\u001b[1;33m:\u001b[0m \u001b[0mbool\u001b[0m \u001b[1;33m=\u001b[0m \u001b[1;32mFalse\u001b[0m\u001b[1;33m)\u001b[0m \u001b[1;33m->\u001b[0m \u001b[0mAny\u001b[0m\u001b[1;33m:\u001b[0m\u001b[1;33m\u001b[0m\u001b[1;33m\u001b[0m\u001b[0m\n\u001b[1;32m--> 135\u001b[1;33m     \u001b[0mkey\u001b[0m \u001b[1;33m=\u001b[0m \u001b[0m_get_single_key\u001b[0m\u001b[1;33m(\u001b[0m\u001b[0mpat\u001b[0m\u001b[1;33m,\u001b[0m \u001b[0msilent\u001b[0m\u001b[1;33m)\u001b[0m\u001b[1;33m\u001b[0m\u001b[1;33m\u001b[0m\u001b[0m\n\u001b[0m\u001b[0;32m    136\u001b[0m \u001b[1;33m\u001b[0m\u001b[0m\n\u001b[0;32m    137\u001b[0m     \u001b[1;31m# walk the nested dict\u001b[0m\u001b[1;33m\u001b[0m\u001b[1;33m\u001b[0m\u001b[0m\n",
            "\u001b[1;32mc:\\Python3\\lib\\site-packages\\pandas\\_config\\config.py\u001b[0m in \u001b[0;36m_get_single_key\u001b[1;34m(pat, silent)\u001b[0m\n\u001b[0;32m    119\u001b[0m         \u001b[1;32mif\u001b[0m \u001b[1;32mnot\u001b[0m \u001b[0msilent\u001b[0m\u001b[1;33m:\u001b[0m\u001b[1;33m\u001b[0m\u001b[1;33m\u001b[0m\u001b[0m\n\u001b[0;32m    120\u001b[0m             \u001b[0m_warn_if_deprecated\u001b[0m\u001b[1;33m(\u001b[0m\u001b[0mpat\u001b[0m\u001b[1;33m)\u001b[0m\u001b[1;33m\u001b[0m\u001b[1;33m\u001b[0m\u001b[0m\n\u001b[1;32m--> 121\u001b[1;33m         \u001b[1;32mraise\u001b[0m \u001b[0mOptionError\u001b[0m\u001b[1;33m(\u001b[0m\u001b[1;34mf\"No such keys(s): {repr(pat)}\"\u001b[0m\u001b[1;33m)\u001b[0m\u001b[1;33m\u001b[0m\u001b[1;33m\u001b[0m\u001b[0m\n\u001b[0m\u001b[0;32m    122\u001b[0m     \u001b[1;32mif\u001b[0m \u001b[0mlen\u001b[0m\u001b[1;33m(\u001b[0m\u001b[0mkeys\u001b[0m\u001b[1;33m)\u001b[0m \u001b[1;33m>\u001b[0m \u001b[1;36m1\u001b[0m\u001b[1;33m:\u001b[0m\u001b[1;33m\u001b[0m\u001b[1;33m\u001b[0m\u001b[0m\n\u001b[0;32m    123\u001b[0m         \u001b[1;32mraise\u001b[0m \u001b[0mOptionError\u001b[0m\u001b[1;33m(\u001b[0m\u001b[1;34m\"Pattern matched multiple keys\"\u001b[0m\u001b[1;33m)\u001b[0m\u001b[1;33m\u001b[0m\u001b[1;33m\u001b[0m\u001b[0m\n",
            "\u001b[1;31mOptionError\u001b[0m: No such keys(s): 'mode.use_inf_as_null'"
          ]
        }
      ],
      "source": [
        "plt.figure()\n",
        "plt.subplot(2, 1,1)\n",
        "plt.title('Densidades de PIC50 para cada clase')\n",
        "ax = sns.distplot(df_2_activo['pIC50'], rug=True, hist=False,label='PIC50 clase activa',color='blue')\n",
        "plt.legend()\n",
        "plt.subplot(2, 1,2)\n",
        "ax = sns.distplot(df_2_inactivo['pIC50'], rug=True, hist=False,label='PIC50 clase inactiva',color='green')\n",
        "plt.legend()\n",
        "plt.tight_layout(pad=2.0, w_pad=2.0, h_pad=2.0)\n",
        "# plt.savefig('densidad_pic50.png')\n",
        "# Image(filename='densidad_pic50.png')"
      ]
    },
    {
      "cell_type": "markdown",
      "metadata": {
        "id": "oRocatYfux4x"
      },
      "source": [
        "## Análisis inferencial\n",
        "En esta sección se van a analizar inferencialmnete  a la variable *PIC50* para la clase activo e inactivo. Por lo tanto, se cargan las siguientes librerías"
      ]
    },
    {
      "cell_type": "code",
      "execution_count": null,
      "metadata": {
        "id": "Sx71a-sPux4x"
      },
      "outputs": [],
      "source": [
        "#Se va a construir los QQ-plot para  'PIC50' en cada una de las  clases\n",
        "#Esto se hace con el objetivo de analizar si los cuantiles teóricos ccoinciden con los cuantiles muestrales \n",
        "fig, ax = plt.subplots(figsize=(7,4))\n",
        "sm.qqplot(df_2_activo['pIC50'],fit   = True,\n",
        "    line  = 'q',\n",
        "    alpha = 0.4,\n",
        "    lw    = 2,\n",
        "    ax    = ax\n",
        ")\n",
        "ax.set_title('Gráfico Q-Q de PIC50 para la clase activa', fontsize = 10,\n",
        "             fontweight = \"bold\")\n",
        "ax.tick_params(labelsize = 7)\n",
        "plt.tight_layout()\n",
        "# plt.savefig('qqplot_activo.png')\n",
        "# Image(filename='qqplot_activo.png')"
      ]
    },
    {
      "cell_type": "code",
      "execution_count": null,
      "metadata": {
        "id": "PmkQaB7dux4x"
      },
      "outputs": [],
      "source": [
        "#Se va a construir los QQ-plot para  'PIC50' en cada una de las  clases\n",
        "#Esto se hace con el objetivo de analizar si los cuantiles teóricos ccoinciden con los cuantiles muestrales \n",
        "fig, ax = plt.subplots(figsize=(7,4))\n",
        "sm.qqplot(df_2_inactivo['pIC50'],fit   = True,\n",
        "    line  = 'q',\n",
        "    alpha = 0.4,\n",
        "    lw    = 2,\n",
        "    ax    = ax\n",
        ")\n",
        "ax.set_title('Gráfico Q-Q de PIC50 para la clase inactiva', fontsize = 10,\n",
        "             fontweight = \"bold\")\n",
        "ax.tick_params(labelsize = 7)\n",
        "plt.tight_layout()\n",
        "# plt.savefig('qqplot_inactivo.png')\n",
        "# Image(filename='qqplot_inactivo.png')"
      ]
    },
    {
      "cell_type": "markdown",
      "metadata": {
        "id": "NCXOFJ4mux4y"
      },
      "source": [
        "Se puede apreciar que  empíricamente los cuantiles muestrales de **PIC50** de la clase **inactiva** no se ajustan bien a los cuantiles teóricos de la distribución normal "
      ]
    },
    {
      "cell_type": "code",
      "execution_count": null,
      "metadata": {
        "colab": {
          "base_uri": "https://localhost:8080/"
        },
        "id": "o4xJPrIbux4y",
        "outputId": "6f41c41c-9e79-40e1-a7e5-f62aa2941fa0"
      },
      "outputs": [
        {
          "data": {
            "text/plain": [
              "ShapiroResult(statistic=0.9628936052322388, pvalue=7.762468714351081e-25)"
            ]
          },
          "execution_count": 112,
          "metadata": {},
          "output_type": "execute_result"
        }
      ],
      "source": [
        "# Test de Shapiro-Wilk  (clase activa)\n",
        "# ==============================================================================\n",
        "shapiro_test = stats.shapiro(df_2_activo['pIC50'])\n",
        "shapiro_test"
      ]
    },
    {
      "cell_type": "markdown",
      "metadata": {
        "id": "sT6g1nDxux4y"
      },
      "source": [
        "En este caso el $$p-valor=8.68832989120154*10^{-27}$$ \n",
        "Luego, a un nivel de significancia de $$\\alpha=0.05$$\n",
        "Se tiene que: $$p-valor=8.68832989120154*10^{-27}<0.05=\\alpha$$\n",
        "Por lo tanto, se rechaza la hipótesis  nula. Es decir, que como se había apreciada empíricamente la muestra no viene de una población con distribución normal. Por lo tanto, existe evidencia estadística para deducir que la variable **PIC50** de la clase activa no tiene una distribución normal."
      ]
    },
    {
      "cell_type": "code",
      "execution_count": null,
      "metadata": {
        "colab": {
          "base_uri": "https://localhost:8080/"
        },
        "id": "x53Vciolux4y",
        "outputId": "fd37946b-c7d5-46fc-97ec-1f009af4b21b"
      },
      "outputs": [
        {
          "data": {
            "text/plain": [
              "ShapiroResult(statistic=0.933936357498169, pvalue=6.161251959573674e-32)"
            ]
          },
          "execution_count": 113,
          "metadata": {},
          "output_type": "execute_result"
        }
      ],
      "source": [
        "# Test de Shapiro-Wilk  (clase inactiva)\n",
        "# ==============================================================================\n",
        "shapiro_test = stats.shapiro(df_2_inactivo['pIC50'])\n",
        "shapiro_test"
      ]
    },
    {
      "cell_type": "markdown",
      "metadata": {
        "id": "pd0EBbjxux4z"
      },
      "source": [
        "En este caso el $$p-valor=1.5192948015132883*10^{-39}$$ \n",
        "Luego, a un nivel de significancia de $$\\alpha=0.05$$\n",
        "Se tiene que: $$p-valor=1.5192948015132883*10^{-39}<0.05=\\alpha$$\n",
        "Por lo tanto, se rechaza la hipótesis  nula. Es decir, que como se había apreciada empíricamente la muestra no viene de una población con distribución normal. Por lo tanto, existe evidencia estadística para deducir que la variable **PIC50** de la clase activa no tiene una distribución normal."
      ]
    },
    {
      "cell_type": "markdown",
      "metadata": {
        "id": "-h-xbN3Uux4z"
      },
      "source": [
        "## TEST MANWHITNEY"
      ]
    },
    {
      "cell_type": "code",
      "execution_count": null,
      "metadata": {
        "id": "tVuThslBux4z"
      },
      "outputs": [],
      "source": [
        "def mannwhitney(descriptor, verbose=False):\n",
        "  from numpy.random import seed\n",
        "  from numpy.random import randn\n",
        "  from scipy.stats import mannwhitneyu\n",
        "\n",
        "# Establecer semilla\n",
        "  seed(1)\n",
        "\n",
        "# Activos e inactivos\n",
        "  selection = [descriptor, 'valor_bioactividad']\n",
        "  df = df2[selection]\n",
        "  activo = df[df['valor_bioactividad'] == 'activo']\n",
        "  activo = activo[descriptor]\n",
        "\n",
        "  selection = [descriptor, 'valor_bioactividad']\n",
        "  df = df2[selection]\n",
        "  inactivo = df[df['valor_bioactividad'] == 'inactivo']\n",
        "  inactivo = inactivo[descriptor]\n",
        "\n",
        "# Comparar muestras\n",
        "  stat, p = mannwhitneyu(activo, inactivo)\n",
        "  #print('Statistics=%.3f, p=%.3f' % (stat, p))\n",
        "\n",
        "# Interpretación de resultados\n",
        "  alpha = 0.05\n",
        "  if p > alpha:\n",
        "    resultado = 'Misma distribución (no rechazar H0)'\n",
        "  else:\n",
        "    resultado = 'Diferente distribución (rechazar H0)'\n",
        "  \n",
        "  results = pd.DataFrame({'Variable':descriptor,\n",
        "                          'Resultado':stat,\n",
        "                          'p-value':p,\n",
        "                          'alpha':alpha,\n",
        "                          'Interpretación':resultado}, index=[0])\n",
        "  filename = 'mannwhitneyu_' + descriptor + '.csv'\n",
        "  results.to_csv(filename)\n",
        "\n",
        "  return results"
      ]
    },
    {
      "cell_type": "code",
      "execution_count": null,
      "metadata": {
        "colab": {
          "base_uri": "https://localhost:8080/",
          "height": 81
        },
        "id": "nqUXG7Lfux4z",
        "outputId": "e126f728-4633-4fdc-c5bd-62ed31f917cb"
      },
      "outputs": [
        {
          "data": {
            "text/html": [
              "<div>\n",
              "<style scoped>\n",
              "    .dataframe tbody tr th:only-of-type {\n",
              "        vertical-align: middle;\n",
              "    }\n",
              "\n",
              "    .dataframe tbody tr th {\n",
              "        vertical-align: top;\n",
              "    }\n",
              "\n",
              "    .dataframe thead th {\n",
              "        text-align: right;\n",
              "    }\n",
              "</style>\n",
              "<table border=\"1\" class=\"dataframe\">\n",
              "  <thead>\n",
              "    <tr style=\"text-align: right;\">\n",
              "      <th></th>\n",
              "      <th>Variable</th>\n",
              "      <th>Resultado</th>\n",
              "      <th>p-value</th>\n",
              "      <th>alpha</th>\n",
              "      <th>Interpretación</th>\n",
              "    </tr>\n",
              "  </thead>\n",
              "  <tbody>\n",
              "    <tr>\n",
              "      <th>0</th>\n",
              "      <td>Peso_Molecular</td>\n",
              "      <td>4074806.5</td>\n",
              "      <td>2.643383e-77</td>\n",
              "      <td>0.05</td>\n",
              "      <td>Diferente distribución (rechazar H0)</td>\n",
              "    </tr>\n",
              "  </tbody>\n",
              "</table>\n",
              "</div>"
            ],
            "text/plain": [
              "         Variable  Resultado       p-value  alpha   \n",
              "0  Peso_Molecular  4074806.5  2.643383e-77   0.05  \\\n",
              "\n",
              "                         Interpretación  \n",
              "0  Diferente distribución (rechazar H0)  "
            ]
          },
          "execution_count": 115,
          "metadata": {},
          "output_type": "execute_result"
        }
      ],
      "source": [
        "mannwhitney('Peso_Molecular')"
      ]
    },
    {
      "cell_type": "code",
      "execution_count": null,
      "metadata": {
        "colab": {
          "base_uri": "https://localhost:8080/",
          "height": 81
        },
        "id": "vdk8O_GLux4z",
        "outputId": "a37c88d5-665b-4d1c-b964-bae33e17b9a9"
      },
      "outputs": [
        {
          "data": {
            "text/html": [
              "<div>\n",
              "<style scoped>\n",
              "    .dataframe tbody tr th:only-of-type {\n",
              "        vertical-align: middle;\n",
              "    }\n",
              "\n",
              "    .dataframe tbody tr th {\n",
              "        vertical-align: top;\n",
              "    }\n",
              "\n",
              "    .dataframe thead th {\n",
              "        text-align: right;\n",
              "    }\n",
              "</style>\n",
              "<table border=\"1\" class=\"dataframe\">\n",
              "  <thead>\n",
              "    <tr style=\"text-align: right;\">\n",
              "      <th></th>\n",
              "      <th>Variable</th>\n",
              "      <th>Resultado</th>\n",
              "      <th>p-value</th>\n",
              "      <th>alpha</th>\n",
              "      <th>Interpretación</th>\n",
              "    </tr>\n",
              "  </thead>\n",
              "  <tbody>\n",
              "    <tr>\n",
              "      <th>0</th>\n",
              "      <td>LogP</td>\n",
              "      <td>3668945.0</td>\n",
              "      <td>1.599559e-26</td>\n",
              "      <td>0.05</td>\n",
              "      <td>Diferente distribución (rechazar H0)</td>\n",
              "    </tr>\n",
              "  </tbody>\n",
              "</table>\n",
              "</div>"
            ],
            "text/plain": [
              "  Variable  Resultado       p-value  alpha   \n",
              "0     LogP  3668945.0  1.599559e-26   0.05  \\\n",
              "\n",
              "                         Interpretación  \n",
              "0  Diferente distribución (rechazar H0)  "
            ]
          },
          "execution_count": 76,
          "metadata": {},
          "output_type": "execute_result"
        }
      ],
      "source": [
        "mannwhitney('LogP')"
      ]
    },
    {
      "cell_type": "code",
      "execution_count": null,
      "metadata": {
        "colab": {
          "base_uri": "https://localhost:8080/",
          "height": 81
        },
        "id": "AWtYtoU7ux40",
        "outputId": "2a7a2103-7bdc-4dc4-d6f8-8b6694ee6497"
      },
      "outputs": [
        {
          "data": {
            "text/html": [
              "<div>\n",
              "<style scoped>\n",
              "    .dataframe tbody tr th:only-of-type {\n",
              "        vertical-align: middle;\n",
              "    }\n",
              "\n",
              "    .dataframe tbody tr th {\n",
              "        vertical-align: top;\n",
              "    }\n",
              "\n",
              "    .dataframe thead th {\n",
              "        text-align: right;\n",
              "    }\n",
              "</style>\n",
              "<table border=\"1\" class=\"dataframe\">\n",
              "  <thead>\n",
              "    <tr style=\"text-align: right;\">\n",
              "      <th></th>\n",
              "      <th>Variable</th>\n",
              "      <th>Resultado</th>\n",
              "      <th>p-value</th>\n",
              "      <th>alpha</th>\n",
              "      <th>Interpretación</th>\n",
              "    </tr>\n",
              "  </thead>\n",
              "  <tbody>\n",
              "    <tr>\n",
              "      <th>0</th>\n",
              "      <td>Num_Donadores_H</td>\n",
              "      <td>2916156.0</td>\n",
              "      <td>0.000016</td>\n",
              "      <td>0.05</td>\n",
              "      <td>Diferente distribución (rechazar H0)</td>\n",
              "    </tr>\n",
              "  </tbody>\n",
              "</table>\n",
              "</div>"
            ],
            "text/plain": [
              "          Variable  Resultado   p-value  alpha   \n",
              "0  Num_Donadores_H  2916156.0  0.000016   0.05  \\\n",
              "\n",
              "                         Interpretación  \n",
              "0  Diferente distribución (rechazar H0)  "
            ]
          },
          "execution_count": 77,
          "metadata": {},
          "output_type": "execute_result"
        }
      ],
      "source": [
        "mannwhitney('Num_Donadores_H')"
      ]
    },
    {
      "cell_type": "code",
      "execution_count": null,
      "metadata": {
        "colab": {
          "base_uri": "https://localhost:8080/",
          "height": 81
        },
        "id": "mEw6AHd5ux40",
        "outputId": "97175c98-4276-4316-8356-9830f6808141"
      },
      "outputs": [
        {
          "data": {
            "text/html": [
              "<div>\n",
              "<style scoped>\n",
              "    .dataframe tbody tr th:only-of-type {\n",
              "        vertical-align: middle;\n",
              "    }\n",
              "\n",
              "    .dataframe tbody tr th {\n",
              "        vertical-align: top;\n",
              "    }\n",
              "\n",
              "    .dataframe thead th {\n",
              "        text-align: right;\n",
              "    }\n",
              "</style>\n",
              "<table border=\"1\" class=\"dataframe\">\n",
              "  <thead>\n",
              "    <tr style=\"text-align: right;\">\n",
              "      <th></th>\n",
              "      <th>Variable</th>\n",
              "      <th>Resultado</th>\n",
              "      <th>p-value</th>\n",
              "      <th>alpha</th>\n",
              "      <th>Interpretación</th>\n",
              "    </tr>\n",
              "  </thead>\n",
              "  <tbody>\n",
              "    <tr>\n",
              "      <th>0</th>\n",
              "      <td>Num_Aceptores</td>\n",
              "      <td>3320148.0</td>\n",
              "      <td>0.000109</td>\n",
              "      <td>0.05</td>\n",
              "      <td>Diferente distribución (rechazar H0)</td>\n",
              "    </tr>\n",
              "  </tbody>\n",
              "</table>\n",
              "</div>"
            ],
            "text/plain": [
              "        Variable  Resultado   p-value  alpha   \n",
              "0  Num_Aceptores  3320148.0  0.000109   0.05  \\\n",
              "\n",
              "                         Interpretación  \n",
              "0  Diferente distribución (rechazar H0)  "
            ]
          },
          "execution_count": 78,
          "metadata": {},
          "output_type": "execute_result"
        }
      ],
      "source": [
        "mannwhitney('Num_Aceptores')"
      ]
    },
    {
      "cell_type": "code",
      "execution_count": null,
      "metadata": {
        "id": "Hy9BYQJaux40"
      },
      "outputs": [],
      "source": [
        "!wget https://github.com/dataprofessor/bioinformatics/raw/master/padel.zip\n",
        "!wget https://github.com/dataprofessor/bioinformatics/raw/master/padel.sh"
      ]
    },
    {
      "cell_type": "code",
      "execution_count": null,
      "metadata": {
        "colab": {
          "base_uri": "https://localhost:8080/",
          "height": 143
        },
        "id": "2575vOmlux40",
        "outputId": "58cb1b93-ff62-48c4-bcbf-de1008b1f4d7"
      },
      "outputs": [
        {
          "data": {
            "text/html": [
              "<div>\n",
              "<style scoped>\n",
              "    .dataframe tbody tr th:only-of-type {\n",
              "        vertical-align: middle;\n",
              "    }\n",
              "\n",
              "    .dataframe tbody tr th {\n",
              "        vertical-align: top;\n",
              "    }\n",
              "\n",
              "    .dataframe thead th {\n",
              "        text-align: right;\n",
              "    }\n",
              "</style>\n",
              "<table border=\"1\" class=\"dataframe\">\n",
              "  <thead>\n",
              "    <tr style=\"text-align: right;\">\n",
              "      <th></th>\n",
              "      <th>molecule_chembl_id</th>\n",
              "      <th>valor_bioactividad</th>\n",
              "      <th>canonical_smiles</th>\n",
              "      <th>Peso_Molecular</th>\n",
              "      <th>LogP</th>\n",
              "      <th>Num_Donadores_H</th>\n",
              "      <th>Num_Aceptores</th>\n",
              "      <th>pIC50</th>\n",
              "    </tr>\n",
              "  </thead>\n",
              "  <tbody>\n",
              "    <tr>\n",
              "      <th>0</th>\n",
              "      <td>CHEMBL1836005</td>\n",
              "      <td>activo</td>\n",
              "      <td>O=[N+]([O-])c1cn2c(n1)OCC(Oc1ccc(OC(F)(F)F)cc1)C2</td>\n",
              "      <td>345.233</td>\n",
              "      <td>2.52990</td>\n",
              "      <td>0</td>\n",
              "      <td>7</td>\n",
              "      <td>6.408935</td>\n",
              "    </tr>\n",
              "    <tr>\n",
              "      <th>1</th>\n",
              "      <td>CHEMBL4074666</td>\n",
              "      <td>activo</td>\n",
              "      <td>CC1(COc2ccc(-c3ccc(OC(F)(F)F)cc3)cc2)Cn2cc([N+...</td>\n",
              "      <td>451.426</td>\n",
              "      <td>5.30030</td>\n",
              "      <td>0</td>\n",
              "      <td>7</td>\n",
              "      <td>7.070581</td>\n",
              "    </tr>\n",
              "    <tr>\n",
              "      <th>2</th>\n",
              "      <td>CHEMBL1725748</td>\n",
              "      <td>activo</td>\n",
              "      <td>Cc1cc(C)c(C#N)c(SCC(=O)c2ccc3c(c2)OCO3)n1</td>\n",
              "      <td>326.377</td>\n",
              "      <td>3.27382</td>\n",
              "      <td>0</td>\n",
              "      <td>6</td>\n",
              "      <td>6.399997</td>\n",
              "    </tr>\n",
              "  </tbody>\n",
              "</table>\n",
              "</div>"
            ],
            "text/plain": [
              "  molecule_chembl_id valor_bioactividad   \n",
              "0      CHEMBL1836005             activo  \\\n",
              "1      CHEMBL4074666             activo   \n",
              "2      CHEMBL1725748             activo   \n",
              "\n",
              "                                    canonical_smiles  Peso_Molecular     LogP   \n",
              "0  O=[N+]([O-])c1cn2c(n1)OCC(Oc1ccc(OC(F)(F)F)cc1)C2         345.233  2.52990  \\\n",
              "1  CC1(COc2ccc(-c3ccc(OC(F)(F)F)cc3)cc2)Cn2cc([N+...         451.426  5.30030   \n",
              "2          Cc1cc(C)c(C#N)c(SCC(=O)c2ccc3c(c2)OCO3)n1         326.377  3.27382   \n",
              "\n",
              "   Num_Donadores_H  Num_Aceptores     pIC50  \n",
              "0                0              7  6.408935  \n",
              "1                0              7  7.070581  \n",
              "2                0              6  6.399997  "
            ]
          },
          "execution_count": 117,
          "metadata": {},
          "output_type": "execute_result"
        }
      ],
      "source": [
        "#df3 = pd.read_csv('chagas_04_bioactivity_data_3class_pIC50.csv')\n",
        "#eliminar columnas con 'Uname: 0'\n",
        "df3 = df2#.drop(columns=['Unnamed: 0'])\n",
        "df3.head(3)"
      ]
    },
    {
      "cell_type": "code",
      "execution_count": null,
      "metadata": {
        "id": "sYUrAmxWk964",
        "outputId": "e17b5235-7862-4fc0-8fff-faf1e28e6244"
      },
      "outputs": [
        {
          "data": {
            "text/plain": [
              "(5000, 8)"
            ]
          },
          "execution_count": 118,
          "metadata": {},
          "output_type": "execute_result"
        }
      ],
      "source": [
        "df3.shape"
      ]
    },
    {
      "cell_type": "code",
      "execution_count": null,
      "metadata": {
        "id": "zI_8lxePux40"
      },
      "outputs": [],
      "source": [
        "selection = ['canonical_smiles','molecule_chembl_id']\n",
        "df3_selection = df3[selection]\n",
        "df3_selection.to_csv('molecule.smi', sep='\\t', index=False, header=False)"
      ]
    },
    {
      "cell_type": "code",
      "execution_count": null,
      "metadata": {
        "colab": {
          "base_uri": "https://localhost:8080/"
        },
        "id": "UNDMkb2zux40",
        "outputId": "c1deb291-c3dc-4a2c-97d9-a925170bf115"
      },
      "outputs": [
        {
          "name": "stderr",
          "output_type": "stream",
          "text": [
            "\"cat\" no se reconoce como un comando interno o externo,\n",
            "programa o archivo por lotes ejecutable.\n"
          ]
        }
      ],
      "source": [
        "!cat molecule.smi | head -5"
      ]
    },
    {
      "cell_type": "markdown",
      "metadata": {
        "id": "jHetAQbmgI58"
      },
      "source": [
        "## **Calcular fingerprints y descriptores**"
      ]
    },
    {
      "cell_type": "code",
      "execution_count": null,
      "metadata": {
        "colab": {
          "base_uri": "https://localhost:8080/"
        },
        "id": "ryQxlpfYgOWS",
        "outputId": "5997c2ab-4e2d-4623-8c01-3d9204de83c8"
      },
      "outputs": [
        {
          "name": "stderr",
          "output_type": "stream",
          "text": [
            "\"cat\" no se reconoce como un comando interno o externo,\n",
            "programa o archivo por lotes ejecutable.\n"
          ]
        }
      ],
      "source": [
        "!cat padel.sh"
      ]
    },
    {
      "cell_type": "code",
      "execution_count": null,
      "metadata": {
        "id": "pyJ3BwBYgkfe"
      },
      "outputs": [],
      "source": [
        "! unzip padel.zip"
      ]
    },
    {
      "cell_type": "code",
      "execution_count": null,
      "metadata": {
        "id": "ub7ljA2pgRLO"
      },
      "outputs": [],
      "source": [
        "! bash padel.sh"
      ]
    },
    {
      "cell_type": "markdown",
      "metadata": {
        "id": "bCjLiQn-ngpO"
      },
      "source": [
        "## **Preparando las Matrices de Datos X e Y**"
      ]
    },
    {
      "cell_type": "markdown",
      "metadata": {
        "id": "yx6KNMofnkbk"
      },
      "source": [
        "### **X matriz**"
      ]
    },
    {
      "cell_type": "code",
      "execution_count": null,
      "metadata": {
        "colab": {
          "base_uri": "https://localhost:8080/"
        },
        "id": "tpr8N_6snTpI",
        "outputId": "a42fb2a6-90c0-4abb-f53c-77822e63394a"
      },
      "outputs": [
        {
          "data": {
            "text/plain": [
              "(7049, 881)"
            ]
          },
          "execution_count": 49,
          "metadata": {},
          "output_type": "execute_result"
        }
      ],
      "source": [
        "df3_X = pd.read_csv('descriptors_output.csv')\n",
        "df3_X = df3_X.drop(columns=['Name'])\n",
        "df3_X\n",
        "df3_X.shape"
      ]
    },
    {
      "cell_type": "markdown",
      "metadata": {
        "id": "6LJpKEN9n9JY"
      },
      "source": [
        "## **Y variable**"
      ]
    },
    {
      "cell_type": "code",
      "execution_count": null,
      "metadata": {
        "colab": {
          "base_uri": "https://localhost:8080/"
        },
        "id": "wfxK256on1Ti",
        "outputId": "33d8c8cf-0453-470d-d748-5960afabae31"
      },
      "outputs": [
        {
          "data": {
            "text/plain": [
              "0       4.154902\n",
              "1       4.154902\n",
              "2       4.154902\n",
              "3       4.301030\n",
              "4       4.154902\n",
              "          ...   \n",
              "7044    4.669586\n",
              "7045    4.665546\n",
              "7046    4.632644\n",
              "7047    4.954677\n",
              "7048    4.605548\n",
              "Name: pIC50, Length: 7049, dtype: float64"
            ]
          },
          "execution_count": 50,
          "metadata": {},
          "output_type": "execute_result"
        }
      ],
      "source": [
        "df3_Y = df3['pIC50']\n",
        "df3_Y"
      ]
    },
    {
      "cell_type": "markdown",
      "metadata": {
        "id": "Eu-60VEXoJE2"
      },
      "source": [
        "## **Unir datasets**"
      ]
    },
    {
      "cell_type": "code",
      "execution_count": null,
      "metadata": {
        "id": "373sH35VoMYG"
      },
      "outputs": [],
      "source": [
        "dataset3 = pd.concat([df3_X,df3_Y], axis=1)\n",
        "dataset3"
      ]
    },
    {
      "cell_type": "code",
      "execution_count": null,
      "metadata": {
        "id": "I3Ti_QcQoRRo"
      },
      "outputs": [],
      "source": [
        "# Exportar a .csv\n",
        "dataset3.to_csv('reutilizacion_06_bioactivity_data_3class_pIC50_pubchem_fp_882.csv', index=False)"
      ]
    },
    {
      "cell_type": "markdown",
      "metadata": {
        "id": "QxA6uquNocl_"
      },
      "source": [
        "#PARTE 4"
      ]
    },
    {
      "cell_type": "markdown",
      "metadata": {
        "id": "P0BzJYY0o0op"
      },
      "source": [
        "## **Importar librerías**"
      ]
    },
    {
      "cell_type": "markdown",
      "metadata": {
        "id": "xkv5QOVTk967"
      },
      "source": [
        "## AQUI CHECKPOINT CP"
      ]
    },
    {
      "cell_type": "code",
      "execution_count": null,
      "metadata": {
        "colab": {
          "base_uri": "https://localhost:8080/"
        },
        "id": "rTtxcgjio1iX",
        "outputId": "4f369fd0-d76e-46d5-c05a-5f8395314c44"
      },
      "outputs": [
        {
          "data": {
            "text/plain": [
              "(7049, 882)"
            ]
          },
          "execution_count": 151,
          "metadata": {},
          "output_type": "execute_result"
        }
      ],
      "source": [
        "import pandas as pd\n",
        "import seaborn as sns\n",
        "from sklearn.model_selection import train_test_split\n",
        "from sklearn.ensemble import RandomForestRegressor\n",
        "\n",
        "df = pd.read_csv('reutilizacion_06_bioactivity_data_3class_pIC50_pubchem_fp_882.csv')\n",
        "df.shape"
      ]
    },
    {
      "cell_type": "markdown",
      "metadata": {
        "id": "TzPBMheNpCv7"
      },
      "source": [
        "## **882 Fingerprints para Chagas**"
      ]
    },
    {
      "cell_type": "markdown",
      "metadata": {
        "id": "5wNqn0zPpMqV"
      },
      "source": [
        "### **Variables de entrada**"
      ]
    },
    {
      "cell_type": "code",
      "execution_count": null,
      "metadata": {
        "colab": {
          "base_uri": "https://localhost:8080/",
          "height": 237
        },
        "id": "GL1Gs1O2pPY2",
        "outputId": "8f2b631e-f9e5-488e-c1fe-9a1c99c8d919"
      },
      "outputs": [
        {
          "data": {
            "text/html": [
              "<div>\n",
              "<style scoped>\n",
              "    .dataframe tbody tr th:only-of-type {\n",
              "        vertical-align: middle;\n",
              "    }\n",
              "\n",
              "    .dataframe tbody tr th {\n",
              "        vertical-align: top;\n",
              "    }\n",
              "\n",
              "    .dataframe thead th {\n",
              "        text-align: right;\n",
              "    }\n",
              "</style>\n",
              "<table border=\"1\" class=\"dataframe\">\n",
              "  <thead>\n",
              "    <tr style=\"text-align: right;\">\n",
              "      <th></th>\n",
              "      <th>PubchemFP0</th>\n",
              "      <th>PubchemFP1</th>\n",
              "      <th>PubchemFP2</th>\n",
              "      <th>PubchemFP3</th>\n",
              "      <th>PubchemFP4</th>\n",
              "      <th>PubchemFP5</th>\n",
              "      <th>PubchemFP6</th>\n",
              "      <th>PubchemFP7</th>\n",
              "      <th>PubchemFP8</th>\n",
              "      <th>PubchemFP9</th>\n",
              "      <th>...</th>\n",
              "      <th>PubchemFP871</th>\n",
              "      <th>PubchemFP872</th>\n",
              "      <th>PubchemFP873</th>\n",
              "      <th>PubchemFP874</th>\n",
              "      <th>PubchemFP875</th>\n",
              "      <th>PubchemFP876</th>\n",
              "      <th>PubchemFP877</th>\n",
              "      <th>PubchemFP878</th>\n",
              "      <th>PubchemFP879</th>\n",
              "      <th>PubchemFP880</th>\n",
              "    </tr>\n",
              "  </thead>\n",
              "  <tbody>\n",
              "    <tr>\n",
              "      <th>0</th>\n",
              "      <td>1</td>\n",
              "      <td>1</td>\n",
              "      <td>1</td>\n",
              "      <td>0</td>\n",
              "      <td>0</td>\n",
              "      <td>0</td>\n",
              "      <td>0</td>\n",
              "      <td>0</td>\n",
              "      <td>0</td>\n",
              "      <td>1</td>\n",
              "      <td>...</td>\n",
              "      <td>0</td>\n",
              "      <td>0</td>\n",
              "      <td>0</td>\n",
              "      <td>0</td>\n",
              "      <td>0</td>\n",
              "      <td>0</td>\n",
              "      <td>0</td>\n",
              "      <td>0</td>\n",
              "      <td>0</td>\n",
              "      <td>0</td>\n",
              "    </tr>\n",
              "    <tr>\n",
              "      <th>1</th>\n",
              "      <td>1</td>\n",
              "      <td>1</td>\n",
              "      <td>1</td>\n",
              "      <td>0</td>\n",
              "      <td>0</td>\n",
              "      <td>0</td>\n",
              "      <td>0</td>\n",
              "      <td>0</td>\n",
              "      <td>0</td>\n",
              "      <td>1</td>\n",
              "      <td>...</td>\n",
              "      <td>0</td>\n",
              "      <td>0</td>\n",
              "      <td>0</td>\n",
              "      <td>0</td>\n",
              "      <td>0</td>\n",
              "      <td>0</td>\n",
              "      <td>0</td>\n",
              "      <td>0</td>\n",
              "      <td>0</td>\n",
              "      <td>0</td>\n",
              "    </tr>\n",
              "    <tr>\n",
              "      <th>2</th>\n",
              "      <td>1</td>\n",
              "      <td>1</td>\n",
              "      <td>1</td>\n",
              "      <td>0</td>\n",
              "      <td>0</td>\n",
              "      <td>0</td>\n",
              "      <td>0</td>\n",
              "      <td>0</td>\n",
              "      <td>0</td>\n",
              "      <td>1</td>\n",
              "      <td>...</td>\n",
              "      <td>0</td>\n",
              "      <td>0</td>\n",
              "      <td>0</td>\n",
              "      <td>0</td>\n",
              "      <td>0</td>\n",
              "      <td>0</td>\n",
              "      <td>0</td>\n",
              "      <td>0</td>\n",
              "      <td>0</td>\n",
              "      <td>0</td>\n",
              "    </tr>\n",
              "  </tbody>\n",
              "</table>\n",
              "<p>3 rows × 881 columns</p>\n",
              "</div>"
            ],
            "text/plain": [
              "   PubchemFP0  PubchemFP1  PubchemFP2  PubchemFP3  PubchemFP4  PubchemFP5   \n",
              "0           1           1           1           0           0           0  \\\n",
              "1           1           1           1           0           0           0   \n",
              "2           1           1           1           0           0           0   \n",
              "\n",
              "   PubchemFP6  PubchemFP7  PubchemFP8  PubchemFP9  ...  PubchemFP871   \n",
              "0           0           0           0           1  ...             0  \\\n",
              "1           0           0           0           1  ...             0   \n",
              "2           0           0           0           1  ...             0   \n",
              "\n",
              "   PubchemFP872  PubchemFP873  PubchemFP874  PubchemFP875  PubchemFP876   \n",
              "0             0             0             0             0             0  \\\n",
              "1             0             0             0             0             0   \n",
              "2             0             0             0             0             0   \n",
              "\n",
              "   PubchemFP877  PubchemFP878  PubchemFP879  PubchemFP880  \n",
              "0             0             0             0             0  \n",
              "1             0             0             0             0  \n",
              "2             0             0             0             0  \n",
              "\n",
              "[3 rows x 881 columns]"
            ]
          },
          "execution_count": 3,
          "metadata": {},
          "output_type": "execute_result"
        }
      ],
      "source": [
        "X_882 = df.drop('pIC50', axis=1)\n",
        "X_882.head(3)"
      ]
    },
    {
      "cell_type": "code",
      "execution_count": null,
      "metadata": {
        "colab": {
          "base_uri": "https://localhost:8080/"
        },
        "id": "chUaNbT1pcft",
        "outputId": "dcd46d2a-8de3-4bcc-943a-c4ecb48f1c89"
      },
      "outputs": [
        {
          "data": {
            "text/plain": [
              "0    4.154902\n",
              "1    4.154902\n",
              "2    4.154902\n",
              "Name: pIC50, dtype: float64"
            ]
          },
          "execution_count": 4,
          "metadata": {},
          "output_type": "execute_result"
        }
      ],
      "source": [
        "Y_882 = df.pIC50\n",
        "Y_882.head(3)"
      ]
    },
    {
      "cell_type": "markdown",
      "metadata": {
        "id": "GosDznZmphVa"
      },
      "source": [
        "### **Eliminar varianzas muy bajas**"
      ]
    },
    {
      "cell_type": "code",
      "execution_count": null,
      "metadata": {
        "colab": {
          "base_uri": "https://localhost:8080/"
        },
        "id": "H2v1f0O5pkjv",
        "outputId": "d6f4bba8-b04d-4d0d-e3d9-cdc799e030c1"
      },
      "outputs": [
        {
          "data": {
            "text/plain": [
              "(7049, 165)"
            ]
          },
          "execution_count": 5,
          "metadata": {},
          "output_type": "execute_result"
        }
      ],
      "source": [
        "from sklearn.feature_selection import VarianceThreshold\n",
        "selection = VarianceThreshold(threshold=(.8 * (1 - .8)))    \n",
        "X_882 = selection.fit_transform(X_882)\n",
        "#resultado\n",
        "X_882.shape #Se eliminan 717 variables"
      ]
    },
    {
      "cell_type": "markdown",
      "metadata": {
        "id": "YRcQujDzpvLy"
      },
      "source": [
        "## **Dividir conjunto de datos en 80% y 20%**"
      ]
    },
    {
      "cell_type": "code",
      "execution_count": null,
      "metadata": {
        "colab": {
          "base_uri": "https://localhost:8080/"
        },
        "id": "UoyoGGLVp7nZ",
        "outputId": "27c29ad1-f480-453c-eadd-3803deb1cc4d"
      },
      "outputs": [
        {
          "data": {
            "text/plain": [
              "((5639, 165), (5639,), (1410, 165), (1410,))"
            ]
          },
          "execution_count": 6,
          "metadata": {},
          "output_type": "execute_result"
        }
      ],
      "source": [
        "#X_train, X_test, Y_train, Y_test = train_test_split(X, Y, test_size=0.2)\n",
        "X_train_882, X_test_882, Y_train_882, Y_test_882 = train_test_split(X_882, Y_882, test_size=0.2,random_state=10)\n",
        "X_train_882.shape, Y_train_882.shape, X_test_882.shape, Y_test_882.shape"
      ]
    },
    {
      "cell_type": "markdown",
      "metadata": {
        "id": "waqOQ__9qbRx"
      },
      "source": [
        "## **Modelo de Regresión Lineal usando Random Forest**"
      ]
    },
    {
      "cell_type": "code",
      "execution_count": null,
      "metadata": {
        "colab": {
          "base_uri": "https://localhost:8080/"
        },
        "id": "ODQprPGJqh_Y",
        "outputId": "6ce03343-562f-4d35-cca6-1e1a31723d1c"
      },
      "outputs": [
        {
          "data": {
            "text/plain": [
              "0.6263890165613613"
            ]
          },
          "execution_count": 7,
          "metadata": {},
          "output_type": "execute_result"
        }
      ],
      "source": [
        "#model = RandomForestRegressor(n_estimators=100)\n",
        "import numpy as np\n",
        "model_RFR = RandomForestRegressor(n_estimators=102, max_depth=16, random_state=0, criterion='squared_error',  min_samples_split=2)\n",
        "model_RFR.fit(X_train_882, Y_train_882)\n",
        "r2 = model_RFR.score(X_test_882, Y_test_882)\n",
        "r2"
      ]
    },
    {
      "cell_type": "code",
      "execution_count": null,
      "metadata": {
        "id": "zKqANRO5k96-",
        "outputId": "07573409-85a1-49ff-808f-4cfe6fc68dac"
      },
      "outputs": [
        {
          "name": "stdout",
          "output_type": "stream",
          "text": [
            "Fitting 3 folds for each of 58320 candidates, totalling 174960 fits\n"
          ]
        },
        {
          "ename": "",
          "evalue": "",
          "output_type": "error",
          "traceback": [
            "\u001b[1;31mCanceled future for execute_request message before replies were done"
          ]
        },
        {
          "ename": "",
          "evalue": "",
          "output_type": "error",
          "traceback": [
            "\u001b[1;31mEl Kernel se bloqueó al ejecutar código en la celda actual o en una celda anterior. Revise el código de las celdas para identificar una posible causa del error. Haga clic <a href='https://aka.ms/vscodeJupyterKernelCrash'>aquí</a> para obtener más información. Vea el [registro] de Jupyter (command:jupyter.viewOutput) para obtener más detalles."
          ]
        }
      ],
      "source": [
        "#mejorar el modelo con GridSearchCV\n",
        "from sklearn.model_selection import GridSearchCV\n",
        "from sklearn.ensemble import RandomForestRegressor\n",
        "from sklearn.metrics import r2_score, mean_squared_error, mean_absolute_error\n",
        "\n",
        "#definir los parámetros\n",
        "param_grid = {\n",
        "    'bootstrap': [True],\n",
        "    'max_depth': [10, 20, 30, 40, 50, 60, 70, 80, 90, 100],\n",
        "    'max_features': [2, 3, 4, 5, 6, 7, 8, 9, 10],\n",
        "    'min_samples_leaf': [3, 4, 5, 6, 7, 8, 9, 10],\n",
        "    'min_samples_split': [8, 10, 12, 14, 16, 18, 20, 22, 24],\n",
        "    'n_estimators': [100, 200, 300, 400, 500, 600, 700, 800, 900]\n",
        "}\n",
        "\n",
        "#definir el modelo\n",
        "model_RFR = RandomForestRegressor(random_state=0)\n",
        "\n",
        "#definir la búsqueda\n",
        "grid_search = GridSearchCV(estimator = model_RFR, param_grid = param_grid,\n",
        "                            cv = 3, n_jobs = -1, verbose = 2)\n",
        "\n",
        "#entrenar el modelo\n",
        "grid_search.fit(X_train_882, Y_train_882)\n",
        "\n",
        "#mejores parámetros\n",
        "grid_search.best_params_\n",
        "\n",
        "#mejor score\n",
        "grid_search.best_score_\n",
        "\n",
        "#mejor modelo\n",
        "best_grid = grid_search.best_estimator_"
      ]
    },
    {
      "cell_type": "code",
      "execution_count": null,
      "metadata": {
        "colab": {
          "base_uri": "https://localhost:8080/"
        },
        "id": "BwsRiAmBquXH",
        "outputId": "ad178e02-182a-4e4a-83b8-e628b6cb6838"
      },
      "outputs": [
        {
          "data": {
            "text/plain": [
              "[DecisionTreeRegressor(max_depth=16, max_features=1.0, random_state=209652396),\n",
              " DecisionTreeRegressor(max_depth=16, max_features=1.0, random_state=398764591),\n",
              " DecisionTreeRegressor(max_depth=16, max_features=1.0, random_state=924231285),\n",
              " DecisionTreeRegressor(max_depth=16, max_features=1.0, random_state=1478610112),\n",
              " DecisionTreeRegressor(max_depth=16, max_features=1.0, random_state=441365315),\n",
              " DecisionTreeRegressor(max_depth=16, max_features=1.0, random_state=1537364731),\n",
              " DecisionTreeRegressor(max_depth=16, max_features=1.0, random_state=192771779),\n",
              " DecisionTreeRegressor(max_depth=16, max_features=1.0, random_state=1491434855),\n",
              " DecisionTreeRegressor(max_depth=16, max_features=1.0, random_state=1819583497),\n",
              " DecisionTreeRegressor(max_depth=16, max_features=1.0, random_state=530702035),\n",
              " DecisionTreeRegressor(max_depth=16, max_features=1.0, random_state=626610453),\n",
              " DecisionTreeRegressor(max_depth=16, max_features=1.0, random_state=1650906866),\n",
              " DecisionTreeRegressor(max_depth=16, max_features=1.0, random_state=1879422756),\n",
              " DecisionTreeRegressor(max_depth=16, max_features=1.0, random_state=1277901399),\n",
              " DecisionTreeRegressor(max_depth=16, max_features=1.0, random_state=1682652230),\n",
              " DecisionTreeRegressor(max_depth=16, max_features=1.0, random_state=243580376),\n",
              " DecisionTreeRegressor(max_depth=16, max_features=1.0, random_state=1991416408),\n",
              " DecisionTreeRegressor(max_depth=16, max_features=1.0, random_state=1171049868),\n",
              " DecisionTreeRegressor(max_depth=16, max_features=1.0, random_state=1646868794),\n",
              " DecisionTreeRegressor(max_depth=16, max_features=1.0, random_state=2051556033),\n",
              " DecisionTreeRegressor(max_depth=16, max_features=1.0, random_state=1252949478),\n",
              " DecisionTreeRegressor(max_depth=16, max_features=1.0, random_state=1340754471),\n",
              " DecisionTreeRegressor(max_depth=16, max_features=1.0, random_state=124102743),\n",
              " DecisionTreeRegressor(max_depth=16, max_features=1.0, random_state=2061486254),\n",
              " DecisionTreeRegressor(max_depth=16, max_features=1.0, random_state=292249176),\n",
              " DecisionTreeRegressor(max_depth=16, max_features=1.0, random_state=1686997841),\n",
              " DecisionTreeRegressor(max_depth=16, max_features=1.0, random_state=1827923621),\n",
              " DecisionTreeRegressor(max_depth=16, max_features=1.0, random_state=1443447321),\n",
              " DecisionTreeRegressor(max_depth=16, max_features=1.0, random_state=305097549),\n",
              " DecisionTreeRegressor(max_depth=16, max_features=1.0, random_state=1449105480),\n",
              " DecisionTreeRegressor(max_depth=16, max_features=1.0, random_state=374217481),\n",
              " DecisionTreeRegressor(max_depth=16, max_features=1.0, random_state=636393364),\n",
              " DecisionTreeRegressor(max_depth=16, max_features=1.0, random_state=86837363),\n",
              " DecisionTreeRegressor(max_depth=16, max_features=1.0, random_state=1581585360),\n",
              " DecisionTreeRegressor(max_depth=16, max_features=1.0, random_state=1428591347),\n",
              " DecisionTreeRegressor(max_depth=16, max_features=1.0, random_state=1963466437),\n",
              " DecisionTreeRegressor(max_depth=16, max_features=1.0, random_state=1194674174),\n",
              " DecisionTreeRegressor(max_depth=16, max_features=1.0, random_state=602801999),\n",
              " DecisionTreeRegressor(max_depth=16, max_features=1.0, random_state=1589190063),\n",
              " DecisionTreeRegressor(max_depth=16, max_features=1.0, random_state=1589512640),\n",
              " DecisionTreeRegressor(max_depth=16, max_features=1.0, random_state=2055650130),\n",
              " DecisionTreeRegressor(max_depth=16, max_features=1.0, random_state=2034131043),\n",
              " DecisionTreeRegressor(max_depth=16, max_features=1.0, random_state=1284876248),\n",
              " DecisionTreeRegressor(max_depth=16, max_features=1.0, random_state=1292401841),\n",
              " DecisionTreeRegressor(max_depth=16, max_features=1.0, random_state=1982038771),\n",
              " DecisionTreeRegressor(max_depth=16, max_features=1.0, random_state=87950109),\n",
              " DecisionTreeRegressor(max_depth=16, max_features=1.0, random_state=1204863635),\n",
              " DecisionTreeRegressor(max_depth=16, max_features=1.0, random_state=768281747),\n",
              " DecisionTreeRegressor(max_depth=16, max_features=1.0, random_state=507984782),\n",
              " DecisionTreeRegressor(max_depth=16, max_features=1.0, random_state=947610023),\n",
              " DecisionTreeRegressor(max_depth=16, max_features=1.0, random_state=600956192),\n",
              " DecisionTreeRegressor(max_depth=16, max_features=1.0, random_state=352272321),\n",
              " DecisionTreeRegressor(max_depth=16, max_features=1.0, random_state=615697673),\n",
              " DecisionTreeRegressor(max_depth=16, max_features=1.0, random_state=160516793),\n",
              " DecisionTreeRegressor(max_depth=16, max_features=1.0, random_state=1909838463),\n",
              " DecisionTreeRegressor(max_depth=16, max_features=1.0, random_state=1110745632),\n",
              " DecisionTreeRegressor(max_depth=16, max_features=1.0, random_state=93837855),\n",
              " DecisionTreeRegressor(max_depth=16, max_features=1.0, random_state=454869706),\n",
              " DecisionTreeRegressor(max_depth=16, max_features=1.0, random_state=1780959476),\n",
              " DecisionTreeRegressor(max_depth=16, max_features=1.0, random_state=2034098327),\n",
              " DecisionTreeRegressor(max_depth=16, max_features=1.0, random_state=1136257699),\n",
              " DecisionTreeRegressor(max_depth=16, max_features=1.0, random_state=800291326),\n",
              " DecisionTreeRegressor(max_depth=16, max_features=1.0, random_state=1177824715),\n",
              " DecisionTreeRegressor(max_depth=16, max_features=1.0, random_state=1017555826),\n",
              " DecisionTreeRegressor(max_depth=16, max_features=1.0, random_state=1959150775),\n",
              " DecisionTreeRegressor(max_depth=16, max_features=1.0, random_state=930076700),\n",
              " DecisionTreeRegressor(max_depth=16, max_features=1.0, random_state=293921570),\n",
              " DecisionTreeRegressor(max_depth=16, max_features=1.0, random_state=580757632),\n",
              " DecisionTreeRegressor(max_depth=16, max_features=1.0, random_state=80701568),\n",
              " DecisionTreeRegressor(max_depth=16, max_features=1.0, random_state=1392175012),\n",
              " DecisionTreeRegressor(max_depth=16, max_features=1.0, random_state=505240629),\n",
              " DecisionTreeRegressor(max_depth=16, max_features=1.0, random_state=642848645),\n",
              " DecisionTreeRegressor(max_depth=16, max_features=1.0, random_state=481447462),\n",
              " DecisionTreeRegressor(max_depth=16, max_features=1.0, random_state=954863080),\n",
              " DecisionTreeRegressor(max_depth=16, max_features=1.0, random_state=502227700),\n",
              " DecisionTreeRegressor(max_depth=16, max_features=1.0, random_state=1659957521),\n",
              " DecisionTreeRegressor(max_depth=16, max_features=1.0, random_state=1905883471),\n",
              " DecisionTreeRegressor(max_depth=16, max_features=1.0, random_state=1729147268),\n",
              " DecisionTreeRegressor(max_depth=16, max_features=1.0, random_state=780912233),\n",
              " DecisionTreeRegressor(max_depth=16, max_features=1.0, random_state=1932520490),\n",
              " DecisionTreeRegressor(max_depth=16, max_features=1.0, random_state=1544074682),\n",
              " DecisionTreeRegressor(max_depth=16, max_features=1.0, random_state=485603871),\n",
              " DecisionTreeRegressor(max_depth=16, max_features=1.0, random_state=1877037944),\n",
              " DecisionTreeRegressor(max_depth=16, max_features=1.0, random_state=1728073985),\n",
              " DecisionTreeRegressor(max_depth=16, max_features=1.0, random_state=848819521),\n",
              " DecisionTreeRegressor(max_depth=16, max_features=1.0, random_state=426405863),\n",
              " DecisionTreeRegressor(max_depth=16, max_features=1.0, random_state=258666409),\n",
              " DecisionTreeRegressor(max_depth=16, max_features=1.0, random_state=2017814585),\n",
              " DecisionTreeRegressor(max_depth=16, max_features=1.0, random_state=716257571),\n",
              " DecisionTreeRegressor(max_depth=16, max_features=1.0, random_state=657731430),\n",
              " DecisionTreeRegressor(max_depth=16, max_features=1.0, random_state=732884087),\n",
              " DecisionTreeRegressor(max_depth=16, max_features=1.0, random_state=734051083),\n",
              " DecisionTreeRegressor(max_depth=16, max_features=1.0, random_state=903586222),\n",
              " DecisionTreeRegressor(max_depth=16, max_features=1.0, random_state=1538251858),\n",
              " DecisionTreeRegressor(max_depth=16, max_features=1.0, random_state=553734235),\n",
              " DecisionTreeRegressor(max_depth=16, max_features=1.0, random_state=1076688768),\n",
              " DecisionTreeRegressor(max_depth=16, max_features=1.0, random_state=1354754446),\n",
              " DecisionTreeRegressor(max_depth=16, max_features=1.0, random_state=463129187),\n",
              " DecisionTreeRegressor(max_depth=16, max_features=1.0, random_state=1562125877),\n",
              " DecisionTreeRegressor(max_depth=16, max_features=1.0, random_state=1396067212),\n",
              " DecisionTreeRegressor(max_depth=16, max_features=1.0, random_state=301492857),\n",
              " DecisionTreeRegressor(max_depth=16, max_features=1.0, random_state=165035946)]"
            ]
          },
          "execution_count": 8,
          "metadata": {},
          "output_type": "execute_result"
        }
      ],
      "source": [
        "model_RFR.estimators_"
      ]
    },
    {
      "cell_type": "code",
      "execution_count": null,
      "metadata": {
        "id": "7U2uqYWEqycO"
      },
      "outputs": [],
      "source": [
        "Y_pred_882 = model_RFR.predict(X_test_882)"
      ]
    },
    {
      "cell_type": "code",
      "execution_count": null,
      "metadata": {
        "colab": {
          "base_uri": "https://localhost:8080/"
        },
        "id": "jkTR4vtVq5XV",
        "outputId": "5fd3dc94-1d38-411f-b635-37f621c90aa1"
      },
      "outputs": [
        {
          "name": "stdout",
          "output_type": "stream",
          "text": [
            "0.4559354841486476\n"
          ]
        }
      ],
      "source": [
        "from sklearn.tree import DecisionTreeRegressor \n",
        "  \n",
        "model_DTR = DecisionTreeRegressor(random_state=4, max_depth=10, max_leaf_nodes=102, min_samples_leaf=2, splitter='random')\n",
        "model_DTR.fit(X_train_882, Y_train_882)\n",
        "predictions = model_DTR.predict(X_test_882)\n",
        "\n",
        "#r2 = model1.score(X_test, Y_test)\n",
        "\n",
        "score = model_DTR.score(X_test_882, Y_test_882)\n",
        "print(score)\n",
        "# from sklearn.tree import plot_tree\n",
        "# plt.figure(figsize=(10,8), dpi=150)\n",
        "# plot_tree(model, feature_names=X.columns)"
      ]
    },
    {
      "cell_type": "code",
      "execution_count": null,
      "metadata": {
        "colab": {
          "base_uri": "https://localhost:8080/"
        },
        "id": "MaUpYayLrBBW",
        "outputId": "fecee985-8da0-4321-f5c2-750d9ce9908c"
      },
      "outputs": [
        {
          "data": {
            "text/plain": [
              "0.36896955083244387"
            ]
          },
          "execution_count": 19,
          "metadata": {},
          "output_type": "execute_result"
        }
      ],
      "source": [
        "#Modelo LM\n",
        "from sklearn import linear_model\n",
        "modelo_LM=linear_model.LinearRegression()\n",
        "modelo_LM.fit(X_train_882,Y_train_882)\n",
        "modelo_LM.predict(X_test_882)\n",
        "modelo_LM.score(X_test_882,Y_test_882)"
      ]
    },
    {
      "cell_type": "code",
      "execution_count": null,
      "metadata": {
        "colab": {
          "base_uri": "https://localhost:8080/"
        },
        "id": "HAXiNUzWrJhT",
        "outputId": "eaa5874a-cfaf-48b8-db31-6f1a45ac7143"
      },
      "outputs": [
        {
          "name": "stderr",
          "output_type": "stream",
          "text": [
            "c:\\Python3\\lib\\site-packages\\sklearn\\neural_network\\_multilayer_perceptron.py:702: ConvergenceWarning: Stochastic Optimizer: Maximum iterations (90) reached and the optimization hasn't converged yet.\n",
            "  warnings.warn(\n"
          ]
        },
        {
          "data": {
            "text/plain": [
              "0.5474654689541989"
            ]
          },
          "execution_count": 20,
          "metadata": {},
          "output_type": "execute_result"
        }
      ],
      "source": [
        "#otro modelo usando redes neuronales\n",
        "from sklearn.neural_network import MLPRegressor\n",
        "Modelo_MLP=MLPRegressor(random_state=1,max_iter=90).fit(X_train_882,Y_train_882)\n",
        "Modelo_MLP.score(X_test_882,Y_test_882)\n",
        "Modelo_MLP.score(X_test_882,Y_test_882)"
      ]
    },
    {
      "cell_type": "code",
      "execution_count": null,
      "metadata": {
        "colab": {
          "base_uri": "https://localhost:8080/"
        },
        "id": "4FtZ86v9rT-r",
        "outputId": "640dd810-1fb0-4f24-dcd9-cc2412b6c72b"
      },
      "outputs": [
        {
          "data": {
            "text/plain": [
              "0.3549503361958035"
            ]
          },
          "execution_count": 21,
          "metadata": {},
          "output_type": "execute_result"
        }
      ],
      "source": [
        "#Modelo bayesiano\n",
        "from sklearn import linear_model\n",
        "from os import X_OK\n",
        "modelo_BR=linear_model.BayesianRidge()\n",
        "modelo_BR.fit(X_train_882,Y_train_882)\n",
        "modelo_BR.predict(X_test_882)\n",
        "modelo_BR.score(X_test_882,Y_test_882)\n",
        "modelo_BR.score(X_test_882,Y_test_882)"
      ]
    },
    {
      "cell_type": "markdown",
      "metadata": {
        "id": "iz8MkCgercZ5"
      },
      "source": [
        "## **Graficar valores Experimental vs predicho para valores de pIC50**"
      ]
    },
    {
      "cell_type": "code",
      "execution_count": null,
      "metadata": {
        "id": "fEnXoTzorZna",
        "outputId": "af304d7f-9aef-4201-e33a-a9228bbc20a9"
      },
      "outputs": [
        {
          "name": "stderr",
          "output_type": "stream",
          "text": [
            "c:\\Python3\\lib\\site-packages\\seaborn\\_decorators.py:36: FutureWarning: Pass the following variables as keyword args: x, y. From version 0.12, the only valid positional argument will be `data`, and passing other arguments without an explicit keyword will result in an error or misinterpretation.\n",
            "  warnings.warn(\n"
          ]
        },
        {
          "data": {
            "text/plain": [
              "<function matplotlib.pyplot.show(*, block=None)>"
            ]
          },
          "execution_count": 23,
          "metadata": {},
          "output_type": "execute_result"
        }
      ],
      "source": [
        "import seaborn as sns\n",
        "import matplotlib.pyplot as plt\n",
        "\n",
        "\n",
        "sns.set(color_codes=True)\n",
        "sns.set_style(\"white\")\n",
        "\n",
        "ax = sns.regplot(Y_test_882, Y_pred_882, scatter_kws={'alpha':0.4})\n",
        "ax.set_xlabel('PIC50 Experimental', fontsize='large', fontweight='bold')\n",
        "ax.set_ylabel('Predicción PIC50 ', fontsize='large', fontweight='bold')\n",
        "ax.set_xlim(0, 12)\n",
        "ax.set_ylim(0, 12)\n",
        "ax.figure.set_size_inches(5, 5)\n",
        "plt.show\n",
        "#plt.savefig('V1/Regresion_Lineal.png')\n",
        "#Image   (filename='V1/Regresion_Lineal.png')\n"
      ]
    },
    {
      "cell_type": "code",
      "execution_count": null,
      "metadata": {
        "id": "ZYVfV7yDk97A"
      },
      "outputs": [],
      "source": [
        "df3 = pd.read_csv('chagas_04_bioactivity_data_3class_pIC50.csv')\n",
        "#eliminar columnas con 'Uname: 0'\n",
        "df3 = df3.drop(columns=['Unnamed: 0'])\n",
        "df3.head(3)\n",
        "selection = ['canonical_smiles','molecule_chembl_id']\n",
        "df3_selection = df3[selection]\n",
        "df3_selection.to_csv('molecule.smi', sep='\\t', index=False, header=False)"
      ]
    },
    {
      "cell_type": "markdown",
      "metadata": {
        "id": "2rMhyZ52tl-5"
      },
      "source": [
        "##Implementar Segundos descriptores"
      ]
    },
    {
      "cell_type": "code",
      "execution_count": null,
      "metadata": {
        "id": "QqAm9LYStnt8"
      },
      "outputs": [],
      "source": [
        "#!pip install mordred -U\n",
        "#!pip install rdkit-pypi\n",
        "\n",
        "from rdkit.Chem import AllChem\n",
        "from rdkit import Chem\n",
        "from rdkit.Chem import Descriptors\n",
        "from rdkit.ML.Descriptors import MoleculeDescriptors\n",
        "\n",
        "# https://pandas.pydata.org\n",
        "import pandas as pd\n",
        "\n",
        "# https://numpy.org/doc/stable/release.html\n",
        "import numpy as np\n",
        "\n",
        "#https://github.com/mordred-descriptor/mordred\n",
        "from mordred import Calculator, descriptors\n",
        "#import mordred as mordred\n",
        "\n",
        "\n",
        "def RDkit_descriptors(smiles):\n",
        "    mols = [Chem.MolFromSmiles(i) for i in smiles] \n",
        "    calc = MoleculeDescriptors.MolecularDescriptorCalculator([x[0] for x in Descriptors._descList])\n",
        "    desc_names = calc.GetDescriptorNames()\n",
        "    \n",
        "    Mol_descriptors =[]\n",
        "    for mol in mols:\n",
        "        # add hydrogens to molecules\n",
        "        mol=Chem.AddHs(mol)\n",
        "        # Calculate all 200 descriptors for each molecule\n",
        "        descriptors = calc.CalcDescriptors(mol)\n",
        "        Mol_descriptors.append(descriptors)\n",
        "    return Mol_descriptors,desc_names \n",
        "\n",
        "# Function call\n",
        "Mol_descriptors,desc_names = RDkit_descriptors(df3_selection['canonical_smiles'])"
      ]
    },
    {
      "cell_type": "code",
      "execution_count": null,
      "metadata": {
        "id": "fUQW5UzDv1fx"
      },
      "outputs": [],
      "source": [
        "df_200 = pd.DataFrame(Mol_descriptors,columns=desc_names)\n",
        "\n",
        "df_200['pIC50'] = df3['pIC50']\n",
        "\n",
        "df_200.to_csv('reutilizacion_06_bioactivity_data_3class_pIC50_pubchem_fp_208.csv', sep=',', index=False)"
      ]
    },
    {
      "cell_type": "code",
      "execution_count": null,
      "metadata": {
        "id": "xV1nTf2r0QN2"
      },
      "outputs": [],
      "source": [
        "def morgan_fpts(data):\n",
        "    Morgan_fpts = []\n",
        "    for i in data:\n",
        "        mol = Chem.MolFromSmiles(i) \n",
        "        fpts =  AllChem.GetMorganFingerprintAsBitVect(mol,2,2048)\n",
        "        mfpts = np.array(fpts)\n",
        "        Morgan_fpts.append(mfpts)  \n",
        "    return np.array(Morgan_fpts)"
      ]
    },
    {
      "cell_type": "code",
      "execution_count": null,
      "metadata": {
        "colab": {
          "base_uri": "https://localhost:8080/"
        },
        "id": "Q_kXqkm-0TPC",
        "outputId": "7f8976b6-8b4c-4380-ba89-d6ab711de719"
      },
      "outputs": [
        {
          "data": {
            "text/plain": [
              "(7049, 2048)"
            ]
          },
          "execution_count": 28,
          "metadata": {},
          "output_type": "execute_result"
        }
      ],
      "source": [
        "df_2048 = morgan_fpts(df3_selection['canonical_smiles'])\n",
        "df_2048.shape"
      ]
    },
    {
      "cell_type": "code",
      "execution_count": null,
      "metadata": {
        "colab": {
          "base_uri": "https://localhost:8080/",
          "height": 424
        },
        "id": "Xy5VYiLW0Y6b",
        "outputId": "b633d431-32d2-4d62-8ae6-f1324e02f0fd"
      },
      "outputs": [
        {
          "data": {
            "text/html": [
              "<div>\n",
              "<style scoped>\n",
              "    .dataframe tbody tr th:only-of-type {\n",
              "        vertical-align: middle;\n",
              "    }\n",
              "\n",
              "    .dataframe tbody tr th {\n",
              "        vertical-align: top;\n",
              "    }\n",
              "\n",
              "    .dataframe thead th {\n",
              "        text-align: right;\n",
              "    }\n",
              "</style>\n",
              "<table border=\"1\" class=\"dataframe\">\n",
              "  <thead>\n",
              "    <tr style=\"text-align: right;\">\n",
              "      <th></th>\n",
              "      <th>Col_0</th>\n",
              "      <th>Col_1</th>\n",
              "      <th>Col_2</th>\n",
              "      <th>Col_3</th>\n",
              "      <th>Col_4</th>\n",
              "      <th>Col_5</th>\n",
              "      <th>Col_6</th>\n",
              "      <th>Col_7</th>\n",
              "      <th>Col_8</th>\n",
              "      <th>Col_9</th>\n",
              "      <th>...</th>\n",
              "      <th>Col_2038</th>\n",
              "      <th>Col_2039</th>\n",
              "      <th>Col_2040</th>\n",
              "      <th>Col_2041</th>\n",
              "      <th>Col_2042</th>\n",
              "      <th>Col_2043</th>\n",
              "      <th>Col_2044</th>\n",
              "      <th>Col_2045</th>\n",
              "      <th>Col_2046</th>\n",
              "      <th>Col_2047</th>\n",
              "    </tr>\n",
              "  </thead>\n",
              "  <tbody>\n",
              "    <tr>\n",
              "      <th>0</th>\n",
              "      <td>0</td>\n",
              "      <td>1</td>\n",
              "      <td>0</td>\n",
              "      <td>0</td>\n",
              "      <td>0</td>\n",
              "      <td>0</td>\n",
              "      <td>0</td>\n",
              "      <td>0</td>\n",
              "      <td>0</td>\n",
              "      <td>0</td>\n",
              "      <td>...</td>\n",
              "      <td>0</td>\n",
              "      <td>0</td>\n",
              "      <td>0</td>\n",
              "      <td>0</td>\n",
              "      <td>0</td>\n",
              "      <td>0</td>\n",
              "      <td>0</td>\n",
              "      <td>0</td>\n",
              "      <td>0</td>\n",
              "      <td>0</td>\n",
              "    </tr>\n",
              "    <tr>\n",
              "      <th>1</th>\n",
              "      <td>0</td>\n",
              "      <td>0</td>\n",
              "      <td>0</td>\n",
              "      <td>0</td>\n",
              "      <td>0</td>\n",
              "      <td>0</td>\n",
              "      <td>0</td>\n",
              "      <td>0</td>\n",
              "      <td>0</td>\n",
              "      <td>0</td>\n",
              "      <td>...</td>\n",
              "      <td>0</td>\n",
              "      <td>0</td>\n",
              "      <td>0</td>\n",
              "      <td>0</td>\n",
              "      <td>0</td>\n",
              "      <td>0</td>\n",
              "      <td>0</td>\n",
              "      <td>0</td>\n",
              "      <td>0</td>\n",
              "      <td>0</td>\n",
              "    </tr>\n",
              "    <tr>\n",
              "      <th>2</th>\n",
              "      <td>0</td>\n",
              "      <td>1</td>\n",
              "      <td>0</td>\n",
              "      <td>0</td>\n",
              "      <td>0</td>\n",
              "      <td>0</td>\n",
              "      <td>0</td>\n",
              "      <td>0</td>\n",
              "      <td>0</td>\n",
              "      <td>0</td>\n",
              "      <td>...</td>\n",
              "      <td>0</td>\n",
              "      <td>0</td>\n",
              "      <td>0</td>\n",
              "      <td>0</td>\n",
              "      <td>0</td>\n",
              "      <td>0</td>\n",
              "      <td>0</td>\n",
              "      <td>0</td>\n",
              "      <td>0</td>\n",
              "      <td>0</td>\n",
              "    </tr>\n",
              "  </tbody>\n",
              "</table>\n",
              "<p>3 rows × 2048 columns</p>\n",
              "</div>"
            ],
            "text/plain": [
              "   Col_0  Col_1  Col_2  Col_3  Col_4  Col_5  Col_6  Col_7  Col_8  Col_9  ...   \n",
              "0      0      1      0      0      0      0      0      0      0      0  ...  \\\n",
              "1      0      0      0      0      0      0      0      0      0      0  ...   \n",
              "2      0      1      0      0      0      0      0      0      0      0  ...   \n",
              "\n",
              "   Col_2038  Col_2039  Col_2040  Col_2041  Col_2042  Col_2043  Col_2044   \n",
              "0         0         0         0         0         0         0         0  \\\n",
              "1         0         0         0         0         0         0         0   \n",
              "2         0         0         0         0         0         0         0   \n",
              "\n",
              "   Col_2045  Col_2046  Col_2047  \n",
              "0         0         0         0  \n",
              "1         0         0         0  \n",
              "2         0         0         0  \n",
              "\n",
              "[3 rows x 2048 columns]"
            ]
          },
          "execution_count": 29,
          "metadata": {},
          "output_type": "execute_result"
        }
      ],
      "source": [
        "Morgan_fingerprints_2048 = pd.DataFrame(df_2048,columns=['Col_{}'.format(i) for i in range(df_2048.shape[1])])\n",
        "Morgan_fingerprints_2048.head(3)"
      ]
    },
    {
      "cell_type": "code",
      "execution_count": null,
      "metadata": {
        "id": "QitS-mdS0cfo"
      },
      "outputs": [],
      "source": [
        "#Morgan_fingerprints.to_csv('reutilizacion_06_bioactivity_data_3class_pIC50_pubchem_fp_2048.csv', index=False)\n",
        "df3_Y = df3['pIC50']\n",
        "df3_Y\n",
        "\n",
        "df_Y_2048 = df3_Y\n",
        "\n",
        "df_2048 = pd.concat([Morgan_fingerprints_2048, df_Y_2048], axis=1)\n",
        "df_2048\n",
        "df_2048.to_csv('reutilizacion_06_bioactivity_data_3class_pIC50_pubchem_fp_2048.csv', index=False)"
      ]
    },
    {
      "cell_type": "code",
      "execution_count": null,
      "metadata": {
        "colab": {
          "base_uri": "https://localhost:8080/",
          "height": 424
        },
        "id": "UEhU7Zg01PDF",
        "outputId": "7d13aa51-85c3-4d8b-d76c-b9778311fa7f"
      },
      "outputs": [
        {
          "data": {
            "text/html": [
              "<div>\n",
              "<style scoped>\n",
              "    .dataframe tbody tr th:only-of-type {\n",
              "        vertical-align: middle;\n",
              "    }\n",
              "\n",
              "    .dataframe tbody tr th {\n",
              "        vertical-align: top;\n",
              "    }\n",
              "\n",
              "    .dataframe thead th {\n",
              "        text-align: right;\n",
              "    }\n",
              "</style>\n",
              "<table border=\"1\" class=\"dataframe\">\n",
              "  <thead>\n",
              "    <tr style=\"text-align: right;\">\n",
              "      <th></th>\n",
              "      <th>Col_0</th>\n",
              "      <th>Col_1</th>\n",
              "      <th>Col_2</th>\n",
              "      <th>Col_3</th>\n",
              "      <th>Col_4</th>\n",
              "      <th>Col_5</th>\n",
              "      <th>Col_6</th>\n",
              "      <th>Col_7</th>\n",
              "      <th>Col_8</th>\n",
              "      <th>Col_9</th>\n",
              "      <th>...</th>\n",
              "      <th>Col_2038</th>\n",
              "      <th>Col_2039</th>\n",
              "      <th>Col_2040</th>\n",
              "      <th>Col_2041</th>\n",
              "      <th>Col_2042</th>\n",
              "      <th>Col_2043</th>\n",
              "      <th>Col_2044</th>\n",
              "      <th>Col_2045</th>\n",
              "      <th>Col_2046</th>\n",
              "      <th>Col_2047</th>\n",
              "    </tr>\n",
              "  </thead>\n",
              "  <tbody>\n",
              "    <tr>\n",
              "      <th>0</th>\n",
              "      <td>0</td>\n",
              "      <td>1</td>\n",
              "      <td>0</td>\n",
              "      <td>0</td>\n",
              "      <td>0</td>\n",
              "      <td>0</td>\n",
              "      <td>0</td>\n",
              "      <td>0</td>\n",
              "      <td>0</td>\n",
              "      <td>0</td>\n",
              "      <td>...</td>\n",
              "      <td>0</td>\n",
              "      <td>0</td>\n",
              "      <td>0</td>\n",
              "      <td>0</td>\n",
              "      <td>0</td>\n",
              "      <td>0</td>\n",
              "      <td>0</td>\n",
              "      <td>0</td>\n",
              "      <td>0</td>\n",
              "      <td>0</td>\n",
              "    </tr>\n",
              "    <tr>\n",
              "      <th>1</th>\n",
              "      <td>0</td>\n",
              "      <td>0</td>\n",
              "      <td>0</td>\n",
              "      <td>0</td>\n",
              "      <td>0</td>\n",
              "      <td>0</td>\n",
              "      <td>0</td>\n",
              "      <td>0</td>\n",
              "      <td>0</td>\n",
              "      <td>0</td>\n",
              "      <td>...</td>\n",
              "      <td>0</td>\n",
              "      <td>0</td>\n",
              "      <td>0</td>\n",
              "      <td>0</td>\n",
              "      <td>0</td>\n",
              "      <td>0</td>\n",
              "      <td>0</td>\n",
              "      <td>0</td>\n",
              "      <td>0</td>\n",
              "      <td>0</td>\n",
              "    </tr>\n",
              "    <tr>\n",
              "      <th>2</th>\n",
              "      <td>0</td>\n",
              "      <td>1</td>\n",
              "      <td>0</td>\n",
              "      <td>0</td>\n",
              "      <td>0</td>\n",
              "      <td>0</td>\n",
              "      <td>0</td>\n",
              "      <td>0</td>\n",
              "      <td>0</td>\n",
              "      <td>0</td>\n",
              "      <td>...</td>\n",
              "      <td>0</td>\n",
              "      <td>0</td>\n",
              "      <td>0</td>\n",
              "      <td>0</td>\n",
              "      <td>0</td>\n",
              "      <td>0</td>\n",
              "      <td>0</td>\n",
              "      <td>0</td>\n",
              "      <td>0</td>\n",
              "      <td>0</td>\n",
              "    </tr>\n",
              "  </tbody>\n",
              "</table>\n",
              "<p>3 rows × 2048 columns</p>\n",
              "</div>"
            ],
            "text/plain": [
              "   Col_0  Col_1  Col_2  Col_3  Col_4  Col_5  Col_6  Col_7  Col_8  Col_9  ...   \n",
              "0      0      1      0      0      0      0      0      0      0      0  ...  \\\n",
              "1      0      0      0      0      0      0      0      0      0      0  ...   \n",
              "2      0      1      0      0      0      0      0      0      0      0  ...   \n",
              "\n",
              "   Col_2038  Col_2039  Col_2040  Col_2041  Col_2042  Col_2043  Col_2044   \n",
              "0         0         0         0         0         0         0         0  \\\n",
              "1         0         0         0         0         0         0         0   \n",
              "2         0         0         0         0         0         0         0   \n",
              "\n",
              "   Col_2045  Col_2046  Col_2047  \n",
              "0         0         0         0  \n",
              "1         0         0         0  \n",
              "2         0         0         0  \n",
              "\n",
              "[3 rows x 2048 columns]"
            ]
          },
          "execution_count": 32,
          "metadata": {},
          "output_type": "execute_result"
        }
      ],
      "source": [
        "import pandas as pd\n",
        "import seaborn as sns\n",
        "from sklearn.model_selection import train_test_split\n",
        "from sklearn.ensemble import RandomForestRegressor\n",
        "\n",
        "X_2048 = df_2048.drop('pIC50', axis=1)\n",
        "X_2048.head(3)"
      ]
    },
    {
      "cell_type": "code",
      "execution_count": null,
      "metadata": {
        "colab": {
          "base_uri": "https://localhost:8080/"
        },
        "id": "yKnuBgY61c8L",
        "outputId": "722f3c44-979f-4229-f597-946be64d3131"
      },
      "outputs": [
        {
          "data": {
            "text/plain": [
              "0       4.154902\n",
              "1       4.154902\n",
              "2       4.154902\n",
              "3       4.301030\n",
              "4       4.154902\n",
              "          ...   \n",
              "7044    4.669586\n",
              "7045    4.665546\n",
              "7046    4.632644\n",
              "7047    4.954677\n",
              "7048    4.605548\n",
              "Name: pIC50, Length: 7049, dtype: float64"
            ]
          },
          "execution_count": 33,
          "metadata": {},
          "output_type": "execute_result"
        }
      ],
      "source": [
        "Y_2048 = df_2048.pIC50\n",
        "Y_2048"
      ]
    },
    {
      "cell_type": "code",
      "execution_count": null,
      "metadata": {
        "id": "oKe49RvB1ky6",
        "outputId": "dfe3d0d0-5828-48ce-895d-8d5c7eb69b05"
      },
      "outputs": [
        {
          "data": {
            "text/plain": [
              "(7049, 24)"
            ]
          },
          "execution_count": 34,
          "metadata": {},
          "output_type": "execute_result"
        }
      ],
      "source": [
        "# Eliminar varianzas bajas\n",
        "from sklearn.feature_selection import VarianceThreshold\n",
        "selection = VarianceThreshold(threshold=(.8 * (1 - .8)))    \n",
        "X_2048 = selection.fit_transform(X_2048)\n",
        "X_2048.shape\n",
        "# Quedan solo 24 variables"
      ]
    },
    {
      "cell_type": "code",
      "execution_count": null,
      "metadata": {
        "id": "Q5ErEpA81yBc"
      },
      "outputs": [],
      "source": [
        "#dividir conjunto de datos 80/20\n",
        "#X_train, X_test, Y_train, Y_test = train_test_split(X, Y, test_size=0.2)\n",
        "X_train_2048, X_test_2048, Y_train_2048, Y_test_2048 = train_test_split(X_2048, Y_2048, test_size=0.2,random_state=10)"
      ]
    },
    {
      "cell_type": "code",
      "execution_count": null,
      "metadata": {
        "id": "Rk95ExNZk97C",
        "outputId": "e2f46f62-7ad2-41e3-922c-1091897f65d6"
      },
      "outputs": [
        {
          "data": {
            "text/plain": [
              "(1410,)"
            ]
          },
          "execution_count": 130,
          "metadata": {},
          "output_type": "execute_result"
        }
      ],
      "source": [
        "Y_test_2048.shape"
      ]
    },
    {
      "cell_type": "code",
      "execution_count": null,
      "metadata": {
        "colab": {
          "base_uri": "https://localhost:8080/"
        },
        "id": "MHf23-Is10gT",
        "outputId": "f9380668-ee71-4b46-ba22-547b2e2d2356"
      },
      "outputs": [
        {
          "data": {
            "text/plain": [
              "0.5373296141972213"
            ]
          },
          "execution_count": 36,
          "metadata": {},
          "output_type": "execute_result"
        }
      ],
      "source": [
        "model = RandomForestRegressor(n_estimators=60, max_depth=14, random_state=0,  min_samples_split=4)\n",
        "model.fit(X_train_2048, Y_train_2048)\n",
        "r2 = model.score(X_test_2048, Y_test_2048)\n",
        "r2"
      ]
    },
    {
      "cell_type": "code",
      "execution_count": null,
      "metadata": {
        "id": "vbuQPLFp14r6"
      },
      "outputs": [],
      "source": [
        "def All_Mordred_descriptors(data):\n",
        "    calc = Calculator(descriptors, ignore_3D=False)\n",
        "    mols = [Chem.MolFromSmiles(smi) for smi in data]\n",
        "    df = calc.pandas(mols)\n",
        "    return df"
      ]
    },
    {
      "cell_type": "code",
      "execution_count": null,
      "metadata": {
        "id": "C4q_aWJ718cE"
      },
      "outputs": [],
      "source": [
        "mordred_descriptors = All_Mordred_descriptors(df3_selection['canonical_smiles'])\n",
        "#mordred_descriptors.to_csv('mordred_descriptors_reutilizacion_2048.csv', index = False)\n",
        "\n",
        "#cargar dataset\n",
        "mordred_descriptors = pd.read_csv('mordred_descriptors_reutilizacion_2048.csv', sep=',')"
      ]
    },
    {
      "cell_type": "markdown",
      "metadata": {
        "id": "IjKhOe15k97D"
      },
      "source": [
        "### LAZYPREDICT"
      ]
    },
    {
      "cell_type": "code",
      "execution_count": null,
      "metadata": {
        "id": "vJ5KX8q_k97D"
      },
      "outputs": [],
      "source": [
        "#Instalar la libreria lazypredict\n",
        "!pip install lazypredict"
      ]
    },
    {
      "cell_type": "code",
      "execution_count": null,
      "metadata": {
        "id": "Bh4fM-Zik97D"
      },
      "outputs": [],
      "source": [
        "import numpy as np\n",
        "import matplotlib.pyplot as plt\n",
        "import random as rm\n",
        "#Importar las principales librerías para trabaJAR en Python \n",
        "#Pandas para el manejo de daztaframes\n",
        "import pandas as pd\n",
        "#Seaborn para gráficos\n",
        "import seaborn as sns\n",
        "#herramiento para seleccionar el conjunto de entrenamiento y de prueba\n",
        "from sklearn.model_selection import train_test_split\n",
        "#Herramienta caracterizar  un cojunto de modelos que permita hacer calasificación regresión\n",
        "import lazypredict\n",
        "from lazypredict.Supervised import LazyRegressor"
      ]
    },
    {
      "cell_type": "code",
      "execution_count": null,
      "metadata": {
        "id": "MBnekIkhk97D"
      },
      "outputs": [],
      "source": [
        "mordred_descriptors #opcional\n",
        "#agregar columna pIC50\n",
        "mordred_descriptors['pIC50'] = df3['pIC50']\n",
        "\n",
        "#pasar a .csv\n",
        "mordred_descriptors.to_csv('reutilizacion_06_bioactivity_data_3class_pIC50_pubchem_fp_1826.csv', index = False)"
      ]
    },
    {
      "cell_type": "markdown",
      "metadata": {
        "id": "nRSE0Ibik97E"
      },
      "source": [
        "## df_2048"
      ]
    },
    {
      "cell_type": "code",
      "execution_count": null,
      "metadata": {
        "id": "ooREByLik97E",
        "outputId": "3c59369f-0192-4393-a824-80182e65ec6e"
      },
      "outputs": [
        {
          "data": {
            "text/html": [
              "<div>\n",
              "<style scoped>\n",
              "    .dataframe tbody tr th:only-of-type {\n",
              "        vertical-align: middle;\n",
              "    }\n",
              "\n",
              "    .dataframe tbody tr th {\n",
              "        vertical-align: top;\n",
              "    }\n",
              "\n",
              "    .dataframe thead th {\n",
              "        text-align: right;\n",
              "    }\n",
              "</style>\n",
              "<table border=\"1\" class=\"dataframe\">\n",
              "  <thead>\n",
              "    <tr style=\"text-align: right;\">\n",
              "      <th></th>\n",
              "      <th>Col_0</th>\n",
              "      <th>Col_1</th>\n",
              "      <th>Col_2</th>\n",
              "      <th>Col_3</th>\n",
              "      <th>Col_4</th>\n",
              "      <th>Col_5</th>\n",
              "      <th>Col_6</th>\n",
              "      <th>Col_7</th>\n",
              "      <th>Col_8</th>\n",
              "      <th>Col_9</th>\n",
              "      <th>...</th>\n",
              "      <th>Col_2039</th>\n",
              "      <th>Col_2040</th>\n",
              "      <th>Col_2041</th>\n",
              "      <th>Col_2042</th>\n",
              "      <th>Col_2043</th>\n",
              "      <th>Col_2044</th>\n",
              "      <th>Col_2045</th>\n",
              "      <th>Col_2046</th>\n",
              "      <th>Col_2047</th>\n",
              "      <th>pIC50</th>\n",
              "    </tr>\n",
              "  </thead>\n",
              "  <tbody>\n",
              "    <tr>\n",
              "      <th>0</th>\n",
              "      <td>0</td>\n",
              "      <td>1</td>\n",
              "      <td>0</td>\n",
              "      <td>0</td>\n",
              "      <td>0</td>\n",
              "      <td>0</td>\n",
              "      <td>0</td>\n",
              "      <td>0</td>\n",
              "      <td>0</td>\n",
              "      <td>0</td>\n",
              "      <td>...</td>\n",
              "      <td>0</td>\n",
              "      <td>0</td>\n",
              "      <td>0</td>\n",
              "      <td>0</td>\n",
              "      <td>0</td>\n",
              "      <td>0</td>\n",
              "      <td>0</td>\n",
              "      <td>0</td>\n",
              "      <td>0</td>\n",
              "      <td>4.15</td>\n",
              "    </tr>\n",
              "    <tr>\n",
              "      <th>1</th>\n",
              "      <td>0</td>\n",
              "      <td>0</td>\n",
              "      <td>0</td>\n",
              "      <td>0</td>\n",
              "      <td>0</td>\n",
              "      <td>0</td>\n",
              "      <td>0</td>\n",
              "      <td>0</td>\n",
              "      <td>0</td>\n",
              "      <td>0</td>\n",
              "      <td>...</td>\n",
              "      <td>0</td>\n",
              "      <td>0</td>\n",
              "      <td>0</td>\n",
              "      <td>0</td>\n",
              "      <td>0</td>\n",
              "      <td>0</td>\n",
              "      <td>0</td>\n",
              "      <td>0</td>\n",
              "      <td>0</td>\n",
              "      <td>4.15</td>\n",
              "    </tr>\n",
              "    <tr>\n",
              "      <th>2</th>\n",
              "      <td>0</td>\n",
              "      <td>1</td>\n",
              "      <td>0</td>\n",
              "      <td>0</td>\n",
              "      <td>0</td>\n",
              "      <td>0</td>\n",
              "      <td>0</td>\n",
              "      <td>0</td>\n",
              "      <td>0</td>\n",
              "      <td>0</td>\n",
              "      <td>...</td>\n",
              "      <td>0</td>\n",
              "      <td>0</td>\n",
              "      <td>0</td>\n",
              "      <td>0</td>\n",
              "      <td>0</td>\n",
              "      <td>0</td>\n",
              "      <td>0</td>\n",
              "      <td>0</td>\n",
              "      <td>0</td>\n",
              "      <td>4.15</td>\n",
              "    </tr>\n",
              "    <tr>\n",
              "      <th>3</th>\n",
              "      <td>0</td>\n",
              "      <td>1</td>\n",
              "      <td>0</td>\n",
              "      <td>0</td>\n",
              "      <td>0</td>\n",
              "      <td>0</td>\n",
              "      <td>0</td>\n",
              "      <td>0</td>\n",
              "      <td>0</td>\n",
              "      <td>0</td>\n",
              "      <td>...</td>\n",
              "      <td>0</td>\n",
              "      <td>0</td>\n",
              "      <td>0</td>\n",
              "      <td>0</td>\n",
              "      <td>0</td>\n",
              "      <td>0</td>\n",
              "      <td>0</td>\n",
              "      <td>0</td>\n",
              "      <td>0</td>\n",
              "      <td>4.30</td>\n",
              "    </tr>\n",
              "    <tr>\n",
              "      <th>4</th>\n",
              "      <td>0</td>\n",
              "      <td>1</td>\n",
              "      <td>0</td>\n",
              "      <td>0</td>\n",
              "      <td>0</td>\n",
              "      <td>0</td>\n",
              "      <td>0</td>\n",
              "      <td>0</td>\n",
              "      <td>0</td>\n",
              "      <td>0</td>\n",
              "      <td>...</td>\n",
              "      <td>0</td>\n",
              "      <td>0</td>\n",
              "      <td>0</td>\n",
              "      <td>0</td>\n",
              "      <td>0</td>\n",
              "      <td>0</td>\n",
              "      <td>0</td>\n",
              "      <td>0</td>\n",
              "      <td>0</td>\n",
              "      <td>4.15</td>\n",
              "    </tr>\n",
              "    <tr>\n",
              "      <th>...</th>\n",
              "      <td>...</td>\n",
              "      <td>...</td>\n",
              "      <td>...</td>\n",
              "      <td>...</td>\n",
              "      <td>...</td>\n",
              "      <td>...</td>\n",
              "      <td>...</td>\n",
              "      <td>...</td>\n",
              "      <td>...</td>\n",
              "      <td>...</td>\n",
              "      <td>...</td>\n",
              "      <td>...</td>\n",
              "      <td>...</td>\n",
              "      <td>...</td>\n",
              "      <td>...</td>\n",
              "      <td>...</td>\n",
              "      <td>...</td>\n",
              "      <td>...</td>\n",
              "      <td>...</td>\n",
              "      <td>...</td>\n",
              "      <td>...</td>\n",
              "    </tr>\n",
              "    <tr>\n",
              "      <th>7044</th>\n",
              "      <td>0</td>\n",
              "      <td>0</td>\n",
              "      <td>0</td>\n",
              "      <td>0</td>\n",
              "      <td>0</td>\n",
              "      <td>0</td>\n",
              "      <td>0</td>\n",
              "      <td>0</td>\n",
              "      <td>0</td>\n",
              "      <td>0</td>\n",
              "      <td>...</td>\n",
              "      <td>0</td>\n",
              "      <td>0</td>\n",
              "      <td>0</td>\n",
              "      <td>0</td>\n",
              "      <td>0</td>\n",
              "      <td>0</td>\n",
              "      <td>0</td>\n",
              "      <td>0</td>\n",
              "      <td>0</td>\n",
              "      <td>4.67</td>\n",
              "    </tr>\n",
              "    <tr>\n",
              "      <th>7045</th>\n",
              "      <td>0</td>\n",
              "      <td>0</td>\n",
              "      <td>0</td>\n",
              "      <td>0</td>\n",
              "      <td>0</td>\n",
              "      <td>0</td>\n",
              "      <td>0</td>\n",
              "      <td>0</td>\n",
              "      <td>0</td>\n",
              "      <td>0</td>\n",
              "      <td>...</td>\n",
              "      <td>0</td>\n",
              "      <td>0</td>\n",
              "      <td>0</td>\n",
              "      <td>0</td>\n",
              "      <td>0</td>\n",
              "      <td>0</td>\n",
              "      <td>0</td>\n",
              "      <td>0</td>\n",
              "      <td>0</td>\n",
              "      <td>4.67</td>\n",
              "    </tr>\n",
              "    <tr>\n",
              "      <th>7046</th>\n",
              "      <td>0</td>\n",
              "      <td>0</td>\n",
              "      <td>0</td>\n",
              "      <td>0</td>\n",
              "      <td>0</td>\n",
              "      <td>0</td>\n",
              "      <td>0</td>\n",
              "      <td>0</td>\n",
              "      <td>0</td>\n",
              "      <td>0</td>\n",
              "      <td>...</td>\n",
              "      <td>0</td>\n",
              "      <td>0</td>\n",
              "      <td>0</td>\n",
              "      <td>0</td>\n",
              "      <td>0</td>\n",
              "      <td>0</td>\n",
              "      <td>0</td>\n",
              "      <td>0</td>\n",
              "      <td>0</td>\n",
              "      <td>4.63</td>\n",
              "    </tr>\n",
              "    <tr>\n",
              "      <th>7047</th>\n",
              "      <td>0</td>\n",
              "      <td>0</td>\n",
              "      <td>0</td>\n",
              "      <td>0</td>\n",
              "      <td>0</td>\n",
              "      <td>0</td>\n",
              "      <td>0</td>\n",
              "      <td>0</td>\n",
              "      <td>0</td>\n",
              "      <td>0</td>\n",
              "      <td>...</td>\n",
              "      <td>0</td>\n",
              "      <td>0</td>\n",
              "      <td>0</td>\n",
              "      <td>0</td>\n",
              "      <td>0</td>\n",
              "      <td>0</td>\n",
              "      <td>0</td>\n",
              "      <td>0</td>\n",
              "      <td>0</td>\n",
              "      <td>4.95</td>\n",
              "    </tr>\n",
              "    <tr>\n",
              "      <th>7048</th>\n",
              "      <td>0</td>\n",
              "      <td>0</td>\n",
              "      <td>0</td>\n",
              "      <td>0</td>\n",
              "      <td>0</td>\n",
              "      <td>0</td>\n",
              "      <td>0</td>\n",
              "      <td>0</td>\n",
              "      <td>0</td>\n",
              "      <td>0</td>\n",
              "      <td>...</td>\n",
              "      <td>0</td>\n",
              "      <td>0</td>\n",
              "      <td>0</td>\n",
              "      <td>0</td>\n",
              "      <td>0</td>\n",
              "      <td>0</td>\n",
              "      <td>0</td>\n",
              "      <td>0</td>\n",
              "      <td>0</td>\n",
              "      <td>4.61</td>\n",
              "    </tr>\n",
              "  </tbody>\n",
              "</table>\n",
              "<p>7049 rows × 2049 columns</p>\n",
              "</div>"
            ],
            "text/plain": [
              "      Col_0  Col_1  Col_2  Col_3  Col_4  Col_5  Col_6  Col_7  Col_8  Col_9   \n",
              "0         0      1      0      0      0      0      0      0      0      0  \\\n",
              "1         0      0      0      0      0      0      0      0      0      0   \n",
              "2         0      1      0      0      0      0      0      0      0      0   \n",
              "3         0      1      0      0      0      0      0      0      0      0   \n",
              "4         0      1      0      0      0      0      0      0      0      0   \n",
              "...     ...    ...    ...    ...    ...    ...    ...    ...    ...    ...   \n",
              "7044      0      0      0      0      0      0      0      0      0      0   \n",
              "7045      0      0      0      0      0      0      0      0      0      0   \n",
              "7046      0      0      0      0      0      0      0      0      0      0   \n",
              "7047      0      0      0      0      0      0      0      0      0      0   \n",
              "7048      0      0      0      0      0      0      0      0      0      0   \n",
              "\n",
              "      ...  Col_2039  Col_2040  Col_2041  Col_2042  Col_2043  Col_2044   \n",
              "0     ...         0         0         0         0         0         0  \\\n",
              "1     ...         0         0         0         0         0         0   \n",
              "2     ...         0         0         0         0         0         0   \n",
              "3     ...         0         0         0         0         0         0   \n",
              "4     ...         0         0         0         0         0         0   \n",
              "...   ...       ...       ...       ...       ...       ...       ...   \n",
              "7044  ...         0         0         0         0         0         0   \n",
              "7045  ...         0         0         0         0         0         0   \n",
              "7046  ...         0         0         0         0         0         0   \n",
              "7047  ...         0         0         0         0         0         0   \n",
              "7048  ...         0         0         0         0         0         0   \n",
              "\n",
              "      Col_2045  Col_2046  Col_2047  pIC50  \n",
              "0            0         0         0   4.15  \n",
              "1            0         0         0   4.15  \n",
              "2            0         0         0   4.15  \n",
              "3            0         0         0   4.30  \n",
              "4            0         0         0   4.15  \n",
              "...        ...       ...       ...    ...  \n",
              "7044         0         0         0   4.67  \n",
              "7045         0         0         0   4.67  \n",
              "7046         0         0         0   4.63  \n",
              "7047         0         0         0   4.95  \n",
              "7048         0         0         0   4.61  \n",
              "\n",
              "[7049 rows x 2049 columns]"
            ]
          },
          "execution_count": 41,
          "metadata": {},
          "output_type": "execute_result"
        }
      ],
      "source": [
        "df_2048"
      ]
    },
    {
      "cell_type": "code",
      "execution_count": null,
      "metadata": {
        "id": "nqJX5i2Xk97E",
        "outputId": "ca43b42e-cc1d-4232-b36e-b09c9bded6a3"
      },
      "outputs": [
        {
          "data": {
            "text/plain": [
              "-1.6448536269514726"
            ]
          },
          "execution_count": 43,
          "metadata": {},
          "output_type": "execute_result"
        }
      ],
      "source": [
        "#parámetros para el cálculo del tamaño de muestra MAS\n",
        "N=7049\n",
        "e=0.05\n",
        "alfa=0.05\n",
        "s=np.std(df_2048['pIC50'])\n",
        "s\n",
        "\n",
        "import statistics as st\n",
        "dist=st.NormalDist(mu=0,sigma=1)\n",
        "#Cálculo del tamaño de muestra MAS\n",
        "v = dist.inv_cdf(p = 0.05)\n",
        "v"
      ]
    },
    {
      "cell_type": "markdown",
      "metadata": {
        "id": "VVZNz03dk97E"
      },
      "source": [
        "Teniendo en cuenta que se seleccionan las muestras usnado MAS, se calcula el tmaño de muestra adecuado."
      ]
    },
    {
      "cell_type": "code",
      "execution_count": null,
      "metadata": {
        "id": "_5l0xCtZk97E",
        "outputId": "9a882ee7-de24-4ea7-be02-28ba35c14a85"
      },
      "outputs": [
        {
          "data": {
            "text/plain": [
              "423.8499832318542"
            ]
          },
          "execution_count": 44,
          "metadata": {},
          "output_type": "execute_result"
        }
      ],
      "source": [
        "#Cálculo del tamaño de muestra (MAS)\n",
        "n=((v**2)*(s**2))/(e**2+(v**2*s**2/N))\n",
        "n\n",
        "n*0.2"
      ]
    },
    {
      "cell_type": "markdown",
      "metadata": {
        "id": "fC8ghCsvk97E"
      },
      "source": [
        "## **Seleccionar la muestra con base en el tamaño de muestra calculado**"
      ]
    },
    {
      "cell_type": "code",
      "execution_count": null,
      "metadata": {
        "id": "4Awg_mtok97F",
        "outputId": "a087947c-4740-4031-bdeb-e4d4e10c9817"
      },
      "outputs": [
        {
          "data": {
            "text/plain": [
              "(424, 2049)"
            ]
          },
          "execution_count": 45,
          "metadata": {},
          "output_type": "execute_result"
        }
      ],
      "source": [
        "#Se selecciona la muestra aleatoria del dataframe principal (MAS)\n",
        "df_chagas_1=df_2048.sample(n=424)\n",
        "\n",
        "#Eliminar las filas con nas de la nueva base de datos\n",
        "df_chagas_1.dropna(axis=1)\n",
        "\n",
        "#Se verifica el tamaño de la muestra seleccionada\n",
        "df_chagas_1.shape"
      ]
    },
    {
      "cell_type": "markdown",
      "metadata": {
        "id": "JB-RD2ask97F"
      },
      "source": [
        "El tamaño del dataframe es de 450 filas con 2048 columnas, campor o features"
      ]
    },
    {
      "cell_type": "code",
      "execution_count": null,
      "metadata": {
        "id": "L9PvbjvEk97H",
        "outputId": "567fd82a-baeb-4d43-bc44-972e1bd0edbd"
      },
      "outputs": [
        {
          "data": {
            "text/plain": [
              "Col_0         int32\n",
              "Col_1         int32\n",
              "Col_2         int32\n",
              "Col_3         int32\n",
              "Col_4         int32\n",
              "             ...   \n",
              "Col_2044      int32\n",
              "Col_2045      int32\n",
              "Col_2046      int32\n",
              "Col_2047      int32\n",
              "pIC50       float64\n",
              "Length: 2049, dtype: object"
            ]
          },
          "execution_count": 46,
          "metadata": {},
          "output_type": "execute_result"
        }
      ],
      "source": [
        "#Se va a hacer unconteo de datos atípicos o NA´s\n",
        "df_chagas_1.isna().sum()\n",
        "#Se puede apreciar que el dataframe no tiene datos faltantes o NA's\n",
        "\n",
        "#Se analizan los tipos de las variables \n",
        "df_chagas_1.dtypes"
      ]
    },
    {
      "cell_type": "markdown",
      "metadata": {
        "id": "_6t5qaNck97H"
      },
      "source": [
        "## **Definir la variable respuesta y la matriz con las variables predictoras**"
      ]
    },
    {
      "cell_type": "code",
      "execution_count": null,
      "metadata": {
        "id": "Wu8I7ykzk97H"
      },
      "outputs": [],
      "source": [
        "#Definir la matriz con variables explicativas y el vector respuesta\n",
        "#Se definen las matriz con las variablez explicativas y el vector respuesta \n",
        "Xc = df_chagas_1.drop('pIC50', axis=1)\n",
        "Yc = df_chagas_1.pIC50"
      ]
    },
    {
      "cell_type": "code",
      "execution_count": null,
      "metadata": {
        "id": "jnoxjI3Uk97I",
        "outputId": "5114b26c-ffc3-44e9-f1bf-22f111ab1638"
      },
      "outputs": [
        {
          "data": {
            "text/plain": [
              "(424, 2048)"
            ]
          },
          "execution_count": 71,
          "metadata": {},
          "output_type": "execute_result"
        }
      ],
      "source": [
        "Xc.dtypes\n",
        "XC=Xc.astype('category')\n",
        "Xc.shape"
      ]
    },
    {
      "cell_type": "markdown",
      "metadata": {
        "id": "jmQ5II57k97I"
      },
      "source": [
        "##**Análisis de correspondencias múltiples**"
      ]
    },
    {
      "cell_type": "code",
      "execution_count": null,
      "metadata": {
        "id": "fB4beRUUk97I"
      },
      "outputs": [],
      "source": [
        "!pip install --upgrade pip\n",
        "!pip install mca\n",
        "!pip install prince"
      ]
    },
    {
      "cell_type": "code",
      "execution_count": null,
      "metadata": {
        "id": "5JRC45enk97I",
        "outputId": "24faaed9-d742-492e-a15a-cd041e741db7"
      },
      "outputs": [
        {
          "data": {
            "text/html": [
              "<div>\n",
              "<style scoped>\n",
              "    .dataframe tbody tr th:only-of-type {\n",
              "        vertical-align: middle;\n",
              "    }\n",
              "\n",
              "    .dataframe tbody tr th {\n",
              "        vertical-align: top;\n",
              "    }\n",
              "\n",
              "    .dataframe thead th {\n",
              "        text-align: right;\n",
              "    }\n",
              "</style>\n",
              "<table border=\"1\" class=\"dataframe\">\n",
              "  <thead>\n",
              "    <tr style=\"text-align: right;\">\n",
              "      <th></th>\n",
              "      <th>0</th>\n",
              "      <th>1</th>\n",
              "      <th>2</th>\n",
              "    </tr>\n",
              "  </thead>\n",
              "  <tbody>\n",
              "    <tr>\n",
              "      <th>6737</th>\n",
              "      <td>0.01</td>\n",
              "      <td>-0.10</td>\n",
              "      <td>-0.07</td>\n",
              "    </tr>\n",
              "    <tr>\n",
              "      <th>6352</th>\n",
              "      <td>-0.02</td>\n",
              "      <td>0.06</td>\n",
              "      <td>0.05</td>\n",
              "    </tr>\n",
              "    <tr>\n",
              "      <th>3403</th>\n",
              "      <td>-0.07</td>\n",
              "      <td>-0.01</td>\n",
              "      <td>-0.02</td>\n",
              "    </tr>\n",
              "    <tr>\n",
              "      <th>5046</th>\n",
              "      <td>-0.04</td>\n",
              "      <td>0.04</td>\n",
              "      <td>0.09</td>\n",
              "    </tr>\n",
              "    <tr>\n",
              "      <th>3500</th>\n",
              "      <td>-0.08</td>\n",
              "      <td>0.06</td>\n",
              "      <td>-0.03</td>\n",
              "    </tr>\n",
              "    <tr>\n",
              "      <th>...</th>\n",
              "      <td>...</td>\n",
              "      <td>...</td>\n",
              "      <td>...</td>\n",
              "    </tr>\n",
              "    <tr>\n",
              "      <th>3505</th>\n",
              "      <td>0.00</td>\n",
              "      <td>-0.03</td>\n",
              "      <td>-0.02</td>\n",
              "    </tr>\n",
              "    <tr>\n",
              "      <th>6507</th>\n",
              "      <td>0.08</td>\n",
              "      <td>-0.03</td>\n",
              "      <td>-0.01</td>\n",
              "    </tr>\n",
              "    <tr>\n",
              "      <th>1530</th>\n",
              "      <td>0.03</td>\n",
              "      <td>-0.04</td>\n",
              "      <td>0.02</td>\n",
              "    </tr>\n",
              "    <tr>\n",
              "      <th>1426</th>\n",
              "      <td>-0.01</td>\n",
              "      <td>-0.07</td>\n",
              "      <td>-0.04</td>\n",
              "    </tr>\n",
              "    <tr>\n",
              "      <th>4322</th>\n",
              "      <td>-0.02</td>\n",
              "      <td>-0.03</td>\n",
              "      <td>-0.05</td>\n",
              "    </tr>\n",
              "  </tbody>\n",
              "</table>\n",
              "<p>424 rows × 3 columns</p>\n",
              "</div>"
            ],
            "text/plain": [
              "         0     1     2\n",
              "6737  0.01 -0.10 -0.07\n",
              "6352 -0.02  0.06  0.05\n",
              "3403 -0.07 -0.01 -0.02\n",
              "5046 -0.04  0.04  0.09\n",
              "3500 -0.08  0.06 -0.03\n",
              "...    ...   ...   ...\n",
              "3505  0.00 -0.03 -0.02\n",
              "6507  0.08 -0.03 -0.01\n",
              "1530  0.03 -0.04  0.02\n",
              "1426 -0.01 -0.07 -0.04\n",
              "4322 -0.02 -0.03 -0.05\n",
              "\n",
              "[424 rows x 3 columns]"
            ]
          },
          "execution_count": 72,
          "metadata": {},
          "output_type": "execute_result"
        }
      ],
      "source": [
        "import prince\n",
        "mca=prince.MCA(n_components=3)\n",
        "#Implementación del MCA sobre las variables cualitativas\n",
        "MCA_DF=mca.fit(XC)\n",
        "Xc_mca=MCA_DF.row_coordinates(XC)\n",
        "Xc_mca"
      ]
    },
    {
      "cell_type": "code",
      "execution_count": null,
      "metadata": {
        "id": "V1FchX9Vk97J"
      },
      "outputs": [],
      "source": [
        "#graficar los resultados del MCA\n",
        "plt.scatter(Xc_mca.iloc[:,0],Xc_mca.iloc[:,1])\n",
        "plt.xlabel('Componente 1')\n",
        "plt.ylabel('Componente 2')\n",
        "plt.title('MCA')\n",
        "plt.show()"
      ]
    },
    {
      "cell_type": "code",
      "execution_count": null,
      "metadata": {
        "id": "bxRTZrOik97J"
      },
      "outputs": [],
      "source": [
        "#definir las columnas resultantes del mca\n",
        "Xc_mca=MCA_DF"
      ]
    },
    {
      "cell_type": "code",
      "execution_count": null,
      "metadata": {
        "id": "gd_9OkhWk97J",
        "outputId": "2617f75e-c591-4ec0-e925-0edcd3628365"
      },
      "outputs": [
        {
          "data": {
            "text/plain": [
              "(424,)"
            ]
          },
          "execution_count": 75,
          "metadata": {},
          "output_type": "execute_result"
        }
      ],
      "source": [
        "Xc_mca\n",
        "Yc.shape"
      ]
    },
    {
      "cell_type": "markdown",
      "metadata": {
        "id": "8NEu95dnk97J"
      },
      "source": [
        "## **Prueba de normalidad sobre la raviable Yc**"
      ]
    },
    {
      "cell_type": "code",
      "execution_count": null,
      "metadata": {
        "id": "1NlAHE5ek97K"
      },
      "outputs": [],
      "source": [
        "#Importar la librería seaborn\n",
        "import seaborn as sns\n",
        "\n",
        "#Histograma de las mediciones PIC50\n",
        "sns.boxplot(Yc,color=\"blue\",orient=\"h\")\n",
        "#mostra figura\n",
        "plt.show()"
      ]
    },
    {
      "cell_type": "code",
      "execution_count": null,
      "metadata": {
        "id": "BTCfmZIxk97K",
        "outputId": "f18d20a8-6bf4-4c4e-872b-8d5123647f81"
      },
      "outputs": [
        {
          "ename": "<class 'pandas._config.config.OptionError'>",
          "evalue": "No such keys(s): 'mode.use_inf_as_null'",
          "output_type": "error",
          "traceback": [
            "\u001b[1;31m---------------------------------------------------------------------------\u001b[0m",
            "\u001b[1;31mOptionError\u001b[0m                               Traceback (most recent call last)",
            "\u001b[1;32mC:/Users/LEGION/AppData/Local/Temp/xpython_13020/2442724078.py\u001b[0m in \u001b[0;36m<module>\u001b[1;34m\u001b[0m\n\u001b[0;32m      1\u001b[0m \u001b[1;31m#Gráfica de la función de densidad de probabilidad de Yc=PIC50\u001b[0m\u001b[1;33m\u001b[0m\u001b[1;33m\u001b[0m\u001b[0m\n\u001b[1;32m----> 2\u001b[1;33m \u001b[0msns\u001b[0m\u001b[1;33m.\u001b[0m\u001b[0mdistplot\u001b[0m\u001b[1;33m(\u001b[0m\u001b[0mYc\u001b[0m\u001b[1;33m)\u001b[0m\u001b[1;33m\u001b[0m\u001b[1;33m\u001b[0m\u001b[0m\n\u001b[0m\u001b[0;32m      3\u001b[0m \u001b[1;31m#mostra figura\u001b[0m\u001b[1;33m\u001b[0m\u001b[1;33m\u001b[0m\u001b[0m\n\u001b[0;32m      4\u001b[0m \u001b[0mplt\u001b[0m\u001b[1;33m.\u001b[0m\u001b[0mshow\u001b[0m\u001b[1;33m(\u001b[0m\u001b[1;33m)\u001b[0m\u001b[1;33m\u001b[0m\u001b[1;33m\u001b[0m\u001b[0m\n",
            "\u001b[1;32mc:\\Python3\\lib\\site-packages\\seaborn\\distributions.py\u001b[0m in \u001b[0;36mdistplot\u001b[1;34m(a, bins, hist, kde, rug, fit, hist_kws, kde_kws, rug_kws, fit_kws, color, vertical, norm_hist, axlabel, label, ax, x)\u001b[0m\n\u001b[0;32m   2685\u001b[0m     \u001b[1;32mif\u001b[0m \u001b[0mkde\u001b[0m\u001b[1;33m:\u001b[0m\u001b[1;33m\u001b[0m\u001b[1;33m\u001b[0m\u001b[0m\n\u001b[0;32m   2686\u001b[0m         \u001b[0mkde_color\u001b[0m \u001b[1;33m=\u001b[0m \u001b[0mkde_kws\u001b[0m\u001b[1;33m.\u001b[0m\u001b[0mpop\u001b[0m\u001b[1;33m(\u001b[0m\u001b[1;34m\"color\"\u001b[0m\u001b[1;33m,\u001b[0m \u001b[0mcolor\u001b[0m\u001b[1;33m)\u001b[0m\u001b[1;33m\u001b[0m\u001b[1;33m\u001b[0m\u001b[0m\n\u001b[1;32m-> 2687\u001b[1;33m         \u001b[0mkdeplot\u001b[0m\u001b[1;33m(\u001b[0m\u001b[0ma\u001b[0m\u001b[1;33m,\u001b[0m \u001b[0mvertical\u001b[0m\u001b[1;33m=\u001b[0m\u001b[0mvertical\u001b[0m\u001b[1;33m,\u001b[0m \u001b[0max\u001b[0m\u001b[1;33m=\u001b[0m\u001b[0max\u001b[0m\u001b[1;33m,\u001b[0m \u001b[0mcolor\u001b[0m\u001b[1;33m=\u001b[0m\u001b[0mkde_color\u001b[0m\u001b[1;33m,\u001b[0m \u001b[1;33m**\u001b[0m\u001b[0mkde_kws\u001b[0m\u001b[1;33m)\u001b[0m\u001b[1;33m\u001b[0m\u001b[1;33m\u001b[0m\u001b[0m\n\u001b[0m\u001b[0;32m   2688\u001b[0m         \u001b[1;32mif\u001b[0m \u001b[0mkde_color\u001b[0m \u001b[1;33m!=\u001b[0m \u001b[0mcolor\u001b[0m\u001b[1;33m:\u001b[0m\u001b[1;33m\u001b[0m\u001b[1;33m\u001b[0m\u001b[0m\n\u001b[0;32m   2689\u001b[0m             \u001b[0mkde_kws\u001b[0m\u001b[1;33m[\u001b[0m\u001b[1;34m\"color\"\u001b[0m\u001b[1;33m]\u001b[0m \u001b[1;33m=\u001b[0m \u001b[0mkde_color\u001b[0m\u001b[1;33m\u001b[0m\u001b[1;33m\u001b[0m\u001b[0m\n",
            "\u001b[1;32mc:\\Python3\\lib\\site-packages\\seaborn\\_decorators.py\u001b[0m in \u001b[0;36minner_f\u001b[1;34m(*args, **kwargs)\u001b[0m\n\u001b[0;32m     44\u001b[0m             )\n\u001b[0;32m     45\u001b[0m         \u001b[0mkwargs\u001b[0m\u001b[1;33m.\u001b[0m\u001b[0mupdate\u001b[0m\u001b[1;33m(\u001b[0m\u001b[1;33m{\u001b[0m\u001b[0mk\u001b[0m\u001b[1;33m:\u001b[0m \u001b[0marg\u001b[0m \u001b[1;32mfor\u001b[0m \u001b[0mk\u001b[0m\u001b[1;33m,\u001b[0m \u001b[0marg\u001b[0m \u001b[1;32min\u001b[0m \u001b[0mzip\u001b[0m\u001b[1;33m(\u001b[0m\u001b[0msig\u001b[0m\u001b[1;33m.\u001b[0m\u001b[0mparameters\u001b[0m\u001b[1;33m,\u001b[0m \u001b[0margs\u001b[0m\u001b[1;33m)\u001b[0m\u001b[1;33m}\u001b[0m\u001b[1;33m)\u001b[0m\u001b[1;33m\u001b[0m\u001b[1;33m\u001b[0m\u001b[0m\n\u001b[1;32m---> 46\u001b[1;33m         \u001b[1;32mreturn\u001b[0m \u001b[0mf\u001b[0m\u001b[1;33m(\u001b[0m\u001b[1;33m**\u001b[0m\u001b[0mkwargs\u001b[0m\u001b[1;33m)\u001b[0m\u001b[1;33m\u001b[0m\u001b[1;33m\u001b[0m\u001b[0m\n\u001b[0m\u001b[0;32m     47\u001b[0m     \u001b[1;32mreturn\u001b[0m \u001b[0minner_f\u001b[0m\u001b[1;33m\u001b[0m\u001b[1;33m\u001b[0m\u001b[0m\n\u001b[0;32m     48\u001b[0m \u001b[1;33m\u001b[0m\u001b[0m\n",
            "\u001b[1;32mc:\\Python3\\lib\\site-packages\\seaborn\\distributions.py\u001b[0m in \u001b[0;36mkdeplot\u001b[1;34m(x, y, shade, vertical, kernel, bw, gridsize, cut, clip, legend, cumulative, shade_lowest, cbar, cbar_ax, cbar_kws, ax, weights, hue, palette, hue_order, hue_norm, multiple, common_norm, common_grid, levels, thresh, bw_method, bw_adjust, log_scale, color, fill, data, data2, warn_singular, **kwargs)\u001b[0m\n\u001b[0;32m   1768\u001b[0m             \u001b[0mplot_kws\u001b[0m\u001b[1;33m[\u001b[0m\u001b[1;34m\"color\"\u001b[0m\u001b[1;33m]\u001b[0m \u001b[1;33m=\u001b[0m \u001b[0mcolor\u001b[0m\u001b[1;33m\u001b[0m\u001b[1;33m\u001b[0m\u001b[0m\n\u001b[0;32m   1769\u001b[0m \u001b[1;33m\u001b[0m\u001b[0m\n\u001b[1;32m-> 1770\u001b[1;33m         p.plot_univariate_density(\n\u001b[0m\u001b[0;32m   1771\u001b[0m             \u001b[0mmultiple\u001b[0m\u001b[1;33m=\u001b[0m\u001b[0mmultiple\u001b[0m\u001b[1;33m,\u001b[0m\u001b[1;33m\u001b[0m\u001b[1;33m\u001b[0m\u001b[0m\n\u001b[0;32m   1772\u001b[0m             \u001b[0mcommon_norm\u001b[0m\u001b[1;33m=\u001b[0m\u001b[0mcommon_norm\u001b[0m\u001b[1;33m,\u001b[0m\u001b[1;33m\u001b[0m\u001b[1;33m\u001b[0m\u001b[0m\n",
            "\u001b[1;32mc:\\Python3\\lib\\site-packages\\seaborn\\distributions.py\u001b[0m in \u001b[0;36mplot_univariate_density\u001b[1;34m(self, multiple, common_norm, common_grid, warn_singular, fill, legend, estimate_kws, **plot_kws)\u001b[0m\n\u001b[0;32m    926\u001b[0m \u001b[1;33m\u001b[0m\u001b[0m\n\u001b[0;32m    927\u001b[0m         \u001b[1;31m# Do the computation\u001b[0m\u001b[1;33m\u001b[0m\u001b[1;33m\u001b[0m\u001b[0m\n\u001b[1;32m--> 928\u001b[1;33m         densities = self._compute_univariate_density(\n\u001b[0m\u001b[0;32m    929\u001b[0m             \u001b[0mself\u001b[0m\u001b[1;33m.\u001b[0m\u001b[0mdata_variable\u001b[0m\u001b[1;33m,\u001b[0m\u001b[1;33m\u001b[0m\u001b[1;33m\u001b[0m\u001b[0m\n\u001b[0;32m    930\u001b[0m             \u001b[0mcommon_norm\u001b[0m\u001b[1;33m,\u001b[0m\u001b[1;33m\u001b[0m\u001b[1;33m\u001b[0m\u001b[0m\n",
            "\u001b[1;32mc:\\Python3\\lib\\site-packages\\seaborn\\distributions.py\u001b[0m in \u001b[0;36m_compute_univariate_density\u001b[1;34m(self, data_variable, common_norm, common_grid, estimate_kws, log_scale, warn_singular)\u001b[0m\n\u001b[0;32m    301\u001b[0m         \u001b[0mdensities\u001b[0m \u001b[1;33m=\u001b[0m \u001b[1;33m{\u001b[0m\u001b[1;33m}\u001b[0m\u001b[1;33m\u001b[0m\u001b[1;33m\u001b[0m\u001b[0m\n\u001b[0;32m    302\u001b[0m \u001b[1;33m\u001b[0m\u001b[0m\n\u001b[1;32m--> 303\u001b[1;33m         \u001b[1;32mfor\u001b[0m \u001b[0msub_vars\u001b[0m\u001b[1;33m,\u001b[0m \u001b[0msub_data\u001b[0m \u001b[1;32min\u001b[0m \u001b[0mself\u001b[0m\u001b[1;33m.\u001b[0m\u001b[0miter_data\u001b[0m\u001b[1;33m(\u001b[0m\u001b[1;34m\"hue\"\u001b[0m\u001b[1;33m,\u001b[0m \u001b[0mfrom_comp_data\u001b[0m\u001b[1;33m=\u001b[0m\u001b[1;32mTrue\u001b[0m\u001b[1;33m)\u001b[0m\u001b[1;33m:\u001b[0m\u001b[1;33m\u001b[0m\u001b[1;33m\u001b[0m\u001b[0m\n\u001b[0m\u001b[0;32m    304\u001b[0m \u001b[1;33m\u001b[0m\u001b[0m\n\u001b[0;32m    305\u001b[0m             \u001b[1;31m# Extract the data points from this sub set and remove nulls\u001b[0m\u001b[1;33m\u001b[0m\u001b[1;33m\u001b[0m\u001b[0m\n",
            "\u001b[1;32mc:\\Python3\\lib\\site-packages\\seaborn\\_core.py\u001b[0m in \u001b[0;36miter_data\u001b[1;34m(self, grouping_vars, reverse, from_comp_data)\u001b[0m\n\u001b[0;32m    981\u001b[0m \u001b[1;33m\u001b[0m\u001b[0m\n\u001b[0;32m    982\u001b[0m         \u001b[1;32mif\u001b[0m \u001b[0mfrom_comp_data\u001b[0m\u001b[1;33m:\u001b[0m\u001b[1;33m\u001b[0m\u001b[1;33m\u001b[0m\u001b[0m\n\u001b[1;32m--> 983\u001b[1;33m             \u001b[0mdata\u001b[0m \u001b[1;33m=\u001b[0m \u001b[0mself\u001b[0m\u001b[1;33m.\u001b[0m\u001b[0mcomp_data\u001b[0m\u001b[1;33m\u001b[0m\u001b[1;33m\u001b[0m\u001b[0m\n\u001b[0m\u001b[0;32m    984\u001b[0m         \u001b[1;32melse\u001b[0m\u001b[1;33m:\u001b[0m\u001b[1;33m\u001b[0m\u001b[1;33m\u001b[0m\u001b[0m\n\u001b[0;32m    985\u001b[0m             \u001b[0mdata\u001b[0m \u001b[1;33m=\u001b[0m \u001b[0mself\u001b[0m\u001b[1;33m.\u001b[0m\u001b[0mplot_data\u001b[0m\u001b[1;33m\u001b[0m\u001b[1;33m\u001b[0m\u001b[0m\n",
            "\u001b[1;32mc:\\Python3\\lib\\site-packages\\seaborn\\_core.py\u001b[0m in \u001b[0;36mcomp_data\u001b[1;34m(self)\u001b[0m\n\u001b[0;32m   1052\u001b[0m                 \u001b[1;31m# Use the converter assigned to the axis to get a float representation\u001b[0m\u001b[1;33m\u001b[0m\u001b[1;33m\u001b[0m\u001b[0m\n\u001b[0;32m   1053\u001b[0m                 \u001b[1;31m# of the data, passing np.nan or pd.NA through (pd.NA becomes np.nan)\u001b[0m\u001b[1;33m\u001b[0m\u001b[1;33m\u001b[0m\u001b[0m\n\u001b[1;32m-> 1054\u001b[1;33m                 \u001b[1;32mwith\u001b[0m \u001b[0mpd\u001b[0m\u001b[1;33m.\u001b[0m\u001b[0moption_context\u001b[0m\u001b[1;33m(\u001b[0m\u001b[1;34m'mode.use_inf_as_null'\u001b[0m\u001b[1;33m,\u001b[0m \u001b[1;32mTrue\u001b[0m\u001b[1;33m)\u001b[0m\u001b[1;33m:\u001b[0m\u001b[1;33m\u001b[0m\u001b[1;33m\u001b[0m\u001b[0m\n\u001b[0m\u001b[0;32m   1055\u001b[0m                     \u001b[0morig\u001b[0m \u001b[1;33m=\u001b[0m \u001b[0mself\u001b[0m\u001b[1;33m.\u001b[0m\u001b[0mplot_data\u001b[0m\u001b[1;33m[\u001b[0m\u001b[0mvar\u001b[0m\u001b[1;33m]\u001b[0m\u001b[1;33m.\u001b[0m\u001b[0mdropna\u001b[0m\u001b[1;33m(\u001b[0m\u001b[1;33m)\u001b[0m\u001b[1;33m\u001b[0m\u001b[1;33m\u001b[0m\u001b[0m\n\u001b[0;32m   1056\u001b[0m                 \u001b[0mcomp_col\u001b[0m \u001b[1;33m=\u001b[0m \u001b[0mpd\u001b[0m\u001b[1;33m.\u001b[0m\u001b[0mSeries\u001b[0m\u001b[1;33m(\u001b[0m\u001b[0mindex\u001b[0m\u001b[1;33m=\u001b[0m\u001b[0morig\u001b[0m\u001b[1;33m.\u001b[0m\u001b[0mindex\u001b[0m\u001b[1;33m,\u001b[0m \u001b[0mdtype\u001b[0m\u001b[1;33m=\u001b[0m\u001b[0mfloat\u001b[0m\u001b[1;33m,\u001b[0m \u001b[0mname\u001b[0m\u001b[1;33m=\u001b[0m\u001b[0mvar\u001b[0m\u001b[1;33m)\u001b[0m\u001b[1;33m\u001b[0m\u001b[1;33m\u001b[0m\u001b[0m\n",
            "\u001b[1;32mc:\\Python3\\lib\\site-packages\\pandas\\_config\\config.py\u001b[0m in \u001b[0;36m__enter__\u001b[1;34m(self)\u001b[0m\n\u001b[0;32m    439\u001b[0m \u001b[1;33m\u001b[0m\u001b[0m\n\u001b[0;32m    440\u001b[0m     \u001b[1;32mdef\u001b[0m \u001b[0m__enter__\u001b[0m\u001b[1;33m(\u001b[0m\u001b[0mself\u001b[0m\u001b[1;33m)\u001b[0m \u001b[1;33m->\u001b[0m \u001b[1;32mNone\u001b[0m\u001b[1;33m:\u001b[0m\u001b[1;33m\u001b[0m\u001b[1;33m\u001b[0m\u001b[0m\n\u001b[1;32m--> 441\u001b[1;33m         \u001b[0mself\u001b[0m\u001b[1;33m.\u001b[0m\u001b[0mundo\u001b[0m \u001b[1;33m=\u001b[0m \u001b[1;33m[\u001b[0m\u001b[1;33m(\u001b[0m\u001b[0mpat\u001b[0m\u001b[1;33m,\u001b[0m \u001b[0m_get_option\u001b[0m\u001b[1;33m(\u001b[0m\u001b[0mpat\u001b[0m\u001b[1;33m,\u001b[0m \u001b[0msilent\u001b[0m\u001b[1;33m=\u001b[0m\u001b[1;32mTrue\u001b[0m\u001b[1;33m)\u001b[0m\u001b[1;33m)\u001b[0m \u001b[1;32mfor\u001b[0m \u001b[0mpat\u001b[0m\u001b[1;33m,\u001b[0m \u001b[0mval\u001b[0m \u001b[1;32min\u001b[0m \u001b[0mself\u001b[0m\u001b[1;33m.\u001b[0m\u001b[0mops\u001b[0m\u001b[1;33m]\u001b[0m\u001b[1;33m\u001b[0m\u001b[1;33m\u001b[0m\u001b[0m\n\u001b[0m\u001b[0;32m    442\u001b[0m \u001b[1;33m\u001b[0m\u001b[0m\n\u001b[0;32m    443\u001b[0m         \u001b[1;32mfor\u001b[0m \u001b[0mpat\u001b[0m\u001b[1;33m,\u001b[0m \u001b[0mval\u001b[0m \u001b[1;32min\u001b[0m \u001b[0mself\u001b[0m\u001b[1;33m.\u001b[0m\u001b[0mops\u001b[0m\u001b[1;33m:\u001b[0m\u001b[1;33m\u001b[0m\u001b[1;33m\u001b[0m\u001b[0m\n",
            "\u001b[1;32mc:\\Python3\\lib\\site-packages\\pandas\\_config\\config.py\u001b[0m in \u001b[0;36m<listcomp>\u001b[1;34m(.0)\u001b[0m\n\u001b[0;32m    439\u001b[0m \u001b[1;33m\u001b[0m\u001b[0m\n\u001b[0;32m    440\u001b[0m     \u001b[1;32mdef\u001b[0m \u001b[0m__enter__\u001b[0m\u001b[1;33m(\u001b[0m\u001b[0mself\u001b[0m\u001b[1;33m)\u001b[0m \u001b[1;33m->\u001b[0m \u001b[1;32mNone\u001b[0m\u001b[1;33m:\u001b[0m\u001b[1;33m\u001b[0m\u001b[1;33m\u001b[0m\u001b[0m\n\u001b[1;32m--> 441\u001b[1;33m         \u001b[0mself\u001b[0m\u001b[1;33m.\u001b[0m\u001b[0mundo\u001b[0m \u001b[1;33m=\u001b[0m \u001b[1;33m[\u001b[0m\u001b[1;33m(\u001b[0m\u001b[0mpat\u001b[0m\u001b[1;33m,\u001b[0m \u001b[0m_get_option\u001b[0m\u001b[1;33m(\u001b[0m\u001b[0mpat\u001b[0m\u001b[1;33m,\u001b[0m \u001b[0msilent\u001b[0m\u001b[1;33m=\u001b[0m\u001b[1;32mTrue\u001b[0m\u001b[1;33m)\u001b[0m\u001b[1;33m)\u001b[0m \u001b[1;32mfor\u001b[0m \u001b[0mpat\u001b[0m\u001b[1;33m,\u001b[0m \u001b[0mval\u001b[0m \u001b[1;32min\u001b[0m \u001b[0mself\u001b[0m\u001b[1;33m.\u001b[0m\u001b[0mops\u001b[0m\u001b[1;33m]\u001b[0m\u001b[1;33m\u001b[0m\u001b[1;33m\u001b[0m\u001b[0m\n\u001b[0m\u001b[0;32m    442\u001b[0m \u001b[1;33m\u001b[0m\u001b[0m\n\u001b[0;32m    443\u001b[0m         \u001b[1;32mfor\u001b[0m \u001b[0mpat\u001b[0m\u001b[1;33m,\u001b[0m \u001b[0mval\u001b[0m \u001b[1;32min\u001b[0m \u001b[0mself\u001b[0m\u001b[1;33m.\u001b[0m\u001b[0mops\u001b[0m\u001b[1;33m:\u001b[0m\u001b[1;33m\u001b[0m\u001b[1;33m\u001b[0m\u001b[0m\n",
            "\u001b[1;32mc:\\Python3\\lib\\site-packages\\pandas\\_config\\config.py\u001b[0m in \u001b[0;36m_get_option\u001b[1;34m(pat, silent)\u001b[0m\n\u001b[0;32m    133\u001b[0m \u001b[1;33m\u001b[0m\u001b[0m\n\u001b[0;32m    134\u001b[0m \u001b[1;32mdef\u001b[0m \u001b[0m_get_option\u001b[0m\u001b[1;33m(\u001b[0m\u001b[0mpat\u001b[0m\u001b[1;33m:\u001b[0m \u001b[0mstr\u001b[0m\u001b[1;33m,\u001b[0m \u001b[0msilent\u001b[0m\u001b[1;33m:\u001b[0m \u001b[0mbool\u001b[0m \u001b[1;33m=\u001b[0m \u001b[1;32mFalse\u001b[0m\u001b[1;33m)\u001b[0m \u001b[1;33m->\u001b[0m \u001b[0mAny\u001b[0m\u001b[1;33m:\u001b[0m\u001b[1;33m\u001b[0m\u001b[1;33m\u001b[0m\u001b[0m\n\u001b[1;32m--> 135\u001b[1;33m     \u001b[0mkey\u001b[0m \u001b[1;33m=\u001b[0m \u001b[0m_get_single_key\u001b[0m\u001b[1;33m(\u001b[0m\u001b[0mpat\u001b[0m\u001b[1;33m,\u001b[0m \u001b[0msilent\u001b[0m\u001b[1;33m)\u001b[0m\u001b[1;33m\u001b[0m\u001b[1;33m\u001b[0m\u001b[0m\n\u001b[0m\u001b[0;32m    136\u001b[0m \u001b[1;33m\u001b[0m\u001b[0m\n\u001b[0;32m    137\u001b[0m     \u001b[1;31m# walk the nested dict\u001b[0m\u001b[1;33m\u001b[0m\u001b[1;33m\u001b[0m\u001b[0m\n",
            "\u001b[1;32mc:\\Python3\\lib\\site-packages\\pandas\\_config\\config.py\u001b[0m in \u001b[0;36m_get_single_key\u001b[1;34m(pat, silent)\u001b[0m\n\u001b[0;32m    119\u001b[0m         \u001b[1;32mif\u001b[0m \u001b[1;32mnot\u001b[0m \u001b[0msilent\u001b[0m\u001b[1;33m:\u001b[0m\u001b[1;33m\u001b[0m\u001b[1;33m\u001b[0m\u001b[0m\n\u001b[0;32m    120\u001b[0m             \u001b[0m_warn_if_deprecated\u001b[0m\u001b[1;33m(\u001b[0m\u001b[0mpat\u001b[0m\u001b[1;33m)\u001b[0m\u001b[1;33m\u001b[0m\u001b[1;33m\u001b[0m\u001b[0m\n\u001b[1;32m--> 121\u001b[1;33m         \u001b[1;32mraise\u001b[0m \u001b[0mOptionError\u001b[0m\u001b[1;33m(\u001b[0m\u001b[1;34mf\"No such keys(s): {repr(pat)}\"\u001b[0m\u001b[1;33m)\u001b[0m\u001b[1;33m\u001b[0m\u001b[1;33m\u001b[0m\u001b[0m\n\u001b[0m\u001b[0;32m    122\u001b[0m     \u001b[1;32mif\u001b[0m \u001b[0mlen\u001b[0m\u001b[1;33m(\u001b[0m\u001b[0mkeys\u001b[0m\u001b[1;33m)\u001b[0m \u001b[1;33m>\u001b[0m \u001b[1;36m1\u001b[0m\u001b[1;33m:\u001b[0m\u001b[1;33m\u001b[0m\u001b[1;33m\u001b[0m\u001b[0m\n\u001b[0;32m    123\u001b[0m         \u001b[1;32mraise\u001b[0m \u001b[0mOptionError\u001b[0m\u001b[1;33m(\u001b[0m\u001b[1;34m\"Pattern matched multiple keys\"\u001b[0m\u001b[1;33m)\u001b[0m\u001b[1;33m\u001b[0m\u001b[1;33m\u001b[0m\u001b[0m\n",
            "\u001b[1;31mOptionError\u001b[0m: No such keys(s): 'mode.use_inf_as_null'"
          ]
        }
      ],
      "source": [
        "#Gráfica de la función de densidad de probabilidad de Yc=PIC50\n",
        "sns.distplot(Yc)\n",
        "#mostra figura\n",
        "plt.show()"
      ]
    },
    {
      "cell_type": "code",
      "execution_count": null,
      "metadata": {
        "id": "pM6v29nKk97K",
        "outputId": "9d26ce8c-8f43-43b4-ee09-a3e9275585a1"
      },
      "outputs": [
        {
          "name": "stdout",
          "output_type": "stream",
          "text": [
            "5.717764758248415\n",
            "4.852480485606202\n"
          ]
        }
      ],
      "source": [
        "#Media muestral de PIC50\n",
        "print(np.mean(Yc))\n",
        "#Mediana muestral de PIC50\n",
        "print(np.median(Yc))"
      ]
    },
    {
      "cell_type": "code",
      "execution_count": null,
      "metadata": {
        "id": "a3Y6A7hhk97K",
        "outputId": "174571a3-abd4-44a7-d93d-04fa12e2ed46"
      },
      "outputs": [
        {
          "ename": "<class 'pandas._config.config.OptionError'>",
          "evalue": "No such keys(s): 'mode.use_inf_as_null'",
          "output_type": "error",
          "traceback": [
            "\u001b[1;31m---------------------------------------------------------------------------\u001b[0m",
            "\u001b[1;31mOptionError\u001b[0m                               Traceback (most recent call last)",
            "\u001b[1;32mC:/Users/LEGION/AppData/Local/Temp/xpython_13020/3692283749.py\u001b[0m in \u001b[0;36m<module>\u001b[1;34m\u001b[0m\n\u001b[0;32m      1\u001b[0m \u001b[1;32mfrom\u001b[0m \u001b[0mscipy\u001b[0m \u001b[1;32mimport\u001b[0m \u001b[0mstats\u001b[0m\u001b[1;33m\u001b[0m\u001b[1;33m\u001b[0m\u001b[0m\n\u001b[0;32m      2\u001b[0m \u001b[1;31m#Comparación con la función gamma de paraámetro alfa=1.5\u001b[0m\u001b[1;33m\u001b[0m\u001b[1;33m\u001b[0m\u001b[0m\n\u001b[1;32m----> 3\u001b[1;33m \u001b[0msns\u001b[0m\u001b[1;33m.\u001b[0m\u001b[0mdistplot\u001b[0m\u001b[1;33m(\u001b[0m\u001b[0mstats\u001b[0m\u001b[1;33m.\u001b[0m\u001b[0mf\u001b[0m\u001b[1;33m.\u001b[0m\u001b[0mrvs\u001b[0m\u001b[1;33m(\u001b[0m\u001b[0msize\u001b[0m\u001b[1;33m=\u001b[0m\u001b[1;36m425\u001b[0m\u001b[1;33m,\u001b[0m\u001b[0mdfn\u001b[0m\u001b[1;33m=\u001b[0m\u001b[1;36m11\u001b[0m\u001b[1;33m,\u001b[0m\u001b[0mdfd\u001b[0m\u001b[1;33m=\u001b[0m\u001b[1;36m30\u001b[0m\u001b[1;33m)\u001b[0m\u001b[1;33m)\u001b[0m\u001b[1;33m\u001b[0m\u001b[1;33m\u001b[0m\u001b[0m\n\u001b[0m\u001b[0;32m      4\u001b[0m \u001b[0mplt\u001b[0m\u001b[1;33m.\u001b[0m\u001b[0mshow\u001b[0m\u001b[1;33m(\u001b[0m\u001b[1;33m)\u001b[0m\u001b[1;33m\u001b[0m\u001b[1;33m\u001b[0m\u001b[0m\n",
            "\u001b[1;32mc:\\Python3\\lib\\site-packages\\seaborn\\distributions.py\u001b[0m in \u001b[0;36mdistplot\u001b[1;34m(a, bins, hist, kde, rug, fit, hist_kws, kde_kws, rug_kws, fit_kws, color, vertical, norm_hist, axlabel, label, ax, x)\u001b[0m\n\u001b[0;32m   2685\u001b[0m     \u001b[1;32mif\u001b[0m \u001b[0mkde\u001b[0m\u001b[1;33m:\u001b[0m\u001b[1;33m\u001b[0m\u001b[1;33m\u001b[0m\u001b[0m\n\u001b[0;32m   2686\u001b[0m         \u001b[0mkde_color\u001b[0m \u001b[1;33m=\u001b[0m \u001b[0mkde_kws\u001b[0m\u001b[1;33m.\u001b[0m\u001b[0mpop\u001b[0m\u001b[1;33m(\u001b[0m\u001b[1;34m\"color\"\u001b[0m\u001b[1;33m,\u001b[0m \u001b[0mcolor\u001b[0m\u001b[1;33m)\u001b[0m\u001b[1;33m\u001b[0m\u001b[1;33m\u001b[0m\u001b[0m\n\u001b[1;32m-> 2687\u001b[1;33m         \u001b[0mkdeplot\u001b[0m\u001b[1;33m(\u001b[0m\u001b[0ma\u001b[0m\u001b[1;33m,\u001b[0m \u001b[0mvertical\u001b[0m\u001b[1;33m=\u001b[0m\u001b[0mvertical\u001b[0m\u001b[1;33m,\u001b[0m \u001b[0max\u001b[0m\u001b[1;33m=\u001b[0m\u001b[0max\u001b[0m\u001b[1;33m,\u001b[0m \u001b[0mcolor\u001b[0m\u001b[1;33m=\u001b[0m\u001b[0mkde_color\u001b[0m\u001b[1;33m,\u001b[0m \u001b[1;33m**\u001b[0m\u001b[0mkde_kws\u001b[0m\u001b[1;33m)\u001b[0m\u001b[1;33m\u001b[0m\u001b[1;33m\u001b[0m\u001b[0m\n\u001b[0m\u001b[0;32m   2688\u001b[0m         \u001b[1;32mif\u001b[0m \u001b[0mkde_color\u001b[0m \u001b[1;33m!=\u001b[0m \u001b[0mcolor\u001b[0m\u001b[1;33m:\u001b[0m\u001b[1;33m\u001b[0m\u001b[1;33m\u001b[0m\u001b[0m\n\u001b[0;32m   2689\u001b[0m             \u001b[0mkde_kws\u001b[0m\u001b[1;33m[\u001b[0m\u001b[1;34m\"color\"\u001b[0m\u001b[1;33m]\u001b[0m \u001b[1;33m=\u001b[0m \u001b[0mkde_color\u001b[0m\u001b[1;33m\u001b[0m\u001b[1;33m\u001b[0m\u001b[0m\n",
            "\u001b[1;32mc:\\Python3\\lib\\site-packages\\seaborn\\_decorators.py\u001b[0m in \u001b[0;36minner_f\u001b[1;34m(*args, **kwargs)\u001b[0m\n\u001b[0;32m     44\u001b[0m             )\n\u001b[0;32m     45\u001b[0m         \u001b[0mkwargs\u001b[0m\u001b[1;33m.\u001b[0m\u001b[0mupdate\u001b[0m\u001b[1;33m(\u001b[0m\u001b[1;33m{\u001b[0m\u001b[0mk\u001b[0m\u001b[1;33m:\u001b[0m \u001b[0marg\u001b[0m \u001b[1;32mfor\u001b[0m \u001b[0mk\u001b[0m\u001b[1;33m,\u001b[0m \u001b[0marg\u001b[0m \u001b[1;32min\u001b[0m \u001b[0mzip\u001b[0m\u001b[1;33m(\u001b[0m\u001b[0msig\u001b[0m\u001b[1;33m.\u001b[0m\u001b[0mparameters\u001b[0m\u001b[1;33m,\u001b[0m \u001b[0margs\u001b[0m\u001b[1;33m)\u001b[0m\u001b[1;33m}\u001b[0m\u001b[1;33m)\u001b[0m\u001b[1;33m\u001b[0m\u001b[1;33m\u001b[0m\u001b[0m\n\u001b[1;32m---> 46\u001b[1;33m         \u001b[1;32mreturn\u001b[0m \u001b[0mf\u001b[0m\u001b[1;33m(\u001b[0m\u001b[1;33m**\u001b[0m\u001b[0mkwargs\u001b[0m\u001b[1;33m)\u001b[0m\u001b[1;33m\u001b[0m\u001b[1;33m\u001b[0m\u001b[0m\n\u001b[0m\u001b[0;32m     47\u001b[0m     \u001b[1;32mreturn\u001b[0m \u001b[0minner_f\u001b[0m\u001b[1;33m\u001b[0m\u001b[1;33m\u001b[0m\u001b[0m\n\u001b[0;32m     48\u001b[0m \u001b[1;33m\u001b[0m\u001b[0m\n",
            "\u001b[1;32mc:\\Python3\\lib\\site-packages\\seaborn\\distributions.py\u001b[0m in \u001b[0;36mkdeplot\u001b[1;34m(x, y, shade, vertical, kernel, bw, gridsize, cut, clip, legend, cumulative, shade_lowest, cbar, cbar_ax, cbar_kws, ax, weights, hue, palette, hue_order, hue_norm, multiple, common_norm, common_grid, levels, thresh, bw_method, bw_adjust, log_scale, color, fill, data, data2, warn_singular, **kwargs)\u001b[0m\n\u001b[0;32m   1768\u001b[0m             \u001b[0mplot_kws\u001b[0m\u001b[1;33m[\u001b[0m\u001b[1;34m\"color\"\u001b[0m\u001b[1;33m]\u001b[0m \u001b[1;33m=\u001b[0m \u001b[0mcolor\u001b[0m\u001b[1;33m\u001b[0m\u001b[1;33m\u001b[0m\u001b[0m\n\u001b[0;32m   1769\u001b[0m \u001b[1;33m\u001b[0m\u001b[0m\n\u001b[1;32m-> 1770\u001b[1;33m         p.plot_univariate_density(\n\u001b[0m\u001b[0;32m   1771\u001b[0m             \u001b[0mmultiple\u001b[0m\u001b[1;33m=\u001b[0m\u001b[0mmultiple\u001b[0m\u001b[1;33m,\u001b[0m\u001b[1;33m\u001b[0m\u001b[1;33m\u001b[0m\u001b[0m\n\u001b[0;32m   1772\u001b[0m             \u001b[0mcommon_norm\u001b[0m\u001b[1;33m=\u001b[0m\u001b[0mcommon_norm\u001b[0m\u001b[1;33m,\u001b[0m\u001b[1;33m\u001b[0m\u001b[1;33m\u001b[0m\u001b[0m\n",
            "\u001b[1;32mc:\\Python3\\lib\\site-packages\\seaborn\\distributions.py\u001b[0m in \u001b[0;36mplot_univariate_density\u001b[1;34m(self, multiple, common_norm, common_grid, warn_singular, fill, legend, estimate_kws, **plot_kws)\u001b[0m\n\u001b[0;32m    926\u001b[0m \u001b[1;33m\u001b[0m\u001b[0m\n\u001b[0;32m    927\u001b[0m         \u001b[1;31m# Do the computation\u001b[0m\u001b[1;33m\u001b[0m\u001b[1;33m\u001b[0m\u001b[0m\n\u001b[1;32m--> 928\u001b[1;33m         densities = self._compute_univariate_density(\n\u001b[0m\u001b[0;32m    929\u001b[0m             \u001b[0mself\u001b[0m\u001b[1;33m.\u001b[0m\u001b[0mdata_variable\u001b[0m\u001b[1;33m,\u001b[0m\u001b[1;33m\u001b[0m\u001b[1;33m\u001b[0m\u001b[0m\n\u001b[0;32m    930\u001b[0m             \u001b[0mcommon_norm\u001b[0m\u001b[1;33m,\u001b[0m\u001b[1;33m\u001b[0m\u001b[1;33m\u001b[0m\u001b[0m\n",
            "\u001b[1;32mc:\\Python3\\lib\\site-packages\\seaborn\\distributions.py\u001b[0m in \u001b[0;36m_compute_univariate_density\u001b[1;34m(self, data_variable, common_norm, common_grid, estimate_kws, log_scale, warn_singular)\u001b[0m\n\u001b[0;32m    301\u001b[0m         \u001b[0mdensities\u001b[0m \u001b[1;33m=\u001b[0m \u001b[1;33m{\u001b[0m\u001b[1;33m}\u001b[0m\u001b[1;33m\u001b[0m\u001b[1;33m\u001b[0m\u001b[0m\n\u001b[0;32m    302\u001b[0m \u001b[1;33m\u001b[0m\u001b[0m\n\u001b[1;32m--> 303\u001b[1;33m         \u001b[1;32mfor\u001b[0m \u001b[0msub_vars\u001b[0m\u001b[1;33m,\u001b[0m \u001b[0msub_data\u001b[0m \u001b[1;32min\u001b[0m \u001b[0mself\u001b[0m\u001b[1;33m.\u001b[0m\u001b[0miter_data\u001b[0m\u001b[1;33m(\u001b[0m\u001b[1;34m\"hue\"\u001b[0m\u001b[1;33m,\u001b[0m \u001b[0mfrom_comp_data\u001b[0m\u001b[1;33m=\u001b[0m\u001b[1;32mTrue\u001b[0m\u001b[1;33m)\u001b[0m\u001b[1;33m:\u001b[0m\u001b[1;33m\u001b[0m\u001b[1;33m\u001b[0m\u001b[0m\n\u001b[0m\u001b[0;32m    304\u001b[0m \u001b[1;33m\u001b[0m\u001b[0m\n\u001b[0;32m    305\u001b[0m             \u001b[1;31m# Extract the data points from this sub set and remove nulls\u001b[0m\u001b[1;33m\u001b[0m\u001b[1;33m\u001b[0m\u001b[0m\n",
            "\u001b[1;32mc:\\Python3\\lib\\site-packages\\seaborn\\_core.py\u001b[0m in \u001b[0;36miter_data\u001b[1;34m(self, grouping_vars, reverse, from_comp_data)\u001b[0m\n\u001b[0;32m    981\u001b[0m \u001b[1;33m\u001b[0m\u001b[0m\n\u001b[0;32m    982\u001b[0m         \u001b[1;32mif\u001b[0m \u001b[0mfrom_comp_data\u001b[0m\u001b[1;33m:\u001b[0m\u001b[1;33m\u001b[0m\u001b[1;33m\u001b[0m\u001b[0m\n\u001b[1;32m--> 983\u001b[1;33m             \u001b[0mdata\u001b[0m \u001b[1;33m=\u001b[0m \u001b[0mself\u001b[0m\u001b[1;33m.\u001b[0m\u001b[0mcomp_data\u001b[0m\u001b[1;33m\u001b[0m\u001b[1;33m\u001b[0m\u001b[0m\n\u001b[0m\u001b[0;32m    984\u001b[0m         \u001b[1;32melse\u001b[0m\u001b[1;33m:\u001b[0m\u001b[1;33m\u001b[0m\u001b[1;33m\u001b[0m\u001b[0m\n\u001b[0;32m    985\u001b[0m             \u001b[0mdata\u001b[0m \u001b[1;33m=\u001b[0m \u001b[0mself\u001b[0m\u001b[1;33m.\u001b[0m\u001b[0mplot_data\u001b[0m\u001b[1;33m\u001b[0m\u001b[1;33m\u001b[0m\u001b[0m\n",
            "\u001b[1;32mc:\\Python3\\lib\\site-packages\\seaborn\\_core.py\u001b[0m in \u001b[0;36mcomp_data\u001b[1;34m(self)\u001b[0m\n\u001b[0;32m   1052\u001b[0m                 \u001b[1;31m# Use the converter assigned to the axis to get a float representation\u001b[0m\u001b[1;33m\u001b[0m\u001b[1;33m\u001b[0m\u001b[0m\n\u001b[0;32m   1053\u001b[0m                 \u001b[1;31m# of the data, passing np.nan or pd.NA through (pd.NA becomes np.nan)\u001b[0m\u001b[1;33m\u001b[0m\u001b[1;33m\u001b[0m\u001b[0m\n\u001b[1;32m-> 1054\u001b[1;33m                 \u001b[1;32mwith\u001b[0m \u001b[0mpd\u001b[0m\u001b[1;33m.\u001b[0m\u001b[0moption_context\u001b[0m\u001b[1;33m(\u001b[0m\u001b[1;34m'mode.use_inf_as_null'\u001b[0m\u001b[1;33m,\u001b[0m \u001b[1;32mTrue\u001b[0m\u001b[1;33m)\u001b[0m\u001b[1;33m:\u001b[0m\u001b[1;33m\u001b[0m\u001b[1;33m\u001b[0m\u001b[0m\n\u001b[0m\u001b[0;32m   1055\u001b[0m                     \u001b[0morig\u001b[0m \u001b[1;33m=\u001b[0m \u001b[0mself\u001b[0m\u001b[1;33m.\u001b[0m\u001b[0mplot_data\u001b[0m\u001b[1;33m[\u001b[0m\u001b[0mvar\u001b[0m\u001b[1;33m]\u001b[0m\u001b[1;33m.\u001b[0m\u001b[0mdropna\u001b[0m\u001b[1;33m(\u001b[0m\u001b[1;33m)\u001b[0m\u001b[1;33m\u001b[0m\u001b[1;33m\u001b[0m\u001b[0m\n\u001b[0;32m   1056\u001b[0m                 \u001b[0mcomp_col\u001b[0m \u001b[1;33m=\u001b[0m \u001b[0mpd\u001b[0m\u001b[1;33m.\u001b[0m\u001b[0mSeries\u001b[0m\u001b[1;33m(\u001b[0m\u001b[0mindex\u001b[0m\u001b[1;33m=\u001b[0m\u001b[0morig\u001b[0m\u001b[1;33m.\u001b[0m\u001b[0mindex\u001b[0m\u001b[1;33m,\u001b[0m \u001b[0mdtype\u001b[0m\u001b[1;33m=\u001b[0m\u001b[0mfloat\u001b[0m\u001b[1;33m,\u001b[0m \u001b[0mname\u001b[0m\u001b[1;33m=\u001b[0m\u001b[0mvar\u001b[0m\u001b[1;33m)\u001b[0m\u001b[1;33m\u001b[0m\u001b[1;33m\u001b[0m\u001b[0m\n",
            "\u001b[1;32mc:\\Python3\\lib\\site-packages\\pandas\\_config\\config.py\u001b[0m in \u001b[0;36m__enter__\u001b[1;34m(self)\u001b[0m\n\u001b[0;32m    439\u001b[0m \u001b[1;33m\u001b[0m\u001b[0m\n\u001b[0;32m    440\u001b[0m     \u001b[1;32mdef\u001b[0m \u001b[0m__enter__\u001b[0m\u001b[1;33m(\u001b[0m\u001b[0mself\u001b[0m\u001b[1;33m)\u001b[0m \u001b[1;33m->\u001b[0m \u001b[1;32mNone\u001b[0m\u001b[1;33m:\u001b[0m\u001b[1;33m\u001b[0m\u001b[1;33m\u001b[0m\u001b[0m\n\u001b[1;32m--> 441\u001b[1;33m         \u001b[0mself\u001b[0m\u001b[1;33m.\u001b[0m\u001b[0mundo\u001b[0m \u001b[1;33m=\u001b[0m \u001b[1;33m[\u001b[0m\u001b[1;33m(\u001b[0m\u001b[0mpat\u001b[0m\u001b[1;33m,\u001b[0m \u001b[0m_get_option\u001b[0m\u001b[1;33m(\u001b[0m\u001b[0mpat\u001b[0m\u001b[1;33m,\u001b[0m \u001b[0msilent\u001b[0m\u001b[1;33m=\u001b[0m\u001b[1;32mTrue\u001b[0m\u001b[1;33m)\u001b[0m\u001b[1;33m)\u001b[0m \u001b[1;32mfor\u001b[0m \u001b[0mpat\u001b[0m\u001b[1;33m,\u001b[0m \u001b[0mval\u001b[0m \u001b[1;32min\u001b[0m \u001b[0mself\u001b[0m\u001b[1;33m.\u001b[0m\u001b[0mops\u001b[0m\u001b[1;33m]\u001b[0m\u001b[1;33m\u001b[0m\u001b[1;33m\u001b[0m\u001b[0m\n\u001b[0m\u001b[0;32m    442\u001b[0m \u001b[1;33m\u001b[0m\u001b[0m\n\u001b[0;32m    443\u001b[0m         \u001b[1;32mfor\u001b[0m \u001b[0mpat\u001b[0m\u001b[1;33m,\u001b[0m \u001b[0mval\u001b[0m \u001b[1;32min\u001b[0m \u001b[0mself\u001b[0m\u001b[1;33m.\u001b[0m\u001b[0mops\u001b[0m\u001b[1;33m:\u001b[0m\u001b[1;33m\u001b[0m\u001b[1;33m\u001b[0m\u001b[0m\n",
            "\u001b[1;32mc:\\Python3\\lib\\site-packages\\pandas\\_config\\config.py\u001b[0m in \u001b[0;36m<listcomp>\u001b[1;34m(.0)\u001b[0m\n\u001b[0;32m    439\u001b[0m \u001b[1;33m\u001b[0m\u001b[0m\n\u001b[0;32m    440\u001b[0m     \u001b[1;32mdef\u001b[0m \u001b[0m__enter__\u001b[0m\u001b[1;33m(\u001b[0m\u001b[0mself\u001b[0m\u001b[1;33m)\u001b[0m \u001b[1;33m->\u001b[0m \u001b[1;32mNone\u001b[0m\u001b[1;33m:\u001b[0m\u001b[1;33m\u001b[0m\u001b[1;33m\u001b[0m\u001b[0m\n\u001b[1;32m--> 441\u001b[1;33m         \u001b[0mself\u001b[0m\u001b[1;33m.\u001b[0m\u001b[0mundo\u001b[0m \u001b[1;33m=\u001b[0m \u001b[1;33m[\u001b[0m\u001b[1;33m(\u001b[0m\u001b[0mpat\u001b[0m\u001b[1;33m,\u001b[0m \u001b[0m_get_option\u001b[0m\u001b[1;33m(\u001b[0m\u001b[0mpat\u001b[0m\u001b[1;33m,\u001b[0m \u001b[0msilent\u001b[0m\u001b[1;33m=\u001b[0m\u001b[1;32mTrue\u001b[0m\u001b[1;33m)\u001b[0m\u001b[1;33m)\u001b[0m \u001b[1;32mfor\u001b[0m \u001b[0mpat\u001b[0m\u001b[1;33m,\u001b[0m \u001b[0mval\u001b[0m \u001b[1;32min\u001b[0m \u001b[0mself\u001b[0m\u001b[1;33m.\u001b[0m\u001b[0mops\u001b[0m\u001b[1;33m]\u001b[0m\u001b[1;33m\u001b[0m\u001b[1;33m\u001b[0m\u001b[0m\n\u001b[0m\u001b[0;32m    442\u001b[0m \u001b[1;33m\u001b[0m\u001b[0m\n\u001b[0;32m    443\u001b[0m         \u001b[1;32mfor\u001b[0m \u001b[0mpat\u001b[0m\u001b[1;33m,\u001b[0m \u001b[0mval\u001b[0m \u001b[1;32min\u001b[0m \u001b[0mself\u001b[0m\u001b[1;33m.\u001b[0m\u001b[0mops\u001b[0m\u001b[1;33m:\u001b[0m\u001b[1;33m\u001b[0m\u001b[1;33m\u001b[0m\u001b[0m\n",
            "\u001b[1;32mc:\\Python3\\lib\\site-packages\\pandas\\_config\\config.py\u001b[0m in \u001b[0;36m_get_option\u001b[1;34m(pat, silent)\u001b[0m\n\u001b[0;32m    133\u001b[0m \u001b[1;33m\u001b[0m\u001b[0m\n\u001b[0;32m    134\u001b[0m \u001b[1;32mdef\u001b[0m \u001b[0m_get_option\u001b[0m\u001b[1;33m(\u001b[0m\u001b[0mpat\u001b[0m\u001b[1;33m:\u001b[0m \u001b[0mstr\u001b[0m\u001b[1;33m,\u001b[0m \u001b[0msilent\u001b[0m\u001b[1;33m:\u001b[0m \u001b[0mbool\u001b[0m \u001b[1;33m=\u001b[0m \u001b[1;32mFalse\u001b[0m\u001b[1;33m)\u001b[0m \u001b[1;33m->\u001b[0m \u001b[0mAny\u001b[0m\u001b[1;33m:\u001b[0m\u001b[1;33m\u001b[0m\u001b[1;33m\u001b[0m\u001b[0m\n\u001b[1;32m--> 135\u001b[1;33m     \u001b[0mkey\u001b[0m \u001b[1;33m=\u001b[0m \u001b[0m_get_single_key\u001b[0m\u001b[1;33m(\u001b[0m\u001b[0mpat\u001b[0m\u001b[1;33m,\u001b[0m \u001b[0msilent\u001b[0m\u001b[1;33m)\u001b[0m\u001b[1;33m\u001b[0m\u001b[1;33m\u001b[0m\u001b[0m\n\u001b[0m\u001b[0;32m    136\u001b[0m \u001b[1;33m\u001b[0m\u001b[0m\n\u001b[0;32m    137\u001b[0m     \u001b[1;31m# walk the nested dict\u001b[0m\u001b[1;33m\u001b[0m\u001b[1;33m\u001b[0m\u001b[0m\n",
            "\u001b[1;32mc:\\Python3\\lib\\site-packages\\pandas\\_config\\config.py\u001b[0m in \u001b[0;36m_get_single_key\u001b[1;34m(pat, silent)\u001b[0m\n\u001b[0;32m    119\u001b[0m         \u001b[1;32mif\u001b[0m \u001b[1;32mnot\u001b[0m \u001b[0msilent\u001b[0m\u001b[1;33m:\u001b[0m\u001b[1;33m\u001b[0m\u001b[1;33m\u001b[0m\u001b[0m\n\u001b[0;32m    120\u001b[0m             \u001b[0m_warn_if_deprecated\u001b[0m\u001b[1;33m(\u001b[0m\u001b[0mpat\u001b[0m\u001b[1;33m)\u001b[0m\u001b[1;33m\u001b[0m\u001b[1;33m\u001b[0m\u001b[0m\n\u001b[1;32m--> 121\u001b[1;33m         \u001b[1;32mraise\u001b[0m \u001b[0mOptionError\u001b[0m\u001b[1;33m(\u001b[0m\u001b[1;34mf\"No such keys(s): {repr(pat)}\"\u001b[0m\u001b[1;33m)\u001b[0m\u001b[1;33m\u001b[0m\u001b[1;33m\u001b[0m\u001b[0m\n\u001b[0m\u001b[0;32m    122\u001b[0m     \u001b[1;32mif\u001b[0m \u001b[0mlen\u001b[0m\u001b[1;33m(\u001b[0m\u001b[0mkeys\u001b[0m\u001b[1;33m)\u001b[0m \u001b[1;33m>\u001b[0m \u001b[1;36m1\u001b[0m\u001b[1;33m:\u001b[0m\u001b[1;33m\u001b[0m\u001b[1;33m\u001b[0m\u001b[0m\n\u001b[0;32m    123\u001b[0m         \u001b[1;32mraise\u001b[0m \u001b[0mOptionError\u001b[0m\u001b[1;33m(\u001b[0m\u001b[1;34m\"Pattern matched multiple keys\"\u001b[0m\u001b[1;33m)\u001b[0m\u001b[1;33m\u001b[0m\u001b[1;33m\u001b[0m\u001b[0m\n",
            "\u001b[1;31mOptionError\u001b[0m: No such keys(s): 'mode.use_inf_as_null'"
          ]
        }
      ],
      "source": [
        "from scipy import stats\n",
        "#Comparación con la función gamma de paraámetro alfa=1.5\n",
        "sns.distplot(stats.f.rvs(size=425,dfn=11,dfd=30))\n",
        "plt.show()"
      ]
    },
    {
      "cell_type": "code",
      "execution_count": null,
      "metadata": {
        "id": "R-H8TfYik97K"
      },
      "outputs": [],
      "source": [
        "import statsmodels.api as stm\n",
        "fig=stm.qqplot(Yc,line='45')\n",
        "plt.show()"
      ]
    },
    {
      "cell_type": "code",
      "execution_count": null,
      "metadata": {
        "id": "NbF2xZU2k97K"
      },
      "outputs": [],
      "source": [
        "#Prueba de normalidad de Shapiro-Wilk\n",
        "from scipy.stats import shapiro \n",
        "from scipy.stats import kstest\n",
        "from scipy import stats"
      ]
    },
    {
      "cell_type": "code",
      "execution_count": null,
      "metadata": {
        "id": "smn5kL13k97L",
        "outputId": "581ee07f-e6b0-44dc-cd21-0c9262e99638"
      },
      "outputs": [
        {
          "data": {
            "text/plain": [
              "ShapiroResult(statistic=0.905714213848114, pvalue=1.4633721302800373e-15)"
            ]
          },
          "execution_count": 84,
          "metadata": {},
          "output_type": "execute_result"
        }
      ],
      "source": [
        "#Pruebas de normalidad sobre la variable Yc\n",
        "#Prueba de Shapiro\n",
        "shapiro(Yc)\n",
        "#Pruebas de Kolmogorov_Smirnov\n",
        "kstest(Yc,stats.chi.rvs(size=300,df=10,random_state=450))\n",
        "kstest(Yc,stats.gamma.rvs(size=1925,a=1.5))\n",
        "shapiro(Yc)"
      ]
    },
    {
      "cell_type": "code",
      "execution_count": null,
      "metadata": {
        "id": "-WXDMNhck97L"
      },
      "outputs": [],
      "source": [
        "#Transformación boxcox\n",
        "Yct,fitted_lambda=stats.boxcox(Yc)"
      ]
    },
    {
      "cell_type": "code",
      "execution_count": null,
      "metadata": {
        "id": "MijlPyURk97L"
      },
      "outputs": [],
      "source": [
        "import numpy as np\n",
        "Yct1=Yct.tolist()"
      ]
    },
    {
      "cell_type": "code",
      "execution_count": null,
      "metadata": {
        "id": "jMaB2xI2k97L",
        "outputId": "8fb37551-cc20-42b1-ce40-28c51ace1d68"
      },
      "outputs": [
        {
          "ename": "<class 'pandas._config.config.OptionError'>",
          "evalue": "No such keys(s): 'mode.use_inf_as_null'",
          "output_type": "error",
          "traceback": [
            "\u001b[1;31m---------------------------------------------------------------------------\u001b[0m",
            "\u001b[1;31mOptionError\u001b[0m                               Traceback (most recent call last)",
            "\u001b[1;32mC:/Users/LEGION/AppData/Local/Temp/xpython_13020/2109591237.py\u001b[0m in \u001b[0;36m<module>\u001b[1;34m\u001b[0m\n\u001b[1;32m----> 1\u001b[1;33m \u001b[0msns\u001b[0m\u001b[1;33m.\u001b[0m\u001b[0mdistplot\u001b[0m\u001b[1;33m(\u001b[0m\u001b[0mYct1\u001b[0m\u001b[1;33m)\u001b[0m\u001b[1;33m\u001b[0m\u001b[1;33m\u001b[0m\u001b[0m\n\u001b[0m\u001b[0;32m      2\u001b[0m \u001b[0mplt\u001b[0m\u001b[1;33m.\u001b[0m\u001b[0mshow\u001b[0m\u001b[1;33m(\u001b[0m\u001b[1;33m)\u001b[0m\u001b[1;33m\u001b[0m\u001b[1;33m\u001b[0m\u001b[0m\n",
            "\u001b[1;32mc:\\Python3\\lib\\site-packages\\seaborn\\distributions.py\u001b[0m in \u001b[0;36mdistplot\u001b[1;34m(a, bins, hist, kde, rug, fit, hist_kws, kde_kws, rug_kws, fit_kws, color, vertical, norm_hist, axlabel, label, ax, x)\u001b[0m\n\u001b[0;32m   2685\u001b[0m     \u001b[1;32mif\u001b[0m \u001b[0mkde\u001b[0m\u001b[1;33m:\u001b[0m\u001b[1;33m\u001b[0m\u001b[1;33m\u001b[0m\u001b[0m\n\u001b[0;32m   2686\u001b[0m         \u001b[0mkde_color\u001b[0m \u001b[1;33m=\u001b[0m \u001b[0mkde_kws\u001b[0m\u001b[1;33m.\u001b[0m\u001b[0mpop\u001b[0m\u001b[1;33m(\u001b[0m\u001b[1;34m\"color\"\u001b[0m\u001b[1;33m,\u001b[0m \u001b[0mcolor\u001b[0m\u001b[1;33m)\u001b[0m\u001b[1;33m\u001b[0m\u001b[1;33m\u001b[0m\u001b[0m\n\u001b[1;32m-> 2687\u001b[1;33m         \u001b[0mkdeplot\u001b[0m\u001b[1;33m(\u001b[0m\u001b[0ma\u001b[0m\u001b[1;33m,\u001b[0m \u001b[0mvertical\u001b[0m\u001b[1;33m=\u001b[0m\u001b[0mvertical\u001b[0m\u001b[1;33m,\u001b[0m \u001b[0max\u001b[0m\u001b[1;33m=\u001b[0m\u001b[0max\u001b[0m\u001b[1;33m,\u001b[0m \u001b[0mcolor\u001b[0m\u001b[1;33m=\u001b[0m\u001b[0mkde_color\u001b[0m\u001b[1;33m,\u001b[0m \u001b[1;33m**\u001b[0m\u001b[0mkde_kws\u001b[0m\u001b[1;33m)\u001b[0m\u001b[1;33m\u001b[0m\u001b[1;33m\u001b[0m\u001b[0m\n\u001b[0m\u001b[0;32m   2688\u001b[0m         \u001b[1;32mif\u001b[0m \u001b[0mkde_color\u001b[0m \u001b[1;33m!=\u001b[0m \u001b[0mcolor\u001b[0m\u001b[1;33m:\u001b[0m\u001b[1;33m\u001b[0m\u001b[1;33m\u001b[0m\u001b[0m\n\u001b[0;32m   2689\u001b[0m             \u001b[0mkde_kws\u001b[0m\u001b[1;33m[\u001b[0m\u001b[1;34m\"color\"\u001b[0m\u001b[1;33m]\u001b[0m \u001b[1;33m=\u001b[0m \u001b[0mkde_color\u001b[0m\u001b[1;33m\u001b[0m\u001b[1;33m\u001b[0m\u001b[0m\n",
            "\u001b[1;32mc:\\Python3\\lib\\site-packages\\seaborn\\_decorators.py\u001b[0m in \u001b[0;36minner_f\u001b[1;34m(*args, **kwargs)\u001b[0m\n\u001b[0;32m     44\u001b[0m             )\n\u001b[0;32m     45\u001b[0m         \u001b[0mkwargs\u001b[0m\u001b[1;33m.\u001b[0m\u001b[0mupdate\u001b[0m\u001b[1;33m(\u001b[0m\u001b[1;33m{\u001b[0m\u001b[0mk\u001b[0m\u001b[1;33m:\u001b[0m \u001b[0marg\u001b[0m \u001b[1;32mfor\u001b[0m \u001b[0mk\u001b[0m\u001b[1;33m,\u001b[0m \u001b[0marg\u001b[0m \u001b[1;32min\u001b[0m \u001b[0mzip\u001b[0m\u001b[1;33m(\u001b[0m\u001b[0msig\u001b[0m\u001b[1;33m.\u001b[0m\u001b[0mparameters\u001b[0m\u001b[1;33m,\u001b[0m \u001b[0margs\u001b[0m\u001b[1;33m)\u001b[0m\u001b[1;33m}\u001b[0m\u001b[1;33m)\u001b[0m\u001b[1;33m\u001b[0m\u001b[1;33m\u001b[0m\u001b[0m\n\u001b[1;32m---> 46\u001b[1;33m         \u001b[1;32mreturn\u001b[0m \u001b[0mf\u001b[0m\u001b[1;33m(\u001b[0m\u001b[1;33m**\u001b[0m\u001b[0mkwargs\u001b[0m\u001b[1;33m)\u001b[0m\u001b[1;33m\u001b[0m\u001b[1;33m\u001b[0m\u001b[0m\n\u001b[0m\u001b[0;32m     47\u001b[0m     \u001b[1;32mreturn\u001b[0m \u001b[0minner_f\u001b[0m\u001b[1;33m\u001b[0m\u001b[1;33m\u001b[0m\u001b[0m\n\u001b[0;32m     48\u001b[0m \u001b[1;33m\u001b[0m\u001b[0m\n",
            "\u001b[1;32mc:\\Python3\\lib\\site-packages\\seaborn\\distributions.py\u001b[0m in \u001b[0;36mkdeplot\u001b[1;34m(x, y, shade, vertical, kernel, bw, gridsize, cut, clip, legend, cumulative, shade_lowest, cbar, cbar_ax, cbar_kws, ax, weights, hue, palette, hue_order, hue_norm, multiple, common_norm, common_grid, levels, thresh, bw_method, bw_adjust, log_scale, color, fill, data, data2, warn_singular, **kwargs)\u001b[0m\n\u001b[0;32m   1768\u001b[0m             \u001b[0mplot_kws\u001b[0m\u001b[1;33m[\u001b[0m\u001b[1;34m\"color\"\u001b[0m\u001b[1;33m]\u001b[0m \u001b[1;33m=\u001b[0m \u001b[0mcolor\u001b[0m\u001b[1;33m\u001b[0m\u001b[1;33m\u001b[0m\u001b[0m\n\u001b[0;32m   1769\u001b[0m \u001b[1;33m\u001b[0m\u001b[0m\n\u001b[1;32m-> 1770\u001b[1;33m         p.plot_univariate_density(\n\u001b[0m\u001b[0;32m   1771\u001b[0m             \u001b[0mmultiple\u001b[0m\u001b[1;33m=\u001b[0m\u001b[0mmultiple\u001b[0m\u001b[1;33m,\u001b[0m\u001b[1;33m\u001b[0m\u001b[1;33m\u001b[0m\u001b[0m\n\u001b[0;32m   1772\u001b[0m             \u001b[0mcommon_norm\u001b[0m\u001b[1;33m=\u001b[0m\u001b[0mcommon_norm\u001b[0m\u001b[1;33m,\u001b[0m\u001b[1;33m\u001b[0m\u001b[1;33m\u001b[0m\u001b[0m\n",
            "\u001b[1;32mc:\\Python3\\lib\\site-packages\\seaborn\\distributions.py\u001b[0m in \u001b[0;36mplot_univariate_density\u001b[1;34m(self, multiple, common_norm, common_grid, warn_singular, fill, legend, estimate_kws, **plot_kws)\u001b[0m\n\u001b[0;32m    926\u001b[0m \u001b[1;33m\u001b[0m\u001b[0m\n\u001b[0;32m    927\u001b[0m         \u001b[1;31m# Do the computation\u001b[0m\u001b[1;33m\u001b[0m\u001b[1;33m\u001b[0m\u001b[0m\n\u001b[1;32m--> 928\u001b[1;33m         densities = self._compute_univariate_density(\n\u001b[0m\u001b[0;32m    929\u001b[0m             \u001b[0mself\u001b[0m\u001b[1;33m.\u001b[0m\u001b[0mdata_variable\u001b[0m\u001b[1;33m,\u001b[0m\u001b[1;33m\u001b[0m\u001b[1;33m\u001b[0m\u001b[0m\n\u001b[0;32m    930\u001b[0m             \u001b[0mcommon_norm\u001b[0m\u001b[1;33m,\u001b[0m\u001b[1;33m\u001b[0m\u001b[1;33m\u001b[0m\u001b[0m\n",
            "\u001b[1;32mc:\\Python3\\lib\\site-packages\\seaborn\\distributions.py\u001b[0m in \u001b[0;36m_compute_univariate_density\u001b[1;34m(self, data_variable, common_norm, common_grid, estimate_kws, log_scale, warn_singular)\u001b[0m\n\u001b[0;32m    301\u001b[0m         \u001b[0mdensities\u001b[0m \u001b[1;33m=\u001b[0m \u001b[1;33m{\u001b[0m\u001b[1;33m}\u001b[0m\u001b[1;33m\u001b[0m\u001b[1;33m\u001b[0m\u001b[0m\n\u001b[0;32m    302\u001b[0m \u001b[1;33m\u001b[0m\u001b[0m\n\u001b[1;32m--> 303\u001b[1;33m         \u001b[1;32mfor\u001b[0m \u001b[0msub_vars\u001b[0m\u001b[1;33m,\u001b[0m \u001b[0msub_data\u001b[0m \u001b[1;32min\u001b[0m \u001b[0mself\u001b[0m\u001b[1;33m.\u001b[0m\u001b[0miter_data\u001b[0m\u001b[1;33m(\u001b[0m\u001b[1;34m\"hue\"\u001b[0m\u001b[1;33m,\u001b[0m \u001b[0mfrom_comp_data\u001b[0m\u001b[1;33m=\u001b[0m\u001b[1;32mTrue\u001b[0m\u001b[1;33m)\u001b[0m\u001b[1;33m:\u001b[0m\u001b[1;33m\u001b[0m\u001b[1;33m\u001b[0m\u001b[0m\n\u001b[0m\u001b[0;32m    304\u001b[0m \u001b[1;33m\u001b[0m\u001b[0m\n\u001b[0;32m    305\u001b[0m             \u001b[1;31m# Extract the data points from this sub set and remove nulls\u001b[0m\u001b[1;33m\u001b[0m\u001b[1;33m\u001b[0m\u001b[0m\n",
            "\u001b[1;32mc:\\Python3\\lib\\site-packages\\seaborn\\_core.py\u001b[0m in \u001b[0;36miter_data\u001b[1;34m(self, grouping_vars, reverse, from_comp_data)\u001b[0m\n\u001b[0;32m    981\u001b[0m \u001b[1;33m\u001b[0m\u001b[0m\n\u001b[0;32m    982\u001b[0m         \u001b[1;32mif\u001b[0m \u001b[0mfrom_comp_data\u001b[0m\u001b[1;33m:\u001b[0m\u001b[1;33m\u001b[0m\u001b[1;33m\u001b[0m\u001b[0m\n\u001b[1;32m--> 983\u001b[1;33m             \u001b[0mdata\u001b[0m \u001b[1;33m=\u001b[0m \u001b[0mself\u001b[0m\u001b[1;33m.\u001b[0m\u001b[0mcomp_data\u001b[0m\u001b[1;33m\u001b[0m\u001b[1;33m\u001b[0m\u001b[0m\n\u001b[0m\u001b[0;32m    984\u001b[0m         \u001b[1;32melse\u001b[0m\u001b[1;33m:\u001b[0m\u001b[1;33m\u001b[0m\u001b[1;33m\u001b[0m\u001b[0m\n\u001b[0;32m    985\u001b[0m             \u001b[0mdata\u001b[0m \u001b[1;33m=\u001b[0m \u001b[0mself\u001b[0m\u001b[1;33m.\u001b[0m\u001b[0mplot_data\u001b[0m\u001b[1;33m\u001b[0m\u001b[1;33m\u001b[0m\u001b[0m\n",
            "\u001b[1;32mc:\\Python3\\lib\\site-packages\\seaborn\\_core.py\u001b[0m in \u001b[0;36mcomp_data\u001b[1;34m(self)\u001b[0m\n\u001b[0;32m   1052\u001b[0m                 \u001b[1;31m# Use the converter assigned to the axis to get a float representation\u001b[0m\u001b[1;33m\u001b[0m\u001b[1;33m\u001b[0m\u001b[0m\n\u001b[0;32m   1053\u001b[0m                 \u001b[1;31m# of the data, passing np.nan or pd.NA through (pd.NA becomes np.nan)\u001b[0m\u001b[1;33m\u001b[0m\u001b[1;33m\u001b[0m\u001b[0m\n\u001b[1;32m-> 1054\u001b[1;33m                 \u001b[1;32mwith\u001b[0m \u001b[0mpd\u001b[0m\u001b[1;33m.\u001b[0m\u001b[0moption_context\u001b[0m\u001b[1;33m(\u001b[0m\u001b[1;34m'mode.use_inf_as_null'\u001b[0m\u001b[1;33m,\u001b[0m \u001b[1;32mTrue\u001b[0m\u001b[1;33m)\u001b[0m\u001b[1;33m:\u001b[0m\u001b[1;33m\u001b[0m\u001b[1;33m\u001b[0m\u001b[0m\n\u001b[0m\u001b[0;32m   1055\u001b[0m                     \u001b[0morig\u001b[0m \u001b[1;33m=\u001b[0m \u001b[0mself\u001b[0m\u001b[1;33m.\u001b[0m\u001b[0mplot_data\u001b[0m\u001b[1;33m[\u001b[0m\u001b[0mvar\u001b[0m\u001b[1;33m]\u001b[0m\u001b[1;33m.\u001b[0m\u001b[0mdropna\u001b[0m\u001b[1;33m(\u001b[0m\u001b[1;33m)\u001b[0m\u001b[1;33m\u001b[0m\u001b[1;33m\u001b[0m\u001b[0m\n\u001b[0;32m   1056\u001b[0m                 \u001b[0mcomp_col\u001b[0m \u001b[1;33m=\u001b[0m \u001b[0mpd\u001b[0m\u001b[1;33m.\u001b[0m\u001b[0mSeries\u001b[0m\u001b[1;33m(\u001b[0m\u001b[0mindex\u001b[0m\u001b[1;33m=\u001b[0m\u001b[0morig\u001b[0m\u001b[1;33m.\u001b[0m\u001b[0mindex\u001b[0m\u001b[1;33m,\u001b[0m \u001b[0mdtype\u001b[0m\u001b[1;33m=\u001b[0m\u001b[0mfloat\u001b[0m\u001b[1;33m,\u001b[0m \u001b[0mname\u001b[0m\u001b[1;33m=\u001b[0m\u001b[0mvar\u001b[0m\u001b[1;33m)\u001b[0m\u001b[1;33m\u001b[0m\u001b[1;33m\u001b[0m\u001b[0m\n",
            "\u001b[1;32mc:\\Python3\\lib\\site-packages\\pandas\\_config\\config.py\u001b[0m in \u001b[0;36m__enter__\u001b[1;34m(self)\u001b[0m\n\u001b[0;32m    439\u001b[0m \u001b[1;33m\u001b[0m\u001b[0m\n\u001b[0;32m    440\u001b[0m     \u001b[1;32mdef\u001b[0m \u001b[0m__enter__\u001b[0m\u001b[1;33m(\u001b[0m\u001b[0mself\u001b[0m\u001b[1;33m)\u001b[0m \u001b[1;33m->\u001b[0m \u001b[1;32mNone\u001b[0m\u001b[1;33m:\u001b[0m\u001b[1;33m\u001b[0m\u001b[1;33m\u001b[0m\u001b[0m\n\u001b[1;32m--> 441\u001b[1;33m         \u001b[0mself\u001b[0m\u001b[1;33m.\u001b[0m\u001b[0mundo\u001b[0m \u001b[1;33m=\u001b[0m \u001b[1;33m[\u001b[0m\u001b[1;33m(\u001b[0m\u001b[0mpat\u001b[0m\u001b[1;33m,\u001b[0m \u001b[0m_get_option\u001b[0m\u001b[1;33m(\u001b[0m\u001b[0mpat\u001b[0m\u001b[1;33m,\u001b[0m \u001b[0msilent\u001b[0m\u001b[1;33m=\u001b[0m\u001b[1;32mTrue\u001b[0m\u001b[1;33m)\u001b[0m\u001b[1;33m)\u001b[0m \u001b[1;32mfor\u001b[0m \u001b[0mpat\u001b[0m\u001b[1;33m,\u001b[0m \u001b[0mval\u001b[0m \u001b[1;32min\u001b[0m \u001b[0mself\u001b[0m\u001b[1;33m.\u001b[0m\u001b[0mops\u001b[0m\u001b[1;33m]\u001b[0m\u001b[1;33m\u001b[0m\u001b[1;33m\u001b[0m\u001b[0m\n\u001b[0m\u001b[0;32m    442\u001b[0m \u001b[1;33m\u001b[0m\u001b[0m\n\u001b[0;32m    443\u001b[0m         \u001b[1;32mfor\u001b[0m \u001b[0mpat\u001b[0m\u001b[1;33m,\u001b[0m \u001b[0mval\u001b[0m \u001b[1;32min\u001b[0m \u001b[0mself\u001b[0m\u001b[1;33m.\u001b[0m\u001b[0mops\u001b[0m\u001b[1;33m:\u001b[0m\u001b[1;33m\u001b[0m\u001b[1;33m\u001b[0m\u001b[0m\n",
            "\u001b[1;32mc:\\Python3\\lib\\site-packages\\pandas\\_config\\config.py\u001b[0m in \u001b[0;36m<listcomp>\u001b[1;34m(.0)\u001b[0m\n\u001b[0;32m    439\u001b[0m \u001b[1;33m\u001b[0m\u001b[0m\n\u001b[0;32m    440\u001b[0m     \u001b[1;32mdef\u001b[0m \u001b[0m__enter__\u001b[0m\u001b[1;33m(\u001b[0m\u001b[0mself\u001b[0m\u001b[1;33m)\u001b[0m \u001b[1;33m->\u001b[0m \u001b[1;32mNone\u001b[0m\u001b[1;33m:\u001b[0m\u001b[1;33m\u001b[0m\u001b[1;33m\u001b[0m\u001b[0m\n\u001b[1;32m--> 441\u001b[1;33m         \u001b[0mself\u001b[0m\u001b[1;33m.\u001b[0m\u001b[0mundo\u001b[0m \u001b[1;33m=\u001b[0m \u001b[1;33m[\u001b[0m\u001b[1;33m(\u001b[0m\u001b[0mpat\u001b[0m\u001b[1;33m,\u001b[0m \u001b[0m_get_option\u001b[0m\u001b[1;33m(\u001b[0m\u001b[0mpat\u001b[0m\u001b[1;33m,\u001b[0m \u001b[0msilent\u001b[0m\u001b[1;33m=\u001b[0m\u001b[1;32mTrue\u001b[0m\u001b[1;33m)\u001b[0m\u001b[1;33m)\u001b[0m \u001b[1;32mfor\u001b[0m \u001b[0mpat\u001b[0m\u001b[1;33m,\u001b[0m \u001b[0mval\u001b[0m \u001b[1;32min\u001b[0m \u001b[0mself\u001b[0m\u001b[1;33m.\u001b[0m\u001b[0mops\u001b[0m\u001b[1;33m]\u001b[0m\u001b[1;33m\u001b[0m\u001b[1;33m\u001b[0m\u001b[0m\n\u001b[0m\u001b[0;32m    442\u001b[0m \u001b[1;33m\u001b[0m\u001b[0m\n\u001b[0;32m    443\u001b[0m         \u001b[1;32mfor\u001b[0m \u001b[0mpat\u001b[0m\u001b[1;33m,\u001b[0m \u001b[0mval\u001b[0m \u001b[1;32min\u001b[0m \u001b[0mself\u001b[0m\u001b[1;33m.\u001b[0m\u001b[0mops\u001b[0m\u001b[1;33m:\u001b[0m\u001b[1;33m\u001b[0m\u001b[1;33m\u001b[0m\u001b[0m\n",
            "\u001b[1;32mc:\\Python3\\lib\\site-packages\\pandas\\_config\\config.py\u001b[0m in \u001b[0;36m_get_option\u001b[1;34m(pat, silent)\u001b[0m\n\u001b[0;32m    133\u001b[0m \u001b[1;33m\u001b[0m\u001b[0m\n\u001b[0;32m    134\u001b[0m \u001b[1;32mdef\u001b[0m \u001b[0m_get_option\u001b[0m\u001b[1;33m(\u001b[0m\u001b[0mpat\u001b[0m\u001b[1;33m:\u001b[0m \u001b[0mstr\u001b[0m\u001b[1;33m,\u001b[0m \u001b[0msilent\u001b[0m\u001b[1;33m:\u001b[0m \u001b[0mbool\u001b[0m \u001b[1;33m=\u001b[0m \u001b[1;32mFalse\u001b[0m\u001b[1;33m)\u001b[0m \u001b[1;33m->\u001b[0m \u001b[0mAny\u001b[0m\u001b[1;33m:\u001b[0m\u001b[1;33m\u001b[0m\u001b[1;33m\u001b[0m\u001b[0m\n\u001b[1;32m--> 135\u001b[1;33m     \u001b[0mkey\u001b[0m \u001b[1;33m=\u001b[0m \u001b[0m_get_single_key\u001b[0m\u001b[1;33m(\u001b[0m\u001b[0mpat\u001b[0m\u001b[1;33m,\u001b[0m \u001b[0msilent\u001b[0m\u001b[1;33m)\u001b[0m\u001b[1;33m\u001b[0m\u001b[1;33m\u001b[0m\u001b[0m\n\u001b[0m\u001b[0;32m    136\u001b[0m \u001b[1;33m\u001b[0m\u001b[0m\n\u001b[0;32m    137\u001b[0m     \u001b[1;31m# walk the nested dict\u001b[0m\u001b[1;33m\u001b[0m\u001b[1;33m\u001b[0m\u001b[0m\n",
            "\u001b[1;32mc:\\Python3\\lib\\site-packages\\pandas\\_config\\config.py\u001b[0m in \u001b[0;36m_get_single_key\u001b[1;34m(pat, silent)\u001b[0m\n\u001b[0;32m    119\u001b[0m         \u001b[1;32mif\u001b[0m \u001b[1;32mnot\u001b[0m \u001b[0msilent\u001b[0m\u001b[1;33m:\u001b[0m\u001b[1;33m\u001b[0m\u001b[1;33m\u001b[0m\u001b[0m\n\u001b[0;32m    120\u001b[0m             \u001b[0m_warn_if_deprecated\u001b[0m\u001b[1;33m(\u001b[0m\u001b[0mpat\u001b[0m\u001b[1;33m)\u001b[0m\u001b[1;33m\u001b[0m\u001b[1;33m\u001b[0m\u001b[0m\n\u001b[1;32m--> 121\u001b[1;33m         \u001b[1;32mraise\u001b[0m \u001b[0mOptionError\u001b[0m\u001b[1;33m(\u001b[0m\u001b[1;34mf\"No such keys(s): {repr(pat)}\"\u001b[0m\u001b[1;33m)\u001b[0m\u001b[1;33m\u001b[0m\u001b[1;33m\u001b[0m\u001b[0m\n\u001b[0m\u001b[0;32m    122\u001b[0m     \u001b[1;32mif\u001b[0m \u001b[0mlen\u001b[0m\u001b[1;33m(\u001b[0m\u001b[0mkeys\u001b[0m\u001b[1;33m)\u001b[0m \u001b[1;33m>\u001b[0m \u001b[1;36m1\u001b[0m\u001b[1;33m:\u001b[0m\u001b[1;33m\u001b[0m\u001b[1;33m\u001b[0m\u001b[0m\n\u001b[0;32m    123\u001b[0m         \u001b[1;32mraise\u001b[0m \u001b[0mOptionError\u001b[0m\u001b[1;33m(\u001b[0m\u001b[1;34m\"Pattern matched multiple keys\"\u001b[0m\u001b[1;33m)\u001b[0m\u001b[1;33m\u001b[0m\u001b[1;33m\u001b[0m\u001b[0m\n",
            "\u001b[1;31mOptionError\u001b[0m: No such keys(s): 'mode.use_inf_as_null'"
          ]
        }
      ],
      "source": [
        "sns.distplot(Yct1)\n",
        "plt.show()"
      ]
    },
    {
      "cell_type": "code",
      "execution_count": null,
      "metadata": {
        "id": "iOYSMrWlk97L",
        "outputId": "59f7276f-8d68-4fee-87d1-3dbbf4b87aad"
      },
      "outputs": [
        {
          "data": {
            "text/html": [
              "<div>\n",
              "<style scoped>\n",
              "    .dataframe tbody tr th:only-of-type {\n",
              "        vertical-align: middle;\n",
              "    }\n",
              "\n",
              "    .dataframe tbody tr th {\n",
              "        vertical-align: top;\n",
              "    }\n",
              "\n",
              "    .dataframe thead th {\n",
              "        text-align: right;\n",
              "    }\n",
              "</style>\n",
              "<table border=\"1\" class=\"dataframe\">\n",
              "  <thead>\n",
              "    <tr style=\"text-align: right;\">\n",
              "      <th></th>\n",
              "      <th>Col_0</th>\n",
              "      <th>Col_1</th>\n",
              "      <th>Col_2</th>\n",
              "      <th>Col_3</th>\n",
              "      <th>Col_4</th>\n",
              "      <th>Col_5</th>\n",
              "      <th>Col_6</th>\n",
              "      <th>Col_7</th>\n",
              "      <th>Col_8</th>\n",
              "      <th>Col_9</th>\n",
              "      <th>...</th>\n",
              "      <th>Col_2038</th>\n",
              "      <th>Col_2039</th>\n",
              "      <th>Col_2040</th>\n",
              "      <th>Col_2041</th>\n",
              "      <th>Col_2042</th>\n",
              "      <th>Col_2043</th>\n",
              "      <th>Col_2044</th>\n",
              "      <th>Col_2045</th>\n",
              "      <th>Col_2046</th>\n",
              "      <th>Col_2047</th>\n",
              "    </tr>\n",
              "  </thead>\n",
              "  <tbody>\n",
              "    <tr>\n",
              "      <th>count</th>\n",
              "      <td>424.00</td>\n",
              "      <td>424.00</td>\n",
              "      <td>424.00</td>\n",
              "      <td>424.00</td>\n",
              "      <td>424.00</td>\n",
              "      <td>424.00</td>\n",
              "      <td>424.00</td>\n",
              "      <td>424.00</td>\n",
              "      <td>424.00</td>\n",
              "      <td>424.00</td>\n",
              "      <td>...</td>\n",
              "      <td>424.00</td>\n",
              "      <td>424.00</td>\n",
              "      <td>424.00</td>\n",
              "      <td>424.00</td>\n",
              "      <td>424.00</td>\n",
              "      <td>424.00</td>\n",
              "      <td>424.00</td>\n",
              "      <td>424.00</td>\n",
              "      <td>424.00</td>\n",
              "      <td>424.00</td>\n",
              "    </tr>\n",
              "    <tr>\n",
              "      <th>mean</th>\n",
              "      <td>0.00</td>\n",
              "      <td>0.24</td>\n",
              "      <td>0.03</td>\n",
              "      <td>0.02</td>\n",
              "      <td>0.01</td>\n",
              "      <td>0.01</td>\n",
              "      <td>0.01</td>\n",
              "      <td>0.00</td>\n",
              "      <td>0.01</td>\n",
              "      <td>0.00</td>\n",
              "      <td>...</td>\n",
              "      <td>0.01</td>\n",
              "      <td>0.00</td>\n",
              "      <td>0.00</td>\n",
              "      <td>0.01</td>\n",
              "      <td>0.02</td>\n",
              "      <td>0.01</td>\n",
              "      <td>0.00</td>\n",
              "      <td>0.01</td>\n",
              "      <td>0.00</td>\n",
              "      <td>0.01</td>\n",
              "    </tr>\n",
              "    <tr>\n",
              "      <th>std</th>\n",
              "      <td>0.05</td>\n",
              "      <td>0.43</td>\n",
              "      <td>0.17</td>\n",
              "      <td>0.13</td>\n",
              "      <td>0.12</td>\n",
              "      <td>0.11</td>\n",
              "      <td>0.08</td>\n",
              "      <td>0.07</td>\n",
              "      <td>0.11</td>\n",
              "      <td>0.07</td>\n",
              "      <td>...</td>\n",
              "      <td>0.10</td>\n",
              "      <td>0.07</td>\n",
              "      <td>0.07</td>\n",
              "      <td>0.11</td>\n",
              "      <td>0.15</td>\n",
              "      <td>0.12</td>\n",
              "      <td>0.07</td>\n",
              "      <td>0.10</td>\n",
              "      <td>0.05</td>\n",
              "      <td>0.08</td>\n",
              "    </tr>\n",
              "    <tr>\n",
              "      <th>min</th>\n",
              "      <td>0.00</td>\n",
              "      <td>0.00</td>\n",
              "      <td>0.00</td>\n",
              "      <td>0.00</td>\n",
              "      <td>0.00</td>\n",
              "      <td>0.00</td>\n",
              "      <td>0.00</td>\n",
              "      <td>0.00</td>\n",
              "      <td>0.00</td>\n",
              "      <td>0.00</td>\n",
              "      <td>...</td>\n",
              "      <td>0.00</td>\n",
              "      <td>0.00</td>\n",
              "      <td>0.00</td>\n",
              "      <td>0.00</td>\n",
              "      <td>0.00</td>\n",
              "      <td>0.00</td>\n",
              "      <td>0.00</td>\n",
              "      <td>0.00</td>\n",
              "      <td>0.00</td>\n",
              "      <td>0.00</td>\n",
              "    </tr>\n",
              "    <tr>\n",
              "      <th>25%</th>\n",
              "      <td>0.00</td>\n",
              "      <td>0.00</td>\n",
              "      <td>0.00</td>\n",
              "      <td>0.00</td>\n",
              "      <td>0.00</td>\n",
              "      <td>0.00</td>\n",
              "      <td>0.00</td>\n",
              "      <td>0.00</td>\n",
              "      <td>0.00</td>\n",
              "      <td>0.00</td>\n",
              "      <td>...</td>\n",
              "      <td>0.00</td>\n",
              "      <td>0.00</td>\n",
              "      <td>0.00</td>\n",
              "      <td>0.00</td>\n",
              "      <td>0.00</td>\n",
              "      <td>0.00</td>\n",
              "      <td>0.00</td>\n",
              "      <td>0.00</td>\n",
              "      <td>0.00</td>\n",
              "      <td>0.00</td>\n",
              "    </tr>\n",
              "    <tr>\n",
              "      <th>50%</th>\n",
              "      <td>0.00</td>\n",
              "      <td>0.00</td>\n",
              "      <td>0.00</td>\n",
              "      <td>0.00</td>\n",
              "      <td>0.00</td>\n",
              "      <td>0.00</td>\n",
              "      <td>0.00</td>\n",
              "      <td>0.00</td>\n",
              "      <td>0.00</td>\n",
              "      <td>0.00</td>\n",
              "      <td>...</td>\n",
              "      <td>0.00</td>\n",
              "      <td>0.00</td>\n",
              "      <td>0.00</td>\n",
              "      <td>0.00</td>\n",
              "      <td>0.00</td>\n",
              "      <td>0.00</td>\n",
              "      <td>0.00</td>\n",
              "      <td>0.00</td>\n",
              "      <td>0.00</td>\n",
              "      <td>0.00</td>\n",
              "    </tr>\n",
              "    <tr>\n",
              "      <th>75%</th>\n",
              "      <td>0.00</td>\n",
              "      <td>0.00</td>\n",
              "      <td>0.00</td>\n",
              "      <td>0.00</td>\n",
              "      <td>0.00</td>\n",
              "      <td>0.00</td>\n",
              "      <td>0.00</td>\n",
              "      <td>0.00</td>\n",
              "      <td>0.00</td>\n",
              "      <td>0.00</td>\n",
              "      <td>...</td>\n",
              "      <td>0.00</td>\n",
              "      <td>0.00</td>\n",
              "      <td>0.00</td>\n",
              "      <td>0.00</td>\n",
              "      <td>0.00</td>\n",
              "      <td>0.00</td>\n",
              "      <td>0.00</td>\n",
              "      <td>0.00</td>\n",
              "      <td>0.00</td>\n",
              "      <td>0.00</td>\n",
              "    </tr>\n",
              "    <tr>\n",
              "      <th>max</th>\n",
              "      <td>1.00</td>\n",
              "      <td>1.00</td>\n",
              "      <td>1.00</td>\n",
              "      <td>1.00</td>\n",
              "      <td>1.00</td>\n",
              "      <td>1.00</td>\n",
              "      <td>1.00</td>\n",
              "      <td>1.00</td>\n",
              "      <td>1.00</td>\n",
              "      <td>1.00</td>\n",
              "      <td>...</td>\n",
              "      <td>1.00</td>\n",
              "      <td>1.00</td>\n",
              "      <td>1.00</td>\n",
              "      <td>1.00</td>\n",
              "      <td>1.00</td>\n",
              "      <td>1.00</td>\n",
              "      <td>1.00</td>\n",
              "      <td>1.00</td>\n",
              "      <td>1.00</td>\n",
              "      <td>1.00</td>\n",
              "    </tr>\n",
              "  </tbody>\n",
              "</table>\n",
              "<p>8 rows × 2048 columns</p>\n",
              "</div>"
            ],
            "text/plain": [
              "       Col_0  Col_1  Col_2  Col_3  Col_4  Col_5  Col_6  Col_7  Col_8  Col_9   \n",
              "count 424.00 424.00 424.00 424.00 424.00 424.00 424.00 424.00 424.00 424.00  \\\n",
              "mean    0.00   0.24   0.03   0.02   0.01   0.01   0.01   0.00   0.01   0.00   \n",
              "std     0.05   0.43   0.17   0.13   0.12   0.11   0.08   0.07   0.11   0.07   \n",
              "min     0.00   0.00   0.00   0.00   0.00   0.00   0.00   0.00   0.00   0.00   \n",
              "25%     0.00   0.00   0.00   0.00   0.00   0.00   0.00   0.00   0.00   0.00   \n",
              "50%     0.00   0.00   0.00   0.00   0.00   0.00   0.00   0.00   0.00   0.00   \n",
              "75%     0.00   0.00   0.00   0.00   0.00   0.00   0.00   0.00   0.00   0.00   \n",
              "max     1.00   1.00   1.00   1.00   1.00   1.00   1.00   1.00   1.00   1.00   \n",
              "\n",
              "       ...  Col_2038  Col_2039  Col_2040  Col_2041  Col_2042  Col_2043   \n",
              "count  ...    424.00    424.00    424.00    424.00    424.00    424.00  \\\n",
              "mean   ...      0.01      0.00      0.00      0.01      0.02      0.01   \n",
              "std    ...      0.10      0.07      0.07      0.11      0.15      0.12   \n",
              "min    ...      0.00      0.00      0.00      0.00      0.00      0.00   \n",
              "25%    ...      0.00      0.00      0.00      0.00      0.00      0.00   \n",
              "50%    ...      0.00      0.00      0.00      0.00      0.00      0.00   \n",
              "75%    ...      0.00      0.00      0.00      0.00      0.00      0.00   \n",
              "max    ...      1.00      1.00      1.00      1.00      1.00      1.00   \n",
              "\n",
              "       Col_2044  Col_2045  Col_2046  Col_2047  \n",
              "count    424.00    424.00    424.00    424.00  \n",
              "mean       0.00      0.01      0.00      0.01  \n",
              "std        0.07      0.10      0.05      0.08  \n",
              "min        0.00      0.00      0.00      0.00  \n",
              "25%        0.00      0.00      0.00      0.00  \n",
              "50%        0.00      0.00      0.00      0.00  \n",
              "75%        0.00      0.00      0.00      0.00  \n",
              "max        1.00      1.00      1.00      1.00  \n",
              "\n",
              "[8 rows x 2048 columns]"
            ]
          },
          "execution_count": 88,
          "metadata": {},
          "output_type": "execute_result"
        }
      ],
      "source": [
        "shapiro(Yct1)\n",
        "#Hacer un anaálisis descriptivo con las variables predictivas o explicarivas\n",
        "\n",
        "Xc.describe()"
      ]
    },
    {
      "cell_type": "markdown",
      "metadata": {
        "id": "U2kD2NX0k97M"
      },
      "source": [
        "La variable respuesta $Y_{c}=PIC50$ no proviene de una población con distribución normal."
      ]
    },
    {
      "cell_type": "markdown",
      "metadata": {
        "id": "RVtpiKVik97M"
      },
      "source": [
        "# PCA sobre el conjunto de datos\n",
        "\n",
        "Se hace uan reducción de dimensionalidad para poder ajustar el conjunto de modelos con Lazypredict."
      ]
    },
    {
      "cell_type": "code",
      "execution_count": null,
      "metadata": {
        "id": "fENTd3H0k97M"
      },
      "outputs": [],
      "source": [
        "# PCA sobre Xc\n",
        "from sklearn.decomposition import PCA\n",
        "# Función de bucle para identificar el número de componentes principales que explican al menos el 95 % de la varianza\n",
        "for comp in range(3, XC.shape[1]):\n",
        "    pca = PCA(n_components= comp, random_state=424)\n",
        "    pca.fit(Xc)\n",
        "    comp_check = pca.explained_variance_ratio_\n",
        "    final_comp = comp\n",
        "    if comp_check.sum() > 0.95:\n",
        "        break\n",
        "        \n",
        "Final_PCA_Xc = PCA(n_components= final_comp,random_state=42)\n",
        "Final_PCA_Xc.fit(Xc)\n",
        "PCA_Xc=Final_PCA_Xc.transform(Xc)\n",
        "num_comps = comp_check.shape[0]"
      ]
    },
    {
      "cell_type": "code",
      "execution_count": null,
      "metadata": {
        "id": "NANdv9cdk97M",
        "outputId": "dac55a6f-30dc-4c36-9949-a5d42033166e"
      },
      "outputs": [
        {
          "name": "stdout",
          "output_type": "stream",
          "text": [
            "Usando 267 componentes, se puede explicar el 0.9505863043196765% de la variabilidad de la data principal.\n"
          ]
        }
      ],
      "source": [
        "print(\"Usando {} componentes, se puede explicar el {}% de la variabilidad de la data principal.\".format(final_comp,comp_check.sum()))"
      ]
    },
    {
      "cell_type": "code",
      "execution_count": null,
      "metadata": {
        "id": "HIxgMwJqk97N",
        "outputId": "f5398292-d349-4744-f131-82fb41f0c49a"
      },
      "outputs": [
        {
          "data": {
            "text/plain": [
              "(424, 267)"
            ]
          },
          "execution_count": 92,
          "metadata": {},
          "output_type": "execute_result"
        }
      ],
      "source": [
        "PCA_Xc.shape"
      ]
    },
    {
      "cell_type": "markdown",
      "metadata": {
        "id": "017OogdXk97N"
      },
      "source": [
        "#**Definir el conjunto de entrenamiento y de test**\n",
        "\n",
        "En esta seccion se define el conjunto de entrenamiento (train set) y el conjunto de testeo (test set)"
      ]
    },
    {
      "cell_type": "code",
      "execution_count": null,
      "metadata": {
        "id": "6YeTdFR-k97N",
        "outputId": "f0c90f74-53c3-4f1c-ee2c-59d09549d7ac"
      },
      "outputs": [
        {
          "ename": "<class 'NameError'>",
          "evalue": "name 'PCA_Yc' is not defined",
          "output_type": "error",
          "traceback": [
            "\u001b[1;31m---------------------------------------------------------------------------\u001b[0m",
            "\u001b[1;31mNameError\u001b[0m                                 Traceback (most recent call last)",
            "\u001b[1;32mC:/Users/LEGION/AppData/Local/Temp/xpython_13020/1271887686.py\u001b[0m in \u001b[0;36m<module>\u001b[1;34m\u001b[0m\n\u001b[0;32m      4\u001b[0m \u001b[1;33m\u001b[0m\u001b[0m\n\u001b[0;32m      5\u001b[0m \u001b[1;31m#Definir los conjuntos de entrenamiento y test usando PCA\u001b[0m\u001b[1;33m\u001b[0m\u001b[1;33m\u001b[0m\u001b[0m\n\u001b[1;32m----> 6\u001b[1;33m \u001b[0mXc1_train\u001b[0m\u001b[1;33m,\u001b[0m \u001b[0mXc1_test\u001b[0m\u001b[1;33m,\u001b[0m \u001b[0mYc1_train\u001b[0m\u001b[1;33m,\u001b[0m \u001b[0mYc1_test\u001b[0m \u001b[1;33m=\u001b[0m \u001b[0mtrain_test_split\u001b[0m\u001b[1;33m(\u001b[0m\u001b[0mPCA_Xc\u001b[0m\u001b[1;33m,\u001b[0m \u001b[0mPCA_Yc\u001b[0m\u001b[1;33m,\u001b[0m \u001b[0mtest_size\u001b[0m\u001b[1;33m=\u001b[0m\u001b[1;36m0.3\u001b[0m\u001b[1;33m,\u001b[0m \u001b[0mrandom_state\u001b[0m\u001b[1;33m=\u001b[0m\u001b[1;36m1\u001b[0m\u001b[1;33m)\u001b[0m\u001b[1;33m\u001b[0m\u001b[1;33m\u001b[0m\u001b[0m\n\u001b[0m",
            "\u001b[1;31mNameError\u001b[0m: name 'PCA_Yc' is not defined"
          ]
        }
      ],
      "source": [
        "#Definir los conjuntos de entrenamiento y test usando PCA\n",
        "Xc_train, Xc_test, Yc_train, Yc_test = train_test_split(Xc, Yc, test_size=0.3, random_state=1)\n",
        "Xc_mca.column_coordinates(XC)\n",
        "\n",
        "#Definir los conjuntos de entrenamiento y test usando PCA\n",
        "Xc1_train, Xc1_test, Yc1_train, Yc1_test = train_test_split(PCA_Xc, PCA_Yc, test_size=0.3, random_state=1)"
      ]
    },
    {
      "cell_type": "code",
      "execution_count": null,
      "metadata": {
        "id": "HNByVE3Ak97N",
        "outputId": "731d99b1-4fbd-4dd5-a169-1b2e76a0c231"
      },
      "outputs": [
        {
          "data": {
            "text/plain": [
              "array([[ 0.07715374,  4.39011197,  0.16715014, ..., -0.12598807,\n",
              "        -0.08506827,  0.04170493],\n",
              "       [ 0.89399526,  0.05884522, -1.95541694, ...,  0.04752321,\n",
              "        -0.03525252, -0.03604135],\n",
              "       [ 0.09278844, -0.43377528, -0.65821099, ..., -0.01597837,\n",
              "        -0.08183574,  0.13369242],\n",
              "       ...,\n",
              "       [-0.62774323, -0.34914637, -0.15954637, ...,  0.02606034,\n",
              "        -0.03730087, -0.02677578],\n",
              "       [-0.17047394, -0.44385105,  2.79094884, ..., -0.03086401,\n",
              "        -0.02540942, -0.00482594],\n",
              "       [-0.08547812,  1.0998569 , -0.5402281 , ..., -0.06072181,\n",
              "        -0.01450259,  0.06719066]])"
            ]
          },
          "execution_count": 150,
          "metadata": {},
          "output_type": "execute_result"
        }
      ],
      "source": [
        "PCA_Xc"
      ]
    },
    {
      "cell_type": "code",
      "execution_count": null,
      "metadata": {
        "id": "ge5wvuO5k97N"
      },
      "outputs": [],
      "source": [
        "plt.hist(Yc_train)\n",
        "plt.show()"
      ]
    },
    {
      "cell_type": "markdown",
      "metadata": {
        "id": "Zh-ey_A8k97O"
      },
      "source": [
        "## LAZY REGRESSOR"
      ]
    },
    {
      "cell_type": "code",
      "execution_count": null,
      "metadata": {
        "id": "WuZhVrBKk97O"
      },
      "outputs": [],
      "source": [
        "from sklearn.ensemble import ExtraTreesRegressor\n",
        "ETR=ExtraTreesRegressor(n_estimators=100, random_state=0)"
      ]
    },
    {
      "cell_type": "code",
      "execution_count": null,
      "metadata": {
        "id": "hsv6D_XYk97O"
      },
      "outputs": [],
      "source": [
        "ETR_model=ETR.fit(Xc_train, Yc_train)"
      ]
    },
    {
      "cell_type": "code",
      "execution_count": null,
      "metadata": {
        "id": "I1_VJPUok97O"
      },
      "outputs": [],
      "source": [
        "Yc_pred=ETR.predict(Xc_test)"
      ]
    },
    {
      "cell_type": "code",
      "execution_count": null,
      "metadata": {
        "id": "bHYXaGmpk97O"
      },
      "outputs": [],
      "source": [
        "#Métricas del modelo de regresión\n",
        "from sklearn import metrics"
      ]
    },
    {
      "cell_type": "code",
      "execution_count": null,
      "metadata": {
        "id": "l-TeOp49k97O",
        "outputId": "be2d90a9-29b4-4949-b74f-5773cb0dc4c5"
      },
      "outputs": [
        {
          "name": "stdout",
          "output_type": "stream",
          "text": [
            "MAE: 1.0748982906580522\n",
            "MSE: 2.6219665091401074\n",
            "RMSE: 1.6192487483830604\n",
            "R2: 0.17083768165367408\n"
          ]
        }
      ],
      "source": [
        "from sklearn.metrics import r2_score\n",
        "from sklearn.metrics  import mean_squared_error\n",
        "from sklearn.metrics import mean_absolute_error\n",
        "from sklearn.metrics import median_absolute_error\n",
        "\n",
        "#Métricas del modelo de regresión\n",
        "print('MAE:', metrics.mean_absolute_error(Yc_test, Yc_pred))\n",
        "print('MSE:', metrics.mean_squared_error(Yc_test, Yc_pred))\n",
        "print('RMSE:', np.sqrt(metrics.mean_squared_error(Yc_test, Yc_pred)))\n",
        "print('R2:', metrics.r2_score(Yc_test, Yc_pred))"
      ]
    },
    {
      "cell_type": "markdown",
      "metadata": {
        "id": "CyxE5Futk97P"
      },
      "source": [
        "## **DecisionTreeRegressor model**"
      ]
    },
    {
      "cell_type": "code",
      "execution_count": null,
      "metadata": {
        "id": "6V2tT1iGk97P",
        "outputId": "b7499b38-37f5-44dd-cc1d-66b5b40b87d9"
      },
      "outputs": [
        {
          "name": "stdout",
          "output_type": "stream",
          "text": [
            "4.852480485606202\n",
            "5.717764758248415\n"
          ]
        }
      ],
      "source": [
        "from sklearn.tree import DecisionTreeRegressor\n",
        "#Se calcula la mediana de PIC50 para determinar el punto de corte\n",
        "print(Yc.median())\n",
        "print(Yc.mean())"
      ]
    },
    {
      "cell_type": "code",
      "execution_count": null,
      "metadata": {
        "id": "fGD026f6k97P",
        "outputId": "fd35a5d3-e266-4fbe-dc2f-42121affd261"
      },
      "outputs": [
        {
          "ename": "<class 'AttributeError'>",
          "evalue": "'numpy.ndarray' object has no attribute 'median'",
          "output_type": "error",
          "traceback": [
            "\u001b[1;31m---------------------------------------------------------------------------\u001b[0m",
            "\u001b[1;31mAttributeError\u001b[0m                            Traceback (most recent call last)",
            "\u001b[1;32mC:/Users/LEGION/AppData/Local/Temp/xpython_13020/2740772991.py\u001b[0m in \u001b[0;36m<module>\u001b[1;34m\u001b[0m\n\u001b[0;32m      1\u001b[0m \u001b[1;31m#Definir el treshold para clasificar el valor de IPC50 en 1 o 0\u001b[0m\u001b[1;33m\u001b[0m\u001b[1;33m\u001b[0m\u001b[0m\n\u001b[1;32m----> 2\u001b[1;33m \u001b[0mYc1_train\u001b[0m\u001b[1;33m=\u001b[0m \u001b[1;33m[\u001b[0m\u001b[1;36m1\u001b[0m \u001b[1;32mif\u001b[0m \u001b[0mi\u001b[0m \u001b[1;33m>=\u001b[0m \u001b[0mYc_pred\u001b[0m\u001b[1;33m.\u001b[0m\u001b[0mmedian\u001b[0m\u001b[1;33m(\u001b[0m\u001b[1;33m)\u001b[0m \u001b[1;32melse\u001b[0m \u001b[1;36m0\u001b[0m \u001b[1;32mfor\u001b[0m \u001b[0mi\u001b[0m \u001b[1;32min\u001b[0m \u001b[0mYc_train\u001b[0m\u001b[1;33m]\u001b[0m\u001b[1;33m\u001b[0m\u001b[1;33m\u001b[0m\u001b[0m\n\u001b[0m\u001b[0;32m      3\u001b[0m \u001b[1;33m\u001b[0m\u001b[0m\n\u001b[0;32m      4\u001b[0m \u001b[0mYc1_test\u001b[0m\u001b[1;33m=\u001b[0m\u001b[1;33m[\u001b[0m\u001b[1;36m1\u001b[0m \u001b[1;32mif\u001b[0m \u001b[0mi\u001b[0m \u001b[1;33m>=\u001b[0m \u001b[0mYc_pred\u001b[0m\u001b[1;33m.\u001b[0m\u001b[0mmedian\u001b[0m\u001b[1;33m(\u001b[0m\u001b[1;33m)\u001b[0m \u001b[1;32melse\u001b[0m \u001b[1;36m0\u001b[0m \u001b[1;32mfor\u001b[0m \u001b[0mi\u001b[0m \u001b[1;32min\u001b[0m \u001b[0mYc_test\u001b[0m\u001b[1;33m]\u001b[0m\u001b[1;33m\u001b[0m\u001b[1;33m\u001b[0m\u001b[0m\n\u001b[0;32m      5\u001b[0m \u001b[1;33m\u001b[0m\u001b[0m\n",
            "\u001b[1;32mC:/Users/LEGION/AppData/Local/Temp/xpython_13020/2740772991.py\u001b[0m in \u001b[0;36m<listcomp>\u001b[1;34m(.0)\u001b[0m\n\u001b[0;32m      1\u001b[0m \u001b[1;31m#Definir el treshold para clasificar el valor de IPC50 en 1 o 0\u001b[0m\u001b[1;33m\u001b[0m\u001b[1;33m\u001b[0m\u001b[0m\n\u001b[1;32m----> 2\u001b[1;33m \u001b[0mYc1_train\u001b[0m\u001b[1;33m=\u001b[0m \u001b[1;33m[\u001b[0m\u001b[1;36m1\u001b[0m \u001b[1;32mif\u001b[0m \u001b[0mi\u001b[0m \u001b[1;33m>=\u001b[0m \u001b[0mYc_pred\u001b[0m\u001b[1;33m.\u001b[0m\u001b[0mmedian\u001b[0m\u001b[1;33m(\u001b[0m\u001b[1;33m)\u001b[0m \u001b[1;32melse\u001b[0m \u001b[1;36m0\u001b[0m \u001b[1;32mfor\u001b[0m \u001b[0mi\u001b[0m \u001b[1;32min\u001b[0m \u001b[0mYc_train\u001b[0m\u001b[1;33m]\u001b[0m\u001b[1;33m\u001b[0m\u001b[1;33m\u001b[0m\u001b[0m\n\u001b[0m\u001b[0;32m      3\u001b[0m \u001b[1;33m\u001b[0m\u001b[0m\n\u001b[0;32m      4\u001b[0m \u001b[0mYc1_test\u001b[0m\u001b[1;33m=\u001b[0m\u001b[1;33m[\u001b[0m\u001b[1;36m1\u001b[0m \u001b[1;32mif\u001b[0m \u001b[0mi\u001b[0m \u001b[1;33m>=\u001b[0m \u001b[0mYc_pred\u001b[0m\u001b[1;33m.\u001b[0m\u001b[0mmedian\u001b[0m\u001b[1;33m(\u001b[0m\u001b[1;33m)\u001b[0m \u001b[1;32melse\u001b[0m \u001b[1;36m0\u001b[0m \u001b[1;32mfor\u001b[0m \u001b[0mi\u001b[0m \u001b[1;32min\u001b[0m \u001b[0mYc_test\u001b[0m\u001b[1;33m]\u001b[0m\u001b[1;33m\u001b[0m\u001b[1;33m\u001b[0m\u001b[0m\n\u001b[0;32m      5\u001b[0m \u001b[1;33m\u001b[0m\u001b[0m\n",
            "\u001b[1;31mAttributeError\u001b[0m: 'numpy.ndarray' object has no attribute 'median'"
          ]
        }
      ],
      "source": [
        "#Definir el treshold para clasificar el valor de IPC50 en 1 o 0\n",
        "Yc1_train= [1 if i >= Yc_pred.median() else 0 for i in Yc_train]\n",
        "\n",
        "Yc1_test=[1 if i >= Yc_pred.median() else 0 for i in Yc_test]\n",
        "\n",
        "##**Implementación de los modelos de clasificación**\n",
        "#Se define el  objeto Class como ekemento de clasificación\n",
        "Class = LazyClassifier(verbose=0,ignore_warnings=False, custom_metric=None )\n",
        "\n",
        "models_classifier_train,class_predictors=Class.fit(Xc1_train, Xc1_test, Yc1_train, Yc1_test)"
      ]
    },
    {
      "cell_type": "code",
      "execution_count": null,
      "metadata": {
        "id": "Sd9mCCUXk97P"
      },
      "outputs": [],
      "source": [
        "#Se define la variable binaria Yc_bin\n",
        "Yc_bin = np.where(Yc >= 5.5, 1, 0)\n",
        "\n",
        "#Se define el conjunto de entrenamiento y test\n",
        "Xc_train, Xc_test, Yc_train, Yc_test = train_test_split(Xc, Yc_bin, test_size=0.3, random_state=1)\n",
        "\n",
        "#Se define el modelo de árbol de decisión\n",
        "DTR = DecisionTreeRegressor(random_state=0)\n",
        "\n",
        "#Se entrena el modelo\n",
        "DTR_model = DTR.fit(Xc_train, Yc_train)\n",
        "\n",
        "#Se realiza la predicción\n",
        "Yc_pred = DTR.predict(Xc_test)\n"
      ]
    }
  ],
  "metadata": {
    "colab": {
      "provenance": [],
      "include_colab_link": true
    },
    "kernelspec": {
      "display_name": "Python 3.10 (XPython)",
      "language": "python",
      "name": "xpython"
    },
    "language_info": {
      "file_extension": ".py",
      "mimetype": "text/x-python",
      "name": "python",
      "version": "3.10.0"
    },
    "orig_nbformat": 4
  },
  "nbformat": 4,
  "nbformat_minor": 0
}