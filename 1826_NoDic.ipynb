{
 "cells": [
  {
   "cell_type": "code",
   "execution_count": 3,
   "metadata": {},
   "outputs": [
    {
     "name": "stderr",
     "output_type": "stream",
     "text": [
      "C:/Users/LEGION/AppData/Local/Temp/xpython_14788/683904498.py:5: DtypeWarning: Columns (140,141,142,149,150,151,158,159,160,167,168,169,176,177,178,185,186,187,194,195,196,203,204,205,212,213,214,221,222,223,230,231,232,233,234,235,236,237,238,239,240,241,341,342,343,344,345,346,347,348,349,356,357,358,365,366,367,374,375,376,383,384,385,392,393,394,401,402,403,410,411,412,419,420,421,428,429,430,437,438,439,446,447,448,449,450,451,452,453,454,455,456,462,463,464,470,471,472,478,479,480,486,487,488,494,495,496,502,503,504,510,511,512,518,519,520,526,527,528,534,535,536,542,543,544,545,546,547,548,549,550,551,552,558,559,560,566,567,568,574,575,576,582,583,584,590,591,592,598,599,600,606,607,608,614,615,616,622,623,624,630,631,632,638,639,640,641,642,815,816,871,872,873,887,888,889,1101,1106,1180,1185,1572,1573,1575,1795) have mixed types. Specify dtype option on import or set low_memory=False.\n",
      "  df_1826 = pd.read_csv('D:\\\\2_ASW\\OneDrive - Asesoftware S.A.S\\\\Escritorio\\\\reutilizacion_06_bioactivity_data_3class_pIC50_pubchem_fp_1826.csv')\n"
     ]
    },
    {
     "data": {
      "text/plain": [
       "(7049, 1827)"
      ]
     },
     "execution_count": 1,
     "metadata": {},
     "output_type": "execute_result"
    }
   ],
   "source": [
    "import pandas as pd\n",
    "import seaborn as sns\n",
    "from sklearn.model_selection import train_test_split\n",
    "from sklearn.ensemble import RandomForestRegressor\n",
    "df_1826 = pd.read_csv('D:\\\\2_ASW\\OneDrive - Asesoftware S.A.S\\\\Escritorio\\\\reutilizacion_06_bioactivity_data_3class_pIC50_pubchem_fp_1826.csv')\n",
    "df_1826.shape"
   ]
  },
  {
   "cell_type": "code",
   "execution_count": 4,
   "metadata": {},
   "outputs": [],
   "source": [
    "X_1826 = df_1826.drop('pIC50', axis=1)\n",
    "Y_1826 = df_1826.pIC50"
   ]
  },
  {
   "cell_type": "code",
   "execution_count": 5,
   "metadata": {},
   "outputs": [
    {
     "name": "stdout",
     "output_type": "stream",
     "text": [
      "<class 'pandas.core.frame.DataFrame'>\n",
      "RangeIndex: 7049 entries, 0 to 7048\n",
      "Columns: 1826 entries, ABC to mZagreb2\n",
      "dtypes: bool(2), float64(933), int64(310), object(581)\n",
      "memory usage: 98.1+ MB\n",
      "<class 'pandas.core.frame.DataFrame'>\n",
      "RangeIndex: 7049 entries, 0 to 7048\n",
      "Columns: 1245 entries, ABC to mZagreb2\n",
      "dtypes: bool(2), float64(933), int64(310)\n",
      "memory usage: 66.9 MB\n"
     ]
    }
   ],
   "source": [
    "#ver tipo de datos de las columnas\n",
    "X_1826.info()\n",
    "\n",
    "#ver columnas tipo object y borrarlas\n",
    "lista_object = X_1826.select_dtypes(include=['object']).columns\n",
    "\n",
    "lista_object\n",
    "\n",
    "#borrar columnas que estén en la lista\n",
    "X_1826 = X_1826.drop(lista_object, axis=1)\n",
    "\n",
    "X_1826.info()\n"
   ]
  },
  {
   "cell_type": "code",
   "execution_count": 6,
   "metadata": {},
   "outputs": [
    {
     "data": {
      "text/plain": [
       "((5639, 1245), (5639,), (1410, 1245), (1410,))"
      ]
     },
     "execution_count": 4,
     "metadata": {},
     "output_type": "execute_result"
    }
   ],
   "source": [
    "#dividir dataset en entrenamiento y prueba\n",
    "X_train_1826, X_test_1826, Y_train_1826, Y_test_1826 = train_test_split(X_1826, Y_1826, test_size=0.2,random_state=10)\n",
    "X_train_1826.shape, Y_train_1826.shape, X_test_1826.shape, Y_test_1826.shape"
   ]
  },
  {
   "cell_type": "code",
   "execution_count": 7,
   "metadata": {},
   "outputs": [
    {
     "data": {
      "text/plain": [
       "0.6249543670728028"
      ]
     },
     "execution_count": 5,
     "metadata": {},
     "output_type": "execute_result"
    }
   ],
   "source": [
    "#Modelo de regresion lineal\n",
    "import numpy as np\n",
    "model_RFR = RandomForestRegressor(n_estimators=102, max_depth=32, random_state=0, criterion='squared_error',  min_samples_split=2) #0.6685 32\n",
    "model_RFR.fit(X_train_1826, Y_train_1826)\n",
    "r2 = model_RFR.score(X_test_1826, Y_test_1826)\n",
    "r2"
   ]
  },
  {
   "cell_type": "code",
   "execution_count": 8,
   "metadata": {},
   "outputs": [
    {
     "name": "stdout",
     "output_type": "stream",
     "text": [
      "0.36305128614295923\n"
     ]
    }
   ],
   "source": [
    "from sklearn.tree import DecisionTreeRegressor \n",
    "  \n",
    "model_DTR_1826 = DecisionTreeRegressor(random_state=6, max_depth=24, max_leaf_nodes=100, min_samples_leaf=1, splitter='random')\n",
    "model_DTR_1826.fit(X_train_1826, Y_train_1826)\n",
    "predictions = model_DTR_1826.predict(X_test_1826)\n",
    "\n",
    "#r2 = model1.score(X_test, Y_test)\n",
    "\n",
    "score = model_DTR_1826.score(X_test_1826, Y_test_1826)\n",
    "print(score)"
   ]
  },
  {
   "cell_type": "code",
   "execution_count": 9,
   "metadata": {},
   "outputs": [],
   "source": [
    "from sklearn.ensemble import ExtraTreesRegressor\n",
    "ETR=ExtraTreesRegressor(n_estimators=100, random_state=0)\n",
    "ETR_model=ETR.fit(X_train_1826, Y_train_1826)"
   ]
  },
  {
   "cell_type": "code",
   "execution_count": 10,
   "metadata": {},
   "outputs": [],
   "source": [
    "Y_pred_1826 =ETR.predict(X_test_1826)"
   ]
  },
  {
   "cell_type": "code",
   "execution_count": 11,
   "metadata": {},
   "outputs": [
    {
     "name": "stdout",
     "output_type": "stream",
     "text": [
      "R2:  0.6860249897012864\n",
      "MAE:  0.6529937954830759\n",
      "MSE:  0.8706935308675527\n",
      "RMSE:  0.933109602816064\n",
      "RMSLE:  0.01911043953478333\n",
      "MSLE:  0.13824051336270177\n"
     ]
    }
   ],
   "source": [
    "#calcular r2\n",
    "from sklearn.metrics import r2_score\n",
    "r2_score(Y_test_1826, Y_pred_1826)\n",
    "\n",
    "#calcular mae\n",
    "from sklearn.metrics import mean_absolute_error\n",
    "mean_absolute_error(Y_test_1826, Y_pred_1826)\n",
    "\n",
    "#calcular mse\n",
    "from sklearn.metrics import mean_squared_error\n",
    "mean_squared_error(Y_test_1826, Y_pred_1826)\n",
    "\n",
    "#calcular rmse\n",
    "from sklearn.metrics import mean_squared_error\n",
    "mean_squared_error(Y_test_1826, Y_pred_1826, squared=False)\n",
    "\n",
    "#calcular rmsle\n",
    "from sklearn.metrics import mean_squared_log_error\n",
    "mean_squared_log_error(Y_test_1826, Y_pred_1826)\n",
    "\n",
    "#calcular msle\n",
    "from sklearn.metrics import mean_squared_log_error\n",
    "mean_squared_log_error(Y_test_1826, Y_pred_1826, squared=False)\n",
    "\n",
    "#imprimir resultados\n",
    "print('R2: ', r2_score(Y_test_1826, Y_pred_1826))\n",
    "print('MAE: ', mean_absolute_error(Y_test_1826, Y_pred_1826))\n",
    "print('MSE: ', mean_squared_error(Y_test_1826, Y_pred_1826))\n",
    "print('RMSE: ', mean_squared_error(Y_test_1826, Y_pred_1826, squared=False))\n",
    "print('RMSLE: ', mean_squared_log_error(Y_test_1826, Y_pred_1826))\n",
    "print('MSLE: ', mean_squared_log_error(Y_test_1826, Y_pred_1826, squared=False))"
   ]
  },
  {
   "attachments": {},
   "cell_type": "markdown",
   "metadata": {},
   "source": [
    "## RFR"
   ]
  },
  {
   "cell_type": "code",
   "execution_count": 12,
   "metadata": {},
   "outputs": [
    {
     "data": {
      "text/plain": [
       "array([0.6479491 , 0.65937417, 0.66681235, 0.63958617, 0.65737581])"
      ]
     },
     "execution_count": 10,
     "metadata": {},
     "output_type": "execute_result"
    }
   ],
   "source": [
    "#usar Cross Validation\n",
    "from sklearn.model_selection import cross_val_score\n",
    "scores = cross_val_score(ETR, X_train_1826, Y_train_1826, cv=5, scoring='r2')\n",
    "scores"
   ]
  },
  {
   "cell_type": "code",
   "execution_count": 13,
   "metadata": {},
   "outputs": [
    {
     "name": "stdout",
     "output_type": "stream",
     "text": [
      "R2:  0.6230729006365301\n",
      "MAE:  0.7346170645926003\n",
      "MSE:  1.0452678597325589\n",
      "RMSE:  1.0223834210962925\n"
     ]
    }
   ],
   "source": [
    "#usar Random Forest Regressor\n",
    "from sklearn.ensemble import RandomForestRegressor\n",
    "RFR=RandomForestRegressor(n_estimators=100, random_state=0)\n",
    "RFR_model=RFR.fit(X_train_1826, Y_train_1826)\n",
    "\n",
    "Y_pred_1826 =RFR.predict(X_test_1826)\n",
    "\n",
    "#calcular r2\n",
    "from sklearn.metrics import r2_score\n",
    "r2_score(Y_test_1826, Y_pred_1826)\n",
    "\n",
    "#calcular mae\n",
    "from sklearn.metrics import mean_absolute_error\n",
    "mean_absolute_error(Y_test_1826, Y_pred_1826)\n",
    "\n",
    "#calcular mse\n",
    "from sklearn.metrics import mean_squared_error\n",
    "mean_squared_error(Y_test_1826, Y_pred_1826)\n",
    "\n",
    "#calcular rmse\n",
    "from sklearn.metrics import mean_squared_error\n",
    "mean_squared_error(Y_test_1826, Y_pred_1826, squared=False)\n",
    "\n",
    "#imprimir resultados\n",
    "print('R2: ', r2_score(Y_test_1826, Y_pred_1826))\n",
    "print('MAE: ', mean_absolute_error(Y_test_1826, Y_pred_1826))\n",
    "print('MSE: ', mean_squared_error(Y_test_1826, Y_pred_1826))\n",
    "print('RMSE: ', mean_squared_error(Y_test_1826, Y_pred_1826, squared=False))"
   ]
  },
  {
   "cell_type": "code",
   "execution_count": 14,
   "metadata": {},
   "outputs": [
    {
     "name": "stdout",
     "output_type": "stream",
     "text": [
      "R2:  0.6542195167955611\n"
     ]
    }
   ],
   "source": [
    "# imprimir resultados de cross validation\n",
    "print('R2: ', scores.mean())\n",
    "\n",
    "#usar Grid SearchCV\n",
    "from sklearn.model_selection import GridSearchCV\n",
    "param_grid = {'n_estimators': [100, 200, 300, 400, 500, 600, 700, 800],\n",
    "                'max_depth': [10, 20, 30, 40, 50, 60, 70, 80],                \n",
    "                'min_samples_split': [2, 5, 10, 15, 20, 25, 30, 35, 40],                \n",
    "                'criterion': ['squared_error', 'mse', 'mae', 'poisson']\n",
    "                }\n",
    "grid = GridSearchCV(ETR, param_grid, cv=5, scoring='r2', n_jobs=-1)\n",
    "grid.fit(X_train_1826, Y_train_1826)\n",
    "\n",
    "#imprimir mejores parametros\n",
    "print(grid.best_params_)\n",
    "\n",
    "#imprimir mejor score\n",
    "print(grid.best_score_)\n",
    "\n",
    "#imprimir mejor estimador\n",
    "print(grid.best_estimator_)\n",
    "\n",
    "#imprimir resultados de grid search\n",
    "pd.DataFrame(grid.cv_results_)\n"
   ]
  }
 ],
 "metadata": {
  "kernelspec": {
   "display_name": "Python 3.10 (XPython)",
   "language": "python",
   "name": "xpython"
  },
  "language_info": {
   "file_extension": ".py",
   "mimetype": "text/x-python",
   "name": "python",
   "version": "3.10.0"
  },
  "orig_nbformat": 4
 },
 "nbformat": 4,
 "nbformat_minor": 2
}
