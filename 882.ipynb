{
 "cells": [
  {
   "cell_type": "code",
   "execution_count": 3,
   "metadata": {},
   "outputs": [
    {
     "data": {
      "text/plain": [
       "(7049, 882)"
      ]
     },
     "execution_count": 1,
     "metadata": {},
     "output_type": "execute_result"
    }
   ],
   "source": [
    "import pandas as pd\n",
    "import seaborn as sns\n",
    "from sklearn.model_selection import train_test_split\n",
    "from sklearn.ensemble import RandomForestRegressor\n",
    "df_882 = pd.read_csv('D:\\\\2_ASW\\OneDrive - Asesoftware S.A.S\\\\Escritorio\\\\reutilizacion_06_bioactivity_data_3class_pIC50_pubchem_fp_882.csv')\n",
    "df_882.shape"
   ]
  },
  {
   "cell_type": "code",
   "execution_count": 4,
   "metadata": {},
   "outputs": [],
   "source": [
    "X_882 = df_882.drop('pIC50', axis=1)\n",
    "Y_882 = df_882.pIC50"
   ]
  },
  {
   "cell_type": "code",
   "execution_count": 3,
   "metadata": {},
   "outputs": [
    {
     "data": {
      "text/plain": [
       "((5639, 881), (5639,), (1410, 881), (1410,))"
      ]
     },
     "execution_count": 3,
     "metadata": {},
     "output_type": "execute_result"
    }
   ],
   "source": [
    "#dividir dataset en entrenamiento y prueba\n",
    "X_train_882, X_test_882, Y_train_882, Y_test_882 = train_test_split(X_882, Y_882, test_size=0.2,random_state=10)\n",
    "X_train_882.shape, Y_train_882.shape, X_test_882.shape, Y_test_882.shape"
   ]
  },
  {
   "cell_type": "code",
   "execution_count": 6,
   "metadata": {},
   "outputs": [],
   "source": [
    "#Elimi"
   ]
  },
  {
   "cell_type": "code",
   "execution_count": 7,
   "metadata": {},
   "outputs": [
    {
     "data": {
      "text/plain": [
       "0.6515353011702275"
      ]
     },
     "execution_count": 5,
     "metadata": {},
     "output_type": "execute_result"
    }
   ],
   "source": [
    "#Modelo de regresion lineal\n",
    "import numpy as np\n",
    "model_RFR = RandomForestRegressor(n_estimators=102, max_depth=16, random_state=0, criterion='squared_error',  min_samples_split=2)\n",
    "model_RFR.fit(X_train_882, Y_train_882)\n",
    "r2 = model_RFR.score(X_test_882, Y_test_882)\n",
    "r2"
   ]
  },
  {
   "cell_type": "code",
   "execution_count": 8,
   "metadata": {},
   "outputs": [
    {
     "name": "stdout",
     "output_type": "stream",
     "text": [
      "0.43344799332994555\n"
     ]
    }
   ],
   "source": [
    "from sklearn.tree import DecisionTreeRegressor \n",
    "  \n",
    "model_DTR_882 = DecisionTreeRegressor(random_state=6, max_depth=8, max_leaf_nodes=100, min_samples_leaf=2, splitter='random')\n",
    "model_DTR_882.fit(X_train_882, Y_train_882)\n",
    "predictions = model_DTR_882.predict(X_test_882)\n",
    "\n",
    "#r2 = model1.score(X_test, Y_test)\n",
    "\n",
    "score = model_DTR_882.score(X_test_882, Y_test_882)\n",
    "print(score)"
   ]
  },
  {
   "cell_type": "code",
   "execution_count": 9,
   "metadata": {},
   "outputs": [],
   "source": [
    "from sklearn.ensemble import ExtraTreesRegressor\n",
    "ETR=ExtraTreesRegressor(n_estimators=100, random_state=0)\n",
    "ETR_model=ETR.fit(X_train_882, Y_train_882)"
   ]
  },
  {
   "cell_type": "code",
   "execution_count": 10,
   "metadata": {},
   "outputs": [],
   "source": [
    "Y_pred_882 =ETR.predict(X_test_882)"
   ]
  },
  {
   "cell_type": "code",
   "execution_count": 11,
   "metadata": {},
   "outputs": [
    {
     "data": {
      "text/plain": [
       "4.826662975097878"
      ]
     },
     "execution_count": 9,
     "metadata": {},
     "output_type": "execute_result"
    }
   ],
   "source": [
    "#sacar media de Y_pred_882\n",
    "media = Y_pred_882.mean()\n",
    "media\n",
    "\n",
    "media = 7\n",
    "\n",
    "#calcular mediana\n",
    "mediana = np.median(Y_pred_882)\n",
    "mediana"
   ]
  },
  {
   "cell_type": "code",
   "execution_count": 12,
   "metadata": {},
   "outputs": [],
   "source": [
    "Y_train_882_1 = [1 if i >= mediana else 0 for i in Y_train_882]"
   ]
  },
  {
   "cell_type": "code",
   "execution_count": 13,
   "metadata": {},
   "outputs": [],
   "source": [
    "Y_test_882_1 = [1 if i >= mediana else 0 for i in Y_test_882]"
   ]
  },
  {
   "cell_type": "code",
   "execution_count": 14,
   "metadata": {},
   "outputs": [],
   "source": [
    "#Importar el modelo\n",
    "import lightgbm as ltb\n",
    "#Importar las métricas del modelo \n",
    "from sklearn import metrics\n",
    "#se define el modelo\n",
    "LGBM_model= ltb.LGBMClassifier()"
   ]
  },
  {
   "attachments": {},
   "cell_type": "markdown",
   "metadata": {},
   "source": [
    "## LGBM"
   ]
  },
  {
   "cell_type": "code",
   "execution_count": 15,
   "metadata": {},
   "outputs": [],
   "source": [
    "#Ajuste del modelo con los datos de entrenamiento\n",
    "LGBM_fit=LGBM_model.fit(X_train_882,Y_train_882_1)"
   ]
  },
  {
   "cell_type": "code",
   "execution_count": 16,
   "metadata": {},
   "outputs": [
    {
     "name": "stdout",
     "output_type": "stream",
     "text": [
      "[0 0 1 ... 0 1 0]\n"
     ]
    }
   ],
   "source": [
    "#Hacer predicciones con el modelo (Varible respuesta sólo 0 o 1)\n",
    "LGBM_pred=LGBM_model.predict(X_test_882)\n",
    "print(LGBM_pred)"
   ]
  },
  {
   "cell_type": "code",
   "execution_count": 17,
   "metadata": {},
   "outputs": [],
   "source": [
    "#Hacer predicciones con el modelo (Probabilidades)\n",
    "LGBM_pred_prob=LGBM_model.predict_proba(X_test_882)"
   ]
  },
  {
   "cell_type": "code",
   "execution_count": 18,
   "metadata": {},
   "outputs": [
    {
     "name": "stdout",
     "output_type": "stream",
     "text": [
      "[[600  95]\n",
      " [140 575]]\n"
     ]
    }
   ],
   "source": [
    "#Matriz de confusión\n",
    "#Se va a contruir la matriz de confusión  para el modelo \n",
    "from sklearn.metrics import confusion_matrix\n",
    "confusion_matrix_LGBM = confusion_matrix(Y_test_882_1, LGBM_pred)\n",
    "Conf_matrix_LGBM=print(confusion_matrix_LGBM)\n",
    "\n",
    "cm_display = metrics.ConfusionMatrixDisplay(confusion_matrix = Conf_matrix_LGBM, display_labels=[0,1],)\n",
    "#mimportar plot\n",
    "import matplotlib.pyplot as plt"
   ]
  },
  {
   "cell_type": "code",
   "execution_count": 19,
   "metadata": {},
   "outputs": [
    {
     "name": "stdout",
     "output_type": "stream",
     "text": [
      "              precision    recall  f1-score   support\n",
      "\n",
      "           0       0.81      0.86      0.84       695\n",
      "           1       0.86      0.80      0.83       715\n",
      "\n",
      "    accuracy                           0.83      1410\n",
      "   macro avg       0.83      0.83      0.83      1410\n",
      "weighted avg       0.83      0.83      0.83      1410\n",
      "\n"
     ]
    }
   ],
   "source": [
    "#Métricas del modelo \n",
    "from sklearn.metrics import classification_report\n",
    "nombres=['0','1']\n",
    "#Métricas del modelo\n",
    "print(classification_report(Y_test_882_1, LGBM_pred,target_names=nombres))"
   ]
  },
  {
   "cell_type": "code",
   "execution_count": 20,
   "metadata": {},
   "outputs": [
    {
     "name": "stdout",
     "output_type": "stream",
     "text": [
      "0.8337525783568949\n"
     ]
    }
   ],
   "source": [
    "#Curva ROC del modelo\n",
    "from sklearn import svm, datasets\n",
    "from sklearn.metrics import roc_curve, auc\n",
    "from sklearn.model_selection import train_test_split\n",
    "from sklearn.preprocessing import label_binarize\n",
    "from sklearn.multiclass import OneVsRestClassifier\n",
    "from sklearn.metrics import roc_auc_score\n",
    "\n",
    "#Definir la función\n",
    "def plot_roc_curve(fper, tper):\n",
    "    plt.plot(fper, tper, color='blue', label='ROC')\n",
    "    plt.plot([0, 1], [0, 1], color='green', linestyle='--')\n",
    "    plt.xlabel('Tasa Falsos Positivos')\n",
    "    plt.ylabel('Tasa Verdaderos Positivos')\n",
    "    plt.title('Curva característica de funcionamiento del receptor (ROC)')\n",
    "    plt.legend()\n",
    "    plt.show()\n",
    "\n",
    "#Curva ROC sin reducción de dimensionalidad\n",
    "fper, tper, thresholds = roc_curve(Y_test_882_1,LGBM_pred)\n",
    "plot_roc_curve(fper, tper)\n",
    "#mostrar el área bajo la curva\n",
    "auc_score = roc_auc_score(Y_test_882_1,LGBM_pred)\n",
    "print(auc_score)"
   ]
  },
  {
   "attachments": {},
   "cell_type": "markdown",
   "metadata": {},
   "source": [
    "## **Modelo XGBClassifier**"
   ]
  },
  {
   "cell_type": "code",
   "execution_count": 21,
   "metadata": {},
   "outputs": [],
   "source": [
    "#Importar el modelo de clasificación\n",
    "from xgboost import XGBClassifier"
   ]
  },
  {
   "cell_type": "code",
   "execution_count": 22,
   "metadata": {},
   "outputs": [],
   "source": [
    "#Ajustar el modelo de clasificación\n",
    "xgbc = XGBClassifier()"
   ]
  },
  {
   "cell_type": "code",
   "execution_count": 23,
   "metadata": {},
   "outputs": [
    {
     "name": "stdout",
     "output_type": "stream",
     "text": [
      "[0 0 1 ... 0 1 0]\n"
     ]
    },
    {
     "data": {
      "text/plain": [
       "1410"
      ]
     },
     "execution_count": 21,
     "metadata": {},
     "output_type": "execute_result"
    }
   ],
   "source": [
    "#Ajustar el modelo de clasificación\n",
    "xgbc = XGBClassifier()\n",
    "XGBC_fit=xgbc.fit(X_train_882,Y_train_882_1)\n",
    "\n",
    "XGBC_pred=xgbc.predict(X_test_882)\n",
    "print(XGBC_pred)\n",
    "len(XGBC_pred)"
   ]
  },
  {
   "cell_type": "code",
   "execution_count": 24,
   "metadata": {},
   "outputs": [
    {
     "name": "stdout",
     "output_type": "stream",
     "text": [
      "[[596  99]\n",
      " [134 581]]\n"
     ]
    }
   ],
   "source": [
    "#Matriz de confusión\n",
    "#Se va a contruir la matriz de confusión  para el modelo \n",
    "from sklearn.metrics import confusion_matrix\n",
    "confusion_matrix_XGCB= confusion_matrix(Y_test_882_1,XGBC_pred)\n",
    "Conf_matrix_XGCB=print(confusion_matrix_XGCB)"
   ]
  },
  {
   "cell_type": "code",
   "execution_count": 25,
   "metadata": {},
   "outputs": [
    {
     "name": "stdout",
     "output_type": "stream",
     "text": [
      "              precision    recall  f1-score   support\n",
      "\n",
      "           0       0.82      0.86      0.84       695\n",
      "           1       0.85      0.81      0.83       715\n",
      "\n",
      "    accuracy                           0.83      1410\n",
      "   macro avg       0.84      0.84      0.83      1410\n",
      "weighted avg       0.84      0.83      0.83      1410\n",
      "\n"
     ]
    }
   ],
   "source": [
    "#Métricas del modelo \n",
    "from sklearn.metrics import classification_report\n",
    "nombres=['0','1']\n",
    "#Métricas del modelo\n",
    "print(classification_report(Y_test_882_1, XGBC_pred,target_names=nombres))"
   ]
  },
  {
   "cell_type": "code",
   "execution_count": 26,
   "metadata": {},
   "outputs": [
    {
     "data": {
      "text/plain": [
       "0.8347517730496454"
      ]
     },
     "execution_count": 24,
     "metadata": {},
     "output_type": "execute_result"
    }
   ],
   "source": [
    "#calcular la precisión del modelo\n",
    "from sklearn.metrics import accuracy_score\n",
    "accuracy_score(Y_test_882_1,XGBC_pred)"
   ]
  },
  {
   "attachments": {},
   "cell_type": "markdown",
   "metadata": {},
   "source": [
    "## 165 variables"
   ]
  },
  {
   "cell_type": "code",
   "execution_count": 94,
   "metadata": {},
   "outputs": [
    {
     "data": {
      "text/plain": [
       "(7049, 165)"
      ]
     },
     "execution_count": 92,
     "metadata": {},
     "output_type": "execute_result"
    }
   ],
   "source": [
    "#eliminar variables con varianzas bajas\n",
    "from sklearn.feature_selection import VarianceThreshold\n",
    "selection = VarianceThreshold(threshold=(.8 * (1 - .8)))    \n",
    "X_882_165 = selection.fit_transform(X_882)\n",
    "#resultado\n",
    "X_882_165.shape #Se eliminan 717 variables"
   ]
  },
  {
   "cell_type": "code",
   "execution_count": 95,
   "metadata": {},
   "outputs": [],
   "source": [
    "#dividir dataset en entrenamiento y prueba\n",
    "X_train_882_165, X_test_882_165, Y_train_882_165, Y_test_882_165 = train_test_split(X_882_165, Y_882, test_size=0.2,random_state=10)"
   ]
  },
  {
   "cell_type": "code",
   "execution_count": 96,
   "metadata": {},
   "outputs": [
    {
     "data": {
      "text/plain": [
       "0.6272573317937875"
      ]
     },
     "execution_count": 94,
     "metadata": {},
     "output_type": "execute_result"
    }
   ],
   "source": [
    "#Modelo de regresion lineal\n",
    "import numpy as np\n",
    "model_RFR = RandomForestRegressor(n_estimators=80, max_depth=17, random_state=0, criterion='squared_error',  min_samples_split=2)\n",
    "model_RFR.fit(X_train_882_165, Y_train_882_165)\n",
    "r2 = model_RFR.score(X_test_882_165, Y_test_882_165)\n",
    "r2"
   ]
  },
  {
   "cell_type": "code",
   "execution_count": 97,
   "metadata": {},
   "outputs": [
    {
     "name": "stdout",
     "output_type": "stream",
     "text": [
      "0.44319647748047886\n"
     ]
    }
   ],
   "source": [
    "from sklearn.tree import DecisionTreeRegressor \n",
    "  \n",
    "model_DTR_882_165 = DecisionTreeRegressor(random_state=2, max_depth=10, max_leaf_nodes=90, min_samples_leaf=2, splitter='random')\n",
    "model_DTR_882_165.fit(X_train_882_165, Y_train_882_165)\n",
    "predictions = model_DTR_882_165.predict(X_test_882_165)\n",
    "\n",
    "score = model_DTR_882_165.score(X_test_882_165, Y_test_882_165)\n",
    "print(score)"
   ]
  },
  {
   "cell_type": "code",
   "execution_count": null,
   "metadata": {},
   "outputs": [],
   "source": [
    "#Matriz de confusión de forma gráfica\n",
    "import matplotlib.pyplot as plt\n",
    "import numpy\n",
    "from sklearn import metrics\n",
    "Conf_matrix_LGBM= metrics.confusion_matrix(Yc1_test,LGBM_pred)\n",
    "\n",
    "cm_display = metrics.ConfusionMatrixDisplay(confusion_matrix = Conf_matrix_LGBM, display_labels=[0,1],)\n",
    "\n",
    "cm_display.plot()"
   ]
  }
 ],
 "metadata": {
  "kernelspec": {
   "display_name": "Python 3.10 (XPython)",
   "language": "python",
   "name": "xpython"
  },
  "language_info": {
   "file_extension": ".py",
   "mimetype": "text/x-python",
   "name": "python",
   "version": "3.10.0"
  },
  "orig_nbformat": 4
 },
 "nbformat": 4,
 "nbformat_minor": 2
}
